{
 "cells": [
  {
   "cell_type": "code",
   "execution_count": 11,
   "metadata": {},
   "outputs": [],
   "source": [
    "pd.set_option('display.max_rows', None)\n"
   ]
  },
  {
   "cell_type": "code",
   "execution_count": 12,
   "metadata": {},
   "outputs": [
    {
     "name": "stdout",
     "output_type": "stream",
     "text": [
      "Requirement already satisfied: requests in /opt/homebrew/Caskroom/miniconda/base/envs/new_env/lib/python3.11/site-packages (2.32.3)\n",
      "Requirement already satisfied: textblob in /opt/homebrew/Caskroom/miniconda/base/envs/new_env/lib/python3.11/site-packages (0.18.0.post0)\n",
      "Requirement already satisfied: charset-normalizer<4,>=2 in /opt/homebrew/Caskroom/miniconda/base/envs/new_env/lib/python3.11/site-packages (from requests) (3.4.0)\n",
      "Requirement already satisfied: idna<4,>=2.5 in /opt/homebrew/Caskroom/miniconda/base/envs/new_env/lib/python3.11/site-packages (from requests) (3.10)\n",
      "Requirement already satisfied: urllib3<3,>=1.21.1 in /opt/homebrew/Caskroom/miniconda/base/envs/new_env/lib/python3.11/site-packages (from requests) (2.2.3)\n",
      "Requirement already satisfied: certifi>=2017.4.17 in /opt/homebrew/Caskroom/miniconda/base/envs/new_env/lib/python3.11/site-packages (from requests) (2024.8.30)\n",
      "Requirement already satisfied: nltk>=3.8 in /opt/homebrew/Caskroom/miniconda/base/envs/new_env/lib/python3.11/site-packages (from textblob) (3.9.1)\n",
      "Requirement already satisfied: click in /opt/homebrew/Caskroom/miniconda/base/envs/new_env/lib/python3.11/site-packages (from nltk>=3.8->textblob) (8.1.7)\n",
      "Requirement already satisfied: joblib in /opt/homebrew/Caskroom/miniconda/base/envs/new_env/lib/python3.11/site-packages (from nltk>=3.8->textblob) (1.4.2)\n",
      "Requirement already satisfied: regex>=2021.8.3 in /opt/homebrew/Caskroom/miniconda/base/envs/new_env/lib/python3.11/site-packages (from nltk>=3.8->textblob) (2024.11.6)\n",
      "Requirement already satisfied: tqdm in /opt/homebrew/Caskroom/miniconda/base/envs/new_env/lib/python3.11/site-packages (from nltk>=3.8->textblob) (4.67.0)\n",
      "Note: you may need to restart the kernel to use updated packages.\n"
     ]
    }
   ],
   "source": [
    "pip install requests textblob\n"
   ]
  },
  {
   "cell_type": "code",
   "execution_count": 13,
   "metadata": {},
   "outputs": [
    {
     "name": "stdout",
     "output_type": "stream",
     "text": [
      "Requirement already satisfied: pandas in /opt/homebrew/Caskroom/miniconda/base/envs/new_env/lib/python3.11/site-packages (2.2.3)\n",
      "Requirement already satisfied: numpy>=1.23.2 in /opt/homebrew/Caskroom/miniconda/base/envs/new_env/lib/python3.11/site-packages (from pandas) (2.1.2)\n",
      "Requirement already satisfied: python-dateutil>=2.8.2 in /opt/homebrew/Caskroom/miniconda/base/envs/new_env/lib/python3.11/site-packages (from pandas) (2.9.0)\n",
      "Requirement already satisfied: pytz>=2020.1 in /opt/homebrew/Caskroom/miniconda/base/envs/new_env/lib/python3.11/site-packages (from pandas) (2024.2)\n",
      "Requirement already satisfied: tzdata>=2022.7 in /opt/homebrew/Caskroom/miniconda/base/envs/new_env/lib/python3.11/site-packages (from pandas) (2024.2)\n",
      "Requirement already satisfied: six>=1.5 in /opt/homebrew/Caskroom/miniconda/base/envs/new_env/lib/python3.11/site-packages (from python-dateutil>=2.8.2->pandas) (1.16.0)\n",
      "Note: you may need to restart the kernel to use updated packages.\n"
     ]
    }
   ],
   "source": [
    "pip install pandas\n"
   ]
  },
  {
   "cell_type": "code",
   "execution_count": 17,
   "metadata": {},
   "outputs": [
    {
     "name": "stdout",
     "output_type": "stream",
     "text": [
      "Cleaned dataset saved to movies_dataset_cleaned.tsv\n"
     ]
    }
   ],
   "source": [
    "# Import necessary libraries\n",
    "import pandas as pd\n",
    "import requests\n",
    "from textblob import TextBlob\n",
    "\n",
    "API_KEY = '9923aaa2a3b2777bfdeba7f76c97d212'\n",
    "\n",
    "BASE_URL = 'https://api.themoviedb.org/3/search/movie'\n",
    "\n",
    "file_path = 'movie.metadata.tsv'\n",
    "movie_data = pd.read_csv(file_path, sep='\\t', header=None)\n",
    "\n",
    "movie_titles = movie_data[2].tolist()\n",
    "\n",
    "def get_movie_summary(title):\n",
    "    params = {\n",
    "        'api_key': API_KEY,\n",
    "        'query': title,\n",
    "        'language': 'en-US'\n",
    "    }\n",
    "    response = requests.get(BASE_URL, params=params)\n",
    "    if response.status_code == 200:\n",
    "        data = response.json()\n",
    "        if data['results']:\n",
    "            return data['results'][0]['overview']\n",
    "        else:\n",
    "            return None\n",
    "    else:\n",
    "        print(f\"Error fetching data for {title}: {response.status_code}\")\n",
    "        return None\n",
    "\n",
    "def analyze_sentiment(summary):\n",
    "    if summary:\n",
    "        analysis = TextBlob(summary)\n",
    "        if analysis.sentiment.polarity > 0.5:\n",
    "            return 5  # Very happy ending\n",
    "        elif 0.1 < analysis.sentiment.polarity <= 0.5:\n",
    "            return 4  # Happy ending\n",
    "        elif -0.1 <= analysis.sentiment.polarity <= 0.1:\n",
    "            return 3  # Neutral ending\n",
    "        elif -0.5 < analysis.sentiment.polarity < -0.1:\n",
    "            return 2  # Sad ending\n",
    "        else:\n",
    "            return 1  # Very sad ending\n",
    "    else:\n",
    "        return None\n",
    "\n",
    "num_movies_to_process = 10000\n",
    "movie_titles_sample = movie_titles[:num_movies_to_process]\n",
    "\n",
    "results = []\n",
    "for title in movie_titles_sample:\n",
    "    summary = get_movie_summary(title)\n",
    "    score = analyze_sentiment(summary)\n",
    "    if summary: \n",
    "        results.append({'Title': title, 'Summary': summary, 'Score': score})\n",
    "\n",
    "results_df = pd.DataFrame(results)\n",
    "\n",
    "movie_data_cleaned = movie_data.copy()\n",
    "movie_data_cleaned['Score'] = pd.Series(results_df['Score'])\n",
    "\n",
    "output_file_path = 'movies_dataset_cleaned.tsv'\n",
    "movie_data_cleaned.to_csv(output_file_path, sep='\\t', index=False)\n",
    "\n",
    "print(f\"Cleaned dataset saved to {output_file_path}\")\n"
   ]
  },
  {
   "cell_type": "code",
   "execution_count": null,
   "metadata": {},
   "outputs": [],
   "source": []
  }
 ],
 "metadata": {
  "kernelspec": {
   "display_name": "new_env",
   "language": "python",
   "name": "python3"
  },
  "language_info": {
   "codemirror_mode": {
    "name": "ipython",
    "version": 3
   },
   "file_extension": ".py",
   "mimetype": "text/x-python",
   "name": "python",
   "nbconvert_exporter": "python",
   "pygments_lexer": "ipython3",
   "version": "3.11.10"
  }
 },
 "nbformat": 4,
 "nbformat_minor": 2
}
