{
 "cells": [
  {
   "cell_type": "markdown",
   "metadata": {},
   "source": [
    "# Movie Plot Summaries Filtering\n",
    "\n",
    "This script processes a dataset of movie plot summaries, selecting only those with a minimum length of 1000 characters. The last 400 characters of each qualifying summary are retained and saved in a clean TSV file for further analysis.\n",
    "\n",
    "## Details\n",
    "\n",
    "- **Input**: A text file of raw movie plot summaries with their IDs.\n",
    "- **Output**: A filtered TSV file containing movie IDs and truncated summaries.\n",
    "- **Goal**: Preprocess plot summaries to simplify subsequent data analysis."
   ]
  },
  {
   "cell_type": "code",
   "execution_count": 1,
   "metadata": {},
   "outputs": [
    {
     "name": "stdout",
     "output_type": "stream",
     "text": [
      "TSV file create with success : ../../src/data/filtered_plot_summaries.tsv\n"
     ]
    }
   ],
   "source": [
    "import pandas as pd\n",
    "\n",
    "file_path = '../../Data/MovieSummaries/plot_summaries.txt'\n",
    "output_file_path = '../../src/data/filtered_plot_summaries.tsv'\n",
    "data = []\n",
    "\n",
    "with open(file_path, 'r', encoding='utf-8') as file:\n",
    "    for line in file:\n",
    "        try:\n",
    "            movie_id, summary = line.split('\\t', 1)  \n",
    "            summary = summary.strip()  \n",
    "            \n",
    "            if len(summary) >= 1000:\n",
    "                last_400_characters = summary[-400:].strip()\n",
    "                data.append({'Movie_ID': movie_id, 'Summary': last_400_characters})\n",
    "                \n",
    "        except ValueError:\n",
    "            print(f\"Wrong format on line : {line}\")\n",
    "\n",
    "df = pd.DataFrame(data)\n",
    "df.to_csv(output_file_path, sep='\\t', index=False)\n",
    "\n",
    "print(f\"TSV file create with success : {output_file_path}\")"
   ]
  },
  {
   "cell_type": "markdown",
   "metadata": {},
   "source": [
    "# Sentiment Analysis on Movie Plot Summaries\n",
    "\n",
    "This script combines movie metadata with filtered plot summaries to analyze sentiment and assign a score based on the emotional tone of each summary.\n",
    "\n",
    "## Details\n",
    "\n",
    "- **Input 1**: Movie metadata file containing information like title, release date, and genres.\n",
    "- **Input 2**: Filtered plot summaries (TSV file).\n",
    "- **Output**: A final TSV file with merged data and a sentiment score for each movie.\n",
    "\n",
    "## Sentiment Scoring\n",
    "\n",
    "- Sentiment is analyzed using `TextBlob`, with scores assigned as follows:\n",
    "  - **5**: Very happy ending.\n",
    "  - **4**: Happy ending.\n",
    "  - **3**: Neutral ending.\n",
    "  - **2**: Sad ending.\n",
    "  - **1**: Very sad ending."
   ]
  },
  {
   "cell_type": "code",
   "execution_count": 2,
   "metadata": {},
   "outputs": [],
   "source": [
    "import pandas as pd\n",
    "from textblob import TextBlob\n",
    "\n",
    "metadata_path = '../../Data/MovieSummaries/movie.metadata.tsv'\n",
    "movie_data = pd.read_csv(metadata_path, sep='\\t', header=None, dtype={0: str})  # Charger l'ID comme chaîne\n",
    "movie_data.columns = ['Movie_ID', 'Other_Column', 'Title', 'Release_Date', 'Revenue', 'Runtime', 'Languages', 'Country', 'Genres']\n",
    "summaries_path = '../../src/data/filtered_plot_summaries.tsv'\n",
    "summaries_data = pd.read_csv(summaries_path, sep='\\t', dtype={'Movie_ID': str})\n",
    "\n",
    "def analyze_sentiment(summary):\n",
    "    analysis = TextBlob(summary)\n",
    "    polarity = analysis.sentiment.polarity\n",
    "    if polarity > 0.5:\n",
    "        return 5  # Very happy ending\n",
    "    elif 0.13 < polarity <= 0.5:\n",
    "        return 4  # Happy ending\n",
    "    elif -0.13 <= polarity <= 0.13:\n",
    "        return 3  # Neutral ending\n",
    "    elif -0.5 < polarity < -0.13:\n",
    "        return 2  # Sad ending\n",
    "    else:\n",
    "        return 1  # Very sad ending\n",
    "\n",
    "merged_data = pd.merge(movie_data, summaries_data, on='Movie_ID', how='inner')\n",
    "\n",
    "merged_data['Score'] = merged_data['Summary'].apply(analyze_sentiment)\n",
    "\n",
    "output_file_path = '../../src/data/movies_dataset_final.tsv'\n",
    "merged_data.to_csv(output_file_path, sep='\\t', index=False)\n"
   ]
  },
  {
   "cell_type": "markdown",
   "metadata": {},
   "source": [
    "# Fetching and Enriching Movie Data from TMDB API\n",
    "\n",
    "This script enriches our existing dataset of movies with additional information from the TMDB API. \n",
    "\n",
    "## Details\n",
    "\n",
    "- **Input**: A TSV file containing basic movie metadata, including Wikipedia IDs and titles.\n",
    "- **Output**: A serialized `pickle` file storing the enriched data for future use.\n",
    "- **APIs Used**:\n",
    "  - **Search Movie**: Retrieves movie details using titles.\n",
    "  - **Movie Details**: Fetches additional details like genres and release dates.\n",
    "  - **Movie Credits**: Collects cast and crew information.\n",
    "\n",
    "## Workflow\n",
    "\n",
    "1. **Load Existing Dataset**: Reads the movie dataset containing titles and IDs.\n",
    "2. **Check Existing Data**: Loads pre-existing TMDB data from a `pickle` file to avoid redundant API calls.\n",
    "3. **Fetch Missing Data**:\n",
    "   - Uses the TMDB API to search for movies by title and retrieve their IDs.\n",
    "   - Fetches detailed information and credits for each movie using multithreading for efficiency.\n",
    "4. **Save Results**: Stores the enriched data in a `pickle` file for further processing.\n"
   ]
  },
  {
   "cell_type": "code",
   "execution_count": 9,
   "metadata": {},
   "outputs": [
    {
     "name": "stderr",
     "output_type": "stream",
     "text": [
      "Fetching TMDB IDs: 100%|██████████| 431/431 [00:02<00:00, 178.22it/s]\n"
     ]
    }
   ],
   "source": [
    "import requests\n",
    "from tqdm import tqdm\n",
    "import os\n",
    "import pickle\n",
    "from concurrent.futures import ThreadPoolExecutor, as_completed\n",
    "import pandas as pd\n",
    "\n",
    "# API Key and Base URL setup\n",
    "API_KEY = '9923aaa2a3b2777bfdeba7f76c97d212'\n",
    "BASE_SEARCH_URL = 'https://api.themoviedb.org/3/search/movie'\n",
    "BASE_MOVIE_URL = 'https://api.themoviedb.org/3/movie'\n",
    "\n",
    "# Load the existing movie dataset\n",
    "file_path = '../../src/data/movies_dataset_final.tsv'\n",
    "movies_df = pd.read_csv(file_path, sep='\\t')\n",
    "\n",
    "# Define function to fetch movie data from TMDB API\n",
    "def get_movie_data_from_tmdb(wikipedia_id, title):\n",
    "    params = {\n",
    "        'api_key': API_KEY,\n",
    "        'query': title,\n",
    "        'language': 'en-US'\n",
    "    }\n",
    "    response = requests.get(BASE_SEARCH_URL, params=params)\n",
    "    if response.status_code == 200:\n",
    "        data = response.json()\n",
    "        if data['results']:\n",
    "            movie_data = data['results'][0]\n",
    "            overview = movie_data.get('overview', '')\n",
    "            tmdb_id = movie_data.get('id', None)\n",
    "            return wikipedia_id, {\"overview\": overview, \"tmdb_id\": tmdb_id}\n",
    "    return wikipedia_id, {}\n",
    "\n",
    "# Define functions to get specific movie details and credits\n",
    "def get_movie_details(wikipedia_id, tmdb_id):\n",
    "    response = requests.get(f\"{BASE_MOVIE_URL}/{tmdb_id}\", params={'api_key': API_KEY, 'language': 'en-US'})\n",
    "    return (wikipedia_id, \"details\", response.json()) if response.status_code == 200 else (wikipedia_id, \"details\", {})\n",
    "\n",
    "def get_movie_credits(wikipedia_id, tmdb_id):\n",
    "    response = requests.get(f\"{BASE_MOVIE_URL}/{tmdb_id}/credits\", params={'api_key': API_KEY})\n",
    "    return (wikipedia_id, \"credits\", response.json()) if response.status_code == 200 else (wikipedia_id, \"credits\", {})\n",
    "\n",
    "# Load existing TMDB data if available\n",
    "DATA_FOLDER = '../../src/data'\n",
    "if os.path.exists(f'{DATA_FOLDER}/movie_data_from_tmdb.pkl'):\n",
    "    with open(f'{DATA_FOLDER}/movie_data_from_tmdb.pkl', 'rb') as file:\n",
    "        movie_data_from_tmdb = pickle.load(file)\n",
    "else:\n",
    "    movie_data_from_tmdb = {}\n",
    "\n",
    "# Fetch missing TMDB data\n",
    "movies_to_process = [\n",
    "    (wiki_id, title) for wiki_id, title in zip(movies_df['Other_Column'], movies_df['Title'])\n",
    "    if wiki_id not in movie_data_from_tmdb\n",
    "]\n",
    "with ThreadPoolExecutor(max_workers=10) as executor:\n",
    "    futures = {executor.submit(get_movie_data_from_tmdb, movie_id, title): movie_id for movie_id, title in movies_to_process}\n",
    "    for future in tqdm(as_completed(futures), total=len(futures), desc=\"Fetching TMDB IDs\"):\n",
    "        wikipedia_id, movie_info = future.result()\n",
    "        if movie_info:\n",
    "            movie_data_from_tmdb[wikipedia_id] = movie_info\n"
   ]
  },
  {
   "cell_type": "markdown",
   "metadata": {},
   "source": [
    "# Enriching Movie Dataset with TMDB Data\n",
    "\n",
    "This script processes and enriches a movie dataset with additional details fetched from the TMDB API, such as directors, revenue, and vote averages.\n",
    "\n",
    "## Workflow\n",
    "\n",
    "1. **Save and Reload Intermediate Data**:\n",
    "   - Save basic TMDB data (`tmdb_id`) to avoid redundant API requests.\n",
    "   - Fetch additional details (e.g., credits, revenue, budget) using TMDB API in a multithreaded process.\n",
    "\n",
    "2. **Add New Fields to the Dataset**:\n",
    "   - **Director**: Extracts the director's name from the crew data.\n",
    "   - **Collection**: Identifies the collection to which a movie belongs.\n",
    "   - **Vote Average**: Retrieves the average user rating from TMDB.\n",
    "   - **Revenue and Budget**: Adds financial details (if available).\n",
    "   - **Production Companies**: Extracts production company details.\n",
    "\n",
    "3. **Update and Save Dataset**:\n",
    "   - Maps the enriched data fields to the movie dataset.\n",
    "   - Drops redundant or outdated columns.\n",
    "   - Saves the final dataset back to a TSV file for further analysis."
   ]
  },
  {
   "cell_type": "code",
   "execution_count": 4,
   "metadata": {},
   "outputs": [
    {
     "name": "stderr",
     "output_type": "stream",
     "text": [
      "Fetching Details and Credits: 100%|██████████| 42982/42982 [04:35<00:00, 156.06it/s]\n"
     ]
    },
    {
     "name": "stdout",
     "output_type": "stream",
     "text": [
      "Updated dataset saved back to '../../src/data/movies_dataset_final.tsv' with new columns: director, vote_average, and revenue\n"
     ]
    }
   ],
   "source": [
    "# Save basic data to avoid re-fetching\n",
    "with open(f'{DATA_FOLDER}/movie_data_from_tmdb_only_id.pkl', 'wb') as file:\n",
    "    pickle.dump(movie_data_from_tmdb, file)\n",
    "\n",
    "# Fetch additional details and credits\n",
    "movies_to_process = [(wiki_id, info['tmdb_id']) for wiki_id, info in movie_data_from_tmdb.items() if info.get('tmdb_id') and 'details' not in info]\n",
    "with ThreadPoolExecutor(max_workers=10) as executor:\n",
    "    futures = []\n",
    "    for wiki_id, tmdb_id in movies_to_process:\n",
    "        futures.append(executor.submit(get_movie_details, wiki_id, tmdb_id))\n",
    "        futures.append(executor.submit(get_movie_credits, wiki_id, tmdb_id))\n",
    "    \n",
    "    for future in tqdm(as_completed(futures), total=len(futures), desc=\"Fetching Details and Credits\"):\n",
    "        wikipedia_id, data_type, data = future.result()\n",
    "        if wikipedia_id in movie_data_from_tmdb:\n",
    "            movie_data_from_tmdb[wikipedia_id][data_type] = data\n",
    "\n",
    "# Save the enriched TMDB data\n",
    "with open(f'{DATA_FOLDER}/movie_data_from_tmdb.pkl', 'wb') as file:\n",
    "    pickle.dump(movie_data_from_tmdb, file)\n",
    "\n",
    "# Define helper functions for new data fields\n",
    "def find_director(movie_data):\n",
    "    crew = movie_data.get('credits', {}).get('crew', [])\n",
    "    for person in crew:\n",
    "        if person.get('job') == 'Director':\n",
    "            return person.get('name', pd.NA)\n",
    "    return pd.NA\n",
    "\n",
    "# add collection to the dataset\n",
    "def find_collection(movie_data_from_tmdb_single):\n",
    "    try:\n",
    "        return movie_data_from_tmdb_single['details']['belongs_to_collection']['id']\n",
    "    except Exception:\n",
    "        return pd.NA\n",
    "\n",
    "def find_vote_average(movie_data):\n",
    "    return movie_data.get('details', {}).get('vote_average', pd.NA)\n",
    "\n",
    "def find_revenue(movie_data):\n",
    "    return movie_data.get('details', {}).get('revenue', pd.NA)\n",
    "    \n",
    "def find_budget(movie_data):\n",
    "    return movie_data.get('details', {}).get('budget', pd.NA)\n",
    "\n",
    "def find_productions(movie_data):\n",
    "    return movie_data.get('details', {}).get('production_companies', pd.NA)\n",
    "\n",
    "# Map new data to the movies_df dataset\n",
    "movies_df['director'] = movies_df['Other_Column'].map(lambda x: find_director(movie_data_from_tmdb.get(x, {})))\n",
    "movies_df['vote_average'] = movies_df['Other_Column'].map(lambda x: find_vote_average(movie_data_from_tmdb.get(x, {})))\n",
    "movies_df['revenue'] = movies_df['Other_Column'].map(lambda x: find_revenue(movie_data_from_tmdb.get(x, {})))\n",
    "movies_df['collection'] = movies_df['Other_Column'].map(lambda x: find_collection(movie_data_from_tmdb.get(x, {})))\n",
    "movies_df = movies_df.drop(columns=['Revenue', 'Movie_ID_y'], errors='ignore')\n",
    "movies_df['Budget'] = movies_df['Other_Column'].map(lambda x: find_budget(movie_data_from_tmdb.get(x, {})))\n",
    "movies_df['Production'] = movies_df['Other_Column'].map(lambda x: find_productions(movie_data_from_tmdb.get(x, {})))\n",
    "\n",
    "# Save the updated dataset back to the original file\n",
    "movies_df.to_csv(file_path, sep='\\t', index=False)\n",
    "print(f\"Updated dataset saved back to '{file_path}' with new columns: director, vote_average, and revenue\")\n",
    "\n"
   ]
  },
  {
   "cell_type": "markdown",
   "metadata": {},
   "source": [
    "# Cleaning and Formatting Movie Country Data\n",
    "\n",
    "This script processes the \"Country\" column in a movie dataset to extract and clean country names, ensuring consistent and usable data for analysis.\n",
    "\n",
    "## Workflow\n",
    "\n",
    "1. **Load Dataset**: Reads a TSV file containing movie metadata, including a \"Country\" column.\n",
    "2. **Extract Country Names**: Parses and cleans country names from structured text data.\n",
    "3. **Handle Missing Data**: Drops rows with invalid or missing country information.\n",
    "4. **Save Cleaned Dataset**: Exports the updated dataset to the original TSV file."
   ]
  },
  {
   "cell_type": "code",
   "execution_count": 5,
   "metadata": {},
   "outputs": [
    {
     "name": "stdout",
     "output_type": "stream",
     "text": [
      "Dataset updated with cleaned 'Country' column and saved as 'src/data/movies_dataset_final.tsv'\n"
     ]
    }
   ],
   "source": [
    "import pandas as pd\n",
    "\n",
    "# Load the dataset\n",
    "movies_df = pd.read_csv('../../src/data/movies_dataset_final.tsv', sep='\\t')\n",
    "\n",
    "# Helper function to clean up and extract country names\n",
    "def extract_countries(country_data):\n",
    "    if pd.isna(country_data) or '{' not in country_data:\n",
    "        return None\n",
    "    countries = []\n",
    "    items = country_data.split(\", \")\n",
    "    for item in items:\n",
    "        if ':' in item:\n",
    "            # Clean up each country name\n",
    "            country_name = item.split(\":\")[-1].strip().replace(\"\\\"\", \"\").replace(\"}\", \"\").replace(\"{\", \"\")\n",
    "            countries.append(country_name)\n",
    "    # Join all countries with a comma and space\n",
    "    return \", \".join(countries) if countries else None\n",
    "\n",
    "# Apply the function to clean and reformat the 'Country' column\n",
    "movies_df['Country'] = movies_df['Country'].apply(extract_countries)\n",
    "\n",
    "# Drop rows with missing or invalid country data in 'Country'\n",
    "movies_df = movies_df.dropna(subset=['Country']).copy()\n",
    "\n",
    "# Save the updated dataset with the cleaned 'Country' column back to the original file\n",
    "movies_df.to_csv('../../src/data/movies_dataset_final.tsv', sep='\\t', index=False)\n",
    "print(\"Dataset updated with cleaned 'Country' column and saved as 'src/data/movies_dataset_final.tsv'\")\n"
   ]
  },
  {
   "cell_type": "markdown",
   "metadata": {},
   "source": [
    "# Cleaning and Formatting Movie Language Data\n",
    "\n",
    "This script processes the \"Languages\" column in a movie dataset to extract and clean language names, ensuring standardized and accurate data for analysis.\n",
    "\n",
    "## Workflow\n",
    "\n",
    "1. **Load Dataset**: Reads a TSV file containing movie metadata, including a \"Languages\" column.\n",
    "2. **Extract Language Names**: Parses and cleans language data, removing unnecessary text and filtering out entries longer than 40 characters.\n",
    "3. **Handle Missing Data**: Drops rows with invalid or missing language information.\n",
    "4. **Save Cleaned Dataset**: Exports the updated dataset with the cleaned \"Languages\" column to the original TSV file.\n"
   ]
  },
  {
   "cell_type": "code",
   "execution_count": 6,
   "metadata": {},
   "outputs": [
    {
     "name": "stdout",
     "output_type": "stream",
     "text": [
      "Dataset updated with cleaned 'Languages' column and saved as 'movies_dataset_finals.tsv'\n"
     ]
    }
   ],
   "source": [
    "import pandas as pd\n",
    "\n",
    "# Load the dataset\n",
    "movies_df = pd.read_csv('../../src/data/movies_dataset_final.tsv', sep='\\t')\n",
    "\n",
    "# Helper function to clean up and extract language names\n",
    "def extract_languages(language_data):\n",
    "    if pd.isna(language_data) or '{' not in language_data:\n",
    "        return None\n",
    "    languages = []\n",
    "    items = language_data.split(\", \")\n",
    "    for item in items:\n",
    "        if ':' in item:\n",
    "            # Clean each language name and remove \"Language\"/\"language\"\n",
    "            language_name = item.split(\":\")[-1].strip().replace(\"\\\"\", \"\").replace(\"}\", \"\").replace(\"Language\", \"\").replace(\"language\", \"\").strip()\n",
    "            if len(language_name) <= 40:  # Filter out languages longer than 40 characters\n",
    "                languages.append(language_name)\n",
    "    # Join all languages with a comma and space\n",
    "    return \", \".join(languages) if languages else None\n",
    "\n",
    "# Apply the function to clean and reformat the 'Languages' column\n",
    "movies_df['Languages'] = movies_df['Languages'].apply(extract_languages)\n",
    "\n",
    "# Drop rows with missing or invalid language data in 'Languages'\n",
    "movies_df = movies_df.dropna(subset=['Languages']).copy()\n",
    "\n",
    "# Save the updated dataset with the cleaned 'Languages' column back to the original file\n",
    "movies_df.to_csv('../../src/data/movies_dataset_final.tsv', sep='\\t', index=False)\n",
    "print(\"Dataset updated with cleaned 'Languages' column and saved as 'movies_dataset_finals.tsv'\")\n"
   ]
  },
  {
   "cell_type": "markdown",
   "metadata": {},
   "source": [
    "# Cleaning and Formatting Movie Genre Data\n",
    "\n",
    "This script processes the \"Genres\" column in a movie dataset to extract and clean genre names, ensuring a standardized and usable format for analysis.\n",
    "\n",
    "## Workflow\n",
    "\n",
    "1. **Load Dataset**: Reads a TSV file containing movie metadata, including a \"Genres\" column.\n",
    "2. **Extract Genre Names**:\n",
    "   - Parses and cleans genre data.\n",
    "   - Removes unwanted words like \"Movie\", \"Film\", and their variations.\n",
    "3. **Handle Missing Data**: Drops rows with invalid or missing genre information.\n",
    "4. **Save Cleaned Dataset**: Exports the updated dataset with the cleaned \"Genres\" column to the original TSV file.\n"
   ]
  },
  {
   "cell_type": "code",
   "execution_count": 7,
   "metadata": {},
   "outputs": [
    {
     "name": "stdout",
     "output_type": "stream",
     "text": [
      "Dataset updated with cleaned 'Genres' column and saved as 'src/data/movies_dataset_final.tsv'\n"
     ]
    }
   ],
   "source": [
    "import pandas as pd\n",
    "import re\n",
    "\n",
    "# Load the dataset\n",
    "movies_df = pd.read_csv('../../src/data/movies_dataset_final.tsv', sep='\\t')\n",
    "\n",
    "# Helper function to clean up and extract genre names\n",
    "def extract_genres(genre_data):\n",
    "    if pd.isna(genre_data) or '{' not in genre_data:\n",
    "        return None\n",
    "    genres = []\n",
    "    items = genre_data.split(\", \")\n",
    "    for item in items:\n",
    "        if ':' in item:\n",
    "            # Clean the genre name and remove unwanted words\n",
    "            genre_name = item.split(\":\")[-1].strip().replace('\"', '').replace('}', '')\n",
    "            # Remove words like \"Movie\", \"Movies\", \"Film\", etc.\n",
    "            genre_name = re.sub(r'\\b(Movie|Movies|Film|Films|movie|movies|film|films)\\b', '', genre_name).strip()\n",
    "            genres.append(genre_name)\n",
    "    # Join all genres with a comma and space\n",
    "    return \", \".join(genres) if genres else None\n",
    "\n",
    "# Apply the function to clean and reformat the 'Genres' column\n",
    "movies_df['Genres'] = movies_df['Genres'].apply(extract_genres)\n",
    "\n",
    "# Drop rows with missing or invalid genre data in 'Genres'\n",
    "movies_df = movies_df.dropna(subset=['Genres']).copy()\n",
    "\n",
    "# Save the updated dataset with the cleaned 'Genres' column back to the original file\n",
    "movies_df.to_csv('../../src/data/movies_dataset_final.tsv', sep='\\t', index=False)\n",
    "print(\"Dataset updated with cleaned 'Genres' column and saved as 'src/data/movies_dataset_final.tsv'\")\n"
   ]
  },
  {
   "cell_type": "markdown",
   "metadata": {},
   "source": [
    "# Extracting and Cleaning Release Years\n",
    "\n",
    "This script processes the \"Release_Date\" column in a movie dataset to extract and clean release years, ensuring a consistent format for analysis.\n",
    "\n",
    "## Workflow\n",
    "\n",
    "1. **Load Dataset**: Reads a TSV file containing movie metadata, including a \"Release_Date\" column.\n",
    "2. **Extract Release Years**:\n",
    "   - Uses regex to identify and extract 4-digit year patterns from various date formats.\n",
    "   - Removes rows with invalid or missing year data.\n",
    "3. **Convert to Integer**: Converts the \"Release_Date\" column to an integer type for easier analysis.\n",
    "4. **Save Cleaned Dataset**: Exports the updated dataset with cleaned release years to the original TSV file.\n"
   ]
  },
  {
   "cell_type": "code",
   "execution_count": 8,
   "metadata": {},
   "outputs": [
    {
     "name": "stdout",
     "output_type": "stream",
     "text": [
      "Dataset updated with cleaned 'Release_Date' years in '../../src/data/movies_dataset_final.tsv'\n"
     ]
    }
   ],
   "source": [
    "import pandas as pd\n",
    "import re\n",
    "\n",
    "# Load the dataset\n",
    "movies_df = pd.read_csv('../../src/data/movies_dataset_final.tsv', sep='\\t')\n",
    "\n",
    "# Define a function to extract the 4-digit year from various date formats\n",
    "def extract_year(date_str):\n",
    "    # Ensure the date is a string\n",
    "    date_str = str(date_str)\n",
    "    \n",
    "    # Use regex to find a 4-digit year pattern\n",
    "    match = re.search(r'\\b(\\d{4})\\b', date_str)\n",
    "    \n",
    "    if match:\n",
    "        return match.group(1)  # Return the matched 4-digit year as a string\n",
    "    else:\n",
    "        return None  # Return None if no 4-digit year is found\n",
    "\n",
    "# Apply the function to the 'Release_Date' column to extract only the year\n",
    "movies_df['Release_Date'] = movies_df['Release_Date'].apply(extract_year)\n",
    "\n",
    "# Drop rows with no valid year\n",
    "movies_df = movies_df.dropna(subset=['Release_Date'])\n",
    "\n",
    "# Convert 'Release_Date' to an integer type for further analysis\n",
    "movies_df['Release_Date'] = movies_df['Release_Date'].astype(int)\n",
    "\n",
    "# Save the cleaned dataset back to the original file\n",
    "movies_df.to_csv('../../src/data/movies_dataset_final.tsv', sep='\\t', index=False)\n",
    "print(\"Dataset updated with cleaned 'Release_Date' years in '../../src/data/movies_dataset_final.tsv'\")\n"
   ]
  }
 ],
 "metadata": {
  "kernelspec": {
   "display_name": "new_env",
   "language": "python",
   "name": "python3"
  },
  "language_info": {
   "codemirror_mode": {
    "name": "ipython",
    "version": 3
   },
   "file_extension": ".py",
   "mimetype": "text/x-python",
   "name": "python",
   "nbconvert_exporter": "python",
   "pygments_lexer": "ipython3",
   "version": "3.11.10"
  }
 },
 "nbformat": 4,
 "nbformat_minor": 2
}
