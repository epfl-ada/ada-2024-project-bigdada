{
 "cells": [
  {
   "cell_type": "code",
   "execution_count": 39,
   "id": "initial_id",
   "metadata": {
    "collapsed": true,
    "ExecuteTime": {
     "end_time": "2024-11-13T09:05:00.856870Z",
     "start_time": "2024-11-13T09:04:59.610506Z"
    }
   },
   "outputs": [
    {
     "name": "stdout",
     "output_type": "stream",
     "text": [
      "(450669, 13)\n"
     ]
    }
   ],
   "source": [
    "import pandas as pd\n",
    "import matplotlib.pyplot as plt\n",
    "\n",
    "DATA_FOLDER = 'Data/MovieSummaries/'\n",
    "CHARACTER_DATASET = DATA_FOLDER + 'character.metadata.tsv'\n",
    "\n",
    "# Dataset loading\n",
    "characters = pd.read_csv(CHARACTER_DATASET, sep='\\t', header=None)\n",
    "\n",
    "# define the name for each columns\n",
    "characters.columns = ['Wikipedia movie ID', 'Freebase movie ID', 'Movie release date', 'Character name',\n",
    "                      'Actor date of birth', 'Actor gender', 'Actor height (in meters)', 'Actor ethnicity (Freebase ID)',\n",
    "                      'Actor name', 'Actor age at movie release', 'Freebase character/actor map ID', 'Freebase character ID',\n",
    "                      'Freebase actor ID']\n",
    "shape = characters.shape\n",
    "\n",
    "# Print the shape\n",
    "print(shape)"
   ]
  },
  {
   "cell_type": "markdown",
   "source": [
    "### Remove characters with missing values"
   ],
   "metadata": {
    "collapsed": false
   },
   "id": "64103a3b5bb9de9b"
  },
  {
   "cell_type": "code",
   "execution_count": 40,
   "outputs": [
    {
     "name": "stdout",
     "output_type": "stream",
     "text": [
      "Wikipedia movie ID                      0\n",
      "Freebase movie ID                       0\n",
      "Movie release date                   9995\n",
      "Character name                     257875\n",
      "Actor date of birth                106145\n",
      "Actor gender                        45609\n",
      "Actor height (in meters)           295845\n",
      "Actor ethnicity (Freebase ID)      344611\n",
      "Actor name                           1228\n",
      "Actor age at movie release         158113\n",
      "Freebase character/actor map ID         0\n",
      "Freebase character ID              257865\n",
      "Freebase actor ID                     815\n",
      "dtype: int64\n"
     ]
    }
   ],
   "source": [
    "# Verify the missing values \n",
    "print(characters.isna().sum())"
   ],
   "metadata": {
    "collapsed": false,
    "ExecuteTime": {
     "end_time": "2024-11-13T09:05:01.027868Z",
     "start_time": "2024-11-13T09:05:00.844897Z"
    }
   },
   "id": "9d4665aaaf9a956c"
  },
  {
   "cell_type": "code",
   "execution_count": 38,
   "outputs": [
    {
     "name": "stdout",
     "output_type": "stream",
     "text": [
      "Wikipedia movie ID                     0\n",
      "Freebase movie ID                      0\n",
      "Movie release date                     0\n",
      "Character name                         0\n",
      "Actor date of birth                    0\n",
      "Actor gender                           0\n",
      "Actor ethnicity (Freebase ID)      88701\n",
      "Actor name                             0\n",
      "Actor age at movie release             0\n",
      "Freebase character/actor map ID        0\n",
      "Freebase character ID                  0\n",
      "Freebase actor ID                      0\n",
      "Release year                           0\n",
      "Actor year of birth                    0\n",
      "dtype: int64\n",
      "(148058, 14)\n"
     ]
    }
   ],
   "source": [
    "\n",
    "# Drop the character without name, actor or date of birth \n",
    "characters = characters.dropna(subset=['Character name', 'Actor date of birth', 'Actor name', 'Movie release date'])\n",
    "\n",
    "print(characters.isna().sum())\n",
    "shape = characters.shape\n",
    "\n",
    "# Print the shape\n",
    "print(shape)"
   ],
   "metadata": {
    "collapsed": false,
    "ExecuteTime": {
     "end_time": "2024-11-13T09:04:56.148958Z",
     "start_time": "2024-11-13T09:04:56.011809Z"
    }
   },
   "id": "ee449def73ab6cd9"
  },
  {
   "cell_type": "code",
   "execution_count": 29,
   "outputs": [],
   "source": [
    "# Drop the 'Height' column\n",
    "characters = characters.drop(columns=['Actor height (in meters)'])"
   ],
   "metadata": {
    "collapsed": false,
    "ExecuteTime": {
     "end_time": "2024-11-13T09:01:49.385563Z",
     "start_time": "2024-11-13T09:01:49.308572Z"
    }
   },
   "id": "f874ebc842bf6d54"
  },
  {
   "cell_type": "code",
   "execution_count": 30,
   "outputs": [
    {
     "name": "stdout",
     "output_type": "stream",
     "text": [
      "  Movie release date  Release year\n",
      "0         2001-08-24          2001\n",
      "1         2001-08-24          2001\n",
      "2         2001-08-24          2001\n",
      "3         2001-08-24          2001\n",
      "4         2001-08-24          2001\n"
     ]
    }
   ],
   "source": [
    "# Convert the release date column in datetime\n",
    "characters['Movie release date'] = pd.to_datetime(characters['Movie release date'], errors='coerce')\n",
    "\n",
    "# Extract the year and keep NaN values using Int64Dtype\n",
    "characters['Release year'] = characters['Movie release date'].dt.year\n",
    "characters = characters.dropna(subset=['Release year'])\n",
    "characters['Release year'] = characters['Release year'].astype(int)\n",
    "\n",
    "print(characters[['Movie release date', 'Release year']].head())"
   ],
   "metadata": {
    "collapsed": false,
    "ExecuteTime": {
     "end_time": "2024-11-13T09:01:49.920316Z",
     "start_time": "2024-11-13T09:01:49.820679Z"
    }
   },
   "id": "af9780f768faaa8b"
  },
  {
   "cell_type": "code",
   "execution_count": 31,
   "outputs": [
    {
     "name": "stdout",
     "output_type": "stream",
     "text": [
      "  Actor date of birth  Actor year of birth\n",
      "0          1958-08-26                 1958\n",
      "1          1974-08-15                 1974\n",
      "2          1969-06-15                 1969\n",
      "3          1967-09-12                 1967\n",
      "4          1977-09-25                 1977\n"
     ]
    }
   ],
   "source": [
    "# Convert the birth date column in datetime\n",
    "characters['Actor date of birth'] = pd.to_datetime(characters['Actor date of birth'], errors='coerce')\n",
    "\n",
    "# Extract the year and convert it in int\n",
    "characters['Actor year of birth'] = characters['Actor date of birth'].dt.year\n",
    "characters = characters.dropna(subset=['Actor year of birth'])\n",
    "characters['Actor year of birth'] = characters['Actor year of birth'].astype(int)\n",
    "\n",
    "print(characters[[ 'Actor date of birth', 'Actor year of birth']].head())"
   ],
   "metadata": {
    "collapsed": false,
    "ExecuteTime": {
     "end_time": "2024-11-13T09:01:50.362357Z",
     "start_time": "2024-11-13T09:01:50.301860Z"
    }
   },
   "id": "4f7532010b7b1d2f"
  },
  {
   "cell_type": "code",
   "execution_count": 32,
   "outputs": [
    {
     "name": "stdout",
     "output_type": "stream",
     "text": [
      "   Actor year of birth  Release year  Actor age at movie release\n",
      "0                 1958          2001                        42.0\n",
      "1                 1974          2001                        27.0\n",
      "2                 1969          2001                        32.0\n",
      "3                 1967          2001                        33.0\n",
      "4                 1977          2001                        23.0\n"
     ]
    }
   ],
   "source": [
    "def calculate_actor_age(row):\n",
    "    return row['Release year'] - row['Actor year of birth']\n",
    "\n",
    "# if missing values\n",
    "characters.loc[characters['Actor age at movie release'].isna(), 'Actor age at movie release'] = characters.apply(calculate_actor_age, axis=1)\n",
    "\n",
    "print(characters[['Actor year of birth', 'Release year', 'Actor age at movie release']].head())"
   ],
   "metadata": {
    "collapsed": false,
    "ExecuteTime": {
     "end_time": "2024-11-13T09:01:52.828621Z",
     "start_time": "2024-11-13T09:01:50.835902Z"
    }
   },
   "id": "48a0cfa1bdb5b28f"
  },
  {
   "cell_type": "code",
   "execution_count": 33,
   "outputs": [
    {
     "name": "stdout",
     "output_type": "stream",
     "text": [
      "   Actor year of birth  Release year  Actor age at movie release\n",
      "0                 1958          2001                        42.0\n",
      "1                 1974          2001                        27.0\n",
      "2                 1969          2001                        32.0\n",
      "3                 1967          2001                        33.0\n",
      "4                 1977          2001                        23.0\n"
     ]
    }
   ],
   "source": [
    "# Calculate age for missing values in 'Actor age at movie release'\n",
    "characters['Actor age at movie release'] = characters['Actor age at movie release'].fillna(\n",
    "    characters['Release year'] - characters['Actor year of birth']\n",
    ")\n",
    "\n",
    "# Vérifier les résultats\n",
    "print(characters[['Actor year of birth', 'Release year', 'Actor age at movie release']].head())\n"
   ],
   "metadata": {
    "collapsed": false,
    "ExecuteTime": {
     "end_time": "2024-11-13T09:01:52.843205Z",
     "start_time": "2024-11-13T09:01:52.833752Z"
    }
   },
   "id": "a05d7e4d9c1a65ac"
  },
  {
   "cell_type": "code",
   "execution_count": 34,
   "outputs": [
    {
     "name": "stdout",
     "output_type": "stream",
     "text": [
      "Wikipedia movie ID                     0\n",
      "Freebase movie ID                      0\n",
      "Movie release date                     0\n",
      "Character name                         0\n",
      "Actor date of birth                    0\n",
      "Actor gender                         358\n",
      "Actor ethnicity (Freebase ID)      89055\n",
      "Actor name                             0\n",
      "Actor age at movie release             0\n",
      "Freebase character/actor map ID        0\n",
      "Freebase character ID                  0\n",
      "Freebase actor ID                      0\n",
      "Release year                           0\n",
      "Actor year of birth                    0\n",
      "dtype: int64\n"
     ]
    }
   ],
   "source": [
    "## what we are doing for missing values like : \n",
    "print(characters.isna().sum())"
   ],
   "metadata": {
    "collapsed": false,
    "ExecuteTime": {
     "end_time": "2024-11-13T09:01:52.945300Z",
     "start_time": "2024-11-13T09:01:52.841698Z"
    }
   },
   "id": "4b77bb8e7cf6647f"
  },
  {
   "cell_type": "code",
   "execution_count": 35,
   "outputs": [],
   "source": [
    "# drop the missing value for actor gender\n",
    "characters = characters.dropna(subset=['Actor gender'])"
   ],
   "metadata": {
    "collapsed": false,
    "ExecuteTime": {
     "end_time": "2024-11-13T09:04:10.985510Z",
     "start_time": "2024-11-13T09:04:10.809869Z"
    }
   },
   "id": "66609f11d4026af"
  },
  {
   "cell_type": "code",
   "execution_count": 36,
   "outputs": [
    {
     "name": "stdout",
     "output_type": "stream",
     "text": [
      "Wikipedia movie ID                     0\n",
      "Freebase movie ID                      0\n",
      "Movie release date                     0\n",
      "Character name                         0\n",
      "Actor date of birth                    0\n",
      "Actor gender                           0\n",
      "Actor ethnicity (Freebase ID)      88701\n",
      "Actor name                             0\n",
      "Actor age at movie release             0\n",
      "Freebase character/actor map ID        0\n",
      "Freebase character ID                  0\n",
      "Freebase actor ID                      0\n",
      "Release year                           0\n",
      "Actor year of birth                    0\n",
      "dtype: int64\n",
      "(148058, 14)\n"
     ]
    }
   ],
   "source": [
    "print(characters.isna().sum())\n",
    "shape = characters.shape\n",
    "\n",
    "# Print the shape\n",
    "print(shape)"
   ],
   "metadata": {
    "collapsed": false,
    "ExecuteTime": {
     "end_time": "2024-11-13T09:04:11.430705Z",
     "start_time": "2024-11-13T09:04:11.172434Z"
    }
   },
   "id": "ff22189a35eaf920"
  },
  {
   "cell_type": "code",
   "execution_count": null,
   "outputs": [],
   "source": [],
   "metadata": {
    "collapsed": false
   },
   "id": "92d8e9ce85950c12"
  }
 ],
 "metadata": {
  "kernelspec": {
   "display_name": "Python 3",
   "language": "python",
   "name": "python3"
  },
  "language_info": {
   "codemirror_mode": {
    "name": "ipython",
    "version": 2
   },
   "file_extension": ".py",
   "mimetype": "text/x-python",
   "name": "python",
   "nbconvert_exporter": "python",
   "pygments_lexer": "ipython2",
   "version": "2.7.6"
  }
 },
 "nbformat": 4,
 "nbformat_minor": 5
}
