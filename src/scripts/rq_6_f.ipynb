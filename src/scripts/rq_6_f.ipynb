{
 "cells": [
  {
   "cell_type": "markdown",
   "source": [
    "# Research question 6\n",
    "\n"
   ],
   "metadata": {
    "collapsed": false
   },
   "id": "70b6871c46ad4569"
  },
  {
   "cell_type": "markdown",
   "source": [
    "### Do budget and production scale affect the type of ending chosen? Exploring whether high-budget films tend to favor certain endings (e.g., happy endings for wider audience appeal) could reveal if financial considerations impact storytelling choices.\n",
    "\n",
    "This notebook presents initial observations and is not intended to represent the final conclusions.\n"
   ],
   "metadata": {
    "collapsed": false
   },
   "id": "3e3e72f377f6577e"
  },
  {
   "cell_type": "markdown",
   "source": [
    "##### Importations"
   ],
   "metadata": {
    "collapsed": false
   },
   "id": "10b59b3a5a54af17"
  },
  {
   "cell_type": "code",
   "execution_count": 8,
   "outputs": [],
   "source": [
    "import pandas as pd\n",
    "import matplotlib.pyplot as plt\n",
    "import seaborn as sns\n",
    "from scipy.stats import ttest_ind"
   ],
   "metadata": {
    "collapsed": false,
    "ExecuteTime": {
     "end_time": "2024-11-15T14:30:14.902304Z",
     "start_time": "2024-11-15T14:30:14.886036Z"
    }
   },
   "id": "49c3642782f4af64"
  },
  {
   "cell_type": "code",
   "execution_count": 9,
   "outputs": [],
   "source": [
    "# path\n",
    "DATA_FOLDER = '../../src/data/'\n",
    "MOVIE_DATASET = DATA_FOLDER + 'movies_dataset_final_2.tsv'\n",
    "\n",
    "# Dataset loading\n",
    "movies = pd.read_csv(MOVIE_DATASET, sep='\\t')"
   ],
   "metadata": {
    "collapsed": false,
    "ExecuteTime": {
     "end_time": "2024-11-15T14:30:16.976379Z",
     "start_time": "2024-11-15T14:30:16.658446Z"
    }
   },
   "id": "6cbbb11e460d7db8"
  },
  {
   "cell_type": "code",
   "execution_count": 10,
   "outputs": [
    {
     "data": {
      "text/plain": "Index(['Movie_ID', 'Other_Column', 'Title', 'Release_Date', 'Runtime',\n       'Languages', 'Country', 'Genres', 'Summary', 'Score', 'director',\n       'vote_average', 'revenue', 'collection', 'budget', 'productions'],\n      dtype='object')"
     },
     "execution_count": 10,
     "metadata": {},
     "output_type": "execute_result"
    }
   ],
   "source": [
    "movies.columns"
   ],
   "metadata": {
    "collapsed": false,
    "ExecuteTime": {
     "end_time": "2024-11-15T14:30:18.052422Z",
     "start_time": "2024-11-15T14:30:17.917542Z"
    }
   },
   "id": "99dd9bd4d6d6d387"
  },
  {
   "cell_type": "markdown",
   "source": [
    "Remove movies with missing values for budget"
   ],
   "metadata": {
    "collapsed": false
   },
   "id": "111b01f589913487"
  },
  {
   "cell_type": "code",
   "execution_count": 25,
   "outputs": [
    {
     "name": "stdout",
     "output_type": "stream",
     "text": [
      "Number of movies with missing or zero budget: 0\n",
      "Percentage of movies with missing or zero budget: 0.00%\n",
      "Number of rows remaining after removal: 6942\n"
     ]
    }
   ],
   "source": [
    "# Count rows where 'budget' is NaN or 0\n",
    "missing_or_zero_count = movies[(movies['budget'].isnull()) | (movies['budget'] == 0)].shape[0]\n",
    "print(f\"Number of movies with missing or zero budget: {missing_or_zero_count}\")\n",
    "\n",
    "# Calculate the percentage of these rows\n",
    "percentage_missing_or_zero = (missing_or_zero_count / len(movies)) * 100\n",
    "print(f\"Percentage of movies with missing or zero budget: {percentage_missing_or_zero:.2f}%\")\n",
    "\n",
    "# Remove rows where 'budget' is NaN or 0\n",
    "movies = movies[(movies['budget'].notnull()) & (movies['budget'] > 0)]\n",
    "\n",
    "# Verify removal\n",
    "remaining_rows = len(movies)\n",
    "print(f\"Number of rows remaining after removal: {remaining_rows}\")\n",
    "\n"
   ],
   "metadata": {
    "collapsed": false,
    "ExecuteTime": {
     "end_time": "2024-11-15T14:42:32.777547Z",
     "start_time": "2024-11-15T14:42:32.730162Z"
    }
   },
   "id": "b36178ec6db84596"
  },
  {
   "cell_type": "code",
   "execution_count": 27,
   "outputs": [
    {
     "name": "stdout",
     "output_type": "stream",
     "text": [
      "Number of missing values in 'productions': 0\n"
     ]
    }
   ],
   "source": [
    "missing_productions = movies['productions'].isna().sum()\n",
    "print(f\"Number of missing values in 'productions': {missing_productions}\")\n",
    "\n"
   ],
   "metadata": {
    "collapsed": false,
    "ExecuteTime": {
     "end_time": "2024-11-15T14:43:23.854908Z",
     "start_time": "2024-11-15T14:43:23.821991Z"
    }
   },
   "id": "b7118be3b238c057"
  },
  {
   "cell_type": "code",
   "execution_count": 31,
   "outputs": [
    {
     "name": "stdout",
     "output_type": "stream",
     "text": [
      "                                          productions  \\\n",
      "0   [{'id': 51312, 'logo_path': None, 'name': 'Ani...   \n",
      "4   [{'id': 3166, 'logo_path': '/vyyv4Gy9nPqAZKElP...   \n",
      "6   [{'id': 1947, 'logo_path': None, 'name': 'New ...   \n",
      "12  [{'id': 22284, 'logo_path': None, 'name': 'CAT...   \n",
      "14  [{'id': 13549, 'logo_path': None, 'name': 'Gol...   \n",
      "\n",
      "                                     production_names  \n",
      "0   [Animationwerks, Screen Gems, Storm King Produ...  \n",
      "4                           [Walt Disney Productions]  \n",
      "6           [New Deal Productions, Columbia Pictures]  \n",
      "12                          [CAT Films, Mimosa Films]  \n",
      "14                         [Golan-Globus Productions]  \n"
     ]
    }
   ],
   "source": [
    "import ast\n",
    "\n",
    "# Function to extract production names\n",
    "def extract_production_names(production_list):\n",
    "    # Ensure the input is a list of dictionaries\n",
    "    if isinstance(production_list, str):\n",
    "        # If the column contains a string representation of a list (like JSON), convert it to a list\n",
    "        try:\n",
    "            production_list = ast.literal_eval(production_list)\n",
    "        except (ValueError, SyntaxError):\n",
    "            return []  # Return empty list if there's a parsing error\n",
    "\n",
    "    # If it's a valid list of dictionaries, extract the 'name'\n",
    "    if isinstance(production_list, list):\n",
    "        return [item['name'] for item in production_list if isinstance(item, dict) and 'name' in item]\n",
    "    return []\n",
    "\n",
    "# Apply the function to the 'productions' column to extract production names\n",
    "movies['production_names'] = movies['productions'].apply(extract_production_names)\n",
    "\n",
    "# Display the first few rows to check the result\n",
    "print(movies[['productions', 'production_names']].head())\n"
   ],
   "metadata": {
    "collapsed": false,
    "ExecuteTime": {
     "end_time": "2024-11-15T14:46:30.447337Z",
     "start_time": "2024-11-15T14:46:30.145951Z"
    }
   },
   "id": "8d584f15712f6ad5"
  },
  {
   "cell_type": "code",
   "execution_count": 32,
   "outputs": [
    {
     "name": "stdout",
     "output_type": "stream",
     "text": [
      "Number of missing values in 'production_names': 0\n"
     ]
    }
   ],
   "source": [
    "# Count the number of missing values in the 'production_names' column\n",
    "missing_production_names = movies['production_names'].isna().sum()\n",
    "print(f\"Number of missing values in 'production_names': {missing_production_names}\")\n"
   ],
   "metadata": {
    "collapsed": false,
    "ExecuteTime": {
     "end_time": "2024-11-15T14:47:07.928774Z",
     "start_time": "2024-11-15T14:47:07.891300Z"
    }
   },
   "id": "6021f24ea0a5e960"
  },
  {
   "cell_type": "code",
   "execution_count": 40,
   "outputs": [
    {
     "name": "stdout",
     "output_type": "stream",
     "text": [
      "                          Title     first_production_name\n",
      "0                Ghosts of Mars            Animationwerks\n",
      "4                  Mary Poppins   Walt Disney Productions\n",
      "6                      Baby Boy      New Deal Productions\n",
      "12       The Gods Must Be Crazy                 CAT Films\n",
      "14  Kinjite: Forbidden Subjects  Golan-Globus Productions\n"
     ]
    }
   ],
   "source": [
    "# Extract the first production name for each film\n",
    "movies['first_production_name'] = movies['production_names'].apply(lambda x: x[0] if isinstance(x, list) and len(x) > 0 else None)\n",
    "\n",
    "# Display the first few rows to verify the result\n",
    "print(movies[['Title', 'first_production_name']].head())\n"
   ],
   "metadata": {
    "collapsed": false,
    "ExecuteTime": {
     "end_time": "2024-11-15T15:01:41.742542Z",
     "start_time": "2024-11-15T15:01:41.690129Z"
    }
   },
   "id": "cc8eb4fe79d62d84"
  },
  {
   "cell_type": "markdown",
   "source": [
    "### Statistics"
   ],
   "metadata": {
    "collapsed": false
   },
   "id": "b01d7c178a9a3171"
  },
  {
   "cell_type": "code",
   "execution_count": 41,
   "outputs": [
    {
     "name": "stdout",
     "output_type": "stream",
     "text": [
      "Correlation between budget and score: 0.03\n"
     ]
    }
   ],
   "source": [
    "# Calculate the correlation between budget and score\n",
    "correlation = movies['budget'].corr(movies['Score'])\n",
    "print(f\"Correlation between budget and score: {correlation:.2f}\")"
   ],
   "metadata": {
    "collapsed": false,
    "ExecuteTime": {
     "end_time": "2024-11-15T15:03:02.410146Z",
     "start_time": "2024-11-15T15:03:02.374446Z"
    }
   },
   "id": "69de1ad3d7588594"
  },
  {
   "cell_type": "markdown",
   "source": [
    "We use an ANOVA (Analysis of Variance) test to determine if the mean scores across the groups of films, defined by their first production, differ significantly. This test is appropriate because we are comparing multiple groups (each corresponding to a different production) on a continuous variable (the film score). ANOVA helps to assess whether the variation in scores is due to differences between the production groups or if it can be attributed to random chance."
   ],
   "metadata": {
    "collapsed": false
   },
   "id": "521ba076878dccf5"
  },
  {
   "cell_type": "code",
   "execution_count": 43,
   "outputs": [
    {
     "name": "stdout",
     "output_type": "stream",
     "text": [
      "ANOVA result: There are significant differences in scores between production groups.\n",
      "ANOVA p-value: 0.0003\n"
     ]
    }
   ],
   "source": [
    "import scipy.stats as stats\n",
    "\n",
    "# Group by the first production name and calculate the mean score for each production\n",
    "production_score = movies.groupby('first_production_name')['Score'].mean()\n",
    "\n",
    "# Perform ANOVA to test if there are significant differences in the scores between production groups\n",
    "anova_result = stats.f_oneway(*(movies[movies['first_production_name'] == prod]['Score'] for prod in production_score.index))\n",
    "\n",
    "# Print the result in a cleaner format\n",
    "if anova_result.pvalue < 0.05:\n",
    "    print(\"ANOVA result: There are significant differences in scores between production groups.\")\n",
    "else:\n",
    "    print(\"ANOVA result: There are no significant differences in scores between production groups.\")\n",
    "\n",
    "print(f\"ANOVA p-value: {anova_result.pvalue:.4f}\")\n"
   ],
   "metadata": {
    "collapsed": false,
    "ExecuteTime": {
     "end_time": "2024-11-15T15:04:18.837636Z",
     "start_time": "2024-11-15T15:04:16.751752Z"
    }
   },
   "id": "62dbef4e306f1d67"
  },
  {
   "cell_type": "code",
   "execution_count": null,
   "outputs": [],
   "source": [],
   "metadata": {
    "collapsed": false
   },
   "id": "213474d97948a536"
  }
 ],
 "metadata": {
  "kernelspec": {
   "display_name": "Python 3",
   "language": "python",
   "name": "python3"
  },
  "language_info": {
   "codemirror_mode": {
    "name": "ipython",
    "version": 2
   },
   "file_extension": ".py",
   "mimetype": "text/x-python",
   "name": "python",
   "nbconvert_exporter": "python",
   "pygments_lexer": "ipython2",
   "version": "2.7.6"
  }
 },
 "nbformat": 4,
 "nbformat_minor": 5
}
