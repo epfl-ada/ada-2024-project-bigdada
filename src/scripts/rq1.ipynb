{
 "cells": [
  {
   "cell_type": "markdown",
   "metadata": {},
   "source": [
    "## How does the genre of a movie influence the type of ending it has (happy, tragic, open-ended)? Certain genres may have a higher likelihood of happy or tragic endings."
   ]
  },
  {
   "cell_type": "code",
   "execution_count": 10,
   "metadata": {},
   "outputs": [],
   "source": [
    "import pandas as pd\n",
    "import matplotlib.pyplot as plt\n",
    "from matplotlib import cm\n",
    "import numpy as np\n",
    "import pickle\n",
    "import plotly.express as px\n",
    "import plotly.graph_objects as go\n",
    "from ipywidgets import widgets, Output\n",
    "from IPython.display import display\n",
    "from scipy.stats import shapiro, levene, f_oneway, kruskal\n",
    "import scikit_posthocs as sp\n",
    "from scikit_posthocs import posthoc_dunn"
   ]
  },
  {
   "cell_type": "code",
   "execution_count": 11,
   "metadata": {},
   "outputs": [],
   "source": [
    "# path\n",
    "DATA_FOLDER = '../data/'\n",
    "MOVIE_DATASET = DATA_FOLDER + 'movies_dataset_final_1.tsv'\n",
    "\n",
    "# Dataset loading\n",
    "movies = pd.read_csv(MOVIE_DATASET, sep='\\t')"
   ]
  },
  {
   "cell_type": "code",
   "execution_count": 12,
   "metadata": {},
   "outputs": [
    {
     "name": "stderr",
     "output_type": "stream",
     "text": [
      "C:\\Users\\International\\AppData\\Local\\Temp\\ipykernel_6948\\2918151298.py:1: MatplotlibDeprecationWarning:\n",
      "\n",
      "The get_cmap function was deprecated in Matplotlib 3.7 and will be removed two minor releases later. Use ``matplotlib.colormaps[name]`` or ``matplotlib.colormaps.get_cmap(obj)`` instead.\n",
      "\n"
     ]
    }
   ],
   "source": [
    "copper_colormap = cm.get_cmap('copper', 256)  # 256 niveaux\n",
    "copper_colorscale = [\n",
    "    [i / 255, f\"rgb({int(255 * r)}, {int(255 * g)}, {int(255 * b)})\"]\n",
    "    for i, (r, g, b, _) in enumerate(copper_colormap(np.linspace(0, 1, 256)))\n",
    "]"
   ]
  },
  {
   "cell_type": "markdown",
   "metadata": {},
   "source": [
    "What kind of genres do we have in this dataset ? And how many movies for each genre ?"
   ]
  },
  {
   "cell_type": "code",
   "execution_count": 13,
   "metadata": {},
   "outputs": [
    {
     "name": "stdout",
     "output_type": "stream",
     "text": [
      "Number of genres: 346\n"
     ]
    }
   ],
   "source": [
    "#Drop rows with no score\n",
    "movies['Movie genres'] = movies['Movie genres'].str.lower()\n",
    "genre_counts = movies['Movie genres'].str.split(', ').explode().value_counts().reset_index()\n",
    "genre_counts.columns = ['Genre', 'Number of movies']\n",
    "genre_counts = genre_counts.sort_values(by='Number of movies', ascending=False)\n",
    "print(\"Number of genres:\", len(genre_counts))"
   ]
  },
  {
   "cell_type": "markdown",
   "metadata": {},
   "source": [
    "## Cleaning and Filtering Movie Genres"
   ]
  },
  {
   "cell_type": "markdown",
   "metadata": {},
   "source": [
    "We observe that we have 346 different movie genres. We will keep only the most common ones, and regroup the same genres that have not the exact same string."
   ]
  },
  {
   "cell_type": "code",
   "execution_count": 14,
   "metadata": {},
   "outputs": [
    {
     "name": "stdout",
     "output_type": "stream",
     "text": [
      "Number of genres of our interest for our analysis:  36\n"
     ]
    }
   ],
   "source": [
    "genre_counts = genre_counts[genre_counts['Number of movies'] > 500]\n",
    "print(\"Number of genres of our interest for our analysis: \", len(genre_counts))"
   ]
  },
  {
   "cell_type": "code",
   "execution_count": 15,
   "metadata": {},
   "outputs": [],
   "source": [
    "# New dataframe \n",
    "movies_genres = movies.copy()\n",
    "movies_genres = movies_genres.dropna(subset=['Movie genres'])\n",
    "movies_genres = movies_genres.dropna(subset=['Score'])\n",
    "movies_genres['Movie genres'] = movies_genres['Movie genres'].str.split(', ')\n",
    "movies_genres = movies_genres.explode('Movie genres')\n",
    "movies_genres = movies_genres.reset_index(drop=True)\n",
    "movies_genres['Movie genres'] = movies_genres['Movie genres'].str.lower()\n",
    "\n",
    "# Remove the rows of the movies_genres dataframe which genre is not in the genre_counts dataframe\n",
    "movies_genres = movies_genres[movies_genres['Movie genres'].isin(genre_counts['Genre'])]\n",
    "movies_genres = movies_genres.reset_index(drop=True)"
   ]
  },
  {
   "cell_type": "code",
   "execution_count": 16,
   "metadata": {},
   "outputs": [
    {
     "data": {
      "application/vnd.plotly.v1+json": {
       "config": {
        "plotlyServerURL": "https://plot.ly"
       },
       "data": [
        {
         "alignmentgroup": "True",
         "hovertemplate": "Movie genres=%{x}<br>Count=%{y}<extra></extra>",
         "legendgroup": "drama",
         "marker": {
          "color": "#fff2e6",
          "pattern": {
           "shape": ""
          }
         },
         "name": "drama",
         "offsetgroup": "drama",
         "orientation": "v",
         "showlegend": true,
         "textposition": "auto",
         "type": "bar",
         "x": [
          "drama"
         ],
         "xaxis": "x",
         "y": [
          9457
         ],
         "yaxis": "y"
        },
        {
         "alignmentgroup": "True",
         "hovertemplate": "Movie genres=%{x}<br>Count=%{y}<extra></extra>",
         "legendgroup": "comedy",
         "marker": {
          "color": "#fceadd",
          "pattern": {
           "shape": ""
          }
         },
         "name": "comedy",
         "offsetgroup": "comedy",
         "orientation": "v",
         "showlegend": true,
         "textposition": "auto",
         "type": "bar",
         "x": [
          "comedy"
         ],
         "xaxis": "x",
         "y": [
          6122
         ],
         "yaxis": "y"
        },
        {
         "alignmentgroup": "True",
         "hovertemplate": "Movie genres=%{x}<br>Count=%{y}<extra></extra>",
         "legendgroup": "thriller",
         "marker": {
          "color": "#fae2d4",
          "pattern": {
           "shape": ""
          }
         },
         "name": "thriller",
         "offsetgroup": "thriller",
         "orientation": "v",
         "showlegend": true,
         "textposition": "auto",
         "type": "bar",
         "x": [
          "thriller"
         ],
         "xaxis": "x",
         "y": [
          3762
         ],
         "yaxis": "y"
        },
        {
         "alignmentgroup": "True",
         "hovertemplate": "Movie genres=%{x}<br>Count=%{y}<extra></extra>",
         "legendgroup": "romance",
         "marker": {
          "color": "#f7dacb",
          "pattern": {
           "shape": ""
          }
         },
         "name": "romance",
         "offsetgroup": "romance",
         "orientation": "v",
         "showlegend": true,
         "textposition": "auto",
         "type": "bar",
         "x": [
          "romance"
         ],
         "xaxis": "x",
         "y": [
          3651
         ],
         "yaxis": "y"
        },
        {
         "alignmentgroup": "True",
         "hovertemplate": "Movie genres=%{x}<br>Count=%{y}<extra></extra>",
         "legendgroup": "action",
         "marker": {
          "color": "#f4d1c1",
          "pattern": {
           "shape": ""
          }
         },
         "name": "action",
         "offsetgroup": "action",
         "orientation": "v",
         "showlegend": true,
         "textposition": "auto",
         "type": "bar",
         "x": [
          "action"
         ],
         "xaxis": "x",
         "y": [
          3297
         ],
         "yaxis": "y"
        },
        {
         "alignmentgroup": "True",
         "hovertemplate": "Movie genres=%{x}<br>Count=%{y}<extra></extra>",
         "legendgroup": "world cinema",
         "marker": {
          "color": "#f1c9b8",
          "pattern": {
           "shape": ""
          }
         },
         "name": "world cinema",
         "offsetgroup": "world cinema",
         "orientation": "v",
         "showlegend": true,
         "textposition": "auto",
         "type": "bar",
         "x": [
          "world cinema"
         ],
         "xaxis": "x",
         "y": [
          3064
         ],
         "yaxis": "y"
        },
        {
         "alignmentgroup": "True",
         "hovertemplate": "Movie genres=%{x}<br>Count=%{y}<extra></extra>",
         "legendgroup": "action/adventure",
         "marker": {
          "color": "#eec1af",
          "pattern": {
           "shape": ""
          }
         },
         "name": "action/adventure",
         "offsetgroup": "action/adventure",
         "orientation": "v",
         "showlegend": true,
         "textposition": "auto",
         "type": "bar",
         "x": [
          "action/adventure"
         ],
         "xaxis": "x",
         "y": [
          2332
         ],
         "yaxis": "y"
        },
        {
         "alignmentgroup": "True",
         "hovertemplate": "Movie genres=%{x}<br>Count=%{y}<extra></extra>",
         "legendgroup": "crime fiction",
         "marker": {
          "color": "#ebb8a4",
          "pattern": {
           "shape": ""
          }
         },
         "name": "crime fiction",
         "offsetgroup": "crime fiction",
         "orientation": "v",
         "showlegend": true,
         "textposition": "auto",
         "type": "bar",
         "x": [
          "crime fiction"
         ],
         "xaxis": "x",
         "y": [
          2276
         ],
         "yaxis": "y"
        },
        {
         "alignmentgroup": "True",
         "hovertemplate": "Movie genres=%{x}<br>Count=%{y}<extra></extra>",
         "legendgroup": "horror",
         "marker": {
          "color": "#e8b09b",
          "pattern": {
           "shape": ""
          }
         },
         "name": "horror",
         "offsetgroup": "horror",
         "orientation": "v",
         "showlegend": true,
         "textposition": "auto",
         "type": "bar",
         "x": [
          "horror"
         ],
         "xaxis": "x",
         "y": [
          2208
         ],
         "yaxis": "y"
        },
        {
         "alignmentgroup": "True",
         "hovertemplate": "Movie genres=%{x}<br>Count=%{y}<extra></extra>",
         "legendgroup": "adventure",
         "marker": {
          "color": "#e5a893",
          "pattern": {
           "shape": ""
          }
         },
         "name": "adventure",
         "offsetgroup": "adventure",
         "orientation": "v",
         "showlegend": true,
         "textposition": "auto",
         "type": "bar",
         "x": [
          "adventure"
         ],
         "xaxis": "x",
         "y": [
          2053
         ],
         "yaxis": "y"
        },
        {
         "alignmentgroup": "True",
         "hovertemplate": "Movie genres=%{x}<br>Count=%{y}<extra></extra>",
         "legendgroup": "indie",
         "marker": {
          "color": "#e29e8c",
          "pattern": {
           "shape": ""
          }
         },
         "name": "indie",
         "offsetgroup": "indie",
         "orientation": "v",
         "showlegend": true,
         "textposition": "auto",
         "type": "bar",
         "x": [
          "indie"
         ],
         "xaxis": "x",
         "y": [
          1834
         ],
         "yaxis": "y"
        },
        {
         "alignmentgroup": "True",
         "hovertemplate": "Movie genres=%{x}<br>Count=%{y}<extra></extra>",
         "legendgroup": "black-and-white",
         "marker": {
          "color": "#df9685",
          "pattern": {
           "shape": ""
          }
         },
         "name": "black-and-white",
         "offsetgroup": "black-and-white",
         "orientation": "v",
         "showlegend": true,
         "textposition": "auto",
         "type": "bar",
         "x": [
          "black-and-white"
         ],
         "xaxis": "x",
         "y": [
          1808
         ],
         "yaxis": "y"
        },
        {
         "alignmentgroup": "True",
         "hovertemplate": "Movie genres=%{x}<br>Count=%{y}<extra></extra>",
         "legendgroup": "family",
         "marker": {
          "color": "#dc8e7f",
          "pattern": {
           "shape": ""
          }
         },
         "name": "family",
         "offsetgroup": "family",
         "orientation": "v",
         "showlegend": true,
         "textposition": "auto",
         "type": "bar",
         "x": [
          "family"
         ],
         "xaxis": "x",
         "y": [
          1807
         ],
         "yaxis": "y"
        },
        {
         "alignmentgroup": "True",
         "hovertemplate": "Movie genres=%{x}<br>Count=%{y}<extra></extra>",
         "legendgroup": "romantic drama",
         "marker": {
          "color": "#d88478",
          "pattern": {
           "shape": ""
          }
         },
         "name": "romantic drama",
         "offsetgroup": "romantic drama",
         "orientation": "v",
         "showlegend": true,
         "textposition": "auto",
         "type": "bar",
         "x": [
          "romantic drama"
         ],
         "xaxis": "x",
         "y": [
          1570
         ],
         "yaxis": "y"
        },
        {
         "alignmentgroup": "True",
         "hovertemplate": "Movie genres=%{x}<br>Count=%{y}<extra></extra>",
         "legendgroup": "science fiction",
         "marker": {
          "color": "#d57c72",
          "pattern": {
           "shape": ""
          }
         },
         "name": "science fiction",
         "offsetgroup": "science fiction",
         "orientation": "v",
         "showlegend": true,
         "textposition": "auto",
         "type": "bar",
         "x": [
          "science fiction"
         ],
         "xaxis": "x",
         "y": [
          1485
         ],
         "yaxis": "y"
        },
        {
         "alignmentgroup": "True",
         "hovertemplate": "Movie genres=%{x}<br>Count=%{y}<extra></extra>",
         "legendgroup": "musical",
         "marker": {
          "color": "#d2746c",
          "pattern": {
           "shape": ""
          }
         },
         "name": "musical",
         "offsetgroup": "musical",
         "orientation": "v",
         "showlegend": true,
         "textposition": "auto",
         "type": "bar",
         "x": [
          "musical"
         ],
         "xaxis": "x",
         "y": [
          1397
         ],
         "yaxis": "y"
        },
        {
         "alignmentgroup": "True",
         "hovertemplate": "Movie genres=%{x}<br>Count=%{y}<extra></extra>",
         "legendgroup": "fantasy",
         "marker": {
          "color": "#cf6a64",
          "pattern": {
           "shape": ""
          }
         },
         "name": "fantasy",
         "offsetgroup": "fantasy",
         "orientation": "v",
         "showlegend": true,
         "textposition": "auto",
         "type": "bar",
         "x": [
          "fantasy"
         ],
         "xaxis": "x",
         "y": [
          1351
         ],
         "yaxis": "y"
        },
        {
         "alignmentgroup": "True",
         "hovertemplate": "Movie genres=%{x}<br>Count=%{y}<extra></extra>",
         "legendgroup": "romantic comedy",
         "marker": {
          "color": "#cc625e",
          "pattern": {
           "shape": ""
          }
         },
         "name": "romantic comedy",
         "offsetgroup": "romantic comedy",
         "orientation": "v",
         "showlegend": true,
         "textposition": "auto",
         "type": "bar",
         "x": [
          "romantic comedy"
         ],
         "xaxis": "x",
         "y": [
          1217
         ],
         "yaxis": "y"
        },
        {
         "alignmentgroup": "True",
         "hovertemplate": "Movie genres=%{x}<br>Count=%{y}<extra></extra>",
         "legendgroup": "mystery",
         "marker": {
          "color": "#c75c59",
          "pattern": {
           "shape": ""
          }
         },
         "name": "mystery",
         "offsetgroup": "mystery",
         "orientation": "v",
         "showlegend": true,
         "textposition": "auto",
         "type": "bar",
         "x": [
          "mystery"
         ],
         "xaxis": "x",
         "y": [
          1192
         ],
         "yaxis": "y"
        },
        {
         "alignmentgroup": "True",
         "hovertemplate": "Movie genres=%{x}<br>Count=%{y}<extra></extra>",
         "legendgroup": "animation",
         "marker": {
          "color": "#c25754",
          "pattern": {
           "shape": ""
          }
         },
         "name": "animation",
         "offsetgroup": "animation",
         "orientation": "v",
         "showlegend": true,
         "textposition": "auto",
         "type": "bar",
         "x": [
          "animation"
         ],
         "xaxis": "x",
         "y": [
          1174
         ],
         "yaxis": "y"
        },
        {
         "alignmentgroup": "True",
         "hovertemplate": "Movie genres=%{x}<br>Count=%{y}<extra></extra>",
         "legendgroup": "crime thriller",
         "marker": {
          "color": "#bc524f",
          "pattern": {
           "shape": ""
          }
         },
         "name": "crime thriller",
         "offsetgroup": "crime thriller",
         "orientation": "v",
         "showlegend": true,
         "textposition": "auto",
         "type": "bar",
         "x": [
          "crime thriller"
         ],
         "xaxis": "x",
         "y": [
          988
         ],
         "yaxis": "y"
        },
        {
         "alignmentgroup": "True",
         "hovertemplate": "Movie genres=%{x}<br>Count=%{y}<extra></extra>",
         "legendgroup": "period piece",
         "marker": {
          "color": "#b64d4b",
          "pattern": {
           "shape": ""
          }
         },
         "name": "period piece",
         "offsetgroup": "period piece",
         "orientation": "v",
         "showlegend": true,
         "textposition": "auto",
         "type": "bar",
         "x": [
          "period piece"
         ],
         "xaxis": "x",
         "y": [
          920
         ],
         "yaxis": "y"
        },
        {
         "alignmentgroup": "True",
         "hovertemplate": "Movie genres=%{x}<br>Count=%{y}<extra></extra>",
         "legendgroup": "war",
         "marker": {
          "color": "#b14847",
          "pattern": {
           "shape": ""
          }
         },
         "name": "war",
         "offsetgroup": "war",
         "orientation": "v",
         "showlegend": true,
         "textposition": "auto",
         "type": "bar",
         "x": [
          "war"
         ],
         "xaxis": "x",
         "y": [
          909
         ],
         "yaxis": "y"
        },
        {
         "alignmentgroup": "True",
         "hovertemplate": "Movie genres=%{x}<br>Count=%{y}<extra></extra>",
         "legendgroup": "adaptation",
         "marker": {
          "color": "#ab4342",
          "pattern": {
           "shape": ""
          }
         },
         "name": "adaptation",
         "offsetgroup": "adaptation",
         "orientation": "v",
         "showlegend": true,
         "textposition": "auto",
         "type": "bar",
         "x": [
          "adaptation"
         ],
         "xaxis": "x",
         "y": [
          874
         ],
         "yaxis": "y"
        },
        {
         "alignmentgroup": "True",
         "hovertemplate": "Movie genres=%{x}<br>Count=%{y}<extra></extra>",
         "legendgroup": "short",
         "marker": {
          "color": "#a53e3d",
          "pattern": {
           "shape": ""
          }
         },
         "name": "short",
         "offsetgroup": "short",
         "orientation": "v",
         "showlegend": true,
         "textposition": "auto",
         "type": "bar",
         "x": [
          "short"
         ],
         "xaxis": "x",
         "y": [
          857
         ],
         "yaxis": "y"
        },
        {
         "alignmentgroup": "True",
         "hovertemplate": "Movie genres=%{x}<br>Count=%{y}<extra></extra>",
         "legendgroup": "bollywood",
         "marker": {
          "color": "#a03939",
          "pattern": {
           "shape": ""
          }
         },
         "name": "bollywood",
         "offsetgroup": "bollywood",
         "orientation": "v",
         "showlegend": true,
         "textposition": "auto",
         "type": "bar",
         "x": [
          "bollywood"
         ],
         "xaxis": "x",
         "y": [
          754
         ],
         "yaxis": "y"
        },
        {
         "alignmentgroup": "True",
         "hovertemplate": "Movie genres=%{x}<br>Count=%{y}<extra></extra>",
         "legendgroup": "comedy-drama",
         "marker": {
          "color": "#9a3434",
          "pattern": {
           "shape": ""
          }
         },
         "name": "comedy-drama",
         "offsetgroup": "comedy-drama",
         "orientation": "v",
         "showlegend": true,
         "textposition": "auto",
         "type": "bar",
         "x": [
          "comedy-drama"
         ],
         "xaxis": "x",
         "y": [
          727
         ],
         "yaxis": "y"
        },
        {
         "alignmentgroup": "True",
         "hovertemplate": "Movie genres=%{x}<br>Count=%{y}<extra></extra>",
         "legendgroup": "psychological thriller",
         "marker": {
          "color": "#942e2e",
          "pattern": {
           "shape": ""
          }
         },
         "name": "psychological thriller",
         "offsetgroup": "psychological thriller",
         "orientation": "v",
         "showlegend": true,
         "textposition": "auto",
         "type": "bar",
         "x": [
          "psychological thriller"
         ],
         "xaxis": "x",
         "y": [
          712
         ],
         "yaxis": "y"
        },
        {
         "alignmentgroup": "True",
         "hovertemplate": "Movie genres=%{x}<br>Count=%{y}<extra></extra>",
         "legendgroup": "japanese",
         "marker": {
          "color": "#8f2929",
          "pattern": {
           "shape": ""
          }
         },
         "name": "japanese",
         "offsetgroup": "japanese",
         "orientation": "v",
         "showlegend": true,
         "textposition": "auto",
         "type": "bar",
         "x": [
          "japanese"
         ],
         "xaxis": "x",
         "y": [
          685
         ],
         "yaxis": "y"
        },
        {
         "alignmentgroup": "True",
         "hovertemplate": "Movie genres=%{x}<br>Count=%{y}<extra></extra>",
         "legendgroup": "teen",
         "marker": {
          "color": "#882222",
          "pattern": {
           "shape": ""
          }
         },
         "name": "teen",
         "offsetgroup": "teen",
         "orientation": "v",
         "showlegend": true,
         "textposition": "auto",
         "type": "bar",
         "x": [
          "teen"
         ],
         "xaxis": "x",
         "y": [
          595
         ],
         "yaxis": "y"
        },
        {
         "alignmentgroup": "True",
         "hovertemplate": "Movie genres=%{x}<br>Count=%{y}<extra></extra>",
         "legendgroup": "black comedy",
         "marker": {
          "color": "#831d1d",
          "pattern": {
           "shape": ""
          }
         },
         "name": "black comedy",
         "offsetgroup": "black comedy",
         "orientation": "v",
         "showlegend": true,
         "textposition": "auto",
         "type": "bar",
         "x": [
          "black comedy"
         ],
         "xaxis": "x",
         "y": [
          558
         ],
         "yaxis": "y"
        },
        {
         "alignmentgroup": "True",
         "hovertemplate": "Movie genres=%{x}<br>Count=%{y}<extra></extra>",
         "legendgroup": "children's/family",
         "marker": {
          "color": "#7d1717",
          "pattern": {
           "shape": ""
          }
         },
         "name": "children's/family",
         "offsetgroup": "children's/family",
         "orientation": "v",
         "showlegend": true,
         "textposition": "auto",
         "type": "bar",
         "x": [
          "children's/family"
         ],
         "xaxis": "x",
         "y": [
          552
         ],
         "yaxis": "y"
        },
        {
         "alignmentgroup": "True",
         "hovertemplate": "Movie genres=%{x}<br>Count=%{y}<extra></extra>",
         "legendgroup": "cult",
         "marker": {
          "color": "#771111",
          "pattern": {
           "shape": ""
          }
         },
         "name": "cult",
         "offsetgroup": "cult",
         "orientation": "v",
         "showlegend": true,
         "textposition": "auto",
         "type": "bar",
         "x": [
          "cult"
         ],
         "xaxis": "x",
         "y": [
          532
         ],
         "yaxis": "y"
        },
        {
         "alignmentgroup": "True",
         "hovertemplate": "Movie genres=%{x}<br>Count=%{y}<extra></extra>",
         "legendgroup": "chinese",
         "marker": {
          "color": "#710b0b",
          "pattern": {
           "shape": ""
          }
         },
         "name": "chinese",
         "offsetgroup": "chinese",
         "orientation": "v",
         "showlegend": true,
         "textposition": "auto",
         "type": "bar",
         "x": [
          "chinese"
         ],
         "xaxis": "x",
         "y": [
          514
         ],
         "yaxis": "y"
        },
        {
         "alignmentgroup": "True",
         "hovertemplate": "Movie genres=%{x}<br>Count=%{y}<extra></extra>",
         "legendgroup": "parody",
         "marker": {
          "color": "#6c0606",
          "pattern": {
           "shape": ""
          }
         },
         "name": "parody",
         "offsetgroup": "parody",
         "orientation": "v",
         "showlegend": true,
         "textposition": "auto",
         "type": "bar",
         "x": [
          "parody"
         ],
         "xaxis": "x",
         "y": [
          508
         ],
         "yaxis": "y"
        },
        {
         "alignmentgroup": "True",
         "hovertemplate": "Movie genres=%{x}<br>Count=%{y}<extra></extra>",
         "legendgroup": "coming of age",
         "marker": {
          "color": "#660000",
          "pattern": {
           "shape": ""
          }
         },
         "name": "coming of age",
         "offsetgroup": "coming of age",
         "orientation": "v",
         "showlegend": true,
         "textposition": "auto",
         "type": "bar",
         "x": [
          "coming of age"
         ],
         "xaxis": "x",
         "y": [
          502
         ],
         "yaxis": "y"
        }
       ],
       "layout": {
        "barmode": "relative",
        "height": 600,
        "legend": {
         "title": {
          "text": "Movie genres"
         },
         "tracegroupgap": 0
        },
        "template": {
         "data": {
          "bar": [
           {
            "error_x": {
             "color": "#2a3f5f"
            },
            "error_y": {
             "color": "#2a3f5f"
            },
            "marker": {
             "line": {
              "color": "#E5ECF6",
              "width": 0.5
             },
             "pattern": {
              "fillmode": "overlay",
              "size": 10,
              "solidity": 0.2
             }
            },
            "type": "bar"
           }
          ],
          "barpolar": [
           {
            "marker": {
             "line": {
              "color": "#E5ECF6",
              "width": 0.5
             },
             "pattern": {
              "fillmode": "overlay",
              "size": 10,
              "solidity": 0.2
             }
            },
            "type": "barpolar"
           }
          ],
          "carpet": [
           {
            "aaxis": {
             "endlinecolor": "#2a3f5f",
             "gridcolor": "white",
             "linecolor": "white",
             "minorgridcolor": "white",
             "startlinecolor": "#2a3f5f"
            },
            "baxis": {
             "endlinecolor": "#2a3f5f",
             "gridcolor": "white",
             "linecolor": "white",
             "minorgridcolor": "white",
             "startlinecolor": "#2a3f5f"
            },
            "type": "carpet"
           }
          ],
          "choropleth": [
           {
            "colorbar": {
             "outlinewidth": 0,
             "ticks": ""
            },
            "type": "choropleth"
           }
          ],
          "contour": [
           {
            "colorbar": {
             "outlinewidth": 0,
             "ticks": ""
            },
            "colorscale": [
             [
              0,
              "#0d0887"
             ],
             [
              0.1111111111111111,
              "#46039f"
             ],
             [
              0.2222222222222222,
              "#7201a8"
             ],
             [
              0.3333333333333333,
              "#9c179e"
             ],
             [
              0.4444444444444444,
              "#bd3786"
             ],
             [
              0.5555555555555556,
              "#d8576b"
             ],
             [
              0.6666666666666666,
              "#ed7953"
             ],
             [
              0.7777777777777778,
              "#fb9f3a"
             ],
             [
              0.8888888888888888,
              "#fdca26"
             ],
             [
              1,
              "#f0f921"
             ]
            ],
            "type": "contour"
           }
          ],
          "contourcarpet": [
           {
            "colorbar": {
             "outlinewidth": 0,
             "ticks": ""
            },
            "type": "contourcarpet"
           }
          ],
          "heatmap": [
           {
            "colorbar": {
             "outlinewidth": 0,
             "ticks": ""
            },
            "colorscale": [
             [
              0,
              "#0d0887"
             ],
             [
              0.1111111111111111,
              "#46039f"
             ],
             [
              0.2222222222222222,
              "#7201a8"
             ],
             [
              0.3333333333333333,
              "#9c179e"
             ],
             [
              0.4444444444444444,
              "#bd3786"
             ],
             [
              0.5555555555555556,
              "#d8576b"
             ],
             [
              0.6666666666666666,
              "#ed7953"
             ],
             [
              0.7777777777777778,
              "#fb9f3a"
             ],
             [
              0.8888888888888888,
              "#fdca26"
             ],
             [
              1,
              "#f0f921"
             ]
            ],
            "type": "heatmap"
           }
          ],
          "heatmapgl": [
           {
            "colorbar": {
             "outlinewidth": 0,
             "ticks": ""
            },
            "colorscale": [
             [
              0,
              "#0d0887"
             ],
             [
              0.1111111111111111,
              "#46039f"
             ],
             [
              0.2222222222222222,
              "#7201a8"
             ],
             [
              0.3333333333333333,
              "#9c179e"
             ],
             [
              0.4444444444444444,
              "#bd3786"
             ],
             [
              0.5555555555555556,
              "#d8576b"
             ],
             [
              0.6666666666666666,
              "#ed7953"
             ],
             [
              0.7777777777777778,
              "#fb9f3a"
             ],
             [
              0.8888888888888888,
              "#fdca26"
             ],
             [
              1,
              "#f0f921"
             ]
            ],
            "type": "heatmapgl"
           }
          ],
          "histogram": [
           {
            "marker": {
             "pattern": {
              "fillmode": "overlay",
              "size": 10,
              "solidity": 0.2
             }
            },
            "type": "histogram"
           }
          ],
          "histogram2d": [
           {
            "colorbar": {
             "outlinewidth": 0,
             "ticks": ""
            },
            "colorscale": [
             [
              0,
              "#0d0887"
             ],
             [
              0.1111111111111111,
              "#46039f"
             ],
             [
              0.2222222222222222,
              "#7201a8"
             ],
             [
              0.3333333333333333,
              "#9c179e"
             ],
             [
              0.4444444444444444,
              "#bd3786"
             ],
             [
              0.5555555555555556,
              "#d8576b"
             ],
             [
              0.6666666666666666,
              "#ed7953"
             ],
             [
              0.7777777777777778,
              "#fb9f3a"
             ],
             [
              0.8888888888888888,
              "#fdca26"
             ],
             [
              1,
              "#f0f921"
             ]
            ],
            "type": "histogram2d"
           }
          ],
          "histogram2dcontour": [
           {
            "colorbar": {
             "outlinewidth": 0,
             "ticks": ""
            },
            "colorscale": [
             [
              0,
              "#0d0887"
             ],
             [
              0.1111111111111111,
              "#46039f"
             ],
             [
              0.2222222222222222,
              "#7201a8"
             ],
             [
              0.3333333333333333,
              "#9c179e"
             ],
             [
              0.4444444444444444,
              "#bd3786"
             ],
             [
              0.5555555555555556,
              "#d8576b"
             ],
             [
              0.6666666666666666,
              "#ed7953"
             ],
             [
              0.7777777777777778,
              "#fb9f3a"
             ],
             [
              0.8888888888888888,
              "#fdca26"
             ],
             [
              1,
              "#f0f921"
             ]
            ],
            "type": "histogram2dcontour"
           }
          ],
          "mesh3d": [
           {
            "colorbar": {
             "outlinewidth": 0,
             "ticks": ""
            },
            "type": "mesh3d"
           }
          ],
          "parcoords": [
           {
            "line": {
             "colorbar": {
              "outlinewidth": 0,
              "ticks": ""
             }
            },
            "type": "parcoords"
           }
          ],
          "pie": [
           {
            "automargin": true,
            "type": "pie"
           }
          ],
          "scatter": [
           {
            "fillpattern": {
             "fillmode": "overlay",
             "size": 10,
             "solidity": 0.2
            },
            "type": "scatter"
           }
          ],
          "scatter3d": [
           {
            "line": {
             "colorbar": {
              "outlinewidth": 0,
              "ticks": ""
             }
            },
            "marker": {
             "colorbar": {
              "outlinewidth": 0,
              "ticks": ""
             }
            },
            "type": "scatter3d"
           }
          ],
          "scattercarpet": [
           {
            "marker": {
             "colorbar": {
              "outlinewidth": 0,
              "ticks": ""
             }
            },
            "type": "scattercarpet"
           }
          ],
          "scattergeo": [
           {
            "marker": {
             "colorbar": {
              "outlinewidth": 0,
              "ticks": ""
             }
            },
            "type": "scattergeo"
           }
          ],
          "scattergl": [
           {
            "marker": {
             "colorbar": {
              "outlinewidth": 0,
              "ticks": ""
             }
            },
            "type": "scattergl"
           }
          ],
          "scattermapbox": [
           {
            "marker": {
             "colorbar": {
              "outlinewidth": 0,
              "ticks": ""
             }
            },
            "type": "scattermapbox"
           }
          ],
          "scatterpolar": [
           {
            "marker": {
             "colorbar": {
              "outlinewidth": 0,
              "ticks": ""
             }
            },
            "type": "scatterpolar"
           }
          ],
          "scatterpolargl": [
           {
            "marker": {
             "colorbar": {
              "outlinewidth": 0,
              "ticks": ""
             }
            },
            "type": "scatterpolargl"
           }
          ],
          "scatterternary": [
           {
            "marker": {
             "colorbar": {
              "outlinewidth": 0,
              "ticks": ""
             }
            },
            "type": "scatterternary"
           }
          ],
          "surface": [
           {
            "colorbar": {
             "outlinewidth": 0,
             "ticks": ""
            },
            "colorscale": [
             [
              0,
              "#0d0887"
             ],
             [
              0.1111111111111111,
              "#46039f"
             ],
             [
              0.2222222222222222,
              "#7201a8"
             ],
             [
              0.3333333333333333,
              "#9c179e"
             ],
             [
              0.4444444444444444,
              "#bd3786"
             ],
             [
              0.5555555555555556,
              "#d8576b"
             ],
             [
              0.6666666666666666,
              "#ed7953"
             ],
             [
              0.7777777777777778,
              "#fb9f3a"
             ],
             [
              0.8888888888888888,
              "#fdca26"
             ],
             [
              1,
              "#f0f921"
             ]
            ],
            "type": "surface"
           }
          ],
          "table": [
           {
            "cells": {
             "fill": {
              "color": "#EBF0F8"
             },
             "line": {
              "color": "white"
             }
            },
            "header": {
             "fill": {
              "color": "#C8D4E3"
             },
             "line": {
              "color": "white"
             }
            },
            "type": "table"
           }
          ]
         },
         "layout": {
          "annotationdefaults": {
           "arrowcolor": "#2a3f5f",
           "arrowhead": 0,
           "arrowwidth": 1
          },
          "autotypenumbers": "strict",
          "coloraxis": {
           "colorbar": {
            "outlinewidth": 0,
            "ticks": ""
           }
          },
          "colorscale": {
           "diverging": [
            [
             0,
             "#8e0152"
            ],
            [
             0.1,
             "#c51b7d"
            ],
            [
             0.2,
             "#de77ae"
            ],
            [
             0.3,
             "#f1b6da"
            ],
            [
             0.4,
             "#fde0ef"
            ],
            [
             0.5,
             "#f7f7f7"
            ],
            [
             0.6,
             "#e6f5d0"
            ],
            [
             0.7,
             "#b8e186"
            ],
            [
             0.8,
             "#7fbc41"
            ],
            [
             0.9,
             "#4d9221"
            ],
            [
             1,
             "#276419"
            ]
           ],
           "sequential": [
            [
             0,
             "#0d0887"
            ],
            [
             0.1111111111111111,
             "#46039f"
            ],
            [
             0.2222222222222222,
             "#7201a8"
            ],
            [
             0.3333333333333333,
             "#9c179e"
            ],
            [
             0.4444444444444444,
             "#bd3786"
            ],
            [
             0.5555555555555556,
             "#d8576b"
            ],
            [
             0.6666666666666666,
             "#ed7953"
            ],
            [
             0.7777777777777778,
             "#fb9f3a"
            ],
            [
             0.8888888888888888,
             "#fdca26"
            ],
            [
             1,
             "#f0f921"
            ]
           ],
           "sequentialminus": [
            [
             0,
             "#0d0887"
            ],
            [
             0.1111111111111111,
             "#46039f"
            ],
            [
             0.2222222222222222,
             "#7201a8"
            ],
            [
             0.3333333333333333,
             "#9c179e"
            ],
            [
             0.4444444444444444,
             "#bd3786"
            ],
            [
             0.5555555555555556,
             "#d8576b"
            ],
            [
             0.6666666666666666,
             "#ed7953"
            ],
            [
             0.7777777777777778,
             "#fb9f3a"
            ],
            [
             0.8888888888888888,
             "#fdca26"
            ],
            [
             1,
             "#f0f921"
            ]
           ]
          },
          "colorway": [
           "#636efa",
           "#EF553B",
           "#00cc96",
           "#ab63fa",
           "#FFA15A",
           "#19d3f3",
           "#FF6692",
           "#B6E880",
           "#FF97FF",
           "#FECB52"
          ],
          "font": {
           "color": "#2a3f5f"
          },
          "geo": {
           "bgcolor": "white",
           "lakecolor": "white",
           "landcolor": "#E5ECF6",
           "showlakes": true,
           "showland": true,
           "subunitcolor": "white"
          },
          "hoverlabel": {
           "align": "left"
          },
          "hovermode": "closest",
          "mapbox": {
           "style": "light"
          },
          "paper_bgcolor": "white",
          "plot_bgcolor": "#E5ECF6",
          "polar": {
           "angularaxis": {
            "gridcolor": "white",
            "linecolor": "white",
            "ticks": ""
           },
           "bgcolor": "#E5ECF6",
           "radialaxis": {
            "gridcolor": "white",
            "linecolor": "white",
            "ticks": ""
           }
          },
          "scene": {
           "xaxis": {
            "backgroundcolor": "#E5ECF6",
            "gridcolor": "white",
            "gridwidth": 2,
            "linecolor": "white",
            "showbackground": true,
            "ticks": "",
            "zerolinecolor": "white"
           },
           "yaxis": {
            "backgroundcolor": "#E5ECF6",
            "gridcolor": "white",
            "gridwidth": 2,
            "linecolor": "white",
            "showbackground": true,
            "ticks": "",
            "zerolinecolor": "white"
           },
           "zaxis": {
            "backgroundcolor": "#E5ECF6",
            "gridcolor": "white",
            "gridwidth": 2,
            "linecolor": "white",
            "showbackground": true,
            "ticks": "",
            "zerolinecolor": "white"
           }
          },
          "shapedefaults": {
           "line": {
            "color": "#2a3f5f"
           }
          },
          "ternary": {
           "aaxis": {
            "gridcolor": "white",
            "linecolor": "white",
            "ticks": ""
           },
           "baxis": {
            "gridcolor": "white",
            "linecolor": "white",
            "ticks": ""
           },
           "bgcolor": "#E5ECF6",
           "caxis": {
            "gridcolor": "white",
            "linecolor": "white",
            "ticks": ""
           }
          },
          "title": {
           "x": 0.05
          },
          "xaxis": {
           "automargin": true,
           "gridcolor": "white",
           "linecolor": "white",
           "ticks": "",
           "title": {
            "standoff": 15
           },
           "zerolinecolor": "white",
           "zerolinewidth": 2
          },
          "yaxis": {
           "automargin": true,
           "gridcolor": "white",
           "linecolor": "white",
           "ticks": "",
           "title": {
            "standoff": 15
           },
           "zerolinecolor": "white",
           "zerolinewidth": 2
          }
         }
        },
        "title": {
         "text": "Number of Movies per Genre"
        },
        "width": 900,
        "xaxis": {
         "anchor": "y",
         "categoryarray": [
          "drama",
          "comedy",
          "thriller",
          "romance",
          "action",
          "world cinema",
          "action/adventure",
          "crime fiction",
          "horror",
          "adventure",
          "indie",
          "black-and-white",
          "family",
          "romantic drama",
          "science fiction",
          "musical",
          "fantasy",
          "romantic comedy",
          "mystery",
          "animation",
          "crime thriller",
          "period piece",
          "war",
          "adaptation",
          "short",
          "bollywood",
          "comedy-drama",
          "psychological thriller",
          "japanese",
          "teen",
          "black comedy",
          "children's/family",
          "cult",
          "chinese",
          "parody",
          "coming of age"
         ],
         "categoryorder": "array",
         "domain": [
          0,
          1
         ],
         "title": {
          "text": "Genre"
         }
        },
        "yaxis": {
         "anchor": "x",
         "domain": [
          0,
          1
         ],
         "title": {
          "text": "Number of Movies"
         }
        }
       }
      }
     },
     "metadata": {},
     "output_type": "display_data"
    }
   ],
   "source": [
    "import matplotlib.colors as mcolors\n",
    "import matplotlib.pyplot as plt\n",
    "import plotly.express as px\n",
    "# Calculate sample sizes of the genres that we keep\n",
    "sample_sizes = movies_genres.groupby('Movie genres').size().reset_index(name='Count')\n",
    "sample_sizes = sample_sizes.sort_values(by='Count', ascending=False)\n",
    "# Define copper colorscale in valid format\n",
    "copper_colorscale = [\n",
    "    (255 / 255, 242 / 255, 230 / 255),\n",
    "    (230 / 255, 169 / 255, 148 / 255),\n",
    "    (202 / 255, 94 / 255, 91 / 255),\n",
    "    (153 / 255, 51 / 255, 51 / 255),\n",
    "    (102 / 255, 0 / 255, 0 / 255)\n",
    "]\n",
    "\n",
    "# Create a LinearSegmentedColormap\n",
    "copper_interpolated = mcolors.LinearSegmentedColormap.from_list(\"copper\", copper_colorscale)\n",
    "\n",
    "# Interpolate colors for the genres\n",
    "num_genres = sample_sizes.shape[0]\n",
    "genre_colors = {\n",
    "    genre: mcolors.rgb2hex(copper_interpolated(i / (num_genres - 1)))\n",
    "    for i, genre in enumerate(sample_sizes['Movie genres'])\n",
    "}\n",
    "\n",
    "# Create bar chart with the custom color scale\n",
    "fig = px.bar(\n",
    "    sample_sizes,\n",
    "    x='Movie genres',\n",
    "    y='Count',\n",
    "    color='Movie genres',\n",
    "    title=\"Number of Movies per Genre\",\n",
    "    color_discrete_map=genre_colors\n",
    ")\n",
    "\n",
    "fig.update_layout(\n",
    "    xaxis_title=\"Genre\",\n",
    "    yaxis_title=\"Number of Movies\",\n",
    "    width=900,\n",
    "    height=600\n",
    ")\n",
    "\n",
    "fig.show()\n"
   ]
  },
  {
   "cell_type": "code",
   "execution_count": 17,
   "metadata": {},
   "outputs": [],
   "source": [
    "# Mean ending score for each genre\n",
    "genre_scores = movies_genres.groupby('Movie genres').agg({'Score': 'mean', 'Movie genres': 'count'})\n",
    "genre_scores.columns = ['Mean score', 'Number of movies']\n",
    "#print(\"Genres that have a negative average score: \", genre_scores[genre_scores['Mean score'] < 0].index)\n",
    "\n",
    "genre_scores = genre_scores.reset_index()\n",
    "genre_scores = genre_scores.sort_values(by='Mean score', ascending=True)\n",
    "genre_scores = genre_scores.reset_index(drop=True)\n"
   ]
  },
  {
   "cell_type": "code",
   "execution_count": 19,
   "metadata": {},
   "outputs": [
    {
     "name": "stderr",
     "output_type": "stream",
     "text": [
      "C:\\Users\\International\\AppData\\Local\\Temp\\ipykernel_6948\\153953840.py:1: MatplotlibDeprecationWarning:\n",
      "\n",
      "The get_cmap function was deprecated in Matplotlib 3.7 and will be removed two minor releases later. Use ``matplotlib.colormaps[name]`` or ``matplotlib.colormaps.get_cmap(obj)`` instead.\n",
      "\n"
     ]
    },
    {
     "data": {
      "application/vnd.plotly.v1+json": {
       "config": {
        "plotlyServerURL": "https://plot.ly"
       },
       "data": [
        {
         "hovertemplate": "Mean score=%{marker.color}<br>Movie genres=%{y}<br>Number of movies=%{marker.size}<extra></extra>",
         "legendgroup": "",
         "marker": {
          "color": [
           -0.0008981874405909891,
           0.00731899340932375,
           0.018770612042086996,
           0.021483877459497303,
           0.02169876030749816,
           0.022710053169408308,
           0.025519719861024328,
           0.028595599495173322,
           0.032780985495286484,
           0.034439139430085405,
           0.03486454565213571,
           0.03592461105603144,
           0.03788119223261572,
           0.04211604524226631,
           0.04637711799546753,
           0.049917331296345485,
           0.05331721287580035,
           0.05744381607140782,
           0.057497672651446195,
           0.059007194202031876,
           0.06209617182715925,
           0.06518853401222055,
           0.06582592370007716,
           0.06598569372083747,
           0.0804351901505112,
           0.08141599955055975,
           0.08387244981738086,
           0.08449392457344886,
           0.08679560591260553,
           0.08766905139037051,
           0.08974137203398118,
           0.09258413263507609,
           0.09364309154537917,
           0.10338017948765016,
           0.10529965532791266,
           0.12194863682882796
          ],
          "coloraxis": "coloraxis",
          "line": {
           "color": "DarkSlateGrey",
           "width": 1
          },
          "opacity": 0.8,
          "size": [
           2208,
           712,
           988,
           532,
           1192,
           3762,
           2276,
           514,
           857,
           1485,
           909,
           2332,
           3297,
           1808,
           874,
           685,
           3064,
           9457,
           595,
           558,
           1834,
           508,
           920,
           2053,
           1174,
           1351,
           502,
           754,
           6122,
           1570,
           727,
           1807,
           3651,
           552,
           1397,
           1217
          ],
          "sizemode": "area",
          "sizeref": 23.6425,
          "symbol": "circle"
         },
         "mode": "markers",
         "name": "",
         "orientation": "h",
         "showlegend": false,
         "type": "scatter",
         "x": [
          -0.0008981874405909891,
          0.00731899340932375,
          0.018770612042086996,
          0.021483877459497303,
          0.02169876030749816,
          0.022710053169408308,
          0.025519719861024328,
          0.028595599495173322,
          0.032780985495286484,
          0.034439139430085405,
          0.03486454565213571,
          0.03592461105603144,
          0.03788119223261572,
          0.04211604524226631,
          0.04637711799546753,
          0.049917331296345485,
          0.05331721287580035,
          0.05744381607140782,
          0.057497672651446195,
          0.059007194202031876,
          0.06209617182715925,
          0.06518853401222055,
          0.06582592370007716,
          0.06598569372083747,
          0.0804351901505112,
          0.08141599955055975,
          0.08387244981738086,
          0.08449392457344886,
          0.08679560591260553,
          0.08766905139037051,
          0.08974137203398118,
          0.09258413263507609,
          0.09364309154537917,
          0.10338017948765016,
          0.10529965532791266,
          0.12194863682882796
         ],
         "xaxis": "x",
         "y": [
          "horror",
          "psychological thriller",
          "crime thriller",
          "cult",
          "mystery",
          "thriller",
          "crime fiction",
          "chinese",
          "short",
          "science fiction",
          "war",
          "action/adventure",
          "action",
          "black-and-white",
          "adaptation",
          "japanese",
          "world cinema",
          "drama",
          "teen",
          "black comedy",
          "indie",
          "parody",
          "period piece",
          "adventure",
          "animation",
          "fantasy",
          "coming of age",
          "bollywood",
          "comedy",
          "romantic drama",
          "comedy-drama",
          "family",
          "romance",
          "children's/family",
          "musical",
          "romantic comedy"
         ],
         "yaxis": "y"
        }
       ],
       "layout": {
        "coloraxis": {
         "colorbar": {
          "title": {
           "text": "Mean Score"
          }
         },
         "colorscale": [
          [
           0,
           "rgb(0, 0, 0)"
          ],
          [
           0.00392156862745098,
           "rgb(1, 0, 0)"
          ],
          [
           0.00784313725490196,
           "rgb(2, 1, 0)"
          ],
          [
           0.011764705882352941,
           "rgb(3, 2, 1)"
          ],
          [
           0.01568627450980392,
           "rgb(4, 3, 1)"
          ],
          [
           0.0196078431372549,
           "rgb(6, 3, 2)"
          ],
          [
           0.023529411764705882,
           "rgb(7, 4, 2)"
          ],
          [
           0.027450980392156862,
           "rgb(8, 5, 3)"
          ],
          [
           0.03137254901960784,
           "rgb(9, 6, 3)"
          ],
          [
           0.03529411764705882,
           "rgb(11, 7, 4)"
          ],
          [
           0.0392156862745098,
           "rgb(12, 7, 4)"
          ],
          [
           0.043137254901960784,
           "rgb(13, 8, 5)"
          ],
          [
           0.047058823529411764,
           "rgb(14, 9, 5)"
          ],
          [
           0.050980392156862744,
           "rgb(16, 10, 6)"
          ],
          [
           0.054901960784313725,
           "rgb(17, 10, 6)"
          ],
          [
           0.058823529411764705,
           "rgb(18, 11, 7)"
          ],
          [
           0.06274509803921569,
           "rgb(19, 12, 7)"
          ],
          [
           0.06666666666666667,
           "rgb(20, 13, 8)"
          ],
          [
           0.07058823529411765,
           "rgb(22, 14, 8)"
          ],
          [
           0.07450980392156863,
           "rgb(23, 14, 9)"
          ],
          [
           0.0784313725490196,
           "rgb(24, 15, 9)"
          ],
          [
           0.08235294117647059,
           "rgb(25, 16, 10)"
          ],
          [
           0.08627450980392157,
           "rgb(27, 17, 10)"
          ],
          [
           0.09019607843137255,
           "rgb(28, 17, 11)"
          ],
          [
           0.09411764705882353,
           "rgb(29, 18, 11)"
          ],
          [
           0.09803921568627451,
           "rgb(30, 19, 12)"
          ],
          [
           0.10196078431372549,
           "rgb(32, 20, 12)"
          ],
          [
           0.10588235294117647,
           "rgb(33, 21, 13)"
          ],
          [
           0.10980392156862745,
           "rgb(34, 21, 13)"
          ],
          [
           0.11372549019607843,
           "rgb(35, 22, 14)"
          ],
          [
           0.11764705882352941,
           "rgb(37, 23, 14)"
          ],
          [
           0.12156862745098039,
           "rgb(38, 24, 15)"
          ],
          [
           0.12549019607843137,
           "rgb(39, 24, 15)"
          ],
          [
           0.12941176470588237,
           "rgb(40, 25, 16)"
          ],
          [
           0.13333333333333333,
           "rgb(41, 26, 16)"
          ],
          [
           0.13725490196078433,
           "rgb(43, 27, 17)"
          ],
          [
           0.1411764705882353,
           "rgb(44, 28, 17)"
          ],
          [
           0.1450980392156863,
           "rgb(45, 28, 18)"
          ],
          [
           0.14901960784313725,
           "rgb(46, 29, 18)"
          ],
          [
           0.15294117647058825,
           "rgb(48, 30, 19)"
          ],
          [
           0.1568627450980392,
           "rgb(49, 31, 19)"
          ],
          [
           0.1607843137254902,
           "rgb(50, 32, 20)"
          ],
          [
           0.16470588235294117,
           "rgb(51, 32, 20)"
          ],
          [
           0.16862745098039217,
           "rgb(53, 33, 21)"
          ],
          [
           0.17254901960784313,
           "rgb(54, 34, 21)"
          ],
          [
           0.17647058823529413,
           "rgb(55, 35, 22)"
          ],
          [
           0.1803921568627451,
           "rgb(56, 35, 22)"
          ],
          [
           0.1843137254901961,
           "rgb(58, 36, 23)"
          ],
          [
           0.18823529411764706,
           "rgb(59, 37, 23)"
          ],
          [
           0.19215686274509805,
           "rgb(60, 38, 24)"
          ],
          [
           0.19607843137254902,
           "rgb(61, 39, 24)"
          ],
          [
           0.2,
           "rgb(62, 39, 25)"
          ],
          [
           0.20392156862745098,
           "rgb(64, 40, 25)"
          ],
          [
           0.20784313725490197,
           "rgb(65, 41, 26)"
          ],
          [
           0.21176470588235294,
           "rgb(66, 42, 26)"
          ],
          [
           0.21568627450980393,
           "rgb(67, 42, 27)"
          ],
          [
           0.2196078431372549,
           "rgb(69, 43, 27)"
          ],
          [
           0.2235294117647059,
           "rgb(70, 44, 28)"
          ],
          [
           0.22745098039215686,
           "rgb(71, 45, 28)"
          ],
          [
           0.23137254901960785,
           "rgb(72, 46, 29)"
          ],
          [
           0.23529411764705882,
           "rgb(74, 46, 29)"
          ],
          [
           0.23921568627450981,
           "rgb(75, 47, 30)"
          ],
          [
           0.24313725490196078,
           "rgb(76, 48, 30)"
          ],
          [
           0.24705882352941178,
           "rgb(77, 49, 31)"
          ],
          [
           0.25098039215686274,
           "rgb(79, 49, 31)"
          ],
          [
           0.2549019607843137,
           "rgb(80, 50, 32)"
          ],
          [
           0.25882352941176473,
           "rgb(81, 51, 32)"
          ],
          [
           0.2627450980392157,
           "rgb(82, 52, 33)"
          ],
          [
           0.26666666666666666,
           "rgb(83, 53, 33)"
          ],
          [
           0.27058823529411763,
           "rgb(85, 53, 34)"
          ],
          [
           0.27450980392156865,
           "rgb(86, 54, 34)"
          ],
          [
           0.2784313725490196,
           "rgb(87, 55, 35)"
          ],
          [
           0.2823529411764706,
           "rgb(88, 56, 35)"
          ],
          [
           0.28627450980392155,
           "rgb(90, 57, 36)"
          ],
          [
           0.2901960784313726,
           "rgb(91, 57, 36)"
          ],
          [
           0.29411764705882354,
           "rgb(92, 58, 37)"
          ],
          [
           0.2980392156862745,
           "rgb(93, 59, 37)"
          ],
          [
           0.30196078431372547,
           "rgb(95, 60, 38)"
          ],
          [
           0.3058823529411765,
           "rgb(96, 60, 38)"
          ],
          [
           0.30980392156862746,
           "rgb(97, 61, 39)"
          ],
          [
           0.3137254901960784,
           "rgb(98, 62, 39)"
          ],
          [
           0.3176470588235294,
           "rgb(100, 63, 40)"
          ],
          [
           0.3215686274509804,
           "rgb(101, 64, 40)"
          ],
          [
           0.3254901960784314,
           "rgb(102, 64, 41)"
          ],
          [
           0.32941176470588235,
           "rgb(103, 65, 41)"
          ],
          [
           0.3333333333333333,
           "rgb(104, 66, 42)"
          ],
          [
           0.33725490196078434,
           "rgb(106, 67, 42)"
          ],
          [
           0.3411764705882353,
           "rgb(107, 67, 43)"
          ],
          [
           0.34509803921568627,
           "rgb(108, 68, 43)"
          ],
          [
           0.34901960784313724,
           "rgb(109, 69, 44)"
          ],
          [
           0.35294117647058826,
           "rgb(111, 70, 44)"
          ],
          [
           0.3568627450980392,
           "rgb(112, 71, 45)"
          ],
          [
           0.3607843137254902,
           "rgb(113, 71, 45)"
          ],
          [
           0.36470588235294116,
           "rgb(114, 72, 46)"
          ],
          [
           0.3686274509803922,
           "rgb(116, 73, 46)"
          ],
          [
           0.37254901960784315,
           "rgb(117, 74, 47)"
          ],
          [
           0.3764705882352941,
           "rgb(118, 74, 47)"
          ],
          [
           0.3803921568627451,
           "rgb(119, 75, 48)"
          ],
          [
           0.3843137254901961,
           "rgb(121, 76, 48)"
          ],
          [
           0.38823529411764707,
           "rgb(122, 77, 49)"
          ],
          [
           0.39215686274509803,
           "rgb(123, 78, 49)"
          ],
          [
           0.396078431372549,
           "rgb(124, 78, 50)"
          ],
          [
           0.4,
           "rgb(125, 79, 50)"
          ],
          [
           0.403921568627451,
           "rgb(127, 80, 51)"
          ],
          [
           0.40784313725490196,
           "rgb(128, 81, 51)"
          ],
          [
           0.4117647058823529,
           "rgb(129, 82, 52)"
          ],
          [
           0.41568627450980394,
           "rgb(130, 82, 52)"
          ],
          [
           0.4196078431372549,
           "rgb(132, 83, 53)"
          ],
          [
           0.4235294117647059,
           "rgb(133, 84, 53)"
          ],
          [
           0.42745098039215684,
           "rgb(134, 85, 54)"
          ],
          [
           0.43137254901960786,
           "rgb(135, 85, 54)"
          ],
          [
           0.43529411764705883,
           "rgb(137, 86, 55)"
          ],
          [
           0.4392156862745098,
           "rgb(138, 87, 55)"
          ],
          [
           0.44313725490196076,
           "rgb(139, 88, 56)"
          ],
          [
           0.4470588235294118,
           "rgb(140, 89, 56)"
          ],
          [
           0.45098039215686275,
           "rgb(142, 89, 57)"
          ],
          [
           0.4549019607843137,
           "rgb(143, 90, 57)"
          ],
          [
           0.4588235294117647,
           "rgb(144, 91, 58)"
          ],
          [
           0.4627450980392157,
           "rgb(145, 92, 58)"
          ],
          [
           0.4666666666666667,
           "rgb(146, 92, 59)"
          ],
          [
           0.47058823529411764,
           "rgb(148, 93, 59)"
          ],
          [
           0.4745098039215686,
           "rgb(149, 94, 60)"
          ],
          [
           0.47843137254901963,
           "rgb(150, 95, 60)"
          ],
          [
           0.4823529411764706,
           "rgb(151, 96, 61)"
          ],
          [
           0.48627450980392156,
           "rgb(153, 96, 61)"
          ],
          [
           0.49019607843137253,
           "rgb(154, 97, 62)"
          ],
          [
           0.49411764705882355,
           "rgb(155, 98, 62)"
          ],
          [
           0.4980392156862745,
           "rgb(156, 99, 63)"
          ],
          [
           0.5019607843137255,
           "rgb(158, 99, 63)"
          ],
          [
           0.5058823529411764,
           "rgb(159, 100, 64)"
          ],
          [
           0.5098039215686274,
           "rgb(160, 101, 64)"
          ],
          [
           0.5137254901960784,
           "rgb(161, 102, 65)"
          ],
          [
           0.5176470588235295,
           "rgb(163, 103, 65)"
          ],
          [
           0.5215686274509804,
           "rgb(164, 103, 66)"
          ],
          [
           0.5254901960784314,
           "rgb(165, 104, 66)"
          ],
          [
           0.5294117647058824,
           "rgb(166, 105, 67)"
          ],
          [
           0.5333333333333333,
           "rgb(167, 106, 67)"
          ],
          [
           0.5372549019607843,
           "rgb(169, 107, 68)"
          ],
          [
           0.5411764705882353,
           "rgb(170, 107, 68)"
          ],
          [
           0.5450980392156862,
           "rgb(171, 108, 69)"
          ],
          [
           0.5490196078431373,
           "rgb(172, 109, 69)"
          ],
          [
           0.5529411764705883,
           "rgb(174, 110, 70)"
          ],
          [
           0.5568627450980392,
           "rgb(175, 110, 70)"
          ],
          [
           0.5607843137254902,
           "rgb(176, 111, 71)"
          ],
          [
           0.5647058823529412,
           "rgb(177, 112, 71)"
          ],
          [
           0.5686274509803921,
           "rgb(179, 113, 72)"
          ],
          [
           0.5725490196078431,
           "rgb(180, 114, 72)"
          ],
          [
           0.5764705882352941,
           "rgb(181, 114, 73)"
          ],
          [
           0.5803921568627451,
           "rgb(182, 115, 73)"
          ],
          [
           0.5843137254901961,
           "rgb(184, 116, 74)"
          ],
          [
           0.5882352941176471,
           "rgb(185, 117, 74)"
          ],
          [
           0.592156862745098,
           "rgb(186, 117, 75)"
          ],
          [
           0.596078431372549,
           "rgb(187, 118, 75)"
          ],
          [
           0.6,
           "rgb(188, 119, 76)"
          ],
          [
           0.6039215686274509,
           "rgb(190, 120, 76)"
          ],
          [
           0.6078431372549019,
           "rgb(191, 121, 77)"
          ],
          [
           0.611764705882353,
           "rgb(192, 121, 77)"
          ],
          [
           0.615686274509804,
           "rgb(193, 122, 78)"
          ],
          [
           0.6196078431372549,
           "rgb(195, 123, 78)"
          ],
          [
           0.6235294117647059,
           "rgb(196, 124, 79)"
          ],
          [
           0.6274509803921569,
           "rgb(197, 124, 79)"
          ],
          [
           0.6313725490196078,
           "rgb(198, 125, 80)"
          ],
          [
           0.6352941176470588,
           "rgb(200, 126, 80)"
          ],
          [
           0.6392156862745098,
           "rgb(201, 127, 81)"
          ],
          [
           0.6431372549019608,
           "rgb(202, 128, 81)"
          ],
          [
           0.6470588235294118,
           "rgb(203, 128, 82)"
          ],
          [
           0.6509803921568628,
           "rgb(205, 129, 82)"
          ],
          [
           0.6549019607843137,
           "rgb(206, 130, 83)"
          ],
          [
           0.6588235294117647,
           "rgb(207, 131, 83)"
          ],
          [
           0.6627450980392157,
           "rgb(208, 132, 84)"
          ],
          [
           0.6666666666666666,
           "rgb(209, 132, 84)"
          ],
          [
           0.6705882352941176,
           "rgb(211, 133, 85)"
          ],
          [
           0.6745098039215687,
           "rgb(212, 134, 85)"
          ],
          [
           0.6784313725490196,
           "rgb(213, 135, 86)"
          ],
          [
           0.6823529411764706,
           "rgb(214, 135, 86)"
          ],
          [
           0.6862745098039216,
           "rgb(216, 136, 87)"
          ],
          [
           0.6901960784313725,
           "rgb(217, 137, 87)"
          ],
          [
           0.6941176470588235,
           "rgb(218, 138, 88)"
          ],
          [
           0.6980392156862745,
           "rgb(219, 139, 88)"
          ],
          [
           0.7019607843137254,
           "rgb(221, 139, 89)"
          ],
          [
           0.7058823529411765,
           "rgb(222, 140, 89)"
          ],
          [
           0.7098039215686275,
           "rgb(223, 141, 90)"
          ],
          [
           0.7137254901960784,
           "rgb(224, 142, 90)"
          ],
          [
           0.7176470588235294,
           "rgb(226, 142, 91)"
          ],
          [
           0.7215686274509804,
           "rgb(227, 143, 91)"
          ],
          [
           0.7254901960784313,
           "rgb(228, 144, 92)"
          ],
          [
           0.7294117647058823,
           "rgb(229, 145, 92)"
          ],
          [
           0.7333333333333333,
           "rgb(230, 146, 93)"
          ],
          [
           0.7372549019607844,
           "rgb(232, 146, 93)"
          ],
          [
           0.7411764705882353,
           "rgb(233, 147, 94)"
          ],
          [
           0.7450980392156863,
           "rgb(234, 148, 94)"
          ],
          [
           0.7490196078431373,
           "rgb(235, 149, 95)"
          ],
          [
           0.7529411764705882,
           "rgb(237, 149, 95)"
          ],
          [
           0.7568627450980392,
           "rgb(238, 150, 96)"
          ],
          [
           0.7607843137254902,
           "rgb(239, 151, 96)"
          ],
          [
           0.7647058823529411,
           "rgb(240, 152, 97)"
          ],
          [
           0.7686274509803922,
           "rgb(242, 153, 97)"
          ],
          [
           0.7725490196078432,
           "rgb(243, 153, 98)"
          ],
          [
           0.7764705882352941,
           "rgb(244, 154, 98)"
          ],
          [
           0.7803921568627451,
           "rgb(245, 155, 99)"
          ],
          [
           0.7843137254901961,
           "rgb(247, 156, 99)"
          ],
          [
           0.788235294117647,
           "rgb(248, 157, 99)"
          ],
          [
           0.792156862745098,
           "rgb(249, 157, 100)"
          ],
          [
           0.796078431372549,
           "rgb(250, 158, 100)"
          ],
          [
           0.8,
           "rgb(251, 159, 101)"
          ],
          [
           0.803921568627451,
           "rgb(253, 160, 101)"
          ],
          [
           0.807843137254902,
           "rgb(254, 160, 102)"
          ],
          [
           0.8117647058823529,
           "rgb(255, 161, 102)"
          ],
          [
           0.8156862745098039,
           "rgb(255, 162, 103)"
          ],
          [
           0.8196078431372549,
           "rgb(255, 163, 103)"
          ],
          [
           0.8235294117647058,
           "rgb(255, 164, 104)"
          ],
          [
           0.8274509803921568,
           "rgb(255, 164, 104)"
          ],
          [
           0.8313725490196079,
           "rgb(255, 165, 105)"
          ],
          [
           0.8352941176470589,
           "rgb(255, 166, 105)"
          ],
          [
           0.8392156862745098,
           "rgb(255, 167, 106)"
          ],
          [
           0.8431372549019608,
           "rgb(255, 167, 106)"
          ],
          [
           0.8470588235294118,
           "rgb(255, 168, 107)"
          ],
          [
           0.8509803921568627,
           "rgb(255, 169, 107)"
          ],
          [
           0.8549019607843137,
           "rgb(255, 170, 108)"
          ],
          [
           0.8588235294117647,
           "rgb(255, 171, 108)"
          ],
          [
           0.8627450980392157,
           "rgb(255, 171, 109)"
          ],
          [
           0.8666666666666667,
           "rgb(255, 172, 109)"
          ],
          [
           0.8705882352941177,
           "rgb(255, 173, 110)"
          ],
          [
           0.8745098039215686,
           "rgb(255, 174, 110)"
          ],
          [
           0.8784313725490196,
           "rgb(255, 174, 111)"
          ],
          [
           0.8823529411764706,
           "rgb(255, 175, 111)"
          ],
          [
           0.8862745098039215,
           "rgb(255, 176, 112)"
          ],
          [
           0.8901960784313725,
           "rgb(255, 177, 112)"
          ],
          [
           0.8941176470588236,
           "rgb(255, 178, 113)"
          ],
          [
           0.8980392156862745,
           "rgb(255, 178, 113)"
          ],
          [
           0.9019607843137255,
           "rgb(255, 179, 114)"
          ],
          [
           0.9058823529411765,
           "rgb(255, 180, 114)"
          ],
          [
           0.9098039215686274,
           "rgb(255, 181, 115)"
          ],
          [
           0.9137254901960784,
           "rgb(255, 182, 115)"
          ],
          [
           0.9176470588235294,
           "rgb(255, 182, 116)"
          ],
          [
           0.9215686274509803,
           "rgb(255, 183, 116)"
          ],
          [
           0.9254901960784314,
           "rgb(255, 184, 117)"
          ],
          [
           0.9294117647058824,
           "rgb(255, 185, 117)"
          ],
          [
           0.9333333333333333,
           "rgb(255, 185, 118)"
          ],
          [
           0.9372549019607843,
           "rgb(255, 186, 118)"
          ],
          [
           0.9411764705882353,
           "rgb(255, 187, 119)"
          ],
          [
           0.9450980392156862,
           "rgb(255, 188, 119)"
          ],
          [
           0.9490196078431372,
           "rgb(255, 189, 120)"
          ],
          [
           0.9529411764705882,
           "rgb(255, 189, 120)"
          ],
          [
           0.9568627450980393,
           "rgb(255, 190, 121)"
          ],
          [
           0.9607843137254902,
           "rgb(255, 191, 121)"
          ],
          [
           0.9647058823529412,
           "rgb(255, 192, 122)"
          ],
          [
           0.9686274509803922,
           "rgb(255, 192, 122)"
          ],
          [
           0.9725490196078431,
           "rgb(255, 193, 123)"
          ],
          [
           0.9764705882352941,
           "rgb(255, 194, 123)"
          ],
          [
           0.9803921568627451,
           "rgb(255, 195, 124)"
          ],
          [
           0.984313725490196,
           "rgb(255, 196, 124)"
          ],
          [
           0.9882352941176471,
           "rgb(255, 196, 125)"
          ],
          [
           0.9921568627450981,
           "rgb(255, 197, 125)"
          ],
          [
           0.996078431372549,
           "rgb(255, 198, 126)"
          ],
          [
           1,
           "rgb(255, 199, 126)"
          ]
         ]
        },
        "height": 600,
        "legend": {
         "itemsizing": "constant",
         "tracegroupgap": 0
        },
        "template": {
         "data": {
          "bar": [
           {
            "error_x": {
             "color": "#2a3f5f"
            },
            "error_y": {
             "color": "#2a3f5f"
            },
            "marker": {
             "line": {
              "color": "#E5ECF6",
              "width": 0.5
             },
             "pattern": {
              "fillmode": "overlay",
              "size": 10,
              "solidity": 0.2
             }
            },
            "type": "bar"
           }
          ],
          "barpolar": [
           {
            "marker": {
             "line": {
              "color": "#E5ECF6",
              "width": 0.5
             },
             "pattern": {
              "fillmode": "overlay",
              "size": 10,
              "solidity": 0.2
             }
            },
            "type": "barpolar"
           }
          ],
          "carpet": [
           {
            "aaxis": {
             "endlinecolor": "#2a3f5f",
             "gridcolor": "white",
             "linecolor": "white",
             "minorgridcolor": "white",
             "startlinecolor": "#2a3f5f"
            },
            "baxis": {
             "endlinecolor": "#2a3f5f",
             "gridcolor": "white",
             "linecolor": "white",
             "minorgridcolor": "white",
             "startlinecolor": "#2a3f5f"
            },
            "type": "carpet"
           }
          ],
          "choropleth": [
           {
            "colorbar": {
             "outlinewidth": 0,
             "ticks": ""
            },
            "type": "choropleth"
           }
          ],
          "contour": [
           {
            "colorbar": {
             "outlinewidth": 0,
             "ticks": ""
            },
            "colorscale": [
             [
              0,
              "#0d0887"
             ],
             [
              0.1111111111111111,
              "#46039f"
             ],
             [
              0.2222222222222222,
              "#7201a8"
             ],
             [
              0.3333333333333333,
              "#9c179e"
             ],
             [
              0.4444444444444444,
              "#bd3786"
             ],
             [
              0.5555555555555556,
              "#d8576b"
             ],
             [
              0.6666666666666666,
              "#ed7953"
             ],
             [
              0.7777777777777778,
              "#fb9f3a"
             ],
             [
              0.8888888888888888,
              "#fdca26"
             ],
             [
              1,
              "#f0f921"
             ]
            ],
            "type": "contour"
           }
          ],
          "contourcarpet": [
           {
            "colorbar": {
             "outlinewidth": 0,
             "ticks": ""
            },
            "type": "contourcarpet"
           }
          ],
          "heatmap": [
           {
            "colorbar": {
             "outlinewidth": 0,
             "ticks": ""
            },
            "colorscale": [
             [
              0,
              "#0d0887"
             ],
             [
              0.1111111111111111,
              "#46039f"
             ],
             [
              0.2222222222222222,
              "#7201a8"
             ],
             [
              0.3333333333333333,
              "#9c179e"
             ],
             [
              0.4444444444444444,
              "#bd3786"
             ],
             [
              0.5555555555555556,
              "#d8576b"
             ],
             [
              0.6666666666666666,
              "#ed7953"
             ],
             [
              0.7777777777777778,
              "#fb9f3a"
             ],
             [
              0.8888888888888888,
              "#fdca26"
             ],
             [
              1,
              "#f0f921"
             ]
            ],
            "type": "heatmap"
           }
          ],
          "heatmapgl": [
           {
            "colorbar": {
             "outlinewidth": 0,
             "ticks": ""
            },
            "colorscale": [
             [
              0,
              "#0d0887"
             ],
             [
              0.1111111111111111,
              "#46039f"
             ],
             [
              0.2222222222222222,
              "#7201a8"
             ],
             [
              0.3333333333333333,
              "#9c179e"
             ],
             [
              0.4444444444444444,
              "#bd3786"
             ],
             [
              0.5555555555555556,
              "#d8576b"
             ],
             [
              0.6666666666666666,
              "#ed7953"
             ],
             [
              0.7777777777777778,
              "#fb9f3a"
             ],
             [
              0.8888888888888888,
              "#fdca26"
             ],
             [
              1,
              "#f0f921"
             ]
            ],
            "type": "heatmapgl"
           }
          ],
          "histogram": [
           {
            "marker": {
             "pattern": {
              "fillmode": "overlay",
              "size": 10,
              "solidity": 0.2
             }
            },
            "type": "histogram"
           }
          ],
          "histogram2d": [
           {
            "colorbar": {
             "outlinewidth": 0,
             "ticks": ""
            },
            "colorscale": [
             [
              0,
              "#0d0887"
             ],
             [
              0.1111111111111111,
              "#46039f"
             ],
             [
              0.2222222222222222,
              "#7201a8"
             ],
             [
              0.3333333333333333,
              "#9c179e"
             ],
             [
              0.4444444444444444,
              "#bd3786"
             ],
             [
              0.5555555555555556,
              "#d8576b"
             ],
             [
              0.6666666666666666,
              "#ed7953"
             ],
             [
              0.7777777777777778,
              "#fb9f3a"
             ],
             [
              0.8888888888888888,
              "#fdca26"
             ],
             [
              1,
              "#f0f921"
             ]
            ],
            "type": "histogram2d"
           }
          ],
          "histogram2dcontour": [
           {
            "colorbar": {
             "outlinewidth": 0,
             "ticks": ""
            },
            "colorscale": [
             [
              0,
              "#0d0887"
             ],
             [
              0.1111111111111111,
              "#46039f"
             ],
             [
              0.2222222222222222,
              "#7201a8"
             ],
             [
              0.3333333333333333,
              "#9c179e"
             ],
             [
              0.4444444444444444,
              "#bd3786"
             ],
             [
              0.5555555555555556,
              "#d8576b"
             ],
             [
              0.6666666666666666,
              "#ed7953"
             ],
             [
              0.7777777777777778,
              "#fb9f3a"
             ],
             [
              0.8888888888888888,
              "#fdca26"
             ],
             [
              1,
              "#f0f921"
             ]
            ],
            "type": "histogram2dcontour"
           }
          ],
          "mesh3d": [
           {
            "colorbar": {
             "outlinewidth": 0,
             "ticks": ""
            },
            "type": "mesh3d"
           }
          ],
          "parcoords": [
           {
            "line": {
             "colorbar": {
              "outlinewidth": 0,
              "ticks": ""
             }
            },
            "type": "parcoords"
           }
          ],
          "pie": [
           {
            "automargin": true,
            "type": "pie"
           }
          ],
          "scatter": [
           {
            "fillpattern": {
             "fillmode": "overlay",
             "size": 10,
             "solidity": 0.2
            },
            "type": "scatter"
           }
          ],
          "scatter3d": [
           {
            "line": {
             "colorbar": {
              "outlinewidth": 0,
              "ticks": ""
             }
            },
            "marker": {
             "colorbar": {
              "outlinewidth": 0,
              "ticks": ""
             }
            },
            "type": "scatter3d"
           }
          ],
          "scattercarpet": [
           {
            "marker": {
             "colorbar": {
              "outlinewidth": 0,
              "ticks": ""
             }
            },
            "type": "scattercarpet"
           }
          ],
          "scattergeo": [
           {
            "marker": {
             "colorbar": {
              "outlinewidth": 0,
              "ticks": ""
             }
            },
            "type": "scattergeo"
           }
          ],
          "scattergl": [
           {
            "marker": {
             "colorbar": {
              "outlinewidth": 0,
              "ticks": ""
             }
            },
            "type": "scattergl"
           }
          ],
          "scattermapbox": [
           {
            "marker": {
             "colorbar": {
              "outlinewidth": 0,
              "ticks": ""
             }
            },
            "type": "scattermapbox"
           }
          ],
          "scatterpolar": [
           {
            "marker": {
             "colorbar": {
              "outlinewidth": 0,
              "ticks": ""
             }
            },
            "type": "scatterpolar"
           }
          ],
          "scatterpolargl": [
           {
            "marker": {
             "colorbar": {
              "outlinewidth": 0,
              "ticks": ""
             }
            },
            "type": "scatterpolargl"
           }
          ],
          "scatterternary": [
           {
            "marker": {
             "colorbar": {
              "outlinewidth": 0,
              "ticks": ""
             }
            },
            "type": "scatterternary"
           }
          ],
          "surface": [
           {
            "colorbar": {
             "outlinewidth": 0,
             "ticks": ""
            },
            "colorscale": [
             [
              0,
              "#0d0887"
             ],
             [
              0.1111111111111111,
              "#46039f"
             ],
             [
              0.2222222222222222,
              "#7201a8"
             ],
             [
              0.3333333333333333,
              "#9c179e"
             ],
             [
              0.4444444444444444,
              "#bd3786"
             ],
             [
              0.5555555555555556,
              "#d8576b"
             ],
             [
              0.6666666666666666,
              "#ed7953"
             ],
             [
              0.7777777777777778,
              "#fb9f3a"
             ],
             [
              0.8888888888888888,
              "#fdca26"
             ],
             [
              1,
              "#f0f921"
             ]
            ],
            "type": "surface"
           }
          ],
          "table": [
           {
            "cells": {
             "fill": {
              "color": "#EBF0F8"
             },
             "line": {
              "color": "white"
             }
            },
            "header": {
             "fill": {
              "color": "#C8D4E3"
             },
             "line": {
              "color": "white"
             }
            },
            "type": "table"
           }
          ]
         },
         "layout": {
          "annotationdefaults": {
           "arrowcolor": "#2a3f5f",
           "arrowhead": 0,
           "arrowwidth": 1
          },
          "autotypenumbers": "strict",
          "coloraxis": {
           "colorbar": {
            "outlinewidth": 0,
            "ticks": ""
           }
          },
          "colorscale": {
           "diverging": [
            [
             0,
             "#8e0152"
            ],
            [
             0.1,
             "#c51b7d"
            ],
            [
             0.2,
             "#de77ae"
            ],
            [
             0.3,
             "#f1b6da"
            ],
            [
             0.4,
             "#fde0ef"
            ],
            [
             0.5,
             "#f7f7f7"
            ],
            [
             0.6,
             "#e6f5d0"
            ],
            [
             0.7,
             "#b8e186"
            ],
            [
             0.8,
             "#7fbc41"
            ],
            [
             0.9,
             "#4d9221"
            ],
            [
             1,
             "#276419"
            ]
           ],
           "sequential": [
            [
             0,
             "#0d0887"
            ],
            [
             0.1111111111111111,
             "#46039f"
            ],
            [
             0.2222222222222222,
             "#7201a8"
            ],
            [
             0.3333333333333333,
             "#9c179e"
            ],
            [
             0.4444444444444444,
             "#bd3786"
            ],
            [
             0.5555555555555556,
             "#d8576b"
            ],
            [
             0.6666666666666666,
             "#ed7953"
            ],
            [
             0.7777777777777778,
             "#fb9f3a"
            ],
            [
             0.8888888888888888,
             "#fdca26"
            ],
            [
             1,
             "#f0f921"
            ]
           ],
           "sequentialminus": [
            [
             0,
             "#0d0887"
            ],
            [
             0.1111111111111111,
             "#46039f"
            ],
            [
             0.2222222222222222,
             "#7201a8"
            ],
            [
             0.3333333333333333,
             "#9c179e"
            ],
            [
             0.4444444444444444,
             "#bd3786"
            ],
            [
             0.5555555555555556,
             "#d8576b"
            ],
            [
             0.6666666666666666,
             "#ed7953"
            ],
            [
             0.7777777777777778,
             "#fb9f3a"
            ],
            [
             0.8888888888888888,
             "#fdca26"
            ],
            [
             1,
             "#f0f921"
            ]
           ]
          },
          "colorway": [
           "#636efa",
           "#EF553B",
           "#00cc96",
           "#ab63fa",
           "#FFA15A",
           "#19d3f3",
           "#FF6692",
           "#B6E880",
           "#FF97FF",
           "#FECB52"
          ],
          "font": {
           "color": "#2a3f5f"
          },
          "geo": {
           "bgcolor": "white",
           "lakecolor": "white",
           "landcolor": "#E5ECF6",
           "showlakes": true,
           "showland": true,
           "subunitcolor": "white"
          },
          "hoverlabel": {
           "align": "left"
          },
          "hovermode": "closest",
          "mapbox": {
           "style": "light"
          },
          "paper_bgcolor": "white",
          "plot_bgcolor": "#E5ECF6",
          "polar": {
           "angularaxis": {
            "gridcolor": "white",
            "linecolor": "white",
            "ticks": ""
           },
           "bgcolor": "#E5ECF6",
           "radialaxis": {
            "gridcolor": "white",
            "linecolor": "white",
            "ticks": ""
           }
          },
          "scene": {
           "xaxis": {
            "backgroundcolor": "#E5ECF6",
            "gridcolor": "white",
            "gridwidth": 2,
            "linecolor": "white",
            "showbackground": true,
            "ticks": "",
            "zerolinecolor": "white"
           },
           "yaxis": {
            "backgroundcolor": "#E5ECF6",
            "gridcolor": "white",
            "gridwidth": 2,
            "linecolor": "white",
            "showbackground": true,
            "ticks": "",
            "zerolinecolor": "white"
           },
           "zaxis": {
            "backgroundcolor": "#E5ECF6",
            "gridcolor": "white",
            "gridwidth": 2,
            "linecolor": "white",
            "showbackground": true,
            "ticks": "",
            "zerolinecolor": "white"
           }
          },
          "shapedefaults": {
           "line": {
            "color": "#2a3f5f"
           }
          },
          "ternary": {
           "aaxis": {
            "gridcolor": "white",
            "linecolor": "white",
            "ticks": ""
           },
           "baxis": {
            "gridcolor": "white",
            "linecolor": "white",
            "ticks": ""
           },
           "bgcolor": "#E5ECF6",
           "caxis": {
            "gridcolor": "white",
            "linecolor": "white",
            "ticks": ""
           }
          },
          "title": {
           "x": 0.05
          },
          "xaxis": {
           "automargin": true,
           "gridcolor": "white",
           "linecolor": "white",
           "ticks": "",
           "title": {
            "standoff": 15
           },
           "zerolinecolor": "white",
           "zerolinewidth": 2
          },
          "yaxis": {
           "automargin": true,
           "gridcolor": "white",
           "linecolor": "white",
           "ticks": "",
           "title": {
            "standoff": 15
           },
           "zerolinecolor": "white",
           "zerolinewidth": 2
          }
         }
        },
        "title": {
         "text": "Distribution of genres by mean ending score"
        },
        "xaxis": {
         "anchor": "y",
         "domain": [
          0,
          1
         ],
         "title": {
          "text": "Mean score"
         }
        },
        "yaxis": {
         "anchor": "x",
         "domain": [
          0,
          1
         ],
         "title": {
          "text": "Genre"
         }
        }
       }
      }
     },
     "metadata": {},
     "output_type": "display_data"
    }
   ],
   "source": [
    "copper_colormap = cm.get_cmap('copper', 256)  # 256 niveaux\n",
    "copper_colorscale = [\n",
    "    [i / 255, f\"rgb({int(255 * r)}, {int(255 * g)}, {int(255 * b)})\"]\n",
    "    for i, (r, g, b, _) in enumerate(copper_colormap(np.linspace(0, 1, 256)))\n",
    "]\n",
    "# Create bubble chart\n",
    "fig = px.scatter(\n",
    "    genre_scores,\n",
    "    x='Mean score',\n",
    "    y='Movie genres',\n",
    "    size='Number of movies',\n",
    "    color='Mean score',\n",
    "    color_continuous_scale=copper_colorscale,  # Adjust color scheme\n",
    "    title='Distribution of genres by mean ending score',\n",
    "    labels={'Mean_Score': 'Mean Score', 'Genre': 'Genre', 'Movie_Count': 'Number of Movies'}\n",
    ")\n",
    "\n",
    "# Improve layout\n",
    "fig.update_traces(marker=dict(opacity=0.8, line=dict(width=1, color='DarkSlateGrey')))\n",
    "fig.update_layout(\n",
    "    xaxis_title=\"Mean score\",\n",
    "    yaxis_title=\"Genre\",\n",
    "    coloraxis_colorbar=dict(title=\"Mean Score\"),\n",
    "    height=600\n",
    ")\n",
    "\n",
    "fig.show()"
   ]
  },
  {
   "cell_type": "code",
   "execution_count": 22,
   "metadata": {},
   "outputs": [
    {
     "data": {
      "application/vnd.jupyter.widget-view+json": {
       "model_id": "14523753167f423a9c2a0b19faabf3b8",
       "version_major": 2,
       "version_minor": 0
      },
      "text/plain": [
       "Dropdown(description='Genre:', options=('thriller', 'science fiction', 'horror', 'adventure', 'action', 'psych…"
      ]
     },
     "metadata": {},
     "output_type": "display_data"
    },
    {
     "data": {
      "application/vnd.jupyter.widget-view+json": {
       "model_id": "d339de46f9fa4d1eab83af4516af39ec",
       "version_major": 2,
       "version_minor": 0
      },
      "text/plain": [
       "Output()"
      ]
     },
     "metadata": {},
     "output_type": "display_data"
    },
    {
     "data": {
      "application/vnd.plotly.v1+json": {
       "config": {
        "plotlyServerURL": "https://plot.ly"
       },
       "data": [
        {
         "alignmentgroup": "True",
         "hovertemplate": "Score=%{x}<br>Number of Movies=%{y}<extra></extra>",
         "legendgroup": "",
         "marker": {
          "color": "#636efa",
          "pattern": {
           "shape": ""
          }
         },
         "name": "",
         "offsetgroup": "",
         "orientation": "v",
         "showlegend": false,
         "textposition": "auto",
         "type": "bar",
         "x": [
          -1,
          -0.88,
          -0.87,
          -0.75,
          -0.65,
          -0.61,
          -0.6,
          -0.57,
          -0.54,
          -0.52,
          -0.5,
          -0.48,
          -0.47,
          -0.46,
          -0.45,
          -0.44,
          -0.43,
          -0.42,
          -0.41,
          -0.4,
          -0.39,
          -0.38,
          -0.37,
          -0.36,
          -0.35,
          -0.34,
          -0.33,
          -0.32,
          -0.31,
          -0.3,
          -0.29,
          -0.28,
          -0.27,
          -0.26,
          -0.25,
          -0.24,
          -0.23,
          -0.22,
          -0.21,
          -0.2,
          -0.19,
          -0.18,
          -0.17,
          -0.16,
          -0.15,
          -0.14,
          -0.13,
          -0.12,
          -0.11,
          -0.1,
          -0.09,
          -0.08,
          -0.07,
          -0.06,
          -0.05,
          -0.04,
          -0.03,
          -0.02,
          -0.01,
          0,
          0.01,
          0.02,
          0.03,
          0.04,
          0.05,
          0.06,
          0.07,
          0.08,
          0.09,
          0.1,
          0.11,
          0.12,
          0.13,
          0.14,
          0.15,
          0.16,
          0.17,
          0.18,
          0.19,
          0.2,
          0.21,
          0.22,
          0.23,
          0.24,
          0.25,
          0.26,
          0.27,
          0.28,
          0.29,
          0.3,
          0.31,
          0.32,
          0.33,
          0.34,
          0.35,
          0.36,
          0.37,
          0.38,
          0.39,
          0.4,
          0.41,
          0.42,
          0.43,
          0.45,
          0.46,
          0.47,
          0.48,
          0.5,
          0.51,
          0.55,
          0.57,
          0.59,
          0.6,
          0.62,
          0.7,
          0.72,
          0.75,
          0.8,
          1
         ],
         "xaxis": "x",
         "y": [
          1,
          1,
          1,
          2,
          1,
          1,
          7,
          1,
          1,
          1,
          6,
          1,
          1,
          2,
          1,
          2,
          3,
          1,
          2,
          20,
          2,
          3,
          8,
          6,
          9,
          2,
          15,
          7,
          5,
          21,
          4,
          17,
          14,
          11,
          26,
          17,
          24,
          24,
          11,
          48,
          23,
          40,
          38,
          32,
          51,
          29,
          56,
          74,
          51,
          93,
          50,
          82,
          78,
          82,
          117,
          79,
          82,
          90,
          61,
          310,
          76,
          98,
          76,
          72,
          111,
          86,
          80,
          85,
          59,
          102,
          63,
          105,
          44,
          51,
          56,
          39,
          70,
          61,
          40,
          81,
          35,
          31,
          21,
          28,
          50,
          23,
          21,
          25,
          15,
          27,
          12,
          13,
          17,
          6,
          16,
          11,
          6,
          20,
          6,
          12,
          1,
          6,
          3,
          5,
          2,
          2,
          1,
          14,
          1,
          6,
          2,
          1,
          7,
          2,
          5,
          1,
          2,
          2,
          1
         ],
         "yaxis": "y"
        }
       ],
       "layout": {
        "barmode": "relative",
        "height": 400,
        "legend": {
         "tracegroupgap": 0
        },
        "template": {
         "data": {
          "bar": [
           {
            "error_x": {
             "color": "#2a3f5f"
            },
            "error_y": {
             "color": "#2a3f5f"
            },
            "marker": {
             "line": {
              "color": "white",
              "width": 0.5
             },
             "pattern": {
              "fillmode": "overlay",
              "size": 10,
              "solidity": 0.2
             }
            },
            "type": "bar"
           }
          ],
          "barpolar": [
           {
            "marker": {
             "line": {
              "color": "white",
              "width": 0.5
             },
             "pattern": {
              "fillmode": "overlay",
              "size": 10,
              "solidity": 0.2
             }
            },
            "type": "barpolar"
           }
          ],
          "carpet": [
           {
            "aaxis": {
             "endlinecolor": "#2a3f5f",
             "gridcolor": "#C8D4E3",
             "linecolor": "#C8D4E3",
             "minorgridcolor": "#C8D4E3",
             "startlinecolor": "#2a3f5f"
            },
            "baxis": {
             "endlinecolor": "#2a3f5f",
             "gridcolor": "#C8D4E3",
             "linecolor": "#C8D4E3",
             "minorgridcolor": "#C8D4E3",
             "startlinecolor": "#2a3f5f"
            },
            "type": "carpet"
           }
          ],
          "choropleth": [
           {
            "colorbar": {
             "outlinewidth": 0,
             "ticks": ""
            },
            "type": "choropleth"
           }
          ],
          "contour": [
           {
            "colorbar": {
             "outlinewidth": 0,
             "ticks": ""
            },
            "colorscale": [
             [
              0,
              "#0d0887"
             ],
             [
              0.1111111111111111,
              "#46039f"
             ],
             [
              0.2222222222222222,
              "#7201a8"
             ],
             [
              0.3333333333333333,
              "#9c179e"
             ],
             [
              0.4444444444444444,
              "#bd3786"
             ],
             [
              0.5555555555555556,
              "#d8576b"
             ],
             [
              0.6666666666666666,
              "#ed7953"
             ],
             [
              0.7777777777777778,
              "#fb9f3a"
             ],
             [
              0.8888888888888888,
              "#fdca26"
             ],
             [
              1,
              "#f0f921"
             ]
            ],
            "type": "contour"
           }
          ],
          "contourcarpet": [
           {
            "colorbar": {
             "outlinewidth": 0,
             "ticks": ""
            },
            "type": "contourcarpet"
           }
          ],
          "heatmap": [
           {
            "colorbar": {
             "outlinewidth": 0,
             "ticks": ""
            },
            "colorscale": [
             [
              0,
              "#0d0887"
             ],
             [
              0.1111111111111111,
              "#46039f"
             ],
             [
              0.2222222222222222,
              "#7201a8"
             ],
             [
              0.3333333333333333,
              "#9c179e"
             ],
             [
              0.4444444444444444,
              "#bd3786"
             ],
             [
              0.5555555555555556,
              "#d8576b"
             ],
             [
              0.6666666666666666,
              "#ed7953"
             ],
             [
              0.7777777777777778,
              "#fb9f3a"
             ],
             [
              0.8888888888888888,
              "#fdca26"
             ],
             [
              1,
              "#f0f921"
             ]
            ],
            "type": "heatmap"
           }
          ],
          "heatmapgl": [
           {
            "colorbar": {
             "outlinewidth": 0,
             "ticks": ""
            },
            "colorscale": [
             [
              0,
              "#0d0887"
             ],
             [
              0.1111111111111111,
              "#46039f"
             ],
             [
              0.2222222222222222,
              "#7201a8"
             ],
             [
              0.3333333333333333,
              "#9c179e"
             ],
             [
              0.4444444444444444,
              "#bd3786"
             ],
             [
              0.5555555555555556,
              "#d8576b"
             ],
             [
              0.6666666666666666,
              "#ed7953"
             ],
             [
              0.7777777777777778,
              "#fb9f3a"
             ],
             [
              0.8888888888888888,
              "#fdca26"
             ],
             [
              1,
              "#f0f921"
             ]
            ],
            "type": "heatmapgl"
           }
          ],
          "histogram": [
           {
            "marker": {
             "pattern": {
              "fillmode": "overlay",
              "size": 10,
              "solidity": 0.2
             }
            },
            "type": "histogram"
           }
          ],
          "histogram2d": [
           {
            "colorbar": {
             "outlinewidth": 0,
             "ticks": ""
            },
            "colorscale": [
             [
              0,
              "#0d0887"
             ],
             [
              0.1111111111111111,
              "#46039f"
             ],
             [
              0.2222222222222222,
              "#7201a8"
             ],
             [
              0.3333333333333333,
              "#9c179e"
             ],
             [
              0.4444444444444444,
              "#bd3786"
             ],
             [
              0.5555555555555556,
              "#d8576b"
             ],
             [
              0.6666666666666666,
              "#ed7953"
             ],
             [
              0.7777777777777778,
              "#fb9f3a"
             ],
             [
              0.8888888888888888,
              "#fdca26"
             ],
             [
              1,
              "#f0f921"
             ]
            ],
            "type": "histogram2d"
           }
          ],
          "histogram2dcontour": [
           {
            "colorbar": {
             "outlinewidth": 0,
             "ticks": ""
            },
            "colorscale": [
             [
              0,
              "#0d0887"
             ],
             [
              0.1111111111111111,
              "#46039f"
             ],
             [
              0.2222222222222222,
              "#7201a8"
             ],
             [
              0.3333333333333333,
              "#9c179e"
             ],
             [
              0.4444444444444444,
              "#bd3786"
             ],
             [
              0.5555555555555556,
              "#d8576b"
             ],
             [
              0.6666666666666666,
              "#ed7953"
             ],
             [
              0.7777777777777778,
              "#fb9f3a"
             ],
             [
              0.8888888888888888,
              "#fdca26"
             ],
             [
              1,
              "#f0f921"
             ]
            ],
            "type": "histogram2dcontour"
           }
          ],
          "mesh3d": [
           {
            "colorbar": {
             "outlinewidth": 0,
             "ticks": ""
            },
            "type": "mesh3d"
           }
          ],
          "parcoords": [
           {
            "line": {
             "colorbar": {
              "outlinewidth": 0,
              "ticks": ""
             }
            },
            "type": "parcoords"
           }
          ],
          "pie": [
           {
            "automargin": true,
            "type": "pie"
           }
          ],
          "scatter": [
           {
            "fillpattern": {
             "fillmode": "overlay",
             "size": 10,
             "solidity": 0.2
            },
            "type": "scatter"
           }
          ],
          "scatter3d": [
           {
            "line": {
             "colorbar": {
              "outlinewidth": 0,
              "ticks": ""
             }
            },
            "marker": {
             "colorbar": {
              "outlinewidth": 0,
              "ticks": ""
             }
            },
            "type": "scatter3d"
           }
          ],
          "scattercarpet": [
           {
            "marker": {
             "colorbar": {
              "outlinewidth": 0,
              "ticks": ""
             }
            },
            "type": "scattercarpet"
           }
          ],
          "scattergeo": [
           {
            "marker": {
             "colorbar": {
              "outlinewidth": 0,
              "ticks": ""
             }
            },
            "type": "scattergeo"
           }
          ],
          "scattergl": [
           {
            "marker": {
             "colorbar": {
              "outlinewidth": 0,
              "ticks": ""
             }
            },
            "type": "scattergl"
           }
          ],
          "scattermapbox": [
           {
            "marker": {
             "colorbar": {
              "outlinewidth": 0,
              "ticks": ""
             }
            },
            "type": "scattermapbox"
           }
          ],
          "scatterpolar": [
           {
            "marker": {
             "colorbar": {
              "outlinewidth": 0,
              "ticks": ""
             }
            },
            "type": "scatterpolar"
           }
          ],
          "scatterpolargl": [
           {
            "marker": {
             "colorbar": {
              "outlinewidth": 0,
              "ticks": ""
             }
            },
            "type": "scatterpolargl"
           }
          ],
          "scatterternary": [
           {
            "marker": {
             "colorbar": {
              "outlinewidth": 0,
              "ticks": ""
             }
            },
            "type": "scatterternary"
           }
          ],
          "surface": [
           {
            "colorbar": {
             "outlinewidth": 0,
             "ticks": ""
            },
            "colorscale": [
             [
              0,
              "#0d0887"
             ],
             [
              0.1111111111111111,
              "#46039f"
             ],
             [
              0.2222222222222222,
              "#7201a8"
             ],
             [
              0.3333333333333333,
              "#9c179e"
             ],
             [
              0.4444444444444444,
              "#bd3786"
             ],
             [
              0.5555555555555556,
              "#d8576b"
             ],
             [
              0.6666666666666666,
              "#ed7953"
             ],
             [
              0.7777777777777778,
              "#fb9f3a"
             ],
             [
              0.8888888888888888,
              "#fdca26"
             ],
             [
              1,
              "#f0f921"
             ]
            ],
            "type": "surface"
           }
          ],
          "table": [
           {
            "cells": {
             "fill": {
              "color": "#EBF0F8"
             },
             "line": {
              "color": "white"
             }
            },
            "header": {
             "fill": {
              "color": "#C8D4E3"
             },
             "line": {
              "color": "white"
             }
            },
            "type": "table"
           }
          ]
         },
         "layout": {
          "annotationdefaults": {
           "arrowcolor": "#2a3f5f",
           "arrowhead": 0,
           "arrowwidth": 1
          },
          "autotypenumbers": "strict",
          "coloraxis": {
           "colorbar": {
            "outlinewidth": 0,
            "ticks": ""
           }
          },
          "colorscale": {
           "diverging": [
            [
             0,
             "#8e0152"
            ],
            [
             0.1,
             "#c51b7d"
            ],
            [
             0.2,
             "#de77ae"
            ],
            [
             0.3,
             "#f1b6da"
            ],
            [
             0.4,
             "#fde0ef"
            ],
            [
             0.5,
             "#f7f7f7"
            ],
            [
             0.6,
             "#e6f5d0"
            ],
            [
             0.7,
             "#b8e186"
            ],
            [
             0.8,
             "#7fbc41"
            ],
            [
             0.9,
             "#4d9221"
            ],
            [
             1,
             "#276419"
            ]
           ],
           "sequential": [
            [
             0,
             "#0d0887"
            ],
            [
             0.1111111111111111,
             "#46039f"
            ],
            [
             0.2222222222222222,
             "#7201a8"
            ],
            [
             0.3333333333333333,
             "#9c179e"
            ],
            [
             0.4444444444444444,
             "#bd3786"
            ],
            [
             0.5555555555555556,
             "#d8576b"
            ],
            [
             0.6666666666666666,
             "#ed7953"
            ],
            [
             0.7777777777777778,
             "#fb9f3a"
            ],
            [
             0.8888888888888888,
             "#fdca26"
            ],
            [
             1,
             "#f0f921"
            ]
           ],
           "sequentialminus": [
            [
             0,
             "#0d0887"
            ],
            [
             0.1111111111111111,
             "#46039f"
            ],
            [
             0.2222222222222222,
             "#7201a8"
            ],
            [
             0.3333333333333333,
             "#9c179e"
            ],
            [
             0.4444444444444444,
             "#bd3786"
            ],
            [
             0.5555555555555556,
             "#d8576b"
            ],
            [
             0.6666666666666666,
             "#ed7953"
            ],
            [
             0.7777777777777778,
             "#fb9f3a"
            ],
            [
             0.8888888888888888,
             "#fdca26"
            ],
            [
             1,
             "#f0f921"
            ]
           ]
          },
          "colorway": [
           "#636efa",
           "#EF553B",
           "#00cc96",
           "#ab63fa",
           "#FFA15A",
           "#19d3f3",
           "#FF6692",
           "#B6E880",
           "#FF97FF",
           "#FECB52"
          ],
          "font": {
           "color": "#2a3f5f"
          },
          "geo": {
           "bgcolor": "white",
           "lakecolor": "white",
           "landcolor": "white",
           "showlakes": true,
           "showland": true,
           "subunitcolor": "#C8D4E3"
          },
          "hoverlabel": {
           "align": "left"
          },
          "hovermode": "closest",
          "mapbox": {
           "style": "light"
          },
          "paper_bgcolor": "white",
          "plot_bgcolor": "white",
          "polar": {
           "angularaxis": {
            "gridcolor": "#EBF0F8",
            "linecolor": "#EBF0F8",
            "ticks": ""
           },
           "bgcolor": "white",
           "radialaxis": {
            "gridcolor": "#EBF0F8",
            "linecolor": "#EBF0F8",
            "ticks": ""
           }
          },
          "scene": {
           "xaxis": {
            "backgroundcolor": "white",
            "gridcolor": "#DFE8F3",
            "gridwidth": 2,
            "linecolor": "#EBF0F8",
            "showbackground": true,
            "ticks": "",
            "zerolinecolor": "#EBF0F8"
           },
           "yaxis": {
            "backgroundcolor": "white",
            "gridcolor": "#DFE8F3",
            "gridwidth": 2,
            "linecolor": "#EBF0F8",
            "showbackground": true,
            "ticks": "",
            "zerolinecolor": "#EBF0F8"
           },
           "zaxis": {
            "backgroundcolor": "white",
            "gridcolor": "#DFE8F3",
            "gridwidth": 2,
            "linecolor": "#EBF0F8",
            "showbackground": true,
            "ticks": "",
            "zerolinecolor": "#EBF0F8"
           }
          },
          "shapedefaults": {
           "line": {
            "color": "#2a3f5f"
           }
          },
          "ternary": {
           "aaxis": {
            "gridcolor": "#DFE8F3",
            "linecolor": "#A2B1C6",
            "ticks": ""
           },
           "baxis": {
            "gridcolor": "#DFE8F3",
            "linecolor": "#A2B1C6",
            "ticks": ""
           },
           "bgcolor": "white",
           "caxis": {
            "gridcolor": "#DFE8F3",
            "linecolor": "#A2B1C6",
            "ticks": ""
           }
          },
          "title": {
           "x": 0.05
          },
          "xaxis": {
           "automargin": true,
           "gridcolor": "#EBF0F8",
           "linecolor": "#EBF0F8",
           "ticks": "",
           "title": {
            "standoff": 15
           },
           "zerolinecolor": "#EBF0F8",
           "zerolinewidth": 2
          },
          "yaxis": {
           "automargin": true,
           "gridcolor": "#EBF0F8",
           "linecolor": "#EBF0F8",
           "ticks": "",
           "title": {
            "standoff": 15
           },
           "zerolinecolor": "#EBF0F8",
           "zerolinewidth": 2
          }
         }
        },
        "title": {
         "text": "Movie Score Distribution for Genre: thriller"
        },
        "xaxis": {
         "anchor": "y",
         "domain": [
          0,
          1
         ],
         "title": {
          "text": "Score"
         }
        },
        "yaxis": {
         "anchor": "x",
         "domain": [
          0,
          1
         ],
         "title": {
          "text": "Number of Movies"
         }
        }
       }
      }
     },
     "metadata": {},
     "output_type": "display_data"
    }
   ],
   "source": [
    "# Round scores to 2 decimals to aggregate close values\n",
    "movies_genres['Rounded2 Score'] = movies_genres['Score'].round(2)\n",
    "\n",
    "# Get unique genres\n",
    "genres = movies_genres['Movie genres'].unique()\n",
    "\n",
    "# Create output widget for displaying the plot\n",
    "output = Output()\n",
    "\n",
    "# Create figure function\n",
    "def create_figure(selected_genre):\n",
    "    # Filter for the selected genre\n",
    "    filtered_df = movies_genres[movies_genres['Movie genres'] == selected_genre]\n",
    "    \n",
    "    # Aggregate movie counts by rounded scores\n",
    "    score_counts = filtered_df.groupby('Rounded2 Score').size().reset_index(name='Number of Movies')\n",
    "    \n",
    "    # Create a bar plot for the distribution\n",
    "    fig = px.bar(\n",
    "        score_counts,\n",
    "        x='Rounded2 Score',\n",
    "        y='Number of Movies',\n",
    "        hover_data={'Rounded2 Score': True, 'Number of Movies': True},\n",
    "        title=f\"Movie Score Distribution for Genre: {selected_genre}\",\n",
    "        labels={'Rounded2 Score': 'Score', 'Number of Movies': 'Number of Movies'},\n",
    "        template=\"plotly_white\"\n",
    "    )\n",
    "    \n",
    "    fig.update_layout(\n",
    "        xaxis_title=\"Score\",\n",
    "        yaxis_title=\"Number of Movies\",\n",
    "        height=400\n",
    "    )\n",
    "    \n",
    "    return fig\n",
    "\n",
    "# Update plot function\n",
    "def update_plot(change):\n",
    "    selected_genre = change['new']\n",
    "    with output:\n",
    "        output.clear_output(wait=True)  # Clear previous plot\n",
    "        fig = create_figure(selected_genre)\n",
    "        fig.show()\n",
    "\n",
    "# Create Dropdown widget\n",
    "genre_dropdown = widgets.Dropdown(\n",
    "    options=genres,\n",
    "    value=genres[0],\n",
    "    description='Genre:',\n",
    ")\n",
    "\n",
    "# Attach update function to the dropdown\n",
    "genre_dropdown.observe(update_plot, names='value')\n",
    "\n",
    "# Display the dropdown and initial plot\n",
    "display(genre_dropdown, output)\n",
    "\n",
    "# Show the initial plot\n",
    "with output:\n",
    "    fig = create_figure(genre_dropdown.value)\n",
    "    fig.show()\n"
   ]
  },
  {
   "cell_type": "code",
   "execution_count": 27,
   "metadata": {},
   "outputs": [
    {
     "name": "stdout",
     "output_type": "stream",
     "text": [
      "\n",
      "Step 2: Checking Assumptions\n",
      "\n",
      "Normality Test:\n",
      "Genre 1 (size=3297) : W=0.975, p-value=0.000\n",
      "Genre 2 (size=2332) : W=0.969, p-value=0.000\n",
      "Genre 3 (size=874) : W=0.990, p-value=0.000\n",
      "Genre 4 (size=2053) : W=0.980, p-value=0.000\n",
      "Genre 5 (size=1174) : W=0.982, p-value=0.000\n",
      "Genre 6 (size=558) : W=0.972, p-value=0.000\n",
      "Genre 7 (size=1808) : W=0.979, p-value=0.000\n",
      "Genre 8 (size=754) : W=0.985, p-value=0.000\n",
      "Genre 9 (size=552) : W=0.970, p-value=0.000\n",
      "Genre 10 (size=514) : W=0.964, p-value=0.000\n",
      "Genre 11 (size=6122) : W=0.983, p-value=0.000\n",
      "Genre 12 (size=727) : W=0.992, p-value=0.000\n",
      "Genre 13 (size=502) : W=0.994, p-value=0.054\n",
      "Genre 14 (size=2276) : W=0.987, p-value=0.000\n",
      "Genre 15 (size=988) : W=0.980, p-value=0.000\n",
      "Genre 16 (size=532) : W=0.962, p-value=0.000\n",
      "Genre 17 (size=9457) : W=0.985, p-value=0.000\n",
      "Genre 18 (size=1807) : W=0.982, p-value=0.000\n",
      "Genre 19 (size=1351) : W=0.982, p-value=0.000\n",
      "Genre 20 (size=2208) : W=0.975, p-value=0.000\n",
      "Genre 21 (size=1834) : W=0.981, p-value=0.000\n",
      "Genre 22 (size=685) : W=0.983, p-value=0.000\n",
      "Genre 23 (size=1397) : W=0.984, p-value=0.000\n",
      "Genre 24 (size=1192) : W=0.986, p-value=0.000\n",
      "Genre 25 (size=508) : W=0.969, p-value=0.000\n",
      "Genre 26 (size=920) : W=0.977, p-value=0.000\n",
      "Genre 27 (size=712) : W=0.980, p-value=0.000\n",
      "Genre 28 (size=3651) : W=0.989, p-value=0.000\n",
      "Genre 29 (size=1217) : W=0.988, p-value=0.000\n",
      "Genre 30 (size=1570) : W=0.982, p-value=0.000\n",
      "Genre 31 (size=1485) : W=0.970, p-value=0.000\n",
      "Genre 32 (size=857) : W=0.983, p-value=0.000\n",
      "Genre 33 (size=595) : W=0.982, p-value=0.000\n",
      "Genre 34 (size=3762) : W=0.979, p-value=0.000\n",
      "Genre 35 (size=909) : W=0.957, p-value=0.000\n",
      "Genre 36 (size=3064) : W=0.986, p-value=0.000\n",
      "\n",
      "Homogeneity of Variances Test (Levene):\n",
      "Statistic=4.726, p-value=0.000\n",
      "\n",
      "Kruskal-Wallis Test (Non-parametric Alternative):\n",
      "Statistic=1741.860, p-value=0.000\n"
     ]
    },
    {
     "name": "stderr",
     "output_type": "stream",
     "text": [
      "c:\\Users\\International\\anaconda3\\envs\\ada\\Lib\\site-packages\\scipy\\stats\\_axis_nan_policy.py:531: UserWarning:\n",
      "\n",
      "scipy.stats.shapiro: For N > 5000, computed p-value may not be accurate. Current N is 6122.\n",
      "\n",
      "c:\\Users\\International\\anaconda3\\envs\\ada\\Lib\\site-packages\\scipy\\stats\\_axis_nan_policy.py:531: UserWarning:\n",
      "\n",
      "scipy.stats.shapiro: For N > 5000, computed p-value may not be accurate. Current N is 9457.\n",
      "\n"
     ]
    }
   ],
   "source": [
    "# Step 1: Group scores by genres\n",
    "groups = [group['Score'].values for _, group in movies_genres.groupby('Movie genres')]\n",
    "\n",
    "# Step 2: Verify assumptions\n",
    "print(\"\\nStep 2: Checking Assumptions\")\n",
    "\n",
    "# 2.1 Normality Test (Shapiro-Wilk)\n",
    "print(\"\\nNormality Test:\")\n",
    "for i, group in enumerate(groups):\n",
    "    if len(group) >= 3:  # Shapiro requires at least 3 data points\n",
    "        stat, p = shapiro(group)\n",
    "        print(f\"Genre {i+1} (size={len(group)}) : W={stat:.3f}, p-value={p:.3f}\")\n",
    "    else:\n",
    "        print(f\"Genre {i+1} (size={len(group)}) : Not enough data for Shapiro-Wilk test.\")\n",
    "\n",
    "# 2.2 Homogeneity of Variances Test (Levene)\n",
    "if len(groups) > 1:  # Levene requires at least two groups\n",
    "    stat, p = levene(*groups)\n",
    "    print(\"\\nHomogeneity of Variances Test (Levene):\")\n",
    "    print(f\"Statistic={stat:.3f}, p-value={p:.3f}\")\n",
    "else:\n",
    "    print(\"\\nNot enough groups to perform Levene's test.\")\n",
    "\n",
    "# Step 3: Perform statistical test (ANOVA or Kruskal-Wallis)\n",
    "if all([len(group) >= 3 for group in groups]) and len(groups) > 1:\n",
    "    if all([shapiro(group)[1] > 0.05 for group in groups]) and p > 0.05:\n",
    "        # Use ANOVA if normality and homogeneity of variances are satisfied\n",
    "        stat, p = f_oneway(*groups)\n",
    "        print(\"\\nANOVA Test:\")\n",
    "        print(f\"F-statistic={stat:.3f}, p-value={p:.3f}\")\n",
    "    else:\n",
    "        # Use Kruskal-Wallis if assumptions are violated\n",
    "        stat, p = kruskal(*groups)\n",
    "        print(\"\\nKruskal-Wallis Test (Non-parametric Alternative):\")\n",
    "        print(f\"Statistic={stat:.3f}, p-value={p:.3f}\")\n",
    "else:\n",
    "    print(\"\\nNot enough valid data or groups to perform statistical tests.\")\n"
   ]
  },
  {
   "cell_type": "code",
   "execution_count": 28,
   "metadata": {},
   "outputs": [
    {
     "name": "stdout",
     "output_type": "stream",
     "text": [
      "\n",
      "Dunn's Test Pairwise Comparisons:\n",
      "                              action  action/adventure    adaptation  \\\n",
      "action                  1.000000e+00      1.000000e+00  1.000000e+00   \n",
      "action/adventure        1.000000e+00      1.000000e+00  1.000000e+00   \n",
      "adaptation              1.000000e+00      1.000000e+00  1.000000e+00   \n",
      "adventure               1.266856e-06      8.025556e-05  1.000000e+00   \n",
      "animation               1.941936e-10      1.501176e-08  7.506449e-02   \n",
      "black comedy            8.076488e-01      1.000000e+00  1.000000e+00   \n",
      "black-and-white         1.000000e+00      1.000000e+00  1.000000e+00   \n",
      "bollywood               6.258061e-09      1.345581e-07  3.953796e-02   \n",
      "children's/family       6.647612e-15      2.491226e-13  3.067032e-06   \n",
      "chinese                 1.000000e+00      1.000000e+00  1.000000e+00   \n",
      "comedy                  1.324805e-40      7.087164e-30  4.757992e-07   \n",
      "comedy-drama            1.446463e-12      6.429989e-11  4.520375e-04   \n",
      "coming of age           1.174221e-05      7.331840e-05  3.447062e-01   \n",
      "crime fiction           1.000000e+00      1.000000e+00  3.952438e-01   \n",
      "crime thriller          1.000000e+00      1.000000e+00  3.603878e-02   \n",
      "cult                    1.000000e+00      1.000000e+00  1.000000e+00   \n",
      "drama                   1.091789e-07      1.212707e-04  1.000000e+00   \n",
      "family                  1.427668e-24      4.595561e-20  2.954068e-06   \n",
      "fantasy                 6.338232e-14      2.009105e-11  5.895640e-03   \n",
      "horror                  2.673225e-11      1.967785e-10  8.074283e-10   \n",
      "indie                   6.903454e-05      1.837700e-03  1.000000e+00   \n",
      "japanese                1.000000e+00      1.000000e+00  1.000000e+00   \n",
      "musical                 1.278149e-31      9.637610e-27  1.855422e-10   \n",
      "mystery                 1.000000e+00      1.000000e+00  5.517976e-01   \n",
      "parody                  4.256429e-01      1.000000e+00  1.000000e+00   \n",
      "period piece            1.180613e-03      8.943166e-03  1.000000e+00   \n",
      "psychological thriller  6.088065e-02      4.587939e-02  1.682780e-03   \n",
      "romance                 4.513909e-43      2.322416e-33  1.083741e-09   \n",
      "romantic comedy         1.092152e-50      6.116111e-44  1.835266e-20   \n",
      "romantic drama          2.651579e-20      1.076936e-16  4.335260e-05   \n",
      "science fiction         1.000000e+00      1.000000e+00  1.000000e+00   \n",
      "short                   1.000000e+00      1.000000e+00  1.000000e+00   \n",
      "teen                    1.000000e+00      1.000000e+00  1.000000e+00   \n",
      "thriller                8.998911e-01      8.146306e-01  3.271689e-02   \n",
      "war                     1.000000e+00      1.000000e+00  1.000000e+00   \n",
      "world cinema            3.625735e-02      4.988573e-01  1.000000e+00   \n",
      "\n",
      "                           adventure     animation  black comedy  \\\n",
      "action                  1.266856e-06  1.941936e-10  8.076488e-01   \n",
      "action/adventure        8.025556e-05  1.501176e-08  1.000000e+00   \n",
      "adaptation              1.000000e+00  7.506449e-02  1.000000e+00   \n",
      "adventure               1.000000e+00  1.000000e+00  1.000000e+00   \n",
      "animation               1.000000e+00  1.000000e+00  1.000000e+00   \n",
      "black comedy            1.000000e+00  1.000000e+00  1.000000e+00   \n",
      "black-and-white         3.065116e-02  1.289407e-05  1.000000e+00   \n",
      "bollywood               1.000000e+00  1.000000e+00  1.000000e+00   \n",
      "children's/family       1.626153e-03  1.000000e+00  2.512446e-02   \n",
      "chinese                 1.162811e-02  2.516001e-05  1.000000e+00   \n",
      "comedy                  2.257209e-04  1.000000e+00  4.018972e-01   \n",
      "comedy-drama            1.880630e-01  1.000000e+00  1.000000e+00   \n",
      "coming of age           1.000000e+00  1.000000e+00  1.000000e+00   \n",
      "crime fiction           3.539533e-11  6.458415e-15  6.994143e-03   \n",
      "crime thriller          3.262675e-10  6.030454e-14  6.711405e-04   \n",
      "cult                    2.858465e-04  3.310960e-07  1.355661e-01   \n",
      "drama                   1.000000e+00  7.893855e-02  1.000000e+00   \n",
      "family                  2.562693e-03  1.000000e+00  2.857324e-01   \n",
      "fantasy                 1.000000e+00  1.000000e+00  1.000000e+00   \n",
      "horror                  7.883855e-32  1.163867e-33  4.188776e-11   \n",
      "indie                   1.000000e+00  1.000000e+00  1.000000e+00   \n",
      "japanese                1.000000e+00  7.883239e-01  1.000000e+00   \n",
      "musical                 9.773742e-08  1.955892e-01  7.550029e-04   \n",
      "mystery                 2.331718e-08  4.402396e-12  1.160465e-02   \n",
      "parody                  1.000000e+00  1.000000e+00  1.000000e+00   \n",
      "period piece            1.000000e+00  1.000000e+00  1.000000e+00   \n",
      "psychological thriller  2.158131e-11  4.659035e-15  3.053835e-05   \n",
      "romance                 2.270749e-07  1.000000e+00  1.221050e-02   \n",
      "romantic comedy         4.393974e-19  3.248091e-08  3.330298e-10   \n",
      "romantic drama          3.592965e-02  1.000000e+00  9.669239e-01   \n",
      "science fiction         1.113290e-04  2.902993e-08  1.000000e+00   \n",
      "short                   1.571101e-02  1.531186e-05  1.000000e+00   \n",
      "teen                    1.000000e+00  1.000000e+00  1.000000e+00   \n",
      "thriller                3.021547e-16  2.144649e-19  5.283926e-04   \n",
      "war                     4.933902e-04  2.641640e-07  6.896837e-01   \n",
      "world cinema            1.000000e+00  1.186897e-02  1.000000e+00   \n",
      "\n",
      "                        black-and-white     bollywood  children's/family  \\\n",
      "action                     1.000000e+00  6.258061e-09       6.647612e-15   \n",
      "action/adventure           1.000000e+00  1.345581e-07       2.491226e-13   \n",
      "adaptation                 1.000000e+00  3.953796e-02       3.067032e-06   \n",
      "adventure                  3.065116e-02  1.000000e+00       1.626153e-03   \n",
      "animation                  1.289407e-05  1.000000e+00       1.000000e+00   \n",
      "black comedy               1.000000e+00  1.000000e+00       2.512446e-02   \n",
      "black-and-white            1.000000e+00  2.805877e-05       1.454281e-10   \n",
      "bollywood                  2.805877e-05  1.000000e+00       1.000000e+00   \n",
      "children's/family          1.454281e-10  1.000000e+00       1.000000e+00   \n",
      "chinese                    1.000000e+00  1.803090e-05       6.618805e-10   \n",
      "comedy                     1.230104e-19  1.000000e+00       1.000000e+00   \n",
      "comedy-drama               3.946127e-08  1.000000e+00       1.000000e+00   \n",
      "coming of age              2.713748e-03  1.000000e+00       1.000000e+00   \n",
      "crime fiction              1.000000e+00  9.801749e-13       6.510672e-19   \n",
      "crime thriller             1.090819e-01  9.383545e-13       1.280889e-18   \n",
      "cult                       1.000000e+00  3.330126e-07       5.795855e-12   \n",
      "drama                      2.290211e-01  7.433428e-02       9.126890e-07   \n",
      "family                     2.655590e-14  1.000000e+00       1.000000e+00   \n",
      "fantasy                    8.937183e-08  1.000000e+00       1.000000e+00   \n",
      "horror                     6.570375e-12  1.674897e-27       7.529741e-34   \n",
      "indie                      2.587182e-01  1.000000e+00       5.184420e-04   \n",
      "japanese                   1.000000e+00  3.516896e-01       8.636470e-05   \n",
      "musical                    2.389927e-20  1.000000e+00       1.000000e+00   \n",
      "mystery                    1.000000e+00  5.466228e-11       8.392849e-17   \n",
      "parody                     1.000000e+00  1.000000e+00       1.014895e-01   \n",
      "period piece               3.398303e-01  1.000000e+00       3.707748e-02   \n",
      "psychological thriller     4.460965e-03  4.600470e-14       7.910717e-20   \n",
      "romance                    2.574163e-23  1.000000e+00       1.000000e+00   \n",
      "romantic comedy            2.373172e-35  1.170334e-04       1.000000e+00   \n",
      "romantic drama             7.975058e-12  1.000000e+00       1.000000e+00   \n",
      "science fiction            1.000000e+00  1.326901e-07       3.736940e-13   \n",
      "short                      1.000000e+00  1.695364e-05       2.237703e-10   \n",
      "teen                       1.000000e+00  1.000000e+00       4.733725e-04   \n",
      "thriller                   4.490984e-02  9.114716e-16       3.845557e-22   \n",
      "war                        1.000000e+00  4.846403e-07       3.213760e-12   \n",
      "world cinema               1.000000e+00  1.194649e-02       1.463169e-07   \n",
      "\n",
      "                             chinese  ...  psychological thriller  \\\n",
      "action                  1.000000e+00  ...            6.088065e-02   \n",
      "action/adventure        1.000000e+00  ...            4.587939e-02   \n",
      "adaptation              1.000000e+00  ...            1.682780e-03   \n",
      "adventure               1.162811e-02  ...            2.158131e-11   \n",
      "animation               2.516001e-05  ...            4.659035e-15   \n",
      "black comedy            1.000000e+00  ...            3.053835e-05   \n",
      "black-and-white         1.000000e+00  ...            4.460965e-03   \n",
      "bollywood               1.803090e-05  ...            4.600470e-14   \n",
      "children's/family       6.618805e-10  ...            7.910717e-20   \n",
      "chinese                 1.000000e+00  ...            1.000000e+00   \n",
      "comedy                  7.023818e-11  ...            2.433664e-28   \n",
      "comedy-drama            1.161004e-07  ...            1.982845e-17   \n",
      "coming of age           4.141935e-04  ...            9.383114e-11   \n",
      "crime fiction           1.000000e+00  ...            1.000000e+00   \n",
      "crime thriller          1.000000e+00  ...            1.000000e+00   \n",
      "cult                    1.000000e+00  ...            1.000000e+00   \n",
      "drama                   9.419188e-02  ...            5.123605e-11   \n",
      "family                  3.823611e-10  ...            1.928270e-24   \n",
      "fantasy                 1.251932e-06  ...            1.155984e-17   \n",
      "horror                  4.724106e-01  ...            1.000000e+00   \n",
      "indie                   4.848546e-02  ...            5.385182e-10   \n",
      "japanese                1.000000e+00  ...            1.336510e-03   \n",
      "musical                 2.872990e-14  ...            2.805748e-30   \n",
      "mystery                 1.000000e+00  ...            1.000000e+00   \n",
      "parody                  6.745252e-01  ...            1.660711e-05   \n",
      "period piece            3.962860e-02  ...            7.131853e-09   \n",
      "psychological thriller  1.000000e+00  ...            1.000000e+00   \n",
      "romance                 2.193280e-13  ...            8.235494e-32   \n",
      "romantic comedy         1.401455e-23  ...            5.828529e-44   \n",
      "romantic drama          6.065307e-09  ...            5.237080e-22   \n",
      "science fiction         1.000000e+00  ...            5.461035e-01   \n",
      "short                   1.000000e+00  ...            1.000000e+00   \n",
      "teen                    1.000000e+00  ...            1.410221e-03   \n",
      "thriller                1.000000e+00  ...            1.000000e+00   \n",
      "war                     1.000000e+00  ...            1.000000e+00   \n",
      "world cinema            1.000000e+00  ...            1.886289e-07   \n",
      "\n",
      "                             romance  romantic comedy  romantic drama  \\\n",
      "action                  4.513909e-43     1.092152e-50    2.651579e-20   \n",
      "action/adventure        2.322416e-33     6.116111e-44    1.076936e-16   \n",
      "adaptation              1.083741e-09     1.835266e-20    4.335260e-05   \n",
      "adventure               2.270749e-07     4.393974e-19    3.592965e-02   \n",
      "animation               1.000000e+00     3.248091e-08    1.000000e+00   \n",
      "black comedy            1.221050e-02     3.330298e-10    9.669239e-01   \n",
      "black-and-white         2.574163e-23     2.373172e-35    7.975058e-12   \n",
      "bollywood               1.000000e+00     1.170334e-04    1.000000e+00   \n",
      "children's/family       1.000000e+00     1.000000e+00    1.000000e+00   \n",
      "chinese                 2.193280e-13     1.401455e-23    6.065307e-09   \n",
      "comedy                  1.000000e+00     2.369658e-09    1.000000e+00   \n",
      "comedy-drama            1.000000e+00     2.715586e-02    1.000000e+00   \n",
      "coming of age           1.000000e+00     2.035246e-03    1.000000e+00   \n",
      "crime fiction           2.404916e-48     1.738189e-56    9.154466e-26   \n",
      "crime thriller          1.039831e-33     8.412741e-46    1.156423e-21   \n",
      "cult                    1.228788e-16     2.242266e-27    2.140165e-11   \n",
      "drama                   6.908871e-25     2.967872e-34    9.745815e-08   \n",
      "family                  1.000000e+00     4.929550e-05    1.000000e+00   \n",
      "fantasy                 1.000000e+00     2.143954e-07    1.000000e+00   \n",
      "horror                  1.773935e-89     1.154755e-88    2.705502e-51   \n",
      "indie                   4.151085e-08     8.338384e-20    9.427862e-03   \n",
      "japanese                1.419788e-06     4.533540e-16    2.590760e-03   \n",
      "musical                 1.000000e+00     8.390659e-01    1.000000e+00   \n",
      "mystery                 1.514521e-32     1.657416e-44    8.378657e-20   \n",
      "parody                  9.429689e-02     1.234573e-08    1.000000e+00   \n",
      "period piece            5.630449e-03     5.688891e-12    1.000000e+00   \n",
      "psychological thriller  8.235494e-32     5.828529e-44    5.237080e-22   \n",
      "romance                 1.000000e+00     8.044105e-05    1.000000e+00   \n",
      "romantic comedy         8.044105e-05     1.000000e+00    1.570933e-05   \n",
      "romantic drama          1.000000e+00     1.570933e-05    1.000000e+00   \n",
      "science fiction         2.631083e-27     2.661635e-39    3.470677e-15   \n",
      "short                   7.261631e-17     1.551251e-28    3.432794e-10   \n",
      "teen                    3.608563e-05     7.044239e-14    1.727654e-02   \n",
      "thriller                1.849189e-69     2.255409e-69    8.608766e-34   \n",
      "war                     1.231649e-20     1.237401e-32    1.090321e-12   \n",
      "world cinema            5.737159e-20     9.157648e-32    4.215627e-08   \n",
      "\n",
      "                        science fiction         short          teen  \\\n",
      "action                     1.000000e+00  1.000000e+00  1.000000e+00   \n",
      "action/adventure           1.000000e+00  1.000000e+00  1.000000e+00   \n",
      "adaptation                 1.000000e+00  1.000000e+00  1.000000e+00   \n",
      "adventure                  1.113290e-04  1.571101e-02  1.000000e+00   \n",
      "animation                  2.902993e-08  1.531186e-05  1.000000e+00   \n",
      "black comedy               1.000000e+00  1.000000e+00  1.000000e+00   \n",
      "black-and-white            1.000000e+00  1.000000e+00  1.000000e+00   \n",
      "bollywood                  1.326901e-07  1.695364e-05  1.000000e+00   \n",
      "children's/family          3.736940e-13  2.237703e-10  4.733725e-04   \n",
      "chinese                    1.000000e+00  1.000000e+00  1.000000e+00   \n",
      "comedy                     1.252854e-23  9.207575e-14  2.897195e-03   \n",
      "comedy-drama               1.008534e-10  5.212298e-08  3.444915e-02   \n",
      "coming of age              4.212900e-05  7.990496e-04  1.000000e+00   \n",
      "crime fiction              1.000000e+00  1.000000e+00  2.774051e-01   \n",
      "crime thriller             1.000000e+00  1.000000e+00  2.634030e-02   \n",
      "cult                       1.000000e+00  1.000000e+00  1.000000e+00   \n",
      "drama                      4.475430e-04  1.366423e-01  1.000000e+00   \n",
      "family                     7.138243e-18  7.505814e-12  3.201555e-03   \n",
      "fantasy                    9.810542e-11  3.389702e-07  4.463142e-01   \n",
      "horror                     2.130949e-06  2.249742e-04  1.339028e-08   \n",
      "indie                      1.658724e-03  8.866944e-02  1.000000e+00   \n",
      "japanese                   1.000000e+00  1.000000e+00  1.000000e+00   \n",
      "musical                    4.702714e-24  7.711942e-17  2.257995e-06   \n",
      "mystery                    1.000000e+00  1.000000e+00  3.337401e-01   \n",
      "parody                     5.407834e-01  1.000000e+00  1.000000e+00   \n",
      "period piece               5.217831e-03  8.992424e-02  1.000000e+00   \n",
      "psychological thriller     5.461035e-01  1.000000e+00  1.410221e-03   \n",
      "romance                    2.631083e-27  7.261631e-17  3.608563e-05   \n",
      "romantic comedy            2.661635e-39  1.551251e-28  7.044239e-14   \n",
      "romantic drama             3.470677e-15  3.432794e-10  1.727654e-02   \n",
      "science fiction            1.000000e+00  1.000000e+00  1.000000e+00   \n",
      "short                      1.000000e+00  1.000000e+00  1.000000e+00   \n",
      "teen                       1.000000e+00  1.000000e+00  1.000000e+00   \n",
      "thriller                   1.000000e+00  1.000000e+00  3.544830e-02   \n",
      "war                        1.000000e+00  1.000000e+00  1.000000e+00   \n",
      "world cinema               3.080783e-01  1.000000e+00  1.000000e+00   \n",
      "\n",
      "                            thriller           war  world cinema  \n",
      "action                  8.998911e-01  1.000000e+00  3.625735e-02  \n",
      "action/adventure        8.146306e-01  1.000000e+00  4.988573e-01  \n",
      "adaptation              3.271689e-02  1.000000e+00  1.000000e+00  \n",
      "adventure               3.021547e-16  4.933902e-04  1.000000e+00  \n",
      "animation               2.144649e-19  2.641640e-07  1.186897e-02  \n",
      "black comedy            5.283926e-04  6.896837e-01  1.000000e+00  \n",
      "black-and-white         4.490984e-02  1.000000e+00  1.000000e+00  \n",
      "bollywood               9.114716e-16  4.846403e-07  1.194649e-02  \n",
      "children's/family       3.845557e-22  3.213760e-12  1.463169e-07  \n",
      "chinese                 1.000000e+00  1.000000e+00  1.000000e+00  \n",
      "comedy                  3.059197e-70  2.514042e-17  2.853023e-16  \n",
      "comedy-drama            2.842143e-20  8.320254e-10  3.681872e-05  \n",
      "coming of age           2.236772e-10  5.460939e-05  2.934015e-01  \n",
      "crime fiction           1.000000e+00  1.000000e+00  3.640595e-06  \n",
      "crime thriller          1.000000e+00  1.000000e+00  4.369305e-06  \n",
      "cult                    1.000000e+00  1.000000e+00  9.683505e-02  \n",
      "drama                   1.168924e-23  3.722402e-03  1.000000e+00  \n",
      "family                  3.612272e-40  1.249995e-14  1.922127e-10  \n",
      "fantasy                 1.178322e-24  3.048765e-09  1.894969e-04  \n",
      "horror                  5.733103e-04  3.294660e-03  1.282169e-25  \n",
      "indie                   3.388694e-13  4.115266e-03  1.000000e+00  \n",
      "japanese                3.073665e-02  1.000000e+00  1.000000e+00  \n",
      "musical                 2.264539e-47  5.423091e-20  1.838083e-16  \n",
      "mystery                 1.000000e+00  1.000000e+00  2.439630e-04  \n",
      "parody                  2.977850e-04  3.750281e-01  1.000000e+00  \n",
      "period piece            3.264456e-09  6.721382e-03  1.000000e+00  \n",
      "psychological thriller  1.000000e+00  1.000000e+00  1.886289e-07  \n",
      "romance                 1.849189e-69  1.231649e-20  5.737159e-20  \n",
      "romantic comedy         2.255409e-69  1.237401e-32  9.157648e-32  \n",
      "romantic drama          8.608766e-34  1.090321e-12  4.215627e-08  \n",
      "science fiction         1.000000e+00  1.000000e+00  3.080783e-01  \n",
      "short                   1.000000e+00  1.000000e+00  1.000000e+00  \n",
      "teen                    3.544830e-02  1.000000e+00  1.000000e+00  \n",
      "thriller                1.000000e+00  1.000000e+00  2.196344e-10  \n",
      "war                     1.000000e+00  1.000000e+00  3.959212e-01  \n",
      "world cinema            2.196344e-10  3.959212e-01  1.000000e+00  \n",
      "\n",
      "[36 rows x 36 columns]\n"
     ]
    }
   ],
   "source": [
    "# Step 4: Perform Dunn's test\n",
    "dunn_results = posthoc_dunn(\n",
    "    movies_genres, \n",
    "    val_col='Score',    # Column with the continuous variable\n",
    "    group_col='Movie genres',  # Column with the categorical variable\n",
    "    p_adjust='bonferroni'      # Adjust p-values for multiple comparisons\n",
    ")\n",
    "\n",
    "# Step 3: Display results\n",
    "print(\"\\nDunn's Test Pairwise Comparisons:\")\n",
    "print(dunn_results)"
   ]
  },
  {
   "cell_type": "code",
   "execution_count": 30,
   "metadata": {},
   "outputs": [
    {
     "name": "stderr",
     "output_type": "stream",
     "text": [
      "C:\\Users\\International\\AppData\\Local\\Temp\\ipykernel_6948\\3531584168.py:5: FutureWarning:\n",
      "\n",
      "DataFrame.applymap has been deprecated. Use DataFrame.map instead.\n",
      "\n"
     ]
    },
    {
     "data": {
      "application/vnd.plotly.v1+json": {
       "config": {
        "plotlyServerURL": "https://plot.ly"
       },
       "data": [
        {
         "colorbar": {
          "title": {
           "text": "-log10(p-value)"
          }
         },
         "colorscale": [
          [
           0,
           "rgb(0, 0, 0)"
          ],
          [
           0.00392156862745098,
           "rgb(1, 0, 0)"
          ],
          [
           0.00784313725490196,
           "rgb(2, 1, 0)"
          ],
          [
           0.011764705882352941,
           "rgb(3, 2, 1)"
          ],
          [
           0.01568627450980392,
           "rgb(4, 3, 1)"
          ],
          [
           0.0196078431372549,
           "rgb(6, 3, 2)"
          ],
          [
           0.023529411764705882,
           "rgb(7, 4, 2)"
          ],
          [
           0.027450980392156862,
           "rgb(8, 5, 3)"
          ],
          [
           0.03137254901960784,
           "rgb(9, 6, 3)"
          ],
          [
           0.03529411764705882,
           "rgb(11, 7, 4)"
          ],
          [
           0.0392156862745098,
           "rgb(12, 7, 4)"
          ],
          [
           0.043137254901960784,
           "rgb(13, 8, 5)"
          ],
          [
           0.047058823529411764,
           "rgb(14, 9, 5)"
          ],
          [
           0.050980392156862744,
           "rgb(16, 10, 6)"
          ],
          [
           0.054901960784313725,
           "rgb(17, 10, 6)"
          ],
          [
           0.058823529411764705,
           "rgb(18, 11, 7)"
          ],
          [
           0.06274509803921569,
           "rgb(19, 12, 7)"
          ],
          [
           0.06666666666666667,
           "rgb(20, 13, 8)"
          ],
          [
           0.07058823529411765,
           "rgb(22, 14, 8)"
          ],
          [
           0.07450980392156863,
           "rgb(23, 14, 9)"
          ],
          [
           0.0784313725490196,
           "rgb(24, 15, 9)"
          ],
          [
           0.08235294117647059,
           "rgb(25, 16, 10)"
          ],
          [
           0.08627450980392157,
           "rgb(27, 17, 10)"
          ],
          [
           0.09019607843137255,
           "rgb(28, 17, 11)"
          ],
          [
           0.09411764705882353,
           "rgb(29, 18, 11)"
          ],
          [
           0.09803921568627451,
           "rgb(30, 19, 12)"
          ],
          [
           0.10196078431372549,
           "rgb(32, 20, 12)"
          ],
          [
           0.10588235294117647,
           "rgb(33, 21, 13)"
          ],
          [
           0.10980392156862745,
           "rgb(34, 21, 13)"
          ],
          [
           0.11372549019607843,
           "rgb(35, 22, 14)"
          ],
          [
           0.11764705882352941,
           "rgb(37, 23, 14)"
          ],
          [
           0.12156862745098039,
           "rgb(38, 24, 15)"
          ],
          [
           0.12549019607843137,
           "rgb(39, 24, 15)"
          ],
          [
           0.12941176470588237,
           "rgb(40, 25, 16)"
          ],
          [
           0.13333333333333333,
           "rgb(41, 26, 16)"
          ],
          [
           0.13725490196078433,
           "rgb(43, 27, 17)"
          ],
          [
           0.1411764705882353,
           "rgb(44, 28, 17)"
          ],
          [
           0.1450980392156863,
           "rgb(45, 28, 18)"
          ],
          [
           0.14901960784313725,
           "rgb(46, 29, 18)"
          ],
          [
           0.15294117647058825,
           "rgb(48, 30, 19)"
          ],
          [
           0.1568627450980392,
           "rgb(49, 31, 19)"
          ],
          [
           0.1607843137254902,
           "rgb(50, 32, 20)"
          ],
          [
           0.16470588235294117,
           "rgb(51, 32, 20)"
          ],
          [
           0.16862745098039217,
           "rgb(53, 33, 21)"
          ],
          [
           0.17254901960784313,
           "rgb(54, 34, 21)"
          ],
          [
           0.17647058823529413,
           "rgb(55, 35, 22)"
          ],
          [
           0.1803921568627451,
           "rgb(56, 35, 22)"
          ],
          [
           0.1843137254901961,
           "rgb(58, 36, 23)"
          ],
          [
           0.18823529411764706,
           "rgb(59, 37, 23)"
          ],
          [
           0.19215686274509805,
           "rgb(60, 38, 24)"
          ],
          [
           0.19607843137254902,
           "rgb(61, 39, 24)"
          ],
          [
           0.2,
           "rgb(62, 39, 25)"
          ],
          [
           0.20392156862745098,
           "rgb(64, 40, 25)"
          ],
          [
           0.20784313725490197,
           "rgb(65, 41, 26)"
          ],
          [
           0.21176470588235294,
           "rgb(66, 42, 26)"
          ],
          [
           0.21568627450980393,
           "rgb(67, 42, 27)"
          ],
          [
           0.2196078431372549,
           "rgb(69, 43, 27)"
          ],
          [
           0.2235294117647059,
           "rgb(70, 44, 28)"
          ],
          [
           0.22745098039215686,
           "rgb(71, 45, 28)"
          ],
          [
           0.23137254901960785,
           "rgb(72, 46, 29)"
          ],
          [
           0.23529411764705882,
           "rgb(74, 46, 29)"
          ],
          [
           0.23921568627450981,
           "rgb(75, 47, 30)"
          ],
          [
           0.24313725490196078,
           "rgb(76, 48, 30)"
          ],
          [
           0.24705882352941178,
           "rgb(77, 49, 31)"
          ],
          [
           0.25098039215686274,
           "rgb(79, 49, 31)"
          ],
          [
           0.2549019607843137,
           "rgb(80, 50, 32)"
          ],
          [
           0.25882352941176473,
           "rgb(81, 51, 32)"
          ],
          [
           0.2627450980392157,
           "rgb(82, 52, 33)"
          ],
          [
           0.26666666666666666,
           "rgb(83, 53, 33)"
          ],
          [
           0.27058823529411763,
           "rgb(85, 53, 34)"
          ],
          [
           0.27450980392156865,
           "rgb(86, 54, 34)"
          ],
          [
           0.2784313725490196,
           "rgb(87, 55, 35)"
          ],
          [
           0.2823529411764706,
           "rgb(88, 56, 35)"
          ],
          [
           0.28627450980392155,
           "rgb(90, 57, 36)"
          ],
          [
           0.2901960784313726,
           "rgb(91, 57, 36)"
          ],
          [
           0.29411764705882354,
           "rgb(92, 58, 37)"
          ],
          [
           0.2980392156862745,
           "rgb(93, 59, 37)"
          ],
          [
           0.30196078431372547,
           "rgb(95, 60, 38)"
          ],
          [
           0.3058823529411765,
           "rgb(96, 60, 38)"
          ],
          [
           0.30980392156862746,
           "rgb(97, 61, 39)"
          ],
          [
           0.3137254901960784,
           "rgb(98, 62, 39)"
          ],
          [
           0.3176470588235294,
           "rgb(100, 63, 40)"
          ],
          [
           0.3215686274509804,
           "rgb(101, 64, 40)"
          ],
          [
           0.3254901960784314,
           "rgb(102, 64, 41)"
          ],
          [
           0.32941176470588235,
           "rgb(103, 65, 41)"
          ],
          [
           0.3333333333333333,
           "rgb(104, 66, 42)"
          ],
          [
           0.33725490196078434,
           "rgb(106, 67, 42)"
          ],
          [
           0.3411764705882353,
           "rgb(107, 67, 43)"
          ],
          [
           0.34509803921568627,
           "rgb(108, 68, 43)"
          ],
          [
           0.34901960784313724,
           "rgb(109, 69, 44)"
          ],
          [
           0.35294117647058826,
           "rgb(111, 70, 44)"
          ],
          [
           0.3568627450980392,
           "rgb(112, 71, 45)"
          ],
          [
           0.3607843137254902,
           "rgb(113, 71, 45)"
          ],
          [
           0.36470588235294116,
           "rgb(114, 72, 46)"
          ],
          [
           0.3686274509803922,
           "rgb(116, 73, 46)"
          ],
          [
           0.37254901960784315,
           "rgb(117, 74, 47)"
          ],
          [
           0.3764705882352941,
           "rgb(118, 74, 47)"
          ],
          [
           0.3803921568627451,
           "rgb(119, 75, 48)"
          ],
          [
           0.3843137254901961,
           "rgb(121, 76, 48)"
          ],
          [
           0.38823529411764707,
           "rgb(122, 77, 49)"
          ],
          [
           0.39215686274509803,
           "rgb(123, 78, 49)"
          ],
          [
           0.396078431372549,
           "rgb(124, 78, 50)"
          ],
          [
           0.4,
           "rgb(125, 79, 50)"
          ],
          [
           0.403921568627451,
           "rgb(127, 80, 51)"
          ],
          [
           0.40784313725490196,
           "rgb(128, 81, 51)"
          ],
          [
           0.4117647058823529,
           "rgb(129, 82, 52)"
          ],
          [
           0.41568627450980394,
           "rgb(130, 82, 52)"
          ],
          [
           0.4196078431372549,
           "rgb(132, 83, 53)"
          ],
          [
           0.4235294117647059,
           "rgb(133, 84, 53)"
          ],
          [
           0.42745098039215684,
           "rgb(134, 85, 54)"
          ],
          [
           0.43137254901960786,
           "rgb(135, 85, 54)"
          ],
          [
           0.43529411764705883,
           "rgb(137, 86, 55)"
          ],
          [
           0.4392156862745098,
           "rgb(138, 87, 55)"
          ],
          [
           0.44313725490196076,
           "rgb(139, 88, 56)"
          ],
          [
           0.4470588235294118,
           "rgb(140, 89, 56)"
          ],
          [
           0.45098039215686275,
           "rgb(142, 89, 57)"
          ],
          [
           0.4549019607843137,
           "rgb(143, 90, 57)"
          ],
          [
           0.4588235294117647,
           "rgb(144, 91, 58)"
          ],
          [
           0.4627450980392157,
           "rgb(145, 92, 58)"
          ],
          [
           0.4666666666666667,
           "rgb(146, 92, 59)"
          ],
          [
           0.47058823529411764,
           "rgb(148, 93, 59)"
          ],
          [
           0.4745098039215686,
           "rgb(149, 94, 60)"
          ],
          [
           0.47843137254901963,
           "rgb(150, 95, 60)"
          ],
          [
           0.4823529411764706,
           "rgb(151, 96, 61)"
          ],
          [
           0.48627450980392156,
           "rgb(153, 96, 61)"
          ],
          [
           0.49019607843137253,
           "rgb(154, 97, 62)"
          ],
          [
           0.49411764705882355,
           "rgb(155, 98, 62)"
          ],
          [
           0.4980392156862745,
           "rgb(156, 99, 63)"
          ],
          [
           0.5019607843137255,
           "rgb(158, 99, 63)"
          ],
          [
           0.5058823529411764,
           "rgb(159, 100, 64)"
          ],
          [
           0.5098039215686274,
           "rgb(160, 101, 64)"
          ],
          [
           0.5137254901960784,
           "rgb(161, 102, 65)"
          ],
          [
           0.5176470588235295,
           "rgb(163, 103, 65)"
          ],
          [
           0.5215686274509804,
           "rgb(164, 103, 66)"
          ],
          [
           0.5254901960784314,
           "rgb(165, 104, 66)"
          ],
          [
           0.5294117647058824,
           "rgb(166, 105, 67)"
          ],
          [
           0.5333333333333333,
           "rgb(167, 106, 67)"
          ],
          [
           0.5372549019607843,
           "rgb(169, 107, 68)"
          ],
          [
           0.5411764705882353,
           "rgb(170, 107, 68)"
          ],
          [
           0.5450980392156862,
           "rgb(171, 108, 69)"
          ],
          [
           0.5490196078431373,
           "rgb(172, 109, 69)"
          ],
          [
           0.5529411764705883,
           "rgb(174, 110, 70)"
          ],
          [
           0.5568627450980392,
           "rgb(175, 110, 70)"
          ],
          [
           0.5607843137254902,
           "rgb(176, 111, 71)"
          ],
          [
           0.5647058823529412,
           "rgb(177, 112, 71)"
          ],
          [
           0.5686274509803921,
           "rgb(179, 113, 72)"
          ],
          [
           0.5725490196078431,
           "rgb(180, 114, 72)"
          ],
          [
           0.5764705882352941,
           "rgb(181, 114, 73)"
          ],
          [
           0.5803921568627451,
           "rgb(182, 115, 73)"
          ],
          [
           0.5843137254901961,
           "rgb(184, 116, 74)"
          ],
          [
           0.5882352941176471,
           "rgb(185, 117, 74)"
          ],
          [
           0.592156862745098,
           "rgb(186, 117, 75)"
          ],
          [
           0.596078431372549,
           "rgb(187, 118, 75)"
          ],
          [
           0.6,
           "rgb(188, 119, 76)"
          ],
          [
           0.6039215686274509,
           "rgb(190, 120, 76)"
          ],
          [
           0.6078431372549019,
           "rgb(191, 121, 77)"
          ],
          [
           0.611764705882353,
           "rgb(192, 121, 77)"
          ],
          [
           0.615686274509804,
           "rgb(193, 122, 78)"
          ],
          [
           0.6196078431372549,
           "rgb(195, 123, 78)"
          ],
          [
           0.6235294117647059,
           "rgb(196, 124, 79)"
          ],
          [
           0.6274509803921569,
           "rgb(197, 124, 79)"
          ],
          [
           0.6313725490196078,
           "rgb(198, 125, 80)"
          ],
          [
           0.6352941176470588,
           "rgb(200, 126, 80)"
          ],
          [
           0.6392156862745098,
           "rgb(201, 127, 81)"
          ],
          [
           0.6431372549019608,
           "rgb(202, 128, 81)"
          ],
          [
           0.6470588235294118,
           "rgb(203, 128, 82)"
          ],
          [
           0.6509803921568628,
           "rgb(205, 129, 82)"
          ],
          [
           0.6549019607843137,
           "rgb(206, 130, 83)"
          ],
          [
           0.6588235294117647,
           "rgb(207, 131, 83)"
          ],
          [
           0.6627450980392157,
           "rgb(208, 132, 84)"
          ],
          [
           0.6666666666666666,
           "rgb(209, 132, 84)"
          ],
          [
           0.6705882352941176,
           "rgb(211, 133, 85)"
          ],
          [
           0.6745098039215687,
           "rgb(212, 134, 85)"
          ],
          [
           0.6784313725490196,
           "rgb(213, 135, 86)"
          ],
          [
           0.6823529411764706,
           "rgb(214, 135, 86)"
          ],
          [
           0.6862745098039216,
           "rgb(216, 136, 87)"
          ],
          [
           0.6901960784313725,
           "rgb(217, 137, 87)"
          ],
          [
           0.6941176470588235,
           "rgb(218, 138, 88)"
          ],
          [
           0.6980392156862745,
           "rgb(219, 139, 88)"
          ],
          [
           0.7019607843137254,
           "rgb(221, 139, 89)"
          ],
          [
           0.7058823529411765,
           "rgb(222, 140, 89)"
          ],
          [
           0.7098039215686275,
           "rgb(223, 141, 90)"
          ],
          [
           0.7137254901960784,
           "rgb(224, 142, 90)"
          ],
          [
           0.7176470588235294,
           "rgb(226, 142, 91)"
          ],
          [
           0.7215686274509804,
           "rgb(227, 143, 91)"
          ],
          [
           0.7254901960784313,
           "rgb(228, 144, 92)"
          ],
          [
           0.7294117647058823,
           "rgb(229, 145, 92)"
          ],
          [
           0.7333333333333333,
           "rgb(230, 146, 93)"
          ],
          [
           0.7372549019607844,
           "rgb(232, 146, 93)"
          ],
          [
           0.7411764705882353,
           "rgb(233, 147, 94)"
          ],
          [
           0.7450980392156863,
           "rgb(234, 148, 94)"
          ],
          [
           0.7490196078431373,
           "rgb(235, 149, 95)"
          ],
          [
           0.7529411764705882,
           "rgb(237, 149, 95)"
          ],
          [
           0.7568627450980392,
           "rgb(238, 150, 96)"
          ],
          [
           0.7607843137254902,
           "rgb(239, 151, 96)"
          ],
          [
           0.7647058823529411,
           "rgb(240, 152, 97)"
          ],
          [
           0.7686274509803922,
           "rgb(242, 153, 97)"
          ],
          [
           0.7725490196078432,
           "rgb(243, 153, 98)"
          ],
          [
           0.7764705882352941,
           "rgb(244, 154, 98)"
          ],
          [
           0.7803921568627451,
           "rgb(245, 155, 99)"
          ],
          [
           0.7843137254901961,
           "rgb(247, 156, 99)"
          ],
          [
           0.788235294117647,
           "rgb(248, 157, 99)"
          ],
          [
           0.792156862745098,
           "rgb(249, 157, 100)"
          ],
          [
           0.796078431372549,
           "rgb(250, 158, 100)"
          ],
          [
           0.8,
           "rgb(251, 159, 101)"
          ],
          [
           0.803921568627451,
           "rgb(253, 160, 101)"
          ],
          [
           0.807843137254902,
           "rgb(254, 160, 102)"
          ],
          [
           0.8117647058823529,
           "rgb(255, 161, 102)"
          ],
          [
           0.8156862745098039,
           "rgb(255, 162, 103)"
          ],
          [
           0.8196078431372549,
           "rgb(255, 163, 103)"
          ],
          [
           0.8235294117647058,
           "rgb(255, 164, 104)"
          ],
          [
           0.8274509803921568,
           "rgb(255, 164, 104)"
          ],
          [
           0.8313725490196079,
           "rgb(255, 165, 105)"
          ],
          [
           0.8352941176470589,
           "rgb(255, 166, 105)"
          ],
          [
           0.8392156862745098,
           "rgb(255, 167, 106)"
          ],
          [
           0.8431372549019608,
           "rgb(255, 167, 106)"
          ],
          [
           0.8470588235294118,
           "rgb(255, 168, 107)"
          ],
          [
           0.8509803921568627,
           "rgb(255, 169, 107)"
          ],
          [
           0.8549019607843137,
           "rgb(255, 170, 108)"
          ],
          [
           0.8588235294117647,
           "rgb(255, 171, 108)"
          ],
          [
           0.8627450980392157,
           "rgb(255, 171, 109)"
          ],
          [
           0.8666666666666667,
           "rgb(255, 172, 109)"
          ],
          [
           0.8705882352941177,
           "rgb(255, 173, 110)"
          ],
          [
           0.8745098039215686,
           "rgb(255, 174, 110)"
          ],
          [
           0.8784313725490196,
           "rgb(255, 174, 111)"
          ],
          [
           0.8823529411764706,
           "rgb(255, 175, 111)"
          ],
          [
           0.8862745098039215,
           "rgb(255, 176, 112)"
          ],
          [
           0.8901960784313725,
           "rgb(255, 177, 112)"
          ],
          [
           0.8941176470588236,
           "rgb(255, 178, 113)"
          ],
          [
           0.8980392156862745,
           "rgb(255, 178, 113)"
          ],
          [
           0.9019607843137255,
           "rgb(255, 179, 114)"
          ],
          [
           0.9058823529411765,
           "rgb(255, 180, 114)"
          ],
          [
           0.9098039215686274,
           "rgb(255, 181, 115)"
          ],
          [
           0.9137254901960784,
           "rgb(255, 182, 115)"
          ],
          [
           0.9176470588235294,
           "rgb(255, 182, 116)"
          ],
          [
           0.9215686274509803,
           "rgb(255, 183, 116)"
          ],
          [
           0.9254901960784314,
           "rgb(255, 184, 117)"
          ],
          [
           0.9294117647058824,
           "rgb(255, 185, 117)"
          ],
          [
           0.9333333333333333,
           "rgb(255, 185, 118)"
          ],
          [
           0.9372549019607843,
           "rgb(255, 186, 118)"
          ],
          [
           0.9411764705882353,
           "rgb(255, 187, 119)"
          ],
          [
           0.9450980392156862,
           "rgb(255, 188, 119)"
          ],
          [
           0.9490196078431372,
           "rgb(255, 189, 120)"
          ],
          [
           0.9529411764705882,
           "rgb(255, 189, 120)"
          ],
          [
           0.9568627450980393,
           "rgb(255, 190, 121)"
          ],
          [
           0.9607843137254902,
           "rgb(255, 191, 121)"
          ],
          [
           0.9647058823529412,
           "rgb(255, 192, 122)"
          ],
          [
           0.9686274509803922,
           "rgb(255, 192, 122)"
          ],
          [
           0.9725490196078431,
           "rgb(255, 193, 123)"
          ],
          [
           0.9764705882352941,
           "rgb(255, 194, 123)"
          ],
          [
           0.9803921568627451,
           "rgb(255, 195, 124)"
          ],
          [
           0.984313725490196,
           "rgb(255, 196, 124)"
          ],
          [
           0.9882352941176471,
           "rgb(255, 196, 125)"
          ],
          [
           0.9921568627450981,
           "rgb(255, 197, 125)"
          ],
          [
           0.996078431372549,
           "rgb(255, 198, 126)"
          ],
          [
           1,
           "rgb(255, 199, 126)"
          ]
         ],
         "hoverinfo": "text",
         "text": [
          [
           "p-value: 1.0000e+00\n-log10(p): -0.0000",
           "p-value: 1.0000e+00\n-log10(p): -0.0000",
           "p-value: 1.0000e+00\n-log10(p): -0.0000",
           "p-value: 1.2669e-06\n-log10(p): 5.8973",
           "p-value: 1.9419e-10\n-log10(p): 9.7118",
           "p-value: 8.0765e-01\n-log10(p): 0.0928",
           "p-value: 1.0000e+00\n-log10(p): -0.0000",
           "p-value: 6.2581e-09\n-log10(p): 8.2036",
           "p-value: 6.6476e-15\n-log10(p): 14.1773",
           "p-value: 1.0000e+00\n-log10(p): -0.0000",
           "p-value: 1.3248e-40\n-log10(p): 39.8778",
           "p-value: 1.4465e-12\n-log10(p): 11.8397",
           "p-value: 1.1742e-05\n-log10(p): 4.9303",
           "p-value: 1.0000e+00\n-log10(p): -0.0000",
           "p-value: 1.0000e+00\n-log10(p): -0.0000",
           "p-value: 1.0000e+00\n-log10(p): -0.0000",
           "p-value: 1.0918e-07\n-log10(p): 6.9619",
           "p-value: 1.4277e-24\n-log10(p): 23.8454",
           "p-value: 6.3382e-14\n-log10(p): 13.1980",
           "p-value: 2.6732e-11\n-log10(p): 10.5730",
           "p-value: 6.9035e-05\n-log10(p): 4.1609",
           "p-value: 1.0000e+00\n-log10(p): -0.0000",
           "p-value: 1.2781e-31\n-log10(p): 30.8934",
           "p-value: 1.0000e+00\n-log10(p): -0.0000",
           "p-value: 4.2564e-01\n-log10(p): 0.3710",
           "p-value: 1.1806e-03\n-log10(p): 2.9279",
           "p-value: 6.0881e-02\n-log10(p): 1.2155",
           "p-value: 4.5139e-43\n-log10(p): 42.3454",
           "p-value: 1.0922e-50\n-log10(p): 49.9617",
           "p-value: 2.6516e-20\n-log10(p): 19.5765",
           "p-value: 1.0000e+00\n-log10(p): -0.0000",
           "p-value: 1.0000e+00\n-log10(p): -0.0000",
           "p-value: 1.0000e+00\n-log10(p): -0.0000",
           "p-value: 8.9989e-01\n-log10(p): 0.0458",
           "p-value: 1.0000e+00\n-log10(p): -0.0000",
           "p-value: 3.6257e-02\n-log10(p): 1.4406"
          ],
          [
           "p-value: 1.0000e+00\n-log10(p): -0.0000",
           "p-value: 1.0000e+00\n-log10(p): -0.0000",
           "p-value: 1.0000e+00\n-log10(p): -0.0000",
           "p-value: 8.0256e-05\n-log10(p): 4.0955",
           "p-value: 1.5012e-08\n-log10(p): 7.8236",
           "p-value: 1.0000e+00\n-log10(p): -0.0000",
           "p-value: 1.0000e+00\n-log10(p): -0.0000",
           "p-value: 1.3456e-07\n-log10(p): 6.8711",
           "p-value: 2.4912e-13\n-log10(p): 12.6036",
           "p-value: 1.0000e+00\n-log10(p): -0.0000",
           "p-value: 7.0872e-30\n-log10(p): 29.1495",
           "p-value: 6.4300e-11\n-log10(p): 10.1918",
           "p-value: 7.3318e-05\n-log10(p): 4.1348",
           "p-value: 1.0000e+00\n-log10(p): -0.0000",
           "p-value: 1.0000e+00\n-log10(p): -0.0000",
           "p-value: 1.0000e+00\n-log10(p): -0.0000",
           "p-value: 1.2127e-04\n-log10(p): 3.9162",
           "p-value: 4.5956e-20\n-log10(p): 19.3377",
           "p-value: 2.0091e-11\n-log10(p): 10.6970",
           "p-value: 1.9678e-10\n-log10(p): 9.7060",
           "p-value: 1.8377e-03\n-log10(p): 2.7357",
           "p-value: 1.0000e+00\n-log10(p): -0.0000",
           "p-value: 9.6376e-27\n-log10(p): 26.0160",
           "p-value: 1.0000e+00\n-log10(p): -0.0000",
           "p-value: 1.0000e+00\n-log10(p): -0.0000",
           "p-value: 8.9432e-03\n-log10(p): 2.0485",
           "p-value: 4.5879e-02\n-log10(p): 1.3384",
           "p-value: 2.3224e-33\n-log10(p): 32.6341",
           "p-value: 6.1161e-44\n-log10(p): 43.2135",
           "p-value: 1.0769e-16\n-log10(p): 15.9678",
           "p-value: 1.0000e+00\n-log10(p): -0.0000",
           "p-value: 1.0000e+00\n-log10(p): -0.0000",
           "p-value: 1.0000e+00\n-log10(p): -0.0000",
           "p-value: 8.1463e-01\n-log10(p): 0.0890",
           "p-value: 1.0000e+00\n-log10(p): -0.0000",
           "p-value: 4.9886e-01\n-log10(p): 0.3020"
          ],
          [
           "p-value: 1.0000e+00\n-log10(p): -0.0000",
           "p-value: 1.0000e+00\n-log10(p): -0.0000",
           "p-value: 1.0000e+00\n-log10(p): -0.0000",
           "p-value: 1.0000e+00\n-log10(p): -0.0000",
           "p-value: 7.5064e-02\n-log10(p): 1.1246",
           "p-value: 1.0000e+00\n-log10(p): -0.0000",
           "p-value: 1.0000e+00\n-log10(p): -0.0000",
           "p-value: 3.9538e-02\n-log10(p): 1.4030",
           "p-value: 3.0670e-06\n-log10(p): 5.5133",
           "p-value: 1.0000e+00\n-log10(p): -0.0000",
           "p-value: 4.7580e-07\n-log10(p): 6.3226",
           "p-value: 4.5204e-04\n-log10(p): 3.3448",
           "p-value: 3.4471e-01\n-log10(p): 0.4626",
           "p-value: 3.9524e-01\n-log10(p): 0.4031",
           "p-value: 3.6039e-02\n-log10(p): 1.4432",
           "p-value: 1.0000e+00\n-log10(p): -0.0000",
           "p-value: 1.0000e+00\n-log10(p): -0.0000",
           "p-value: 2.9541e-06\n-log10(p): 5.5296",
           "p-value: 5.8956e-03\n-log10(p): 2.2295",
           "p-value: 8.0743e-10\n-log10(p): 9.0929",
           "p-value: 1.0000e+00\n-log10(p): -0.0000",
           "p-value: 1.0000e+00\n-log10(p): -0.0000",
           "p-value: 1.8554e-10\n-log10(p): 9.7316",
           "p-value: 5.5180e-01\n-log10(p): 0.2582",
           "p-value: 1.0000e+00\n-log10(p): -0.0000",
           "p-value: 1.0000e+00\n-log10(p): -0.0000",
           "p-value: 1.6828e-03\n-log10(p): 2.7740",
           "p-value: 1.0837e-09\n-log10(p): 8.9651",
           "p-value: 1.8353e-20\n-log10(p): 19.7363",
           "p-value: 4.3353e-05\n-log10(p): 4.3630",
           "p-value: 1.0000e+00\n-log10(p): -0.0000",
           "p-value: 1.0000e+00\n-log10(p): -0.0000",
           "p-value: 1.0000e+00\n-log10(p): -0.0000",
           "p-value: 3.2717e-02\n-log10(p): 1.4852",
           "p-value: 1.0000e+00\n-log10(p): -0.0000",
           "p-value: 1.0000e+00\n-log10(p): -0.0000"
          ],
          [
           "p-value: 1.2669e-06\n-log10(p): 5.8973",
           "p-value: 8.0256e-05\n-log10(p): 4.0955",
           "p-value: 1.0000e+00\n-log10(p): -0.0000",
           "p-value: 1.0000e+00\n-log10(p): -0.0000",
           "p-value: 1.0000e+00\n-log10(p): -0.0000",
           "p-value: 1.0000e+00\n-log10(p): -0.0000",
           "p-value: 3.0651e-02\n-log10(p): 1.5136",
           "p-value: 1.0000e+00\n-log10(p): -0.0000",
           "p-value: 1.6262e-03\n-log10(p): 2.7888",
           "p-value: 1.1628e-02\n-log10(p): 1.9345",
           "p-value: 2.2572e-04\n-log10(p): 3.6464",
           "p-value: 1.8806e-01\n-log10(p): 0.7257",
           "p-value: 1.0000e+00\n-log10(p): -0.0000",
           "p-value: 3.5395e-11\n-log10(p): 10.4511",
           "p-value: 3.2627e-10\n-log10(p): 9.4864",
           "p-value: 2.8585e-04\n-log10(p): 3.5439",
           "p-value: 1.0000e+00\n-log10(p): -0.0000",
           "p-value: 2.5627e-03\n-log10(p): 2.5913",
           "p-value: 1.0000e+00\n-log10(p): -0.0000",
           "p-value: 7.8839e-32\n-log10(p): 31.1033",
           "p-value: 1.0000e+00\n-log10(p): -0.0000",
           "p-value: 1.0000e+00\n-log10(p): -0.0000",
           "p-value: 9.7737e-08\n-log10(p): 7.0099",
           "p-value: 2.3317e-08\n-log10(p): 7.6323",
           "p-value: 1.0000e+00\n-log10(p): -0.0000",
           "p-value: 1.0000e+00\n-log10(p): -0.0000",
           "p-value: 2.1581e-11\n-log10(p): 10.6659",
           "p-value: 2.2707e-07\n-log10(p): 6.6438",
           "p-value: 4.3940e-19\n-log10(p): 18.3571",
           "p-value: 3.5930e-02\n-log10(p): 1.4445",
           "p-value: 1.1133e-04\n-log10(p): 3.9534",
           "p-value: 1.5711e-02\n-log10(p): 1.8038",
           "p-value: 1.0000e+00\n-log10(p): -0.0000",
           "p-value: 3.0215e-16\n-log10(p): 15.5198",
           "p-value: 4.9339e-04\n-log10(p): 3.3068",
           "p-value: 1.0000e+00\n-log10(p): -0.0000"
          ],
          [
           "p-value: 1.9419e-10\n-log10(p): 9.7118",
           "p-value: 1.5012e-08\n-log10(p): 7.8236",
           "p-value: 7.5064e-02\n-log10(p): 1.1246",
           "p-value: 1.0000e+00\n-log10(p): -0.0000",
           "p-value: 1.0000e+00\n-log10(p): -0.0000",
           "p-value: 1.0000e+00\n-log10(p): -0.0000",
           "p-value: 1.2894e-05\n-log10(p): 4.8896",
           "p-value: 1.0000e+00\n-log10(p): -0.0000",
           "p-value: 1.0000e+00\n-log10(p): -0.0000",
           "p-value: 2.5160e-05\n-log10(p): 4.5993",
           "p-value: 1.0000e+00\n-log10(p): -0.0000",
           "p-value: 1.0000e+00\n-log10(p): -0.0000",
           "p-value: 1.0000e+00\n-log10(p): -0.0000",
           "p-value: 6.4584e-15\n-log10(p): 14.1899",
           "p-value: 6.0305e-14\n-log10(p): 13.2197",
           "p-value: 3.3110e-07\n-log10(p): 6.4800",
           "p-value: 7.8939e-02\n-log10(p): 1.1027",
           "p-value: 1.0000e+00\n-log10(p): -0.0000",
           "p-value: 1.0000e+00\n-log10(p): -0.0000",
           "p-value: 1.1639e-33\n-log10(p): 32.9341",
           "p-value: 1.0000e+00\n-log10(p): -0.0000",
           "p-value: 7.8832e-01\n-log10(p): 0.1033",
           "p-value: 1.9559e-01\n-log10(p): 0.7087",
           "p-value: 4.4024e-12\n-log10(p): 11.3563",
           "p-value: 1.0000e+00\n-log10(p): -0.0000",
           "p-value: 1.0000e+00\n-log10(p): -0.0000",
           "p-value: 4.6590e-15\n-log10(p): 14.3317",
           "p-value: 1.0000e+00\n-log10(p): -0.0000",
           "p-value: 3.2481e-08\n-log10(p): 7.4884",
           "p-value: 1.0000e+00\n-log10(p): -0.0000",
           "p-value: 2.9030e-08\n-log10(p): 7.5372",
           "p-value: 1.5312e-05\n-log10(p): 4.8150",
           "p-value: 1.0000e+00\n-log10(p): -0.0000",
           "p-value: 2.1446e-19\n-log10(p): 18.6686",
           "p-value: 2.6416e-07\n-log10(p): 6.5781",
           "p-value: 1.1869e-02\n-log10(p): 1.9256"
          ],
          [
           "p-value: 8.0765e-01\n-log10(p): 0.0928",
           "p-value: 1.0000e+00\n-log10(p): -0.0000",
           "p-value: 1.0000e+00\n-log10(p): -0.0000",
           "p-value: 1.0000e+00\n-log10(p): -0.0000",
           "p-value: 1.0000e+00\n-log10(p): -0.0000",
           "p-value: 1.0000e+00\n-log10(p): -0.0000",
           "p-value: 1.0000e+00\n-log10(p): -0.0000",
           "p-value: 1.0000e+00\n-log10(p): -0.0000",
           "p-value: 2.5124e-02\n-log10(p): 1.5999",
           "p-value: 1.0000e+00\n-log10(p): -0.0000",
           "p-value: 4.0190e-01\n-log10(p): 0.3959",
           "p-value: 1.0000e+00\n-log10(p): -0.0000",
           "p-value: 1.0000e+00\n-log10(p): -0.0000",
           "p-value: 6.9941e-03\n-log10(p): 2.1553",
           "p-value: 6.7114e-04\n-log10(p): 3.1732",
           "p-value: 1.3557e-01\n-log10(p): 0.8678",
           "p-value: 1.0000e+00\n-log10(p): -0.0000",
           "p-value: 2.8573e-01\n-log10(p): 0.5440",
           "p-value: 1.0000e+00\n-log10(p): -0.0000",
           "p-value: 4.1888e-11\n-log10(p): 10.3779",
           "p-value: 1.0000e+00\n-log10(p): -0.0000",
           "p-value: 1.0000e+00\n-log10(p): -0.0000",
           "p-value: 7.5500e-04\n-log10(p): 3.1221",
           "p-value: 1.1605e-02\n-log10(p): 1.9354",
           "p-value: 1.0000e+00\n-log10(p): -0.0000",
           "p-value: 1.0000e+00\n-log10(p): -0.0000",
           "p-value: 3.0538e-05\n-log10(p): 4.5152",
           "p-value: 1.2211e-02\n-log10(p): 1.9133",
           "p-value: 3.3303e-10\n-log10(p): 9.4775",
           "p-value: 9.6692e-01\n-log10(p): 0.0146",
           "p-value: 1.0000e+00\n-log10(p): -0.0000",
           "p-value: 1.0000e+00\n-log10(p): -0.0000",
           "p-value: 1.0000e+00\n-log10(p): -0.0000",
           "p-value: 5.2839e-04\n-log10(p): 3.2770",
           "p-value: 6.8968e-01\n-log10(p): 0.1614",
           "p-value: 1.0000e+00\n-log10(p): -0.0000"
          ],
          [
           "p-value: 1.0000e+00\n-log10(p): -0.0000",
           "p-value: 1.0000e+00\n-log10(p): -0.0000",
           "p-value: 1.0000e+00\n-log10(p): -0.0000",
           "p-value: 3.0651e-02\n-log10(p): 1.5136",
           "p-value: 1.2894e-05\n-log10(p): 4.8896",
           "p-value: 1.0000e+00\n-log10(p): -0.0000",
           "p-value: 1.0000e+00\n-log10(p): -0.0000",
           "p-value: 2.8059e-05\n-log10(p): 4.5519",
           "p-value: 1.4543e-10\n-log10(p): 9.8374",
           "p-value: 1.0000e+00\n-log10(p): -0.0000",
           "p-value: 1.2301e-19\n-log10(p): 18.9101",
           "p-value: 3.9461e-08\n-log10(p): 7.4038",
           "p-value: 2.7137e-03\n-log10(p): 2.5664",
           "p-value: 1.0000e+00\n-log10(p): -0.0000",
           "p-value: 1.0908e-01\n-log10(p): 0.9622",
           "p-value: 1.0000e+00\n-log10(p): -0.0000",
           "p-value: 2.2902e-01\n-log10(p): 0.6401",
           "p-value: 2.6556e-14\n-log10(p): 13.5758",
           "p-value: 8.9372e-08\n-log10(p): 7.0488",
           "p-value: 6.5704e-12\n-log10(p): 11.1824",
           "p-value: 2.5872e-01\n-log10(p): 0.5872",
           "p-value: 1.0000e+00\n-log10(p): -0.0000",
           "p-value: 2.3899e-20\n-log10(p): 19.6216",
           "p-value: 1.0000e+00\n-log10(p): -0.0000",
           "p-value: 1.0000e+00\n-log10(p): -0.0000",
           "p-value: 3.3983e-01\n-log10(p): 0.4687",
           "p-value: 4.4610e-03\n-log10(p): 2.3506",
           "p-value: 2.5742e-23\n-log10(p): 22.5894",
           "p-value: 2.3732e-35\n-log10(p): 34.6247",
           "p-value: 7.9751e-12\n-log10(p): 11.0983",
           "p-value: 1.0000e+00\n-log10(p): -0.0000",
           "p-value: 1.0000e+00\n-log10(p): -0.0000",
           "p-value: 1.0000e+00\n-log10(p): -0.0000",
           "p-value: 4.4910e-02\n-log10(p): 1.3477",
           "p-value: 1.0000e+00\n-log10(p): -0.0000",
           "p-value: 1.0000e+00\n-log10(p): -0.0000"
          ],
          [
           "p-value: 6.2581e-09\n-log10(p): 8.2036",
           "p-value: 1.3456e-07\n-log10(p): 6.8711",
           "p-value: 3.9538e-02\n-log10(p): 1.4030",
           "p-value: 1.0000e+00\n-log10(p): -0.0000",
           "p-value: 1.0000e+00\n-log10(p): -0.0000",
           "p-value: 1.0000e+00\n-log10(p): -0.0000",
           "p-value: 2.8059e-05\n-log10(p): 4.5519",
           "p-value: 1.0000e+00\n-log10(p): -0.0000",
           "p-value: 1.0000e+00\n-log10(p): -0.0000",
           "p-value: 1.8031e-05\n-log10(p): 4.7440",
           "p-value: 1.0000e+00\n-log10(p): -0.0000",
           "p-value: 1.0000e+00\n-log10(p): -0.0000",
           "p-value: 1.0000e+00\n-log10(p): -0.0000",
           "p-value: 9.8017e-13\n-log10(p): 12.0087",
           "p-value: 9.3835e-13\n-log10(p): 12.0276",
           "p-value: 3.3301e-07\n-log10(p): 6.4775",
           "p-value: 7.4334e-02\n-log10(p): 1.1288",
           "p-value: 1.0000e+00\n-log10(p): -0.0000",
           "p-value: 1.0000e+00\n-log10(p): -0.0000",
           "p-value: 1.6749e-27\n-log10(p): 26.7760",
           "p-value: 1.0000e+00\n-log10(p): -0.0000",
           "p-value: 3.5169e-01\n-log10(p): 0.4538",
           "p-value: 1.0000e+00\n-log10(p): -0.0000",
           "p-value: 5.4662e-11\n-log10(p): 10.2623",
           "p-value: 1.0000e+00\n-log10(p): -0.0000",
           "p-value: 1.0000e+00\n-log10(p): -0.0000",
           "p-value: 4.6005e-14\n-log10(p): 13.3372",
           "p-value: 1.0000e+00\n-log10(p): -0.0000",
           "p-value: 1.1703e-04\n-log10(p): 3.9317",
           "p-value: 1.0000e+00\n-log10(p): -0.0000",
           "p-value: 1.3269e-07\n-log10(p): 6.8772",
           "p-value: 1.6954e-05\n-log10(p): 4.7707",
           "p-value: 1.0000e+00\n-log10(p): -0.0000",
           "p-value: 9.1147e-16\n-log10(p): 15.0403",
           "p-value: 4.8464e-07\n-log10(p): 6.3146",
           "p-value: 1.1946e-02\n-log10(p): 1.9228"
          ],
          [
           "p-value: 6.6476e-15\n-log10(p): 14.1773",
           "p-value: 2.4912e-13\n-log10(p): 12.6036",
           "p-value: 3.0670e-06\n-log10(p): 5.5133",
           "p-value: 1.6262e-03\n-log10(p): 2.7888",
           "p-value: 1.0000e+00\n-log10(p): -0.0000",
           "p-value: 2.5124e-02\n-log10(p): 1.5999",
           "p-value: 1.4543e-10\n-log10(p): 9.8374",
           "p-value: 1.0000e+00\n-log10(p): -0.0000",
           "p-value: 1.0000e+00\n-log10(p): -0.0000",
           "p-value: 6.6188e-10\n-log10(p): 9.1792",
           "p-value: 1.0000e+00\n-log10(p): -0.0000",
           "p-value: 1.0000e+00\n-log10(p): -0.0000",
           "p-value: 1.0000e+00\n-log10(p): -0.0000",
           "p-value: 6.5107e-19\n-log10(p): 18.1864",
           "p-value: 1.2809e-18\n-log10(p): 17.8925",
           "p-value: 5.7959e-12\n-log10(p): 11.2369",
           "p-value: 9.1269e-07\n-log10(p): 6.0397",
           "p-value: 1.0000e+00\n-log10(p): -0.0000",
           "p-value: 1.0000e+00\n-log10(p): -0.0000",
           "p-value: 7.5297e-34\n-log10(p): 33.1232",
           "p-value: 5.1844e-04\n-log10(p): 3.2853",
           "p-value: 8.6365e-05\n-log10(p): 4.0637",
           "p-value: 1.0000e+00\n-log10(p): -0.0000",
           "p-value: 8.3928e-17\n-log10(p): 16.0761",
           "p-value: 1.0149e-01\n-log10(p): 0.9936",
           "p-value: 3.7077e-02\n-log10(p): 1.4309",
           "p-value: 7.9107e-20\n-log10(p): 19.1018",
           "p-value: 1.0000e+00\n-log10(p): -0.0000",
           "p-value: 1.0000e+00\n-log10(p): -0.0000",
           "p-value: 1.0000e+00\n-log10(p): -0.0000",
           "p-value: 3.7369e-13\n-log10(p): 12.4275",
           "p-value: 2.2377e-10\n-log10(p): 9.6502",
           "p-value: 4.7337e-04\n-log10(p): 3.3248",
           "p-value: 3.8456e-22\n-log10(p): 21.4150",
           "p-value: 3.2138e-12\n-log10(p): 11.4930",
           "p-value: 1.4632e-07\n-log10(p): 6.8347"
          ],
          [
           "p-value: 1.0000e+00\n-log10(p): -0.0000",
           "p-value: 1.0000e+00\n-log10(p): -0.0000",
           "p-value: 1.0000e+00\n-log10(p): -0.0000",
           "p-value: 1.1628e-02\n-log10(p): 1.9345",
           "p-value: 2.5160e-05\n-log10(p): 4.5993",
           "p-value: 1.0000e+00\n-log10(p): -0.0000",
           "p-value: 1.0000e+00\n-log10(p): -0.0000",
           "p-value: 1.8031e-05\n-log10(p): 4.7440",
           "p-value: 6.6188e-10\n-log10(p): 9.1792",
           "p-value: 1.0000e+00\n-log10(p): -0.0000",
           "p-value: 7.0238e-11\n-log10(p): 10.1534",
           "p-value: 1.1610e-07\n-log10(p): 6.9352",
           "p-value: 4.1419e-04\n-log10(p): 3.3828",
           "p-value: 1.0000e+00\n-log10(p): -0.0000",
           "p-value: 1.0000e+00\n-log10(p): -0.0000",
           "p-value: 1.0000e+00\n-log10(p): -0.0000",
           "p-value: 9.4192e-02\n-log10(p): 1.0260",
           "p-value: 3.8236e-10\n-log10(p): 9.4175",
           "p-value: 1.2519e-06\n-log10(p): 5.9024",
           "p-value: 4.7241e-01\n-log10(p): 0.3257",
           "p-value: 4.8485e-02\n-log10(p): 1.3144",
           "p-value: 1.0000e+00\n-log10(p): -0.0000",
           "p-value: 2.8730e-14\n-log10(p): 13.5417",
           "p-value: 1.0000e+00\n-log10(p): -0.0000",
           "p-value: 6.7453e-01\n-log10(p): 0.1710",
           "p-value: 3.9629e-02\n-log10(p): 1.4020",
           "p-value: 1.0000e+00\n-log10(p): -0.0000",
           "p-value: 2.1933e-13\n-log10(p): 12.6589",
           "p-value: 1.4015e-23\n-log10(p): 22.8534",
           "p-value: 6.0653e-09\n-log10(p): 8.2171",
           "p-value: 1.0000e+00\n-log10(p): -0.0000",
           "p-value: 1.0000e+00\n-log10(p): -0.0000",
           "p-value: 1.0000e+00\n-log10(p): -0.0000",
           "p-value: 1.0000e+00\n-log10(p): -0.0000",
           "p-value: 1.0000e+00\n-log10(p): -0.0000",
           "p-value: 1.0000e+00\n-log10(p): -0.0000"
          ],
          [
           "p-value: 1.3248e-40\n-log10(p): 39.8778",
           "p-value: 7.0872e-30\n-log10(p): 29.1495",
           "p-value: 4.7580e-07\n-log10(p): 6.3226",
           "p-value: 2.2572e-04\n-log10(p): 3.6464",
           "p-value: 1.0000e+00\n-log10(p): -0.0000",
           "p-value: 4.0190e-01\n-log10(p): 0.3959",
           "p-value: 1.2301e-19\n-log10(p): 18.9101",
           "p-value: 1.0000e+00\n-log10(p): -0.0000",
           "p-value: 1.0000e+00\n-log10(p): -0.0000",
           "p-value: 7.0238e-11\n-log10(p): 10.1534",
           "p-value: 1.0000e+00\n-log10(p): -0.0000",
           "p-value: 1.0000e+00\n-log10(p): -0.0000",
           "p-value: 1.0000e+00\n-log10(p): -0.0000",
           "p-value: 1.5994e-45\n-log10(p): 44.7960",
           "p-value: 4.5790e-30\n-log10(p): 29.3392",
           "p-value: 6.4575e-14\n-log10(p): 13.1899",
           "p-value: 3.5633e-22\n-log10(p): 21.4482",
           "p-value: 1.0000e+00\n-log10(p): -0.0000",
           "p-value: 1.0000e+00\n-log10(p): -0.0000",
           "p-value: 1.3450e-89\n-log10(p): 88.8713",
           "p-value: 4.2163e-05\n-log10(p): 4.3751",
           "p-value: 2.0585e-04\n-log10(p): 3.6864",
           "p-value: 1.0000e+00\n-log10(p): -0.0000",
           "p-value: 7.1615e-29\n-log10(p): 28.1450",
           "p-value: 1.0000e+00\n-log10(p): -0.0000",
           "p-value: 4.0483e-01\n-log10(p): 0.3927",
           "p-value: 2.4337e-28\n-log10(p): 27.6137",
           "p-value: 1.0000e+00\n-log10(p): -0.0000",
           "p-value: 2.3697e-09\n-log10(p): 8.6253",
           "p-value: 1.0000e+00\n-log10(p): -0.0000",
           "p-value: 1.2529e-23\n-log10(p): 22.9021",
           "p-value: 9.2076e-14\n-log10(p): 13.0359",
           "p-value: 2.8972e-03\n-log10(p): 2.5380",
           "p-value: 3.0592e-70\n-log10(p): 69.5144",
           "p-value: 2.5140e-17\n-log10(p): 16.5996",
           "p-value: 2.8530e-16\n-log10(p): 15.5447"
          ],
          [
           "p-value: 1.4465e-12\n-log10(p): 11.8397",
           "p-value: 6.4300e-11\n-log10(p): 10.1918",
           "p-value: 4.5204e-04\n-log10(p): 3.3448",
           "p-value: 1.8806e-01\n-log10(p): 0.7257",
           "p-value: 1.0000e+00\n-log10(p): -0.0000",
           "p-value: 1.0000e+00\n-log10(p): -0.0000",
           "p-value: 3.9461e-08\n-log10(p): 7.4038",
           "p-value: 1.0000e+00\n-log10(p): -0.0000",
           "p-value: 1.0000e+00\n-log10(p): -0.0000",
           "p-value: 1.1610e-07\n-log10(p): 6.9352",
           "p-value: 1.0000e+00\n-log10(p): -0.0000",
           "p-value: 1.0000e+00\n-log10(p): -0.0000",
           "p-value: 1.0000e+00\n-log10(p): -0.0000",
           "p-value: 1.0395e-16\n-log10(p): 15.9832",
           "p-value: 3.0489e-16\n-log10(p): 15.5159",
           "p-value: 1.2335e-09\n-log10(p): 8.9089",
           "p-value: 2.3566e-04\n-log10(p): 3.6277",
           "p-value: 1.0000e+00\n-log10(p): -0.0000",
           "p-value: 1.0000e+00\n-log10(p): -0.0000",
           "p-value: 8.7319e-33\n-log10(p): 32.0589",
           "p-value: 6.6106e-02\n-log10(p): 1.1798",
           "p-value: 8.2783e-03\n-log10(p): 2.0821",
           "p-value: 1.0000e+00\n-log10(p): -0.0000",
           "p-value: 2.0660e-14\n-log10(p): 13.6849",
           "p-value: 1.0000e+00\n-log10(p): -0.0000",
           "p-value: 1.0000e+00\n-log10(p): -0.0000",
           "p-value: 1.9828e-17\n-log10(p): 16.7027",
           "p-value: 1.0000e+00\n-log10(p): -0.0000",
           "p-value: 2.7156e-02\n-log10(p): 1.5661",
           "p-value: 1.0000e+00\n-log10(p): -0.0000",
           "p-value: 1.0085e-10\n-log10(p): 9.9963",
           "p-value: 5.2123e-08\n-log10(p): 7.2830",
           "p-value: 3.4449e-02\n-log10(p): 1.4628",
           "p-value: 2.8421e-20\n-log10(p): 19.5464",
           "p-value: 8.3203e-10\n-log10(p): 9.0799",
           "p-value: 3.6819e-05\n-log10(p): 4.4339"
          ],
          [
           "p-value: 1.1742e-05\n-log10(p): 4.9303",
           "p-value: 7.3318e-05\n-log10(p): 4.1348",
           "p-value: 3.4471e-01\n-log10(p): 0.4626",
           "p-value: 1.0000e+00\n-log10(p): -0.0000",
           "p-value: 1.0000e+00\n-log10(p): -0.0000",
           "p-value: 1.0000e+00\n-log10(p): -0.0000",
           "p-value: 2.7137e-03\n-log10(p): 2.5664",
           "p-value: 1.0000e+00\n-log10(p): -0.0000",
           "p-value: 1.0000e+00\n-log10(p): -0.0000",
           "p-value: 4.1419e-04\n-log10(p): 3.3828",
           "p-value: 1.0000e+00\n-log10(p): -0.0000",
           "p-value: 1.0000e+00\n-log10(p): -0.0000",
           "p-value: 1.0000e+00\n-log10(p): -0.0000",
           "p-value: 1.4519e-08\n-log10(p): 7.8381",
           "p-value: 2.4544e-09\n-log10(p): 8.6101",
           "p-value: 1.6491e-05\n-log10(p): 4.7828",
           "p-value: 1.0000e+00\n-log10(p): -0.0000",
           "p-value: 1.0000e+00\n-log10(p): -0.0000",
           "p-value: 1.0000e+00\n-log10(p): -0.0000",
           "p-value: 3.0927e-19\n-log10(p): 18.5097",
           "p-value: 1.0000e+00\n-log10(p): -0.0000",
           "p-value: 1.0000e+00\n-log10(p): -0.0000",
           "p-value: 1.0000e+00\n-log10(p): -0.0000",
           "p-value: 8.4059e-08\n-log10(p): 7.0754",
           "p-value: 1.0000e+00\n-log10(p): -0.0000",
           "p-value: 1.0000e+00\n-log10(p): -0.0000",
           "p-value: 9.3831e-11\n-log10(p): 10.0277",
           "p-value: 1.0000e+00\n-log10(p): -0.0000",
           "p-value: 2.0352e-03\n-log10(p): 2.6914",
           "p-value: 1.0000e+00\n-log10(p): -0.0000",
           "p-value: 4.2129e-05\n-log10(p): 4.3754",
           "p-value: 7.9905e-04\n-log10(p): 3.0974",
           "p-value: 1.0000e+00\n-log10(p): -0.0000",
           "p-value: 2.2368e-10\n-log10(p): 9.6504",
           "p-value: 5.4609e-05\n-log10(p): 4.2627",
           "p-value: 2.9340e-01\n-log10(p): 0.5325"
          ],
          [
           "p-value: 1.0000e+00\n-log10(p): -0.0000",
           "p-value: 1.0000e+00\n-log10(p): -0.0000",
           "p-value: 3.9524e-01\n-log10(p): 0.4031",
           "p-value: 3.5395e-11\n-log10(p): 10.4511",
           "p-value: 6.4584e-15\n-log10(p): 14.1899",
           "p-value: 6.9941e-03\n-log10(p): 2.1553",
           "p-value: 1.0000e+00\n-log10(p): -0.0000",
           "p-value: 9.8017e-13\n-log10(p): 12.0087",
           "p-value: 6.5107e-19\n-log10(p): 18.1864",
           "p-value: 1.0000e+00\n-log10(p): -0.0000",
           "p-value: 1.5994e-45\n-log10(p): 44.7960",
           "p-value: 1.0395e-16\n-log10(p): 15.9832",
           "p-value: 1.4519e-08\n-log10(p): 7.8381",
           "p-value: 1.0000e+00\n-log10(p): -0.0000",
           "p-value: 1.0000e+00\n-log10(p): -0.0000",
           "p-value: 1.0000e+00\n-log10(p): -0.0000",
           "p-value: 3.2494e-13\n-log10(p): 12.4882",
           "p-value: 2.8962e-30\n-log10(p): 29.5382",
           "p-value: 7.2002e-19\n-log10(p): 18.1427",
           "p-value: 4.9604e-04\n-log10(p): 3.3045",
           "p-value: 4.7231e-09\n-log10(p): 8.3258",
           "p-value: 2.8556e-01\n-log10(p): 0.5443",
           "p-value: 2.4022e-37\n-log10(p): 36.6194",
           "p-value: 1.0000e+00\n-log10(p): -0.0000",
           "p-value: 3.7419e-03\n-log10(p): 2.4269",
           "p-value: 7.1187e-07\n-log10(p): 6.1476",
           "p-value: 1.0000e+00\n-log10(p): -0.0000",
           "p-value: 2.4049e-48\n-log10(p): 47.6189",
           "p-value: 1.7382e-56\n-log10(p): 55.7599",
           "p-value: 9.1545e-26\n-log10(p): 25.0384",
           "p-value: 1.0000e+00\n-log10(p): -0.0000",
           "p-value: 1.0000e+00\n-log10(p): -0.0000",
           "p-value: 2.7741e-01\n-log10(p): 0.5569",
           "p-value: 1.0000e+00\n-log10(p): -0.0000",
           "p-value: 1.0000e+00\n-log10(p): -0.0000",
           "p-value: 3.6406e-06\n-log10(p): 5.4388"
          ],
          [
           "p-value: 1.0000e+00\n-log10(p): -0.0000",
           "p-value: 1.0000e+00\n-log10(p): -0.0000",
           "p-value: 3.6039e-02\n-log10(p): 1.4432",
           "p-value: 3.2627e-10\n-log10(p): 9.4864",
           "p-value: 6.0305e-14\n-log10(p): 13.2197",
           "p-value: 6.7114e-04\n-log10(p): 3.1732",
           "p-value: 1.0908e-01\n-log10(p): 0.9622",
           "p-value: 9.3835e-13\n-log10(p): 12.0276",
           "p-value: 1.2809e-18\n-log10(p): 17.8925",
           "p-value: 1.0000e+00\n-log10(p): -0.0000",
           "p-value: 4.5790e-30\n-log10(p): 29.3392",
           "p-value: 3.0489e-16\n-log10(p): 15.5159",
           "p-value: 2.4544e-09\n-log10(p): 8.6101",
           "p-value: 1.0000e+00\n-log10(p): -0.0000",
           "p-value: 1.0000e+00\n-log10(p): -0.0000",
           "p-value: 1.0000e+00\n-log10(p): -0.0000",
           "p-value: 4.3718e-10\n-log10(p): 9.3593",
           "p-value: 1.6969e-24\n-log10(p): 23.7704",
           "p-value: 8.2745e-17\n-log10(p): 16.0823",
           "p-value: 1.0000e+00\n-log10(p): -0.0000",
           "p-value: 1.0556e-08\n-log10(p): 7.9765",
           "p-value: 2.6550e-02\n-log10(p): 1.5759",
           "p-value: 1.0095e-30\n-log10(p): 29.9959",
           "p-value: 1.0000e+00\n-log10(p): -0.0000",
           "p-value: 3.6029e-04\n-log10(p): 3.4434",
           "p-value: 1.8575e-07\n-log10(p): 6.7311",
           "p-value: 1.0000e+00\n-log10(p): -0.0000",
           "p-value: 1.0398e-33\n-log10(p): 32.9830",
           "p-value: 8.4127e-46\n-log10(p): 45.0751",
           "p-value: 1.1564e-21\n-log10(p): 20.9369",
           "p-value: 1.0000e+00\n-log10(p): -0.0000",
           "p-value: 1.0000e+00\n-log10(p): -0.0000",
           "p-value: 2.6340e-02\n-log10(p): 1.5794",
           "p-value: 1.0000e+00\n-log10(p): -0.0000",
           "p-value: 1.0000e+00\n-log10(p): -0.0000",
           "p-value: 4.3693e-06\n-log10(p): 5.3596"
          ],
          [
           "p-value: 1.0000e+00\n-log10(p): -0.0000",
           "p-value: 1.0000e+00\n-log10(p): -0.0000",
           "p-value: 1.0000e+00\n-log10(p): -0.0000",
           "p-value: 2.8585e-04\n-log10(p): 3.5439",
           "p-value: 3.3110e-07\n-log10(p): 6.4800",
           "p-value: 1.3557e-01\n-log10(p): 0.8678",
           "p-value: 1.0000e+00\n-log10(p): -0.0000",
           "p-value: 3.3301e-07\n-log10(p): 6.4775",
           "p-value: 5.7959e-12\n-log10(p): 11.2369",
           "p-value: 1.0000e+00\n-log10(p): -0.0000",
           "p-value: 6.4575e-14\n-log10(p): 13.1899",
           "p-value: 1.2335e-09\n-log10(p): 8.9089",
           "p-value: 1.6491e-05\n-log10(p): 4.7828",
           "p-value: 1.0000e+00\n-log10(p): -0.0000",
           "p-value: 1.0000e+00\n-log10(p): -0.0000",
           "p-value: 1.0000e+00\n-log10(p): -0.0000",
           "p-value: 2.3971e-03\n-log10(p): 2.6203",
           "p-value: 8.5711e-13\n-log10(p): 12.0670",
           "p-value: 9.8479e-09\n-log10(p): 8.0067",
           "p-value: 1.0000e+00\n-log10(p): -0.0000",
           "p-value: 1.6272e-03\n-log10(p): 2.7886",
           "p-value: 1.0000e+00\n-log10(p): -0.0000",
           "p-value: 2.8547e-17\n-log10(p): 16.5444",
           "p-value: 1.0000e+00\n-log10(p): -0.0000",
           "p-value: 7.4281e-02\n-log10(p): 1.1291",
           "p-value: 1.8636e-03\n-log10(p): 2.7296",
           "p-value: 1.0000e+00\n-log10(p): -0.0000",
           "p-value: 1.2288e-16\n-log10(p): 15.9105",
           "p-value: 2.2423e-27\n-log10(p): 26.6493",
           "p-value: 2.1402e-11\n-log10(p): 10.6696",
           "p-value: 1.0000e+00\n-log10(p): -0.0000",
           "p-value: 1.0000e+00\n-log10(p): -0.0000",
           "p-value: 1.0000e+00\n-log10(p): -0.0000",
           "p-value: 1.0000e+00\n-log10(p): -0.0000",
           "p-value: 1.0000e+00\n-log10(p): -0.0000",
           "p-value: 9.6835e-02\n-log10(p): 1.0140"
          ],
          [
           "p-value: 1.0918e-07\n-log10(p): 6.9619",
           "p-value: 1.2127e-04\n-log10(p): 3.9162",
           "p-value: 1.0000e+00\n-log10(p): -0.0000",
           "p-value: 1.0000e+00\n-log10(p): -0.0000",
           "p-value: 7.8939e-02\n-log10(p): 1.1027",
           "p-value: 1.0000e+00\n-log10(p): -0.0000",
           "p-value: 2.2902e-01\n-log10(p): 0.6401",
           "p-value: 7.4334e-02\n-log10(p): 1.1288",
           "p-value: 9.1269e-07\n-log10(p): 6.0397",
           "p-value: 9.4192e-02\n-log10(p): 1.0260",
           "p-value: 3.5633e-22\n-log10(p): 21.4482",
           "p-value: 2.3566e-04\n-log10(p): 3.6277",
           "p-value: 1.0000e+00\n-log10(p): -0.0000",
           "p-value: 3.2494e-13\n-log10(p): 12.4882",
           "p-value: 4.3718e-10\n-log10(p): 9.3593",
           "p-value: 2.3971e-03\n-log10(p): 2.6203",
           "p-value: 1.0000e+00\n-log10(p): -0.0000",
           "p-value: 1.4746e-10\n-log10(p): 9.8313",
           "p-value: 1.0819e-03\n-log10(p): 2.9658",
           "p-value: 2.8157e-43\n-log10(p): 42.5504",
           "p-value: 1.0000e+00\n-log10(p): -0.0000",
           "p-value: 1.0000e+00\n-log10(p): -0.0000",
           "p-value: 4.6281e-17\n-log10(p): 16.3346",
           "p-value: 3.5543e-08\n-log10(p): 7.4492",
           "p-value: 1.0000e+00\n-log10(p): -0.0000",
           "p-value: 1.0000e+00\n-log10(p): -0.0000",
           "p-value: 5.1236e-11\n-log10(p): 10.2904",
           "p-value: 6.9089e-25\n-log10(p): 24.1606",
           "p-value: 2.9679e-34\n-log10(p): 33.5276",
           "p-value: 9.7458e-08\n-log10(p): 7.0112",
           "p-value: 4.4754e-04\n-log10(p): 3.3492",
           "p-value: 1.3664e-01\n-log10(p): 0.8644",
           "p-value: 1.0000e+00\n-log10(p): -0.0000",
           "p-value: 1.1689e-23\n-log10(p): 22.9322",
           "p-value: 3.7224e-03\n-log10(p): 2.4292",
           "p-value: 1.0000e+00\n-log10(p): -0.0000"
          ],
          [
           "p-value: 1.4277e-24\n-log10(p): 23.8454",
           "p-value: 4.5956e-20\n-log10(p): 19.3377",
           "p-value: 2.9541e-06\n-log10(p): 5.5296",
           "p-value: 2.5627e-03\n-log10(p): 2.5913",
           "p-value: 1.0000e+00\n-log10(p): -0.0000",
           "p-value: 2.8573e-01\n-log10(p): 0.5440",
           "p-value: 2.6556e-14\n-log10(p): 13.5758",
           "p-value: 1.0000e+00\n-log10(p): -0.0000",
           "p-value: 1.0000e+00\n-log10(p): -0.0000",
           "p-value: 3.8236e-10\n-log10(p): 9.4175",
           "p-value: 1.0000e+00\n-log10(p): -0.0000",
           "p-value: 1.0000e+00\n-log10(p): -0.0000",
           "p-value: 1.0000e+00\n-log10(p): -0.0000",
           "p-value: 2.8962e-30\n-log10(p): 29.5382",
           "p-value: 1.6969e-24\n-log10(p): 23.7704",
           "p-value: 8.5711e-13\n-log10(p): 12.0670",
           "p-value: 1.4746e-10\n-log10(p): 9.8313",
           "p-value: 1.0000e+00\n-log10(p): -0.0000",
           "p-value: 1.0000e+00\n-log10(p): -0.0000",
           "p-value: 1.0411e-58\n-log10(p): 57.9825",
           "p-value: 5.9143e-04\n-log10(p): 3.2281",
           "p-value: 3.5101e-04\n-log10(p): 3.4547",
           "p-value: 1.0000e+00\n-log10(p): -0.0000",
           "p-value: 1.0312e-22\n-log10(p): 21.9866",
           "p-value: 1.0000e+00\n-log10(p): -0.0000",
           "p-value: 3.6046e-01\n-log10(p): 0.4431",
           "p-value: 1.9283e-24\n-log10(p): 23.7148",
           "p-value: 1.0000e+00\n-log10(p): -0.0000",
           "p-value: 4.9296e-05\n-log10(p): 4.3072",
           "p-value: 1.0000e+00\n-log10(p): -0.0000",
           "p-value: 7.1382e-18\n-log10(p): 17.1464",
           "p-value: 7.5058e-12\n-log10(p): 11.1246",
           "p-value: 3.2016e-03\n-log10(p): 2.4946",
           "p-value: 3.6123e-40\n-log10(p): 39.4422",
           "p-value: 1.2500e-14\n-log10(p): 13.9031",
           "p-value: 1.9221e-10\n-log10(p): 9.7162"
          ],
          [
           "p-value: 6.3382e-14\n-log10(p): 13.1980",
           "p-value: 2.0091e-11\n-log10(p): 10.6970",
           "p-value: 5.8956e-03\n-log10(p): 2.2295",
           "p-value: 1.0000e+00\n-log10(p): -0.0000",
           "p-value: 1.0000e+00\n-log10(p): -0.0000",
           "p-value: 1.0000e+00\n-log10(p): -0.0000",
           "p-value: 8.9372e-08\n-log10(p): 7.0488",
           "p-value: 1.0000e+00\n-log10(p): -0.0000",
           "p-value: 1.0000e+00\n-log10(p): -0.0000",
           "p-value: 1.2519e-06\n-log10(p): 5.9024",
           "p-value: 1.0000e+00\n-log10(p): -0.0000",
           "p-value: 1.0000e+00\n-log10(p): -0.0000",
           "p-value: 1.0000e+00\n-log10(p): -0.0000",
           "p-value: 7.2002e-19\n-log10(p): 18.1427",
           "p-value: 8.2745e-17\n-log10(p): 16.0823",
           "p-value: 9.8479e-09\n-log10(p): 8.0067",
           "p-value: 1.0819e-03\n-log10(p): 2.9658",
           "p-value: 1.0000e+00\n-log10(p): -0.0000",
           "p-value: 1.0000e+00\n-log10(p): -0.0000",
           "p-value: 2.1347e-40\n-log10(p): 39.6707",
           "p-value: 9.6864e-01\n-log10(p): 0.0138",
           "p-value: 1.1412e-01\n-log10(p): 0.9426",
           "p-value: 8.4831e-01\n-log10(p): 0.0714",
           "p-value: 6.5227e-15\n-log10(p): 14.1856",
           "p-value: 1.0000e+00\n-log10(p): -0.0000",
           "p-value: 1.0000e+00\n-log10(p): -0.0000",
           "p-value: 1.1560e-17\n-log10(p): 16.9370",
           "p-value: 1.0000e+00\n-log10(p): -0.0000",
           "p-value: 2.1440e-07\n-log10(p): 6.6688",
           "p-value: 1.0000e+00\n-log10(p): -0.0000",
           "p-value: 9.8105e-11\n-log10(p): 10.0083",
           "p-value: 3.3897e-07\n-log10(p): 6.4698",
           "p-value: 4.4631e-01\n-log10(p): 0.3504",
           "p-value: 1.1783e-24\n-log10(p): 23.9287",
           "p-value: 3.0488e-09\n-log10(p): 8.5159",
           "p-value: 1.8950e-04\n-log10(p): 3.7224"
          ],
          [
           "p-value: 2.6732e-11\n-log10(p): 10.5730",
           "p-value: 1.9678e-10\n-log10(p): 9.7060",
           "p-value: 8.0743e-10\n-log10(p): 9.0929",
           "p-value: 7.8839e-32\n-log10(p): 31.1033",
           "p-value: 1.1639e-33\n-log10(p): 32.9341",
           "p-value: 4.1888e-11\n-log10(p): 10.3779",
           "p-value: 6.5704e-12\n-log10(p): 11.1824",
           "p-value: 1.6749e-27\n-log10(p): 26.7760",
           "p-value: 7.5297e-34\n-log10(p): 33.1232",
           "p-value: 4.7241e-01\n-log10(p): 0.3257",
           "p-value: 1.3450e-89\n-log10(p): 88.8713",
           "p-value: 8.7319e-33\n-log10(p): 32.0589",
           "p-value: 3.0927e-19\n-log10(p): 18.5097",
           "p-value: 4.9604e-04\n-log10(p): 3.3045",
           "p-value: 1.0000e+00\n-log10(p): -0.0000",
           "p-value: 1.0000e+00\n-log10(p): -0.0000",
           "p-value: 2.8157e-43\n-log10(p): 42.5504",
           "p-value: 1.0411e-58\n-log10(p): 57.9825",
           "p-value: 2.1347e-40\n-log10(p): 39.6707",
           "p-value: 1.0000e+00\n-log10(p): -0.0000",
           "p-value: 1.1697e-27\n-log10(p): 26.9319",
           "p-value: 4.1168e-09\n-log10(p): 8.3854",
           "p-value: 8.9204e-66\n-log10(p): 65.0496",
           "p-value: 1.0396e-01\n-log10(p): 0.9831",
           "p-value: 3.6215e-11\n-log10(p): 10.4411",
           "p-value: 5.6862e-20\n-log10(p): 19.2452",
           "p-value: 1.0000e+00\n-log10(p): -0.0000",
           "p-value: 1.7739e-89\n-log10(p): 88.7511",
           "p-value: 1.1548e-88\n-log10(p): 87.9375",
           "p-value: 2.7055e-51\n-log10(p): 50.5678",
           "p-value: 2.1309e-06\n-log10(p): 5.6714",
           "p-value: 2.2497e-04\n-log10(p): 3.6479",
           "p-value: 1.3390e-08\n-log10(p): 7.8732",
           "p-value: 5.7331e-04\n-log10(p): 3.2416",
           "p-value: 3.2947e-03\n-log10(p): 2.4822",
           "p-value: 1.2822e-25\n-log10(p): 24.8921"
          ],
          [
           "p-value: 6.9035e-05\n-log10(p): 4.1609",
           "p-value: 1.8377e-03\n-log10(p): 2.7357",
           "p-value: 1.0000e+00\n-log10(p): -0.0000",
           "p-value: 1.0000e+00\n-log10(p): -0.0000",
           "p-value: 1.0000e+00\n-log10(p): -0.0000",
           "p-value: 1.0000e+00\n-log10(p): -0.0000",
           "p-value: 2.5872e-01\n-log10(p): 0.5872",
           "p-value: 1.0000e+00\n-log10(p): -0.0000",
           "p-value: 5.1844e-04\n-log10(p): 3.2853",
           "p-value: 4.8485e-02\n-log10(p): 1.3144",
           "p-value: 4.2163e-05\n-log10(p): 4.3751",
           "p-value: 6.6106e-02\n-log10(p): 1.1798",
           "p-value: 1.0000e+00\n-log10(p): -0.0000",
           "p-value: 4.7231e-09\n-log10(p): 8.3258",
           "p-value: 1.0556e-08\n-log10(p): 7.9765",
           "p-value: 1.6272e-03\n-log10(p): 2.7886",
           "p-value: 1.0000e+00\n-log10(p): -0.0000",
           "p-value: 5.9143e-04\n-log10(p): 3.2281",
           "p-value: 9.6864e-01\n-log10(p): 0.0138",
           "p-value: 1.1697e-27\n-log10(p): 26.9319",
           "p-value: 1.0000e+00\n-log10(p): -0.0000",
           "p-value: 1.0000e+00\n-log10(p): -0.0000",
           "p-value: 1.9400e-08\n-log10(p): 7.7122",
           "p-value: 6.6372e-07\n-log10(p): 6.1780",
           "p-value: 1.0000e+00\n-log10(p): -0.0000",
           "p-value: 1.0000e+00\n-log10(p): -0.0000",
           "p-value: 5.3852e-10\n-log10(p): 9.2688",
           "p-value: 4.1511e-08\n-log10(p): 7.3818",
           "p-value: 8.3384e-20\n-log10(p): 19.0789",
           "p-value: 9.4279e-03\n-log10(p): 2.0256",
           "p-value: 1.6587e-03\n-log10(p): 2.7802",
           "p-value: 8.8669e-02\n-log10(p): 1.0522",
           "p-value: 1.0000e+00\n-log10(p): -0.0000",
           "p-value: 3.3887e-13\n-log10(p): 12.4700",
           "p-value: 4.1153e-03\n-log10(p): 2.3856",
           "p-value: 1.0000e+00\n-log10(p): -0.0000"
          ],
          [
           "p-value: 1.0000e+00\n-log10(p): -0.0000",
           "p-value: 1.0000e+00\n-log10(p): -0.0000",
           "p-value: 1.0000e+00\n-log10(p): -0.0000",
           "p-value: 1.0000e+00\n-log10(p): -0.0000",
           "p-value: 7.8832e-01\n-log10(p): 0.1033",
           "p-value: 1.0000e+00\n-log10(p): -0.0000",
           "p-value: 1.0000e+00\n-log10(p): -0.0000",
           "p-value: 3.5169e-01\n-log10(p): 0.4538",
           "p-value: 8.6365e-05\n-log10(p): 4.0637",
           "p-value: 1.0000e+00\n-log10(p): -0.0000",
           "p-value: 2.0585e-04\n-log10(p): 3.6864",
           "p-value: 8.2783e-03\n-log10(p): 2.0821",
           "p-value: 1.0000e+00\n-log10(p): -0.0000",
           "p-value: 2.8556e-01\n-log10(p): 0.5443",
           "p-value: 2.6550e-02\n-log10(p): 1.5759",
           "p-value: 1.0000e+00\n-log10(p): -0.0000",
           "p-value: 1.0000e+00\n-log10(p): -0.0000",
           "p-value: 3.5101e-04\n-log10(p): 3.4547",
           "p-value: 1.1412e-01\n-log10(p): 0.9426",
           "p-value: 4.1168e-09\n-log10(p): 8.3854",
           "p-value: 1.0000e+00\n-log10(p): -0.0000",
           "p-value: 1.0000e+00\n-log10(p): -0.0000",
           "p-value: 1.0625e-07\n-log10(p): 6.9737",
           "p-value: 3.6614e-01\n-log10(p): 0.4364",
           "p-value: 1.0000e+00\n-log10(p): -0.0000",
           "p-value: 1.0000e+00\n-log10(p): -0.0000",
           "p-value: 1.3365e-03\n-log10(p): 2.8740",
           "p-value: 1.4198e-06\n-log10(p): 5.8478",
           "p-value: 4.5335e-16\n-log10(p): 15.3436",
           "p-value: 2.5908e-03\n-log10(p): 2.5866",
           "p-value: 1.0000e+00\n-log10(p): -0.0000",
           "p-value: 1.0000e+00\n-log10(p): -0.0000",
           "p-value: 1.0000e+00\n-log10(p): -0.0000",
           "p-value: 3.0737e-02\n-log10(p): 1.5123",
           "p-value: 1.0000e+00\n-log10(p): -0.0000",
           "p-value: 1.0000e+00\n-log10(p): -0.0000"
          ],
          [
           "p-value: 1.2781e-31\n-log10(p): 30.8934",
           "p-value: 9.6376e-27\n-log10(p): 26.0160",
           "p-value: 1.8554e-10\n-log10(p): 9.7316",
           "p-value: 9.7737e-08\n-log10(p): 7.0099",
           "p-value: 1.9559e-01\n-log10(p): 0.7087",
           "p-value: 7.5500e-04\n-log10(p): 3.1221",
           "p-value: 2.3899e-20\n-log10(p): 19.6216",
           "p-value: 1.0000e+00\n-log10(p): -0.0000",
           "p-value: 1.0000e+00\n-log10(p): -0.0000",
           "p-value: 2.8730e-14\n-log10(p): 13.5417",
           "p-value: 1.0000e+00\n-log10(p): -0.0000",
           "p-value: 1.0000e+00\n-log10(p): -0.0000",
           "p-value: 1.0000e+00\n-log10(p): -0.0000",
           "p-value: 2.4022e-37\n-log10(p): 36.6194",
           "p-value: 1.0095e-30\n-log10(p): 29.9959",
           "p-value: 2.8547e-17\n-log10(p): 16.5444",
           "p-value: 4.6281e-17\n-log10(p): 16.3346",
           "p-value: 1.0000e+00\n-log10(p): -0.0000",
           "p-value: 8.4831e-01\n-log10(p): 0.0714",
           "p-value: 8.9204e-66\n-log10(p): 65.0496",
           "p-value: 1.9400e-08\n-log10(p): 7.7122",
           "p-value: 1.0625e-07\n-log10(p): 6.9737",
           "p-value: 1.0000e+00\n-log10(p): -0.0000",
           "p-value: 5.0512e-29\n-log10(p): 28.2966",
           "p-value: 6.4712e-03\n-log10(p): 2.1890",
           "p-value: 3.3750e-04\n-log10(p): 3.4717",
           "p-value: 2.8057e-30\n-log10(p): 29.5520",
           "p-value: 1.0000e+00\n-log10(p): -0.0000",
           "p-value: 8.3907e-01\n-log10(p): 0.0762",
           "p-value: 1.0000e+00\n-log10(p): -0.0000",
           "p-value: 4.7027e-24\n-log10(p): 23.3277",
           "p-value: 7.7119e-17\n-log10(p): 16.1128",
           "p-value: 2.2580e-06\n-log10(p): 5.6463",
           "p-value: 2.2645e-47\n-log10(p): 46.6450",
           "p-value: 5.4231e-20\n-log10(p): 19.2658",
           "p-value: 1.8381e-16\n-log10(p): 15.7356"
          ],
          [
           "p-value: 1.0000e+00\n-log10(p): -0.0000",
           "p-value: 1.0000e+00\n-log10(p): -0.0000",
           "p-value: 5.5180e-01\n-log10(p): 0.2582",
           "p-value: 2.3317e-08\n-log10(p): 7.6323",
           "p-value: 4.4024e-12\n-log10(p): 11.3563",
           "p-value: 1.1605e-02\n-log10(p): 1.9354",
           "p-value: 1.0000e+00\n-log10(p): -0.0000",
           "p-value: 5.4662e-11\n-log10(p): 10.2623",
           "p-value: 8.3928e-17\n-log10(p): 16.0761",
           "p-value: 1.0000e+00\n-log10(p): -0.0000",
           "p-value: 7.1615e-29\n-log10(p): 28.1450",
           "p-value: 2.0660e-14\n-log10(p): 13.6849",
           "p-value: 8.4059e-08\n-log10(p): 7.0754",
           "p-value: 1.0000e+00\n-log10(p): -0.0000",
           "p-value: 1.0000e+00\n-log10(p): -0.0000",
           "p-value: 1.0000e+00\n-log10(p): -0.0000",
           "p-value: 3.5543e-08\n-log10(p): 7.4492",
           "p-value: 1.0312e-22\n-log10(p): 21.9866",
           "p-value: 6.5227e-15\n-log10(p): 14.1856",
           "p-value: 1.0396e-01\n-log10(p): 0.9831",
           "p-value: 6.6372e-07\n-log10(p): 6.1780",
           "p-value: 3.6614e-01\n-log10(p): 0.4364",
           "p-value: 5.0512e-29\n-log10(p): 28.2966",
           "p-value: 1.0000e+00\n-log10(p): -0.0000",
           "p-value: 6.1465e-03\n-log10(p): 2.2114",
           "p-value: 7.6612e-06\n-log10(p): 5.1157",
           "p-value: 1.0000e+00\n-log10(p): -0.0000",
           "p-value: 1.5145e-32\n-log10(p): 31.8197",
           "p-value: 1.6574e-44\n-log10(p): 43.7806",
           "p-value: 8.3787e-20\n-log10(p): 19.0768",
           "p-value: 1.0000e+00\n-log10(p): -0.0000",
           "p-value: 1.0000e+00\n-log10(p): -0.0000",
           "p-value: 3.3374e-01\n-log10(p): 0.4766",
           "p-value: 1.0000e+00\n-log10(p): -0.0000",
           "p-value: 1.0000e+00\n-log10(p): -0.0000",
           "p-value: 2.4396e-04\n-log10(p): 3.6127"
          ],
          [
           "p-value: 4.2564e-01\n-log10(p): 0.3710",
           "p-value: 1.0000e+00\n-log10(p): -0.0000",
           "p-value: 1.0000e+00\n-log10(p): -0.0000",
           "p-value: 1.0000e+00\n-log10(p): -0.0000",
           "p-value: 1.0000e+00\n-log10(p): -0.0000",
           "p-value: 1.0000e+00\n-log10(p): -0.0000",
           "p-value: 1.0000e+00\n-log10(p): -0.0000",
           "p-value: 1.0000e+00\n-log10(p): -0.0000",
           "p-value: 1.0149e-01\n-log10(p): 0.9936",
           "p-value: 6.7453e-01\n-log10(p): 0.1710",
           "p-value: 1.0000e+00\n-log10(p): -0.0000",
           "p-value: 1.0000e+00\n-log10(p): -0.0000",
           "p-value: 1.0000e+00\n-log10(p): -0.0000",
           "p-value: 3.7419e-03\n-log10(p): 2.4269",
           "p-value: 3.6029e-04\n-log10(p): 3.4434",
           "p-value: 7.4281e-02\n-log10(p): 1.1291",
           "p-value: 1.0000e+00\n-log10(p): -0.0000",
           "p-value: 1.0000e+00\n-log10(p): -0.0000",
           "p-value: 1.0000e+00\n-log10(p): -0.0000",
           "p-value: 3.6215e-11\n-log10(p): 10.4411",
           "p-value: 1.0000e+00\n-log10(p): -0.0000",
           "p-value: 1.0000e+00\n-log10(p): -0.0000",
           "p-value: 6.4712e-03\n-log10(p): 2.1890",
           "p-value: 6.1465e-03\n-log10(p): 2.2114",
           "p-value: 1.0000e+00\n-log10(p): -0.0000",
           "p-value: 1.0000e+00\n-log10(p): -0.0000",
           "p-value: 1.6607e-05\n-log10(p): 4.7797",
           "p-value: 9.4297e-02\n-log10(p): 1.0255",
           "p-value: 1.2346e-08\n-log10(p): 7.9085",
           "p-value: 1.0000e+00\n-log10(p): -0.0000",
           "p-value: 5.4078e-01\n-log10(p): 0.2670",
           "p-value: 1.0000e+00\n-log10(p): -0.0000",
           "p-value: 1.0000e+00\n-log10(p): -0.0000",
           "p-value: 2.9778e-04\n-log10(p): 3.5261",
           "p-value: 3.7503e-01\n-log10(p): 0.4259",
           "p-value: 1.0000e+00\n-log10(p): -0.0000"
          ],
          [
           "p-value: 1.1806e-03\n-log10(p): 2.9279",
           "p-value: 8.9432e-03\n-log10(p): 2.0485",
           "p-value: 1.0000e+00\n-log10(p): -0.0000",
           "p-value: 1.0000e+00\n-log10(p): -0.0000",
           "p-value: 1.0000e+00\n-log10(p): -0.0000",
           "p-value: 1.0000e+00\n-log10(p): -0.0000",
           "p-value: 3.3983e-01\n-log10(p): 0.4687",
           "p-value: 1.0000e+00\n-log10(p): -0.0000",
           "p-value: 3.7077e-02\n-log10(p): 1.4309",
           "p-value: 3.9629e-02\n-log10(p): 1.4020",
           "p-value: 4.0483e-01\n-log10(p): 0.3927",
           "p-value: 1.0000e+00\n-log10(p): -0.0000",
           "p-value: 1.0000e+00\n-log10(p): -0.0000",
           "p-value: 7.1187e-07\n-log10(p): 6.1476",
           "p-value: 1.8575e-07\n-log10(p): 6.7311",
           "p-value: 1.8636e-03\n-log10(p): 2.7296",
           "p-value: 1.0000e+00\n-log10(p): -0.0000",
           "p-value: 3.6046e-01\n-log10(p): 0.4431",
           "p-value: 1.0000e+00\n-log10(p): -0.0000",
           "p-value: 5.6862e-20\n-log10(p): 19.2452",
           "p-value: 1.0000e+00\n-log10(p): -0.0000",
           "p-value: 1.0000e+00\n-log10(p): -0.0000",
           "p-value: 3.3750e-04\n-log10(p): 3.4717",
           "p-value: 7.6612e-06\n-log10(p): 5.1157",
           "p-value: 1.0000e+00\n-log10(p): -0.0000",
           "p-value: 1.0000e+00\n-log10(p): -0.0000",
           "p-value: 7.1319e-09\n-log10(p): 8.1468",
           "p-value: 5.6304e-03\n-log10(p): 2.2495",
           "p-value: 5.6889e-12\n-log10(p): 11.2450",
           "p-value: 1.0000e+00\n-log10(p): -0.0000",
           "p-value: 5.2178e-03\n-log10(p): 2.2825",
           "p-value: 8.9924e-02\n-log10(p): 1.0461",
           "p-value: 1.0000e+00\n-log10(p): -0.0000",
           "p-value: 3.2645e-09\n-log10(p): 8.4862",
           "p-value: 6.7214e-03\n-log10(p): 2.1725",
           "p-value: 1.0000e+00\n-log10(p): -0.0000"
          ],
          [
           "p-value: 6.0881e-02\n-log10(p): 1.2155",
           "p-value: 4.5879e-02\n-log10(p): 1.3384",
           "p-value: 1.6828e-03\n-log10(p): 2.7740",
           "p-value: 2.1581e-11\n-log10(p): 10.6659",
           "p-value: 4.6590e-15\n-log10(p): 14.3317",
           "p-value: 3.0538e-05\n-log10(p): 4.5152",
           "p-value: 4.4610e-03\n-log10(p): 2.3506",
           "p-value: 4.6005e-14\n-log10(p): 13.3372",
           "p-value: 7.9107e-20\n-log10(p): 19.1018",
           "p-value: 1.0000e+00\n-log10(p): -0.0000",
           "p-value: 2.4337e-28\n-log10(p): 27.6137",
           "p-value: 1.9828e-17\n-log10(p): 16.7027",
           "p-value: 9.3831e-11\n-log10(p): 10.0277",
           "p-value: 1.0000e+00\n-log10(p): -0.0000",
           "p-value: 1.0000e+00\n-log10(p): -0.0000",
           "p-value: 1.0000e+00\n-log10(p): -0.0000",
           "p-value: 5.1236e-11\n-log10(p): 10.2904",
           "p-value: 1.9283e-24\n-log10(p): 23.7148",
           "p-value: 1.1560e-17\n-log10(p): 16.9370",
           "p-value: 1.0000e+00\n-log10(p): -0.0000",
           "p-value: 5.3852e-10\n-log10(p): 9.2688",
           "p-value: 1.3365e-03\n-log10(p): 2.8740",
           "p-value: 2.8057e-30\n-log10(p): 29.5520",
           "p-value: 1.0000e+00\n-log10(p): -0.0000",
           "p-value: 1.6607e-05\n-log10(p): 4.7797",
           "p-value: 7.1319e-09\n-log10(p): 8.1468",
           "p-value: 1.0000e+00\n-log10(p): -0.0000",
           "p-value: 8.2355e-32\n-log10(p): 31.0843",
           "p-value: 5.8285e-44\n-log10(p): 43.2344",
           "p-value: 5.2371e-22\n-log10(p): 21.2809",
           "p-value: 5.4610e-01\n-log10(p): 0.2627",
           "p-value: 1.0000e+00\n-log10(p): -0.0000",
           "p-value: 1.4102e-03\n-log10(p): 2.8507",
           "p-value: 1.0000e+00\n-log10(p): -0.0000",
           "p-value: 1.0000e+00\n-log10(p): -0.0000",
           "p-value: 1.8863e-07\n-log10(p): 6.7244"
          ],
          [
           "p-value: 4.5139e-43\n-log10(p): 42.3454",
           "p-value: 2.3224e-33\n-log10(p): 32.6341",
           "p-value: 1.0837e-09\n-log10(p): 8.9651",
           "p-value: 2.2707e-07\n-log10(p): 6.6438",
           "p-value: 1.0000e+00\n-log10(p): -0.0000",
           "p-value: 1.2211e-02\n-log10(p): 1.9133",
           "p-value: 2.5742e-23\n-log10(p): 22.5894",
           "p-value: 1.0000e+00\n-log10(p): -0.0000",
           "p-value: 1.0000e+00\n-log10(p): -0.0000",
           "p-value: 2.1933e-13\n-log10(p): 12.6589",
           "p-value: 1.0000e+00\n-log10(p): -0.0000",
           "p-value: 1.0000e+00\n-log10(p): -0.0000",
           "p-value: 1.0000e+00\n-log10(p): -0.0000",
           "p-value: 2.4049e-48\n-log10(p): 47.6189",
           "p-value: 1.0398e-33\n-log10(p): 32.9830",
           "p-value: 1.2288e-16\n-log10(p): 15.9105",
           "p-value: 6.9089e-25\n-log10(p): 24.1606",
           "p-value: 1.0000e+00\n-log10(p): -0.0000",
           "p-value: 1.0000e+00\n-log10(p): -0.0000",
           "p-value: 1.7739e-89\n-log10(p): 88.7511",
           "p-value: 4.1511e-08\n-log10(p): 7.3818",
           "p-value: 1.4198e-06\n-log10(p): 5.8478",
           "p-value: 1.0000e+00\n-log10(p): -0.0000",
           "p-value: 1.5145e-32\n-log10(p): 31.8197",
           "p-value: 9.4297e-02\n-log10(p): 1.0255",
           "p-value: 5.6304e-03\n-log10(p): 2.2495",
           "p-value: 8.2355e-32\n-log10(p): 31.0843",
           "p-value: 1.0000e+00\n-log10(p): -0.0000",
           "p-value: 8.0441e-05\n-log10(p): 4.0945",
           "p-value: 1.0000e+00\n-log10(p): -0.0000",
           "p-value: 2.6311e-27\n-log10(p): 26.5799",
           "p-value: 7.2616e-17\n-log10(p): 16.1390",
           "p-value: 3.6086e-05\n-log10(p): 4.4427",
           "p-value: 1.8492e-69\n-log10(p): 68.7330",
           "p-value: 1.2316e-20\n-log10(p): 19.9095",
           "p-value: 5.7372e-20\n-log10(p): 19.2413"
          ],
          [
           "p-value: 1.0922e-50\n-log10(p): 49.9617",
           "p-value: 6.1161e-44\n-log10(p): 43.2135",
           "p-value: 1.8353e-20\n-log10(p): 19.7363",
           "p-value: 4.3940e-19\n-log10(p): 18.3571",
           "p-value: 3.2481e-08\n-log10(p): 7.4884",
           "p-value: 3.3303e-10\n-log10(p): 9.4775",
           "p-value: 2.3732e-35\n-log10(p): 34.6247",
           "p-value: 1.1703e-04\n-log10(p): 3.9317",
           "p-value: 1.0000e+00\n-log10(p): -0.0000",
           "p-value: 1.4015e-23\n-log10(p): 22.8534",
           "p-value: 2.3697e-09\n-log10(p): 8.6253",
           "p-value: 2.7156e-02\n-log10(p): 1.5661",
           "p-value: 2.0352e-03\n-log10(p): 2.6914",
           "p-value: 1.7382e-56\n-log10(p): 55.7599",
           "p-value: 8.4127e-46\n-log10(p): 45.0751",
           "p-value: 2.2423e-27\n-log10(p): 26.6493",
           "p-value: 2.9679e-34\n-log10(p): 33.5276",
           "p-value: 4.9296e-05\n-log10(p): 4.3072",
           "p-value: 2.1440e-07\n-log10(p): 6.6688",
           "p-value: 1.1548e-88\n-log10(p): 87.9375",
           "p-value: 8.3384e-20\n-log10(p): 19.0789",
           "p-value: 4.5335e-16\n-log10(p): 15.3436",
           "p-value: 8.3907e-01\n-log10(p): 0.0762",
           "p-value: 1.6574e-44\n-log10(p): 43.7806",
           "p-value: 1.2346e-08\n-log10(p): 7.9085",
           "p-value: 5.6889e-12\n-log10(p): 11.2450",
           "p-value: 5.8285e-44\n-log10(p): 43.2344",
           "p-value: 8.0441e-05\n-log10(p): 4.0945",
           "p-value: 1.0000e+00\n-log10(p): -0.0000",
           "p-value: 1.5709e-05\n-log10(p): 4.8038",
           "p-value: 2.6616e-39\n-log10(p): 38.5749",
           "p-value: 1.5513e-28\n-log10(p): 27.8093",
           "p-value: 7.0442e-14\n-log10(p): 13.1522",
           "p-value: 2.2554e-69\n-log10(p): 68.6468",
           "p-value: 1.2374e-32\n-log10(p): 31.9075",
           "p-value: 9.1576e-32\n-log10(p): 31.0382"
          ],
          [
           "p-value: 2.6516e-20\n-log10(p): 19.5765",
           "p-value: 1.0769e-16\n-log10(p): 15.9678",
           "p-value: 4.3353e-05\n-log10(p): 4.3630",
           "p-value: 3.5930e-02\n-log10(p): 1.4445",
           "p-value: 1.0000e+00\n-log10(p): -0.0000",
           "p-value: 9.6692e-01\n-log10(p): 0.0146",
           "p-value: 7.9751e-12\n-log10(p): 11.0983",
           "p-value: 1.0000e+00\n-log10(p): -0.0000",
           "p-value: 1.0000e+00\n-log10(p): -0.0000",
           "p-value: 6.0653e-09\n-log10(p): 8.2171",
           "p-value: 1.0000e+00\n-log10(p): -0.0000",
           "p-value: 1.0000e+00\n-log10(p): -0.0000",
           "p-value: 1.0000e+00\n-log10(p): -0.0000",
           "p-value: 9.1545e-26\n-log10(p): 25.0384",
           "p-value: 1.1564e-21\n-log10(p): 20.9369",
           "p-value: 2.1402e-11\n-log10(p): 10.6696",
           "p-value: 9.7458e-08\n-log10(p): 7.0112",
           "p-value: 1.0000e+00\n-log10(p): -0.0000",
           "p-value: 1.0000e+00\n-log10(p): -0.0000",
           "p-value: 2.7055e-51\n-log10(p): 50.5678",
           "p-value: 9.4279e-03\n-log10(p): 2.0256",
           "p-value: 2.5908e-03\n-log10(p): 2.5866",
           "p-value: 1.0000e+00\n-log10(p): -0.0000",
           "p-value: 8.3787e-20\n-log10(p): 19.0768",
           "p-value: 1.0000e+00\n-log10(p): -0.0000",
           "p-value: 1.0000e+00\n-log10(p): -0.0000",
           "p-value: 5.2371e-22\n-log10(p): 21.2809",
           "p-value: 1.0000e+00\n-log10(p): -0.0000",
           "p-value: 1.5709e-05\n-log10(p): 4.8038",
           "p-value: 1.0000e+00\n-log10(p): -0.0000",
           "p-value: 3.4707e-15\n-log10(p): 14.4596",
           "p-value: 3.4328e-10\n-log10(p): 9.4644",
           "p-value: 1.7277e-02\n-log10(p): 1.7625",
           "p-value: 8.6088e-34\n-log10(p): 33.0651",
           "p-value: 1.0903e-12\n-log10(p): 11.9624",
           "p-value: 4.2156e-08\n-log10(p): 7.3751"
          ],
          [
           "p-value: 1.0000e+00\n-log10(p): -0.0000",
           "p-value: 1.0000e+00\n-log10(p): -0.0000",
           "p-value: 1.0000e+00\n-log10(p): -0.0000",
           "p-value: 1.1133e-04\n-log10(p): 3.9534",
           "p-value: 2.9030e-08\n-log10(p): 7.5372",
           "p-value: 1.0000e+00\n-log10(p): -0.0000",
           "p-value: 1.0000e+00\n-log10(p): -0.0000",
           "p-value: 1.3269e-07\n-log10(p): 6.8772",
           "p-value: 3.7369e-13\n-log10(p): 12.4275",
           "p-value: 1.0000e+00\n-log10(p): -0.0000",
           "p-value: 1.2529e-23\n-log10(p): 22.9021",
           "p-value: 1.0085e-10\n-log10(p): 9.9963",
           "p-value: 4.2129e-05\n-log10(p): 4.3754",
           "p-value: 1.0000e+00\n-log10(p): -0.0000",
           "p-value: 1.0000e+00\n-log10(p): -0.0000",
           "p-value: 1.0000e+00\n-log10(p): -0.0000",
           "p-value: 4.4754e-04\n-log10(p): 3.3492",
           "p-value: 7.1382e-18\n-log10(p): 17.1464",
           "p-value: 9.8105e-11\n-log10(p): 10.0083",
           "p-value: 2.1309e-06\n-log10(p): 5.6714",
           "p-value: 1.6587e-03\n-log10(p): 2.7802",
           "p-value: 1.0000e+00\n-log10(p): -0.0000",
           "p-value: 4.7027e-24\n-log10(p): 23.3277",
           "p-value: 1.0000e+00\n-log10(p): -0.0000",
           "p-value: 5.4078e-01\n-log10(p): 0.2670",
           "p-value: 5.2178e-03\n-log10(p): 2.2825",
           "p-value: 5.4610e-01\n-log10(p): 0.2627",
           "p-value: 2.6311e-27\n-log10(p): 26.5799",
           "p-value: 2.6616e-39\n-log10(p): 38.5749",
           "p-value: 3.4707e-15\n-log10(p): 14.4596",
           "p-value: 1.0000e+00\n-log10(p): -0.0000",
           "p-value: 1.0000e+00\n-log10(p): -0.0000",
           "p-value: 1.0000e+00\n-log10(p): -0.0000",
           "p-value: 1.0000e+00\n-log10(p): -0.0000",
           "p-value: 1.0000e+00\n-log10(p): -0.0000",
           "p-value: 3.0808e-01\n-log10(p): 0.5113"
          ],
          [
           "p-value: 1.0000e+00\n-log10(p): -0.0000",
           "p-value: 1.0000e+00\n-log10(p): -0.0000",
           "p-value: 1.0000e+00\n-log10(p): -0.0000",
           "p-value: 1.5711e-02\n-log10(p): 1.8038",
           "p-value: 1.5312e-05\n-log10(p): 4.8150",
           "p-value: 1.0000e+00\n-log10(p): -0.0000",
           "p-value: 1.0000e+00\n-log10(p): -0.0000",
           "p-value: 1.6954e-05\n-log10(p): 4.7707",
           "p-value: 2.2377e-10\n-log10(p): 9.6502",
           "p-value: 1.0000e+00\n-log10(p): -0.0000",
           "p-value: 9.2076e-14\n-log10(p): 13.0359",
           "p-value: 5.2123e-08\n-log10(p): 7.2830",
           "p-value: 7.9905e-04\n-log10(p): 3.0974",
           "p-value: 1.0000e+00\n-log10(p): -0.0000",
           "p-value: 1.0000e+00\n-log10(p): -0.0000",
           "p-value: 1.0000e+00\n-log10(p): -0.0000",
           "p-value: 1.3664e-01\n-log10(p): 0.8644",
           "p-value: 7.5058e-12\n-log10(p): 11.1246",
           "p-value: 3.3897e-07\n-log10(p): 6.4698",
           "p-value: 2.2497e-04\n-log10(p): 3.6479",
           "p-value: 8.8669e-02\n-log10(p): 1.0522",
           "p-value: 1.0000e+00\n-log10(p): -0.0000",
           "p-value: 7.7119e-17\n-log10(p): 16.1128",
           "p-value: 1.0000e+00\n-log10(p): -0.0000",
           "p-value: 1.0000e+00\n-log10(p): -0.0000",
           "p-value: 8.9924e-02\n-log10(p): 1.0461",
           "p-value: 1.0000e+00\n-log10(p): -0.0000",
           "p-value: 7.2616e-17\n-log10(p): 16.1390",
           "p-value: 1.5513e-28\n-log10(p): 27.8093",
           "p-value: 3.4328e-10\n-log10(p): 9.4644",
           "p-value: 1.0000e+00\n-log10(p): -0.0000",
           "p-value: 1.0000e+00\n-log10(p): -0.0000",
           "p-value: 1.0000e+00\n-log10(p): -0.0000",
           "p-value: 1.0000e+00\n-log10(p): -0.0000",
           "p-value: 1.0000e+00\n-log10(p): -0.0000",
           "p-value: 1.0000e+00\n-log10(p): -0.0000"
          ],
          [
           "p-value: 1.0000e+00\n-log10(p): -0.0000",
           "p-value: 1.0000e+00\n-log10(p): -0.0000",
           "p-value: 1.0000e+00\n-log10(p): -0.0000",
           "p-value: 1.0000e+00\n-log10(p): -0.0000",
           "p-value: 1.0000e+00\n-log10(p): -0.0000",
           "p-value: 1.0000e+00\n-log10(p): -0.0000",
           "p-value: 1.0000e+00\n-log10(p): -0.0000",
           "p-value: 1.0000e+00\n-log10(p): -0.0000",
           "p-value: 4.7337e-04\n-log10(p): 3.3248",
           "p-value: 1.0000e+00\n-log10(p): -0.0000",
           "p-value: 2.8972e-03\n-log10(p): 2.5380",
           "p-value: 3.4449e-02\n-log10(p): 1.4628",
           "p-value: 1.0000e+00\n-log10(p): -0.0000",
           "p-value: 2.7741e-01\n-log10(p): 0.5569",
           "p-value: 2.6340e-02\n-log10(p): 1.5794",
           "p-value: 1.0000e+00\n-log10(p): -0.0000",
           "p-value: 1.0000e+00\n-log10(p): -0.0000",
           "p-value: 3.2016e-03\n-log10(p): 2.4946",
           "p-value: 4.4631e-01\n-log10(p): 0.3504",
           "p-value: 1.3390e-08\n-log10(p): 7.8732",
           "p-value: 1.0000e+00\n-log10(p): -0.0000",
           "p-value: 1.0000e+00\n-log10(p): -0.0000",
           "p-value: 2.2580e-06\n-log10(p): 5.6463",
           "p-value: 3.3374e-01\n-log10(p): 0.4766",
           "p-value: 1.0000e+00\n-log10(p): -0.0000",
           "p-value: 1.0000e+00\n-log10(p): -0.0000",
           "p-value: 1.4102e-03\n-log10(p): 2.8507",
           "p-value: 3.6086e-05\n-log10(p): 4.4427",
           "p-value: 7.0442e-14\n-log10(p): 13.1522",
           "p-value: 1.7277e-02\n-log10(p): 1.7625",
           "p-value: 1.0000e+00\n-log10(p): -0.0000",
           "p-value: 1.0000e+00\n-log10(p): -0.0000",
           "p-value: 1.0000e+00\n-log10(p): -0.0000",
           "p-value: 3.5448e-02\n-log10(p): 1.4504",
           "p-value: 1.0000e+00\n-log10(p): -0.0000",
           "p-value: 1.0000e+00\n-log10(p): -0.0000"
          ],
          [
           "p-value: 8.9989e-01\n-log10(p): 0.0458",
           "p-value: 8.1463e-01\n-log10(p): 0.0890",
           "p-value: 3.2717e-02\n-log10(p): 1.4852",
           "p-value: 3.0215e-16\n-log10(p): 15.5198",
           "p-value: 2.1446e-19\n-log10(p): 18.6686",
           "p-value: 5.2839e-04\n-log10(p): 3.2770",
           "p-value: 4.4910e-02\n-log10(p): 1.3477",
           "p-value: 9.1147e-16\n-log10(p): 15.0403",
           "p-value: 3.8456e-22\n-log10(p): 21.4150",
           "p-value: 1.0000e+00\n-log10(p): -0.0000",
           "p-value: 3.0592e-70\n-log10(p): 69.5144",
           "p-value: 2.8421e-20\n-log10(p): 19.5464",
           "p-value: 2.2368e-10\n-log10(p): 9.6504",
           "p-value: 1.0000e+00\n-log10(p): -0.0000",
           "p-value: 1.0000e+00\n-log10(p): -0.0000",
           "p-value: 1.0000e+00\n-log10(p): -0.0000",
           "p-value: 1.1689e-23\n-log10(p): 22.9322",
           "p-value: 3.6123e-40\n-log10(p): 39.4422",
           "p-value: 1.1783e-24\n-log10(p): 23.9287",
           "p-value: 5.7331e-04\n-log10(p): 3.2416",
           "p-value: 3.3887e-13\n-log10(p): 12.4700",
           "p-value: 3.0737e-02\n-log10(p): 1.5123",
           "p-value: 2.2645e-47\n-log10(p): 46.6450",
           "p-value: 1.0000e+00\n-log10(p): -0.0000",
           "p-value: 2.9778e-04\n-log10(p): 3.5261",
           "p-value: 3.2645e-09\n-log10(p): 8.4862",
           "p-value: 1.0000e+00\n-log10(p): -0.0000",
           "p-value: 1.8492e-69\n-log10(p): 68.7330",
           "p-value: 2.2554e-69\n-log10(p): 68.6468",
           "p-value: 8.6088e-34\n-log10(p): 33.0651",
           "p-value: 1.0000e+00\n-log10(p): -0.0000",
           "p-value: 1.0000e+00\n-log10(p): -0.0000",
           "p-value: 3.5448e-02\n-log10(p): 1.4504",
           "p-value: 1.0000e+00\n-log10(p): -0.0000",
           "p-value: 1.0000e+00\n-log10(p): -0.0000",
           "p-value: 2.1963e-10\n-log10(p): 9.6583"
          ],
          [
           "p-value: 1.0000e+00\n-log10(p): -0.0000",
           "p-value: 1.0000e+00\n-log10(p): -0.0000",
           "p-value: 1.0000e+00\n-log10(p): -0.0000",
           "p-value: 4.9339e-04\n-log10(p): 3.3068",
           "p-value: 2.6416e-07\n-log10(p): 6.5781",
           "p-value: 6.8968e-01\n-log10(p): 0.1614",
           "p-value: 1.0000e+00\n-log10(p): -0.0000",
           "p-value: 4.8464e-07\n-log10(p): 6.3146",
           "p-value: 3.2138e-12\n-log10(p): 11.4930",
           "p-value: 1.0000e+00\n-log10(p): -0.0000",
           "p-value: 2.5140e-17\n-log10(p): 16.5996",
           "p-value: 8.3203e-10\n-log10(p): 9.0799",
           "p-value: 5.4609e-05\n-log10(p): 4.2627",
           "p-value: 1.0000e+00\n-log10(p): -0.0000",
           "p-value: 1.0000e+00\n-log10(p): -0.0000",
           "p-value: 1.0000e+00\n-log10(p): -0.0000",
           "p-value: 3.7224e-03\n-log10(p): 2.4292",
           "p-value: 1.2500e-14\n-log10(p): 13.9031",
           "p-value: 3.0488e-09\n-log10(p): 8.5159",
           "p-value: 3.2947e-03\n-log10(p): 2.4822",
           "p-value: 4.1153e-03\n-log10(p): 2.3856",
           "p-value: 1.0000e+00\n-log10(p): -0.0000",
           "p-value: 5.4231e-20\n-log10(p): 19.2658",
           "p-value: 1.0000e+00\n-log10(p): -0.0000",
           "p-value: 3.7503e-01\n-log10(p): 0.4259",
           "p-value: 6.7214e-03\n-log10(p): 2.1725",
           "p-value: 1.0000e+00\n-log10(p): -0.0000",
           "p-value: 1.2316e-20\n-log10(p): 19.9095",
           "p-value: 1.2374e-32\n-log10(p): 31.9075",
           "p-value: 1.0903e-12\n-log10(p): 11.9624",
           "p-value: 1.0000e+00\n-log10(p): -0.0000",
           "p-value: 1.0000e+00\n-log10(p): -0.0000",
           "p-value: 1.0000e+00\n-log10(p): -0.0000",
           "p-value: 1.0000e+00\n-log10(p): -0.0000",
           "p-value: 1.0000e+00\n-log10(p): -0.0000",
           "p-value: 3.9592e-01\n-log10(p): 0.4024"
          ],
          [
           "p-value: 3.6257e-02\n-log10(p): 1.4406",
           "p-value: 4.9886e-01\n-log10(p): 0.3020",
           "p-value: 1.0000e+00\n-log10(p): -0.0000",
           "p-value: 1.0000e+00\n-log10(p): -0.0000",
           "p-value: 1.1869e-02\n-log10(p): 1.9256",
           "p-value: 1.0000e+00\n-log10(p): -0.0000",
           "p-value: 1.0000e+00\n-log10(p): -0.0000",
           "p-value: 1.1946e-02\n-log10(p): 1.9228",
           "p-value: 1.4632e-07\n-log10(p): 6.8347",
           "p-value: 1.0000e+00\n-log10(p): -0.0000",
           "p-value: 2.8530e-16\n-log10(p): 15.5447",
           "p-value: 3.6819e-05\n-log10(p): 4.4339",
           "p-value: 2.9340e-01\n-log10(p): 0.5325",
           "p-value: 3.6406e-06\n-log10(p): 5.4388",
           "p-value: 4.3693e-06\n-log10(p): 5.3596",
           "p-value: 9.6835e-02\n-log10(p): 1.0140",
           "p-value: 1.0000e+00\n-log10(p): -0.0000",
           "p-value: 1.9221e-10\n-log10(p): 9.7162",
           "p-value: 1.8950e-04\n-log10(p): 3.7224",
           "p-value: 1.2822e-25\n-log10(p): 24.8921",
           "p-value: 1.0000e+00\n-log10(p): -0.0000",
           "p-value: 1.0000e+00\n-log10(p): -0.0000",
           "p-value: 1.8381e-16\n-log10(p): 15.7356",
           "p-value: 2.4396e-04\n-log10(p): 3.6127",
           "p-value: 1.0000e+00\n-log10(p): -0.0000",
           "p-value: 1.0000e+00\n-log10(p): -0.0000",
           "p-value: 1.8863e-07\n-log10(p): 6.7244",
           "p-value: 5.7372e-20\n-log10(p): 19.2413",
           "p-value: 9.1576e-32\n-log10(p): 31.0382",
           "p-value: 4.2156e-08\n-log10(p): 7.3751",
           "p-value: 3.0808e-01\n-log10(p): 0.5113",
           "p-value: 1.0000e+00\n-log10(p): -0.0000",
           "p-value: 1.0000e+00\n-log10(p): -0.0000",
           "p-value: 2.1963e-10\n-log10(p): 9.6583",
           "p-value: 3.9592e-01\n-log10(p): 0.4024",
           "p-value: 1.0000e+00\n-log10(p): -0.0000"
          ]
         ],
         "type": "heatmap",
         "x": [
          "action",
          "action/adventure",
          "adaptation",
          "adventure",
          "animation",
          "black comedy",
          "black-and-white",
          "bollywood",
          "children's/family",
          "chinese",
          "comedy",
          "comedy-drama",
          "coming of age",
          "crime fiction",
          "crime thriller",
          "cult",
          "drama",
          "family",
          "fantasy",
          "horror",
          "indie",
          "japanese",
          "musical",
          "mystery",
          "parody",
          "period piece",
          "psychological thriller",
          "romance",
          "romantic comedy",
          "romantic drama",
          "science fiction",
          "short",
          "teen",
          "thriller",
          "war",
          "world cinema"
         ],
         "y": [
          "action",
          "action/adventure",
          "adaptation",
          "adventure",
          "animation",
          "black comedy",
          "black-and-white",
          "bollywood",
          "children's/family",
          "chinese",
          "comedy",
          "comedy-drama",
          "coming of age",
          "crime fiction",
          "crime thriller",
          "cult",
          "drama",
          "family",
          "fantasy",
          "horror",
          "indie",
          "japanese",
          "musical",
          "mystery",
          "parody",
          "period piece",
          "psychological thriller",
          "romance",
          "romantic comedy",
          "romantic drama",
          "science fiction",
          "short",
          "teen",
          "thriller",
          "war",
          "world cinema"
         ],
         "z": [
          [
           0,
           0,
           0,
           5.8972728956442815,
           9.71176504797986,
           0.09277742134705065,
           0,
           8.203560231864587,
           14.177334339519994,
           0,
           39.877848178260685,
           11.839692785159585,
           4.930250150548587,
           0,
           0,
           0,
           6.961861291009938,
           23.845372711187757,
           13.198031877619142,
           10.572964502908222,
           4.16093354754712,
           0,
           30.89341835715486,
           0,
           0.3709545937401495,
           2.9278922825008644,
           1.2155206860899348,
           42.34544724023701,
           49.96171709622442,
           19.57649540877595,
           0,
           0,
           0,
           0.04581002499950058,
           0,
           1.4406039690854942
          ],
          [
           0,
           0,
           0,
           4.095524856932695,
           7.8235684553999985,
           0,
           0,
           6.871090278364358,
           12.603586881803919,
           0,
           29.14952754640502,
           10.191789751472944,
           4.134787047878993,
           0,
           0,
           0,
           3.9162441124093017,
           19.33766147544601,
           10.696997359138386,
           9.706022375541652,
           2.7357253925195657,
           0,
           26.016030637976915,
           0,
           0,
           2.0485087130199457,
           1.3383823210353438,
           32.63405991983993,
           43.21352467604894,
           15.96780997441663,
           0,
           0,
           0,
           0.08903925861438118,
           0,
           0.3020236789671219
          ],
          [
           0,
           0,
           0,
           0,
           1.1245654869856234,
           0,
           0,
           1.402985792734725,
           5.513281646672143,
           0,
           6.322576336439073,
           3.3448255327326444,
           0.4625509156707104,
           0.40313494936575306,
           1.4432298930140848,
           0,
           0,
           5.529579441043136,
           2.2294690156950283,
           9.092896013552435,
           0,
           0,
           9.731557349178383,
           0.2582201598937262,
           0,
           0,
           2.7739725815645615,
           8.965074350973149,
           19.73630089670381,
           4.362984877040334,
           0,
           0,
           0,
           1.4852280511269638,
           0,
           0
          ],
          [
           5.8972728956442815,
           4.095524856932695,
           0,
           0,
           0,
           0,
           1.5135530776080255,
           0,
           2.7888384911838306,
           1.934490815235479,
           3.6464282408862245,
           0.7256966536108019,
           0,
           10.451054028147631,
           9.486426126696385,
           3.543867123332998,
           0,
           2.591303434153496,
           0,
           31.103261363113898,
           0,
           0,
           7.009939110232972,
           7.632324000070306,
           0,
           0,
           10.665922244312707,
           6.643830842613727,
           18.357142524232124,
           1.4445470498835518,
           3.9533918709954374,
           1.8037960186941193,
           0,
           15.519770673923622,
           3.3068095030402636,
           0
          ],
          [
           9.71176504797986,
           7.8235684553999985,
           1.1245654869856234,
           0,
           0,
           0,
           4.88961002224279,
           0,
           0,
           4.599289174544629,
           0,
           0,
           0,
           14.18987402336006,
           13.219650011944806,
           6.480046032242055,
           1.1027108560447028,
           0,
           0,
           32.934096585370916,
           0,
           0.10329532270350518,
           0.7086552180212116,
           11.356310853063277,
           0,
           0,
           14.331704057194631,
           0,
           7.488371813346841,
           0,
           7.537154059147072,
           4.814971980922889,
           0,
           18.66864379910439,
           6.578126415753592,
           1.925586915645253
          ],
          [
           0.09277742134705065,
           0,
           0,
           0,
           0,
           0,
           0,
           0,
           1.599903215230999,
           0,
           0.3958849864355701,
           0,
           0,
           2.1552654776511844,
           3.173186536925479,
           0.8678488381502625,
           0,
           0.5440405483016514,
           0,
           10.377912837287681,
           0,
           0,
           3.122051403755512,
           1.9353679969308488,
           0,
           0,
           4.515154395528699,
           1.9132664851220995,
           9.477516943662426,
           0.014607696767716933,
           0,
           0,
           0,
           3.2770432512566186,
           0.16135006432068696,
           0
          ],
          [
           0,
           0,
           0,
           1.5135530776080255,
           4.88961002224279,
           0,
           0,
           4.551931321860158,
           9.837351766756957,
           0,
           18.91005817090285,
           7.403828899352822,
           2.5664304852368174,
           0,
           0.9622474244048782,
           0,
           0.6401244981862285,
           13.575838938211248,
           7.04879936624116,
           11.182409840855215,
           0.5871730280820846,
           0,
           19.621615368315602,
           0,
           0,
           0.46873790015743283,
           2.350571167406345,
           22.5893639967503,
           34.62467081996081,
           11.098266156127517,
           0,
           0,
           0,
           1.3476584688001174,
           0,
           0
          ],
          [
           8.203560231864587,
           6.871090278364358,
           1.402985792734725,
           0,
           0,
           0,
           4.551931321860158,
           0,
           0,
           4.743982490385995,
           0,
           0,
           0,
           12.008696438905568,
           12.02763307735952,
           6.477539369320288,
           1.1288108682055702,
           0,
           0,
           26.776011796050614,
           0,
           0.4538405181762334,
           0,
           10.262312242703041,
           0,
           0,
           13.337197786078834,
           0,
           3.931690072667894,
           0,
           6.877161491857924,
           4.770737141396771,
           0,
           15.040256845229619,
           6.314580432319119,
           1.9227595031406977
          ],
          [
           14.177334339519994,
           12.603586881803919,
           5.513281646672143,
           2.7888384911838306,
           0,
           1.599903215230999,
           9.837351766756957,
           0,
           0,
           9.179220420729429,
           0,
           0,
           0,
           18.18637416538821,
           17.892488529248965,
           11.236882522039695,
           6.039677180105395,
           0,
           0,
           33.1232199846765,
           3.2852998148612427,
           4.063663732773138,
           0,
           16.076090585596393,
           0.9935790449269206,
           1.430889829693932,
           19.10178416402181,
           0,
           0,
           0,
           12.427483866504486,
           9.650197556866791,
           3.3247969363817993,
           21.41504070746242,
           11.492986622849019,
           6.8347053624802125
          ],
          [
           0,
           0,
           0,
           1.934490815235479,
           4.599289174544629,
           0,
           0,
           4.743982490385995,
           9.179220420729429,
           0,
           10.15342674410268,
           6.935166133840759,
           3.3827967310467493,
           0,
           0,
           0,
           1.0259865371529877,
           9.41752634983434,
           5.902419157081618,
           0.3256803703590639,
           1.3143884428120427,
           0,
           13.541665877106157,
           0,
           0.17100182308428458,
           1.4019912262034293,
           0,
           12.658906004450353,
           22.853420926880432,
           8.217147214175174,
           0,
           0,
           0,
           0,
           0,
           0
          ],
          [
           39.877848178260685,
           29.14952754640502,
           6.322576336439073,
           3.6464282408862245,
           0,
           0.3958849864355701,
           18.91005817090285,
           0,
           0,
           10.15342674410268,
           0,
           0,
           0,
           44.796041310261,
           29.339228810127096,
           13.189933281552788,
           21.448152054372503,
           0,
           0,
           88.87129037451122,
           4.375065944756432,
           3.686449812802114,
           0,
           28.14499626027327,
           0,
           0.3927297218329823,
           27.613739302806177,
           0,
           8.625314334632074,
           0,
           22.90209957621072,
           13.03585472062528,
           2.5380222325423745,
           69.51439251573775,
           16.599627461277148,
           15.544694678415551
          ],
          [
           11.839692785159585,
           10.191789751472944,
           3.3448255327326444,
           0.7256966536108019,
           0,
           0,
           7.403828899352822,
           0,
           0,
           6.935166133840759,
           0,
           0,
           0,
           15.98317018819772,
           15.515859182841947,
           8.908858061596767,
           3.627715365969306,
           0,
           0,
           32.05889372959476,
           1.1797619533110637,
           2.082056744914396,
           0,
           13.684862617590989,
           0,
           0,
           16.702711228405622,
           0,
           1.5661364703587226,
           0,
           9.996309456001887,
           7.2829707527313765,
           1.4628215524114947,
           19.546354091774283,
           9.079863391982146,
           4.433931368945588
          ],
          [
           4.930250150548587,
           4.134787047878993,
           0.4625509156707104,
           0,
           0,
           0,
           2.5664304852368174,
           0,
           0,
           3.3827967310467493,
           0,
           0,
           0,
           7.838059034945232,
           8.610057943856988,
           4.7827649379319945,
           0,
           0,
           0,
           18.509658682684336,
           0,
           0,
           0,
           7.075417221343314,
           0,
           0,
           10.027652984726945,
           0,
           2.691383150492513,
           0,
           4.375418799045739,
           3.0974262376401613,
           0,
           9.650378303165898,
           4.262732635442085,
           0.5325377361865237
          ],
          [
           0,
           0,
           0.40313494936575306,
           10.451054028147631,
           14.18987402336006,
           2.1552654776511844,
           0,
           12.008696438905568,
           18.18637416538821,
           0,
           44.796041310261,
           15.98317018819772,
           7.838059034945232,
           0,
           0,
           0,
           12.488197938105104,
           29.538167511071908,
           18.142657070861716,
           3.304486332974227,
           8.3257766166114,
           0.5442980858878601,
           36.61939288698652,
           0,
           2.4269133588498613,
           6.147596753210374,
           0,
           47.61890011339367,
           55.75990293079484,
           25.038366961879333,
           0,
           0,
           0.5568855504130256,
           0,
           0,
           5.43882759132124
          ],
          [
           0,
           0,
           1.4432298930140848,
           9.486426126696385,
           13.219650011944806,
           3.173186536925479,
           0.9622474244048782,
           12.02763307735952,
           17.892488529248965,
           0,
           29.339228810127096,
           15.515859182841947,
           8.610057943856988,
           0,
           0,
           0,
           9.359334980688324,
           23.770355527003723,
           16.082257560841928,
           0,
           7.976491324982475,
           1.575934378423867,
           29.995905179731725,
           0,
           3.4433503271122783,
           6.731075920326341,
           0,
           32.98303731913446,
           45.07506249802275,
           20.93688311318233,
           0,
           0,
           1.5793792238756261,
           0,
           0,
           5.359587658403559
          ],
          [
           0,
           0,
           0,
           3.543867123332998,
           6.480046032242055,
           0.8678488381502625,
           0,
           6.477539369320288,
           11.236882522039695,
           0,
           13.189933281552788,
           8.908858061596767,
           4.7827649379319945,
           0,
           0,
           0,
           2.620310957949948,
           12.066964397891978,
           8.006656995211399,
           0,
           2.7885607323470936,
           0,
           16.544442012149005,
           0,
           1.1291199619397256,
           2.729640789832692,
           0,
           15.910523059823866,
           26.649312954956592,
           10.669552765454364,
           0,
           0,
           0,
           0,
           0,
           1.0139674288934273
          ],
          [
           6.961861291009938,
           3.9162441124093017,
           0,
           0,
           1.1027108560447028,
           0,
           0.6401244981862285,
           1.1288108682055702,
           6.039677180105395,
           1.0259865371529877,
           21.448152054372503,
           3.627715365969306,
           0,
           12.488197938105104,
           9.359334980688324,
           2.620310957949948,
           0,
           9.831312119957575,
           2.9658125663334807,
           42.550419922467995,
           0,
           0,
           16.33460010482842,
           7.449243335813015,
           0,
           0,
           10.29042434942142,
           24.160592894548973,
           33.52755477631878,
           7.011181822904855,
           3.3491651843208654,
           0.8644147516042775,
           0,
           22.932213648766474,
           2.4291766877722676,
           0
          ],
          [
           23.845372711187757,
           19.33766147544601,
           5.529579441043136,
           2.591303434153496,
           0,
           0.5440405483016514,
           13.575838938211248,
           0,
           0,
           9.41752634983434,
           0,
           0,
           0,
           29.538167511071908,
           23.770355527003723,
           12.066964397891978,
           9.831312119957575,
           0,
           0,
           57.982500186044724,
           3.228095869876765,
           3.454675529830176,
           0,
           21.986638234610847,
           0,
           0.44314065868779706,
           23.714832116939796,
           0,
           4.3071927210670475,
           0,
           17.14640865624784,
           11.124602208790092,
           2.4946390399506417,
           39.44221956597082,
           13.903091715643189,
           9.716217982933811
          ],
          [
           13.198031877619142,
           10.696997359138386,
           2.2294690156950283,
           0,
           0,
           0,
           7.04879936624116,
           0,
           0,
           5.902419157081618,
           0,
           0,
           0,
           18.142657070861716,
           16.082257560841928,
           8.006656995211399,
           2.9658125663334807,
           0,
           0,
           39.67066183854917,
           0.013838399228334547,
           0.9426223581235175,
           0.07144720478600067,
           14.185569964374876,
           0,
           0,
           16.93704811154116,
           0,
           6.668784607087999,
           0,
           10.008307005911602,
           6.469838461944918,
           0.3503592708341944,
           23.92873585423533,
           8.515876006917745,
           3.7223978007418204
          ],
          [
           10.572964502908222,
           9.706022375541652,
           9.092896013552435,
           31.103261363113898,
           32.934096585370916,
           10.377912837287681,
           11.182409840855215,
           26.776011796050614,
           33.1232199846765,
           0.3256803703590639,
           88.87129037451122,
           32.05889372959476,
           18.509658682684336,
           3.304486332974227,
           0,
           0,
           42.550419922467995,
           57.982500186044724,
           39.67066183854917,
           0,
           26.931910235089298,
           8.385436853888317,
           65.049614520086,
           0.9831347852450941,
           10.441112172533375,
           19.245176757067217,
           0,
           88.75106218982549,
           87.9375102766286,
           50.56775209403415,
           5.671427026897562,
           3.6478673449336525,
           7.873210466637403,
           3.241610223361121,
           2.4821893400352,
           24.892054838589274
          ],
          [
           4.16093354754712,
           2.7357253925195657,
           0,
           0,
           0,
           0,
           0.5871730280820846,
           0,
           3.2852998148612427,
           1.3143884428120427,
           4.375065944756432,
           1.1797619533110637,
           0,
           8.3257766166114,
           7.976491324982475,
           2.7885607323470936,
           0,
           3.228095869876765,
           0.013838399228334547,
           26.931910235089298,
           0,
           0,
           7.712204849555857,
           6.178017559876313,
           0,
           0,
           9.268799576609437,
           7.381838389392265,
           19.078918101274024,
           2.025586786932824,
           2.7802257462427726,
           1.0522260207758196,
           0,
           12.469967679783187,
           2.38560211955291,
           0
          ],
          [
           0,
           0,
           0,
           0,
           0.10329532270350518,
           0,
           0,
           0.4538405181762334,
           4.063663732773138,
           0,
           3.686449812802114,
           2.082056744914396,
           0,
           0.5442980858878601,
           1.575934378423867,
           0,
           0,
           3.454675529830176,
           0.9426223581235175,
           8.385436853888317,
           0,
           0,
           6.973650791436109,
           0.43635015206928124,
           0,
           0,
           2.8740279054593043,
           5.847776557656527,
           15.343562519255341,
           2.5865727728101318,
           0,
           0,
           0,
           1.5123434440698107,
           0,
           0
          ],
          [
           30.89341835715486,
           26.016030637976915,
           9.731557349178383,
           7.009939110232972,
           0.7086552180212116,
           3.122051403755512,
           19.621615368315602,
           0,
           0,
           13.541665877106157,
           0,
           0,
           0,
           36.61939288698652,
           29.995905179731725,
           16.544442012149005,
           16.33460010482842,
           0,
           0.07144720478600067,
           65.049614520086,
           7.712204849555857,
           6.973650791436109,
           0,
           28.29660877757802,
           2.1890175081328227,
           3.4717312018121764,
           29.551951392537983,
           0,
           0.07620391965422055,
           0,
           23.327651442819246,
           16.112836223691925,
           5.646276957764192,
           46.64502024494469,
           19.26575314287913,
           15.735634853336427
          ],
          [
           0,
           0,
           0.2582201598937262,
           7.632324000070306,
           11.356310853063277,
           1.9353679969308488,
           0,
           10.262312242703041,
           16.076090585596393,
           0,
           28.14499626027327,
           13.684862617590989,
           7.075417221343314,
           0,
           0,
           0,
           7.449243335813015,
           21.986638234610847,
           14.185569964374876,
           0.9831347852450941,
           6.178017559876313,
           0.43635015206928124,
           28.29660877757802,
           0,
           2.211370565143966,
           5.11570498162583,
           0,
           31.819724582765726,
           43.78056834297712,
           19.076825572861154,
           0,
           0,
           0.4765916382442276,
           0,
           0,
           3.6126759532629276
          ],
          [
           0.3709545937401495,
           0,
           0,
           0,
           0,
           0,
           0,
           0,
           0.9935790449269206,
           0.17100182308428458,
           0,
           0,
           0,
           2.4269133588498613,
           3.4433503271122783,
           1.1291199619397256,
           0,
           0,
           0,
           10.441112172533375,
           0,
           0,
           2.1890175081328227,
           2.211370565143966,
           0,
           0,
           4.779706017360698,
           1.0255026092205963,
           7.908483149611814,
           0,
           0.2669766217019035,
           0,
           0,
           3.5260971990594148,
           0.42593621573619833,
           0
          ],
          [
           2.9278922825008644,
           2.0485087130199457,
           0,
           0,
           0,
           0,
           0.46873790015743283,
           0,
           1.430889829693932,
           1.4019912262034293,
           0.3927297218329823,
           0,
           0,
           6.147596753210374,
           6.731075920326341,
           2.729640789832692,
           0,
           0.44314065868779706,
           0,
           19.245176757067217,
           0,
           0,
           3.4717312018121764,
           5.11570498162583,
           0,
           0,
           8.14679764029187,
           2.249456990591733,
           11.244972395696964,
           0,
           2.282510019043107,
           1.0461232004527161,
           0,
           8.486189191896921,
           2.1725414098222,
           0
          ],
          [
           1.2155206860899348,
           1.3383823210353438,
           2.7739725815645615,
           10.665922244312707,
           14.331704057194631,
           4.515154395528699,
           2.350571167406345,
           13.337197786078834,
           19.10178416402181,
           0,
           27.613739302806177,
           16.702711228405622,
           10.027652984726945,
           0,
           0,
           0,
           10.29042434942142,
           23.714832116939796,
           16.93704811154116,
           0,
           9.268799576609437,
           2.8740279054593043,
           29.551951392537983,
           0,
           4.779706017360698,
           8.14679764029187,
           0,
           31.0843103569556,
           43.23444100302098,
           21.280910789311807,
           0.2627250167501147,
           0,
           2.850712782711129,
           0,
           0,
           6.724391866639089
          ],
          [
           42.34544724023701,
           32.63405991983993,
           8.965074350973149,
           6.643830842613727,
           0,
           1.9132664851220995,
           22.5893639967503,
           0,
           0,
           12.658906004450353,
           0,
           0,
           0,
           47.61890011339367,
           32.98303731913446,
           15.910523059823866,
           24.160592894548973,
           0,
           0,
           88.75106218982549,
           7.381838389392265,
           5.847776557656527,
           0,
           31.819724582765726,
           1.0255026092205963,
           2.249456990591733,
           31.0843103569556,
           0,
           4.094522248058684,
           0,
           26.579865369804725,
           16.13896584057172,
           4.442665675751806,
           68.73301864952023,
           19.909512963902234,
           19.24130312222038
          ],
          [
           49.96171709622442,
           43.21352467604894,
           19.73630089670381,
           18.357142524232124,
           7.488371813346841,
           9.477516943662426,
           34.62467081996081,
           3.931690072667894,
           0,
           22.853420926880432,
           8.625314334632074,
           1.5661364703587226,
           2.691383150492513,
           55.75990293079484,
           45.07506249802275,
           26.649312954956592,
           33.52755477631878,
           4.3071927210670475,
           6.668784607087999,
           87.9375102766286,
           19.078918101274024,
           15.343562519255341,
           0.07620391965422055,
           43.78056834297712,
           7.908483149611814,
           11.244972395696964,
           43.23444100302098,
           4.094522248058684,
           0,
           4.803842456967649,
           38.57485157935528,
           27.809317848517686,
           13.152165911445078,
           68.6467747419342,
           31.907489628408275,
           31.03821603164158
          ],
          [
           19.57649540877595,
           15.96780997441663,
           4.362984877040334,
           1.4445470498835518,
           0,
           0.014607696767716933,
           11.098266156127517,
           0,
           0,
           8.217147214175174,
           0,
           0,
           0,
           25.038366961879333,
           20.93688311318233,
           10.669552765454364,
           7.011181822904855,
           0,
           0,
           50.56775209403415,
           2.025586786932824,
           2.5865727728101318,
           0,
           19.076825572861154,
           0,
           0,
           21.280910789311807,
           0,
           4.803842456967649,
           0,
           14.459585795998905,
           9.464352227693034,
           1.7625432204069955,
           33.06505912082052,
           11.96244550411274,
           7.3751378658794025
          ],
          [
           0,
           0,
           0,
           3.9533918709954374,
           7.537154059147072,
           0,
           0,
           6.877161491857924,
           12.427483866504486,
           0,
           22.90209957621072,
           9.996309456001887,
           4.375418799045739,
           0,
           0,
           0,
           3.3491651843208654,
           17.14640865624784,
           10.008307005911602,
           5.671427026897562,
           2.7802257462427726,
           0,
           23.327651442819246,
           0,
           0.2669766217019035,
           2.282510019043107,
           0.2627250167501147,
           26.579865369804725,
           38.57485157935528,
           14.459585795998905,
           0,
           0,
           0,
           0,
           0,
           0.5113388406860364
          ],
          [
           0,
           0,
           0,
           1.8037960186941193,
           4.814971980922889,
           0,
           0,
           4.770737141396771,
           9.650197556866791,
           0,
           13.03585472062528,
           7.2829707527313765,
           3.0974262376401613,
           0,
           0,
           0,
           0.8644147516042775,
           11.124602208790092,
           6.469838461944918,
           3.6478673449336525,
           1.0522260207758196,
           0,
           16.112836223691925,
           0,
           0,
           1.0461232004527161,
           0,
           16.13896584057172,
           27.809317848517686,
           9.464352227693034,
           0,
           0,
           0,
           0,
           0,
           0
          ],
          [
           0,
           0,
           0,
           0,
           0,
           0,
           0,
           0,
           3.3247969363817993,
           0,
           2.5380222325423745,
           1.4628215524114947,
           0,
           0.5568855504130256,
           1.5793792238756261,
           0,
           0,
           2.4946390399506417,
           0.3503592708341944,
           7.873210466637403,
           0,
           0,
           5.646276957764192,
           0.4765916382442276,
           0,
           0,
           2.850712782711129,
           4.442665675751806,
           13.152165911445078,
           1.7625432204069955,
           0,
           0,
           0,
           1.4504045471044202,
           0,
           0
          ],
          [
           0.04581002499950058,
           0.08903925861438118,
           1.4852280511269638,
           15.519770673923622,
           18.66864379910439,
           3.2770432512566186,
           1.3476584688001174,
           15.040256845229619,
           21.41504070746242,
           0,
           69.51439251573775,
           19.546354091774283,
           9.650378303165898,
           0,
           0,
           0,
           22.932213648766474,
           39.44221956597082,
           23.92873585423533,
           3.241610223361121,
           12.469967679783187,
           1.5123434440698107,
           46.64502024494469,
           0,
           3.5260971990594148,
           8.486189191896921,
           0,
           68.73301864952023,
           68.6467747419342,
           33.06505912082052,
           0,
           0,
           1.4504045471044202,
           0,
           0,
           9.658299721411867
          ],
          [
           0,
           0,
           0,
           3.3068095030402636,
           6.578126415753592,
           0.16135006432068696,
           0,
           6.314580432319119,
           11.492986622849019,
           0,
           16.599627461277148,
           9.079863391982146,
           4.262732635442085,
           0,
           0,
           0,
           2.4291766877722676,
           13.903091715643189,
           8.515876006917745,
           2.4821893400352,
           2.38560211955291,
           0,
           19.26575314287913,
           0,
           0.42593621573619833,
           2.1725414098222,
           0,
           19.909512963902234,
           31.907489628408275,
           11.96244550411274,
           0,
           0,
           0,
           0,
           0,
           0.4023912664496362
          ],
          [
           1.4406039690854942,
           0.3020236789671219,
           0,
           0,
           1.925586915645253,
           0,
           0,
           1.9227595031406977,
           6.8347053624802125,
           0,
           15.544694678415551,
           4.433931368945588,
           0.5325377361865237,
           5.43882759132124,
           5.359587658403559,
           1.0139674288934273,
           0,
           9.716217982933811,
           3.7223978007418204,
           24.892054838589274,
           0,
           0,
           15.735634853336427,
           3.6126759532629276,
           0,
           0,
           6.724391866639089,
           19.24130312222038,
           31.03821603164158,
           7.3751378658794025,
           0.5113388406860364,
           0,
           0,
           9.658299721411867,
           0.4023912664496362,
           0
          ]
         ],
         "zmax": 88.87129037451122,
         "zmin": 0
        }
       ],
       "layout": {
        "height": 600,
        "template": {
         "data": {
          "bar": [
           {
            "error_x": {
             "color": "#2a3f5f"
            },
            "error_y": {
             "color": "#2a3f5f"
            },
            "marker": {
             "line": {
              "color": "#E5ECF6",
              "width": 0.5
             },
             "pattern": {
              "fillmode": "overlay",
              "size": 10,
              "solidity": 0.2
             }
            },
            "type": "bar"
           }
          ],
          "barpolar": [
           {
            "marker": {
             "line": {
              "color": "#E5ECF6",
              "width": 0.5
             },
             "pattern": {
              "fillmode": "overlay",
              "size": 10,
              "solidity": 0.2
             }
            },
            "type": "barpolar"
           }
          ],
          "carpet": [
           {
            "aaxis": {
             "endlinecolor": "#2a3f5f",
             "gridcolor": "white",
             "linecolor": "white",
             "minorgridcolor": "white",
             "startlinecolor": "#2a3f5f"
            },
            "baxis": {
             "endlinecolor": "#2a3f5f",
             "gridcolor": "white",
             "linecolor": "white",
             "minorgridcolor": "white",
             "startlinecolor": "#2a3f5f"
            },
            "type": "carpet"
           }
          ],
          "choropleth": [
           {
            "colorbar": {
             "outlinewidth": 0,
             "ticks": ""
            },
            "type": "choropleth"
           }
          ],
          "contour": [
           {
            "colorbar": {
             "outlinewidth": 0,
             "ticks": ""
            },
            "colorscale": [
             [
              0,
              "#0d0887"
             ],
             [
              0.1111111111111111,
              "#46039f"
             ],
             [
              0.2222222222222222,
              "#7201a8"
             ],
             [
              0.3333333333333333,
              "#9c179e"
             ],
             [
              0.4444444444444444,
              "#bd3786"
             ],
             [
              0.5555555555555556,
              "#d8576b"
             ],
             [
              0.6666666666666666,
              "#ed7953"
             ],
             [
              0.7777777777777778,
              "#fb9f3a"
             ],
             [
              0.8888888888888888,
              "#fdca26"
             ],
             [
              1,
              "#f0f921"
             ]
            ],
            "type": "contour"
           }
          ],
          "contourcarpet": [
           {
            "colorbar": {
             "outlinewidth": 0,
             "ticks": ""
            },
            "type": "contourcarpet"
           }
          ],
          "heatmap": [
           {
            "colorbar": {
             "outlinewidth": 0,
             "ticks": ""
            },
            "colorscale": [
             [
              0,
              "#0d0887"
             ],
             [
              0.1111111111111111,
              "#46039f"
             ],
             [
              0.2222222222222222,
              "#7201a8"
             ],
             [
              0.3333333333333333,
              "#9c179e"
             ],
             [
              0.4444444444444444,
              "#bd3786"
             ],
             [
              0.5555555555555556,
              "#d8576b"
             ],
             [
              0.6666666666666666,
              "#ed7953"
             ],
             [
              0.7777777777777778,
              "#fb9f3a"
             ],
             [
              0.8888888888888888,
              "#fdca26"
             ],
             [
              1,
              "#f0f921"
             ]
            ],
            "type": "heatmap"
           }
          ],
          "heatmapgl": [
           {
            "colorbar": {
             "outlinewidth": 0,
             "ticks": ""
            },
            "colorscale": [
             [
              0,
              "#0d0887"
             ],
             [
              0.1111111111111111,
              "#46039f"
             ],
             [
              0.2222222222222222,
              "#7201a8"
             ],
             [
              0.3333333333333333,
              "#9c179e"
             ],
             [
              0.4444444444444444,
              "#bd3786"
             ],
             [
              0.5555555555555556,
              "#d8576b"
             ],
             [
              0.6666666666666666,
              "#ed7953"
             ],
             [
              0.7777777777777778,
              "#fb9f3a"
             ],
             [
              0.8888888888888888,
              "#fdca26"
             ],
             [
              1,
              "#f0f921"
             ]
            ],
            "type": "heatmapgl"
           }
          ],
          "histogram": [
           {
            "marker": {
             "pattern": {
              "fillmode": "overlay",
              "size": 10,
              "solidity": 0.2
             }
            },
            "type": "histogram"
           }
          ],
          "histogram2d": [
           {
            "colorbar": {
             "outlinewidth": 0,
             "ticks": ""
            },
            "colorscale": [
             [
              0,
              "#0d0887"
             ],
             [
              0.1111111111111111,
              "#46039f"
             ],
             [
              0.2222222222222222,
              "#7201a8"
             ],
             [
              0.3333333333333333,
              "#9c179e"
             ],
             [
              0.4444444444444444,
              "#bd3786"
             ],
             [
              0.5555555555555556,
              "#d8576b"
             ],
             [
              0.6666666666666666,
              "#ed7953"
             ],
             [
              0.7777777777777778,
              "#fb9f3a"
             ],
             [
              0.8888888888888888,
              "#fdca26"
             ],
             [
              1,
              "#f0f921"
             ]
            ],
            "type": "histogram2d"
           }
          ],
          "histogram2dcontour": [
           {
            "colorbar": {
             "outlinewidth": 0,
             "ticks": ""
            },
            "colorscale": [
             [
              0,
              "#0d0887"
             ],
             [
              0.1111111111111111,
              "#46039f"
             ],
             [
              0.2222222222222222,
              "#7201a8"
             ],
             [
              0.3333333333333333,
              "#9c179e"
             ],
             [
              0.4444444444444444,
              "#bd3786"
             ],
             [
              0.5555555555555556,
              "#d8576b"
             ],
             [
              0.6666666666666666,
              "#ed7953"
             ],
             [
              0.7777777777777778,
              "#fb9f3a"
             ],
             [
              0.8888888888888888,
              "#fdca26"
             ],
             [
              1,
              "#f0f921"
             ]
            ],
            "type": "histogram2dcontour"
           }
          ],
          "mesh3d": [
           {
            "colorbar": {
             "outlinewidth": 0,
             "ticks": ""
            },
            "type": "mesh3d"
           }
          ],
          "parcoords": [
           {
            "line": {
             "colorbar": {
              "outlinewidth": 0,
              "ticks": ""
             }
            },
            "type": "parcoords"
           }
          ],
          "pie": [
           {
            "automargin": true,
            "type": "pie"
           }
          ],
          "scatter": [
           {
            "fillpattern": {
             "fillmode": "overlay",
             "size": 10,
             "solidity": 0.2
            },
            "type": "scatter"
           }
          ],
          "scatter3d": [
           {
            "line": {
             "colorbar": {
              "outlinewidth": 0,
              "ticks": ""
             }
            },
            "marker": {
             "colorbar": {
              "outlinewidth": 0,
              "ticks": ""
             }
            },
            "type": "scatter3d"
           }
          ],
          "scattercarpet": [
           {
            "marker": {
             "colorbar": {
              "outlinewidth": 0,
              "ticks": ""
             }
            },
            "type": "scattercarpet"
           }
          ],
          "scattergeo": [
           {
            "marker": {
             "colorbar": {
              "outlinewidth": 0,
              "ticks": ""
             }
            },
            "type": "scattergeo"
           }
          ],
          "scattergl": [
           {
            "marker": {
             "colorbar": {
              "outlinewidth": 0,
              "ticks": ""
             }
            },
            "type": "scattergl"
           }
          ],
          "scattermapbox": [
           {
            "marker": {
             "colorbar": {
              "outlinewidth": 0,
              "ticks": ""
             }
            },
            "type": "scattermapbox"
           }
          ],
          "scatterpolar": [
           {
            "marker": {
             "colorbar": {
              "outlinewidth": 0,
              "ticks": ""
             }
            },
            "type": "scatterpolar"
           }
          ],
          "scatterpolargl": [
           {
            "marker": {
             "colorbar": {
              "outlinewidth": 0,
              "ticks": ""
             }
            },
            "type": "scatterpolargl"
           }
          ],
          "scatterternary": [
           {
            "marker": {
             "colorbar": {
              "outlinewidth": 0,
              "ticks": ""
             }
            },
            "type": "scatterternary"
           }
          ],
          "surface": [
           {
            "colorbar": {
             "outlinewidth": 0,
             "ticks": ""
            },
            "colorscale": [
             [
              0,
              "#0d0887"
             ],
             [
              0.1111111111111111,
              "#46039f"
             ],
             [
              0.2222222222222222,
              "#7201a8"
             ],
             [
              0.3333333333333333,
              "#9c179e"
             ],
             [
              0.4444444444444444,
              "#bd3786"
             ],
             [
              0.5555555555555556,
              "#d8576b"
             ],
             [
              0.6666666666666666,
              "#ed7953"
             ],
             [
              0.7777777777777778,
              "#fb9f3a"
             ],
             [
              0.8888888888888888,
              "#fdca26"
             ],
             [
              1,
              "#f0f921"
             ]
            ],
            "type": "surface"
           }
          ],
          "table": [
           {
            "cells": {
             "fill": {
              "color": "#EBF0F8"
             },
             "line": {
              "color": "white"
             }
            },
            "header": {
             "fill": {
              "color": "#C8D4E3"
             },
             "line": {
              "color": "white"
             }
            },
            "type": "table"
           }
          ]
         },
         "layout": {
          "annotationdefaults": {
           "arrowcolor": "#2a3f5f",
           "arrowhead": 0,
           "arrowwidth": 1
          },
          "autotypenumbers": "strict",
          "coloraxis": {
           "colorbar": {
            "outlinewidth": 0,
            "ticks": ""
           }
          },
          "colorscale": {
           "diverging": [
            [
             0,
             "#8e0152"
            ],
            [
             0.1,
             "#c51b7d"
            ],
            [
             0.2,
             "#de77ae"
            ],
            [
             0.3,
             "#f1b6da"
            ],
            [
             0.4,
             "#fde0ef"
            ],
            [
             0.5,
             "#f7f7f7"
            ],
            [
             0.6,
             "#e6f5d0"
            ],
            [
             0.7,
             "#b8e186"
            ],
            [
             0.8,
             "#7fbc41"
            ],
            [
             0.9,
             "#4d9221"
            ],
            [
             1,
             "#276419"
            ]
           ],
           "sequential": [
            [
             0,
             "#0d0887"
            ],
            [
             0.1111111111111111,
             "#46039f"
            ],
            [
             0.2222222222222222,
             "#7201a8"
            ],
            [
             0.3333333333333333,
             "#9c179e"
            ],
            [
             0.4444444444444444,
             "#bd3786"
            ],
            [
             0.5555555555555556,
             "#d8576b"
            ],
            [
             0.6666666666666666,
             "#ed7953"
            ],
            [
             0.7777777777777778,
             "#fb9f3a"
            ],
            [
             0.8888888888888888,
             "#fdca26"
            ],
            [
             1,
             "#f0f921"
            ]
           ],
           "sequentialminus": [
            [
             0,
             "#0d0887"
            ],
            [
             0.1111111111111111,
             "#46039f"
            ],
            [
             0.2222222222222222,
             "#7201a8"
            ],
            [
             0.3333333333333333,
             "#9c179e"
            ],
            [
             0.4444444444444444,
             "#bd3786"
            ],
            [
             0.5555555555555556,
             "#d8576b"
            ],
            [
             0.6666666666666666,
             "#ed7953"
            ],
            [
             0.7777777777777778,
             "#fb9f3a"
            ],
            [
             0.8888888888888888,
             "#fdca26"
            ],
            [
             1,
             "#f0f921"
            ]
           ]
          },
          "colorway": [
           "#636efa",
           "#EF553B",
           "#00cc96",
           "#ab63fa",
           "#FFA15A",
           "#19d3f3",
           "#FF6692",
           "#B6E880",
           "#FF97FF",
           "#FECB52"
          ],
          "font": {
           "color": "#2a3f5f"
          },
          "geo": {
           "bgcolor": "white",
           "lakecolor": "white",
           "landcolor": "#E5ECF6",
           "showlakes": true,
           "showland": true,
           "subunitcolor": "white"
          },
          "hoverlabel": {
           "align": "left"
          },
          "hovermode": "closest",
          "mapbox": {
           "style": "light"
          },
          "paper_bgcolor": "white",
          "plot_bgcolor": "#E5ECF6",
          "polar": {
           "angularaxis": {
            "gridcolor": "white",
            "linecolor": "white",
            "ticks": ""
           },
           "bgcolor": "#E5ECF6",
           "radialaxis": {
            "gridcolor": "white",
            "linecolor": "white",
            "ticks": ""
           }
          },
          "scene": {
           "xaxis": {
            "backgroundcolor": "#E5ECF6",
            "gridcolor": "white",
            "gridwidth": 2,
            "linecolor": "white",
            "showbackground": true,
            "ticks": "",
            "zerolinecolor": "white"
           },
           "yaxis": {
            "backgroundcolor": "#E5ECF6",
            "gridcolor": "white",
            "gridwidth": 2,
            "linecolor": "white",
            "showbackground": true,
            "ticks": "",
            "zerolinecolor": "white"
           },
           "zaxis": {
            "backgroundcolor": "#E5ECF6",
            "gridcolor": "white",
            "gridwidth": 2,
            "linecolor": "white",
            "showbackground": true,
            "ticks": "",
            "zerolinecolor": "white"
           }
          },
          "shapedefaults": {
           "line": {
            "color": "#2a3f5f"
           }
          },
          "ternary": {
           "aaxis": {
            "gridcolor": "white",
            "linecolor": "white",
            "ticks": ""
           },
           "baxis": {
            "gridcolor": "white",
            "linecolor": "white",
            "ticks": ""
           },
           "bgcolor": "#E5ECF6",
           "caxis": {
            "gridcolor": "white",
            "linecolor": "white",
            "ticks": ""
           }
          },
          "title": {
           "x": 0.05
          },
          "xaxis": {
           "automargin": true,
           "gridcolor": "white",
           "linecolor": "white",
           "ticks": "",
           "title": {
            "standoff": 15
           },
           "zerolinecolor": "white",
           "zerolinewidth": 2
          },
          "yaxis": {
           "automargin": true,
           "gridcolor": "white",
           "linecolor": "white",
           "ticks": "",
           "title": {
            "standoff": 15
           },
           "zerolinecolor": "white",
           "zerolinewidth": 2
          }
         }
        },
        "title": {
         "text": "Dunn Test Pairwise Comparison Heatmap (Log Scale)"
        },
        "width": 700,
        "xaxis": {
         "title": {
          "text": "Genres"
         }
        },
        "yaxis": {
         "title": {
          "text": "Genres"
         }
        }
       }
      }
     },
     "metadata": {},
     "output_type": "display_data"
    }
   ],
   "source": [
    "# Transform the p-values to a logarithmic scale\n",
    "log_dunn_results = -np.log10(dunn_results)  # Use -log10 to make small p-values more prominent\n",
    "\n",
    "# Adjust hover text for the log scale\n",
    "hover_text = dunn_results.applymap(lambda x: f\"p-value: {x:.4e}\\n-log10(p): {-np.log10(x):.4f}\").values\n",
    "\n",
    "# Create the heatmap\n",
    "heatmap = go.Figure(\n",
    "    data=go.Heatmap(\n",
    "        z=log_dunn_results.values,\n",
    "        x=dunn_results.columns,\n",
    "        y=dunn_results.index,\n",
    "        text=hover_text,\n",
    "        hoverinfo=\"text\",\n",
    "        colorscale=copper_colorscale,  # Change colorscale as desired\n",
    "        zmin=0,                # Min value for color range\n",
    "        zmax=np.nanmax(log_dunn_results.values),  # Max value for color range\n",
    "        colorbar=dict(title=\"-log10(p-value)\"),\n",
    "    )\n",
    ")\n",
    "\n",
    "# Update layout\n",
    "heatmap.update_layout(\n",
    "    title=\"Dunn Test Pairwise Comparison Heatmap (Log Scale)\",\n",
    "    xaxis=dict(title=\"Genres\"),\n",
    "    yaxis=dict(title=\"Genres\"),\n",
    "    width=700,\n",
    "    height=600,\n",
    ")\n",
    "\n",
    "# Show the heatmap\n",
    "heatmap.show()"
   ]
  }
 ],
 "metadata": {
  "kernelspec": {
   "display_name": "ada",
   "language": "python",
   "name": "python3"
  },
  "language_info": {
   "codemirror_mode": {
    "name": "ipython",
    "version": 3
   },
   "file_extension": ".py",
   "mimetype": "text/x-python",
   "name": "python",
   "nbconvert_exporter": "python",
   "pygments_lexer": "ipython3",
   "version": "3.11.9"
  }
 },
 "nbformat": 4,
 "nbformat_minor": 2
}
