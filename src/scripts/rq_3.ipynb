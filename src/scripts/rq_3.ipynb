{
 "cells": [
  {
   "cell_type": "markdown",
   "metadata": {},
   "source": [
    "This is for research question 3.\n",
    "\n",
    "What role do key personnel (actors and directors) play in shaping a movie's ending?\n",
    "\n",
    "Do certain actors or directors have a preference for particular types of endings, and do their choices influence the overall predictability of a movie’s outcome?"
   ]
  },
  {
   "cell_type": "code",
   "execution_count": 1,
   "metadata": {},
   "outputs": [],
   "source": [
    "import pandas as pd\n",
    "import matplotlib.pyplot as plt\n",
    "import numpy as np\n",
    "import pickle\n",
    "import plotly\n",
    "import plotly.express as px\n",
    "import plotly.graph_objects as go\n",
    "\n",
    "\n",
    "# path\n",
    "DATA_FOLDER = '../data/'\n",
    "MOVIE_DATASET = DATA_FOLDER + 'movies_dataset_final.tsv'\n",
    "\n",
    "# Dataset loading\n",
    "movies = pd.read_csv(MOVIE_DATASET, sep='\\t')\n"
   ]
  },
  {
   "cell_type": "code",
   "execution_count": 2,
   "metadata": {},
   "outputs": [
    {
     "data": {
      "text/html": [
       "<div>\n",
       "<style scoped>\n",
       "    .dataframe tbody tr th:only-of-type {\n",
       "        vertical-align: middle;\n",
       "    }\n",
       "\n",
       "    .dataframe tbody tr th {\n",
       "        vertical-align: top;\n",
       "    }\n",
       "\n",
       "    .dataframe thead th {\n",
       "        text-align: right;\n",
       "    }\n",
       "</style>\n",
       "<table border=\"1\" class=\"dataframe\">\n",
       "  <thead>\n",
       "    <tr style=\"text-align: right;\">\n",
       "      <th></th>\n",
       "      <th>Movie_ID</th>\n",
       "      <th>Other_Column</th>\n",
       "      <th>Title</th>\n",
       "      <th>Movie release date</th>\n",
       "      <th>Movie runtime</th>\n",
       "      <th>Movie languages</th>\n",
       "      <th>Movie countries</th>\n",
       "      <th>Movie genres</th>\n",
       "      <th>Summary</th>\n",
       "      <th>Score</th>\n",
       "      <th>director</th>\n",
       "      <th>vote_average</th>\n",
       "      <th>revenue</th>\n",
       "      <th>collection</th>\n",
       "      <th>Budget</th>\n",
       "      <th>Production</th>\n",
       "    </tr>\n",
       "  </thead>\n",
       "  <tbody>\n",
       "    <tr>\n",
       "      <th>0</th>\n",
       "      <td>975900</td>\n",
       "      <td>/m/03vyhn</td>\n",
       "      <td>Ghosts of Mars</td>\n",
       "      <td>2001</td>\n",
       "      <td>98.0</td>\n",
       "      <td>English</td>\n",
       "      <td>United States of America</td>\n",
       "      <td>Thriller, Science Fiction, Horror, Adventure, ...</td>\n",
       "      <td>cre on him, he handcuffs Ballard to her cot an...</td>\n",
       "      <td>0.000000</td>\n",
       "      <td>John Carpenter</td>\n",
       "      <td>5.112</td>\n",
       "      <td>14010832.0</td>\n",
       "      <td>NaN</td>\n",
       "      <td>28000000.0</td>\n",
       "      <td>[{'id': 51312, 'logo_path': None, 'name': 'Ani...</td>\n",
       "    </tr>\n",
       "    <tr>\n",
       "      <th>1</th>\n",
       "      <td>9363483</td>\n",
       "      <td>/m/0285_cd</td>\n",
       "      <td>White Of The Eye</td>\n",
       "      <td>1987</td>\n",
       "      <td>110.0</td>\n",
       "      <td>English</td>\n",
       "      <td>United Kingdom</td>\n",
       "      <td>Thriller, Erotic thriller, Psychological thriller</td>\n",
       "      <td>sive vest. Mike opens fire on him with a machi...</td>\n",
       "      <td>-0.120000</td>\n",
       "      <td>Donald Cammell</td>\n",
       "      <td>5.800</td>\n",
       "      <td>0.0</td>\n",
       "      <td>NaN</td>\n",
       "      <td>0.0</td>\n",
       "      <td>[{'id': 26932, 'logo_path': None, 'name': \"Mrs...</td>\n",
       "    </tr>\n",
       "    <tr>\n",
       "      <th>2</th>\n",
       "      <td>261236</td>\n",
       "      <td>/m/01mrr1</td>\n",
       "      <td>A Woman in Flames</td>\n",
       "      <td>1983</td>\n",
       "      <td>106.0</td>\n",
       "      <td>German</td>\n",
       "      <td>Germany</td>\n",
       "      <td>Drama</td>\n",
       "      <td>k out on him, and he gets angry, throws her ag...</td>\n",
       "      <td>0.060000</td>\n",
       "      <td>Robert van Ackeren</td>\n",
       "      <td>5.400</td>\n",
       "      <td>0.0</td>\n",
       "      <td>NaN</td>\n",
       "      <td>0.0</td>\n",
       "      <td>[{'id': 1766, 'logo_path': None, 'name': 'Diet...</td>\n",
       "    </tr>\n",
       "    <tr>\n",
       "      <th>3</th>\n",
       "      <td>6631279</td>\n",
       "      <td>/m/0gffwj</td>\n",
       "      <td>Little city</td>\n",
       "      <td>1997</td>\n",
       "      <td>93.0</td>\n",
       "      <td>English</td>\n",
       "      <td>United States of America</td>\n",
       "      <td>Romantic comedy, Ensemble, Comedy-drama, Drama...</td>\n",
       "      <td>a soon tires of Anne and breaks off their affa...</td>\n",
       "      <td>0.144444</td>\n",
       "      <td>Hervé Palud</td>\n",
       "      <td>5.978</td>\n",
       "      <td>0.0</td>\n",
       "      <td>NaN</td>\n",
       "      <td>0.0</td>\n",
       "      <td>[{'id': 311, 'logo_path': '/TNGvZ8zOklntjPP3Ec...</td>\n",
       "    </tr>\n",
       "    <tr>\n",
       "      <th>4</th>\n",
       "      <td>77856</td>\n",
       "      <td>/m/0kcn7</td>\n",
       "      <td>Mary Poppins</td>\n",
       "      <td>1964</td>\n",
       "      <td>139.0</td>\n",
       "      <td>English</td>\n",
       "      <td>United States of America</td>\n",
       "      <td>Children's/Family, Musical, Fantasy, Comedy, D...</td>\n",
       "      <td>window. In the park with other kite-flyers, Mr...</td>\n",
       "      <td>0.331250</td>\n",
       "      <td>Robert Stevenson</td>\n",
       "      <td>7.600</td>\n",
       "      <td>103100000.0</td>\n",
       "      <td>527439.0</td>\n",
       "      <td>4650000.0</td>\n",
       "      <td>[{'id': 3166, 'logo_path': '/vyyv4Gy9nPqAZKElP...</td>\n",
       "    </tr>\n",
       "  </tbody>\n",
       "</table>\n",
       "</div>"
      ],
      "text/plain": [
       "   Movie_ID Other_Column              Title  Movie release date  \\\n",
       "0    975900    /m/03vyhn     Ghosts of Mars                2001   \n",
       "1   9363483   /m/0285_cd   White Of The Eye                1987   \n",
       "2    261236    /m/01mrr1  A Woman in Flames                1983   \n",
       "3   6631279    /m/0gffwj        Little city                1997   \n",
       "4     77856     /m/0kcn7       Mary Poppins                1964   \n",
       "\n",
       "   Movie runtime Movie languages           Movie countries  \\\n",
       "0           98.0         English  United States of America   \n",
       "1          110.0         English            United Kingdom   \n",
       "2          106.0          German                   Germany   \n",
       "3           93.0         English  United States of America   \n",
       "4          139.0         English  United States of America   \n",
       "\n",
       "                                        Movie genres  \\\n",
       "0  Thriller, Science Fiction, Horror, Adventure, ...   \n",
       "1  Thriller, Erotic thriller, Psychological thriller   \n",
       "2                                              Drama   \n",
       "3  Romantic comedy, Ensemble, Comedy-drama, Drama...   \n",
       "4  Children's/Family, Musical, Fantasy, Comedy, D...   \n",
       "\n",
       "                                             Summary     Score  \\\n",
       "0  cre on him, he handcuffs Ballard to her cot an...  0.000000   \n",
       "1  sive vest. Mike opens fire on him with a machi... -0.120000   \n",
       "2  k out on him, and he gets angry, throws her ag...  0.060000   \n",
       "3  a soon tires of Anne and breaks off their affa...  0.144444   \n",
       "4  window. In the park with other kite-flyers, Mr...  0.331250   \n",
       "\n",
       "             director  vote_average      revenue  collection      Budget  \\\n",
       "0      John Carpenter         5.112   14010832.0         NaN  28000000.0   \n",
       "1      Donald Cammell         5.800          0.0         NaN         0.0   \n",
       "2  Robert van Ackeren         5.400          0.0         NaN         0.0   \n",
       "3         Hervé Palud         5.978          0.0         NaN         0.0   \n",
       "4    Robert Stevenson         7.600  103100000.0    527439.0   4650000.0   \n",
       "\n",
       "                                          Production  \n",
       "0  [{'id': 51312, 'logo_path': None, 'name': 'Ani...  \n",
       "1  [{'id': 26932, 'logo_path': None, 'name': \"Mrs...  \n",
       "2  [{'id': 1766, 'logo_path': None, 'name': 'Diet...  \n",
       "3  [{'id': 311, 'logo_path': '/TNGvZ8zOklntjPP3Ec...  \n",
       "4  [{'id': 3166, 'logo_path': '/vyyv4Gy9nPqAZKElP...  "
      ]
     },
     "execution_count": 2,
     "metadata": {},
     "output_type": "execute_result"
    }
   ],
   "source": [
    "movies.head()"
   ]
  },
  {
   "cell_type": "code",
   "execution_count": 3,
   "metadata": {},
   "outputs": [],
   "source": [
    "# drop movies without director, vote average or revenue\n",
    "movies_filtered = movies.dropna(subset=['vote_average', 'revenue', 'director'])\n",
    "\n",
    "# drop movies with revenue less than 1000\n",
    "movies_filtered = movies_filtered[movies_filtered['revenue'] > 1000]"
   ]
  },
  {
   "cell_type": "code",
   "execution_count": 4,
   "metadata": {},
   "outputs": [
    {
     "data": {
      "text/plain": [
       "director\n",
       "Clint Eastwood        29\n",
       "Steven Spielberg      26\n",
       "Joel Schumacher       26\n",
       "Alfred Hitchcock      24\n",
       "Ridley Scott          23\n",
       "                      ..\n",
       "Walter Salles          5\n",
       "Roger Spottiswoode     5\n",
       "Ben Affleck            5\n",
       "Jake Kasdan            5\n",
       "Mark Dindal            5\n",
       "Name: count, Length: 357, dtype: int64"
      ]
     },
     "execution_count": 4,
     "metadata": {},
     "output_type": "execute_result"
    }
   ],
   "source": [
    "# count the number of movies per director\n",
    "director_counts = movies_filtered['director'].value_counts()\n",
    "\n",
    "# filter out directors with more than 4 movies\n",
    "directors = director_counts[director_counts > 4].index\n",
    "movies_filtered = movies_filtered[movies_filtered['director'].isin(directors)]\n",
    "\n",
    "# count the number of movies per director\n",
    "director_counts_filtered = movies_filtered['director'].value_counts()\n",
    "director_counts_filtered"
   ]
  },
  {
   "cell_type": "code",
   "execution_count": 5,
   "metadata": {},
   "outputs": [
    {
     "data": {
      "text/plain": [
       "director\n",
       "Bobby Farrelly         0.275245\n",
       "Adam Shankman          0.265229\n",
       "Brian Robbins          0.261244\n",
       "Mark Steven Johnson    0.257407\n",
       "Frank Coraci           0.254440\n",
       "                         ...   \n",
       "Simon West            -0.129147\n",
       "Fernando Meirelles    -0.158322\n",
       "Mark Dindal           -0.159286\n",
       "Jun Fukuda            -0.198542\n",
       "Kathryn Bigelow       -0.241281\n",
       "Name: Score, Length: 357, dtype: float64"
      ]
     },
     "execution_count": 5,
     "metadata": {},
     "output_type": "execute_result"
    }
   ],
   "source": [
    "# calculate the average score per director, and sort the directors by score\n",
    "director_avg_score = movies_filtered.groupby('director')['Score'].mean()\n",
    "director_avg_score = director_avg_score.sort_values(ascending=False)\n",
    "director_avg_score"
   ]
  },
  {
   "cell_type": "code",
   "execution_count": 6,
   "metadata": {},
   "outputs": [
    {
     "data": {
      "application/vnd.plotly.v1+json": {
       "config": {
        "plotlyServerURL": "https://plot.ly"
       },
       "data": [
        {
         "alignmentgroup": "True",
         "bingroup": "x",
         "hovertemplate": "variable=Score<br>value=%{x}<br>count=%{y}<extra></extra>",
         "legendgroup": "Score",
         "marker": {
          "color": "#636efa",
          "pattern": {
           "shape": ""
          }
         },
         "name": "Score",
         "nbinsx": 10,
         "offsetgroup": "Score",
         "orientation": "v",
         "showlegend": true,
         "type": "histogram",
         "x": [
          0.2752452857044694,
          0.2652292152292152,
          0.2612436868686868,
          0.2574074074074074,
          0.2544400686761798,
          0.2342388167388167,
          0.22666666666666666,
          0.22234126984126984,
          0.22082323232323228,
          0.21983333333333327,
          0.2170238095238095,
          0.21214560571703428,
          0.21040062420744238,
          0.20830303030303027,
          0.20355555555555557,
          0.2034343434343434,
          0.20306122448979588,
          0.1997064393939394,
          0.19480158730158728,
          0.19169696969696964,
          0.1913742584575918,
          0.19045149625506766,
          0.18947835497835497,
          0.1787701418951419,
          0.17789562289562288,
          0.1774230214230214,
          0.17719696969696966,
          0.1717316017316017,
          0.1715462962962963,
          0.171515873015873,
          0.16594195927529257,
          0.16591269841269843,
          0.16399695001967726,
          0.16327330077330074,
          0.16289520202020197,
          0.1616212121212121,
          0.1541125541125541,
          0.15342630385487527,
          0.15294269859084675,
          0.15291666666666667,
          0.15227316017316017,
          0.14995207173778605,
          0.14982928240740737,
          0.14719766464896333,
          0.14692460317460318,
          0.1467121135771929,
          0.14584821428571423,
          0.14485209235209232,
          0.14425595238095232,
          0.1435406008133281,
          0.14263676601176598,
          0.14249768089053802,
          0.14212962962962963,
          0.14155663780663777,
          0.13820247933884297,
          0.13784921386483884,
          0.1378472222222222,
          0.1363492063492063,
          0.1362459630316773,
          0.13562358276643988,
          0.13424882940189062,
          0.13305387205387204,
          0.13260912698412694,
          0.1324472502805836,
          0.13202020202020204,
          0.1319529287584843,
          0.13164141414141411,
          0.13141654641654638,
          0.1309223184223184,
          0.13080722187865043,
          0.13046212121212117,
          0.1299352904040404,
          0.12876470751470748,
          0.12793560606060603,
          0.12745370370370368,
          0.1272015392015392,
          0.12704713804713802,
          0.1268647186147186,
          0.12441378066378064,
          0.12418831168831165,
          0.12406462585034013,
          0.12335648148148147,
          0.12312499999999998,
          0.1231228956228956,
          0.1204779942279942,
          0.11980489417989416,
          0.1197782738095238,
          0.11864267676767674,
          0.11587301587301586,
          0.11531430375180371,
          0.11328020464384098,
          0.1118730158730158,
          0.11081818181818182,
          0.11046498144712429,
          0.11028185292074179,
          0.10880555555555553,
          0.10773989898989896,
          0.10757407407407407,
          0.10622363516113516,
          0.10600082457225314,
          0.10583062770562766,
          0.1052087912087912,
          0.1037878787878788,
          0.1036843434343434,
          0.10217676767676767,
          0.1020952380952381,
          0.10201990139490139,
          0.10164141414141412,
          0.10013914656771798,
          0.09977152477152475,
          0.09969221197482066,
          0.09887012987012984,
          0.0986706349206349,
          0.09848003848003847,
          0.09716666666666667,
          0.09689674523007856,
          0.09688792688792684,
          0.09654195011337867,
          0.09643308080808079,
          0.09611258083480304,
          0.09607284580498864,
          0.09600168350168345,
          0.0948989898989899,
          0.091143759018759,
          0.09103928571428571,
          0.08957564825746642,
          0.08831394002822572,
          0.08770707070707066,
          0.08629629629629626,
          0.08580844155844153,
          0.08571548821548819,
          0.08529671717171713,
          0.08447222222222221,
          0.08432138848805514,
          0.0837012987012987,
          0.08277398989898992,
          0.08164261664261661,
          0.08094350094350095,
          0.08092487373737374,
          0.07966991341991339,
          0.07925969653242379,
          0.07916666666666668,
          0.07904405663780663,
          0.07828571428571426,
          0.07766865079365079,
          0.07744348244348244,
          0.07699630230880226,
          0.07650493025493021,
          0.07624118936618936,
          0.07608909608909609,
          0.07600887345679012,
          0.07563636363636361,
          0.07474927849927845,
          0.07465385143956571,
          0.0746117257228368,
          0.07442380150713485,
          0.07297619047619043,
          0.07256393298059961,
          0.07235714285714284,
          0.07195408163265304,
          0.07143630179344464,
          0.07117508417508414,
          0.07115909090909088,
          0.06957671957671958,
          0.06902777777777777,
          0.06791065416065416,
          0.06790270429159316,
          0.06738455988455985,
          0.06700000000000002,
          0.06599747474747476,
          0.06597516835016837,
          0.06578207671957671,
          0.06479166666666664,
          0.06433982683982684,
          0.06413506760728982,
          0.06405893349075165,
          0.06252886002886002,
          0.0623438466295609,
          0.06231818181818181,
          0.06231818181818179,
          0.06144821844821842,
          0.06090277777777776,
          0.0593735827664399,
          0.05805735930735929,
          0.05780423280423275,
          0.05769535178626086,
          0.05755555555555556,
          0.05748878667628666,
          0.05711747685185185,
          0.05687143544286399,
          0.05685545935545935,
          0.05650793650793652,
          0.05647136042969372,
          0.056402597402597385,
          0.05613709372637943,
          0.055885521885521885,
          0.05554980609668109,
          0.055289201539201534,
          0.05528826112159444,
          0.05405555555555554,
          0.05378981137909709,
          0.05330776014109347,
          0.05273526077097507,
          0.0493623737373737,
          0.04908655002405002,
          0.04893290043290041,
          0.048857142857142884,
          0.04815917107583773,
          0.04764149430816095,
          0.04643939393939391,
          0.04564393939393939,
          0.04505271765271761,
          0.04443388429752066,
          0.04430127164502165,
          0.043983134920634936,
          0.04384126984126985,
          0.04362413971436526,
          0.04359848484848483,
          0.04357142857142857,
          0.04329861111111111,
          0.042518807118807095,
          0.042150072150072125,
          0.04079805996472662,
          0.04032908449575117,
          0.03995454545454545,
          0.03986111111111109,
          0.03967568542568545,
          0.03966666666666666,
          0.03919943482443481,
          0.03918008207070705,
          0.038888888888888896,
          0.03887962962962962,
          0.03858435545935544,
          0.03770707070707072,
          0.03744268077601411,
          0.037407407407407396,
          0.0370093795093795,
          0.03635311447811446,
          0.036290627362055926,
          0.03355820105820108,
          0.03240259740259737,
          0.031903183621933597,
          0.031368934884559864,
          0.03124201195629767,
          0.03079166666666665,
          0.03013550243329654,
          0.02996626984126981,
          0.02984217171717172,
          0.029794973544973544,
          0.028590909090909084,
          0.028404558404558383,
          0.02819823232323234,
          0.028153559403559365,
          0.027803287981859406,
          0.02669681508967223,
          0.025485209235209187,
          0.025458659894934395,
          0.02523809523809526,
          0.02488877382196346,
          0.02268518518518518,
          0.02091750841750842,
          0.02054378106461439,
          0.02026830808080803,
          0.019269898054620274,
          0.01876190476190475,
          0.018557692307692313,
          0.017484142015392005,
          0.01641170634920636,
          0.015921416546416548,
          0.01546861471861471,
          0.015224867724867737,
          0.01346320346320346,
          0.013383491508491508,
          0.013277216610549916,
          0.012584175084175081,
          0.012552427799823615,
          0.012152777777777783,
          0.011930093715808013,
          0.011914609053497949,
          0.011389764996907841,
          0.009924242424242433,
          0.00958676046176044,
          0.008149350649350672,
          0.007588342012255047,
          0.007001776882729247,
          0.006910398629148634,
          0.006790123456790119,
          0.006473214285714287,
          0.002774621212121198,
          0.0015782828282828315,
          0.00027777777777778233,
          -1.6653345369377347e-17,
          -0.003046336379669727,
          -0.005709150543334207,
          -0.007025813692480366,
          -0.00751889644746787,
          -0.008194444444444459,
          -0.009037037037037027,
          -0.009555555555555584,
          -0.009941603535353538,
          -0.010128870648351183,
          -0.010830142080142076,
          -0.01090909090909092,
          -0.010945834001389586,
          -0.011554433221099879,
          -0.01292328042328042,
          -0.013326692247146804,
          -0.015392015392015406,
          -0.016557067271352987,
          -0.01765151515151515,
          -0.018314393939393943,
          -0.021088435374149672,
          -0.02115277777777777,
          -0.021734029859029853,
          -0.023402777777777783,
          -0.02488662131519274,
          -0.027152568251053107,
          -0.02800365832359879,
          -0.030081437521913702,
          -0.03142760942760944,
          -0.03268648789482123,
          -0.032974687349687344,
          -0.03333333333333334,
          -0.034092970521541956,
          -0.034183673469387714,
          -0.03708333333333336,
          -0.03805555555555558,
          -0.04186791383219952,
          -0.04440476190476195,
          -0.04464905753968253,
          -0.04709595959595956,
          -0.04841666666666666,
          -0.05132485569985569,
          -0.053016098484848485,
          -0.053749999999999985,
          -0.054935515873015865,
          -0.055761634199134186,
          -0.058917508417508424,
          -0.059940476190476155,
          -0.06175194404361072,
          -0.07165103415103415,
          -0.07244212962962958,
          -0.0736031746031746,
          -0.07524386724386725,
          -0.07532294628448476,
          -0.07611111111111112,
          -0.08103009259259258,
          -0.08923400673400673,
          -0.10261784511784511,
          -0.11959343434343431,
          -0.1222685185185185,
          -0.12893518518518518,
          -0.1291468253968254,
          -0.15832222222222223,
          -0.15928571428571428,
          -0.19854166666666664,
          -0.24128086419753084
         ],
         "xaxis": "x",
         "yaxis": "y"
        }
       ],
       "layout": {
        "bargap": 0.1,
        "barmode": "relative",
        "legend": {
         "title": {
          "text": "variable"
         },
         "tracegroupgap": 0
        },
        "showlegend": false,
        "template": {
         "data": {
          "bar": [
           {
            "error_x": {
             "color": "#2a3f5f"
            },
            "error_y": {
             "color": "#2a3f5f"
            },
            "marker": {
             "line": {
              "color": "#E5ECF6",
              "width": 0.5
             },
             "pattern": {
              "fillmode": "overlay",
              "size": 10,
              "solidity": 0.2
             }
            },
            "type": "bar"
           }
          ],
          "barpolar": [
           {
            "marker": {
             "line": {
              "color": "#E5ECF6",
              "width": 0.5
             },
             "pattern": {
              "fillmode": "overlay",
              "size": 10,
              "solidity": 0.2
             }
            },
            "type": "barpolar"
           }
          ],
          "carpet": [
           {
            "aaxis": {
             "endlinecolor": "#2a3f5f",
             "gridcolor": "white",
             "linecolor": "white",
             "minorgridcolor": "white",
             "startlinecolor": "#2a3f5f"
            },
            "baxis": {
             "endlinecolor": "#2a3f5f",
             "gridcolor": "white",
             "linecolor": "white",
             "minorgridcolor": "white",
             "startlinecolor": "#2a3f5f"
            },
            "type": "carpet"
           }
          ],
          "choropleth": [
           {
            "colorbar": {
             "outlinewidth": 0,
             "ticks": ""
            },
            "type": "choropleth"
           }
          ],
          "contour": [
           {
            "colorbar": {
             "outlinewidth": 0,
             "ticks": ""
            },
            "colorscale": [
             [
              0,
              "#0d0887"
             ],
             [
              0.1111111111111111,
              "#46039f"
             ],
             [
              0.2222222222222222,
              "#7201a8"
             ],
             [
              0.3333333333333333,
              "#9c179e"
             ],
             [
              0.4444444444444444,
              "#bd3786"
             ],
             [
              0.5555555555555556,
              "#d8576b"
             ],
             [
              0.6666666666666666,
              "#ed7953"
             ],
             [
              0.7777777777777778,
              "#fb9f3a"
             ],
             [
              0.8888888888888888,
              "#fdca26"
             ],
             [
              1,
              "#f0f921"
             ]
            ],
            "type": "contour"
           }
          ],
          "contourcarpet": [
           {
            "colorbar": {
             "outlinewidth": 0,
             "ticks": ""
            },
            "type": "contourcarpet"
           }
          ],
          "heatmap": [
           {
            "colorbar": {
             "outlinewidth": 0,
             "ticks": ""
            },
            "colorscale": [
             [
              0,
              "#0d0887"
             ],
             [
              0.1111111111111111,
              "#46039f"
             ],
             [
              0.2222222222222222,
              "#7201a8"
             ],
             [
              0.3333333333333333,
              "#9c179e"
             ],
             [
              0.4444444444444444,
              "#bd3786"
             ],
             [
              0.5555555555555556,
              "#d8576b"
             ],
             [
              0.6666666666666666,
              "#ed7953"
             ],
             [
              0.7777777777777778,
              "#fb9f3a"
             ],
             [
              0.8888888888888888,
              "#fdca26"
             ],
             [
              1,
              "#f0f921"
             ]
            ],
            "type": "heatmap"
           }
          ],
          "heatmapgl": [
           {
            "colorbar": {
             "outlinewidth": 0,
             "ticks": ""
            },
            "colorscale": [
             [
              0,
              "#0d0887"
             ],
             [
              0.1111111111111111,
              "#46039f"
             ],
             [
              0.2222222222222222,
              "#7201a8"
             ],
             [
              0.3333333333333333,
              "#9c179e"
             ],
             [
              0.4444444444444444,
              "#bd3786"
             ],
             [
              0.5555555555555556,
              "#d8576b"
             ],
             [
              0.6666666666666666,
              "#ed7953"
             ],
             [
              0.7777777777777778,
              "#fb9f3a"
             ],
             [
              0.8888888888888888,
              "#fdca26"
             ],
             [
              1,
              "#f0f921"
             ]
            ],
            "type": "heatmapgl"
           }
          ],
          "histogram": [
           {
            "marker": {
             "pattern": {
              "fillmode": "overlay",
              "size": 10,
              "solidity": 0.2
             }
            },
            "type": "histogram"
           }
          ],
          "histogram2d": [
           {
            "colorbar": {
             "outlinewidth": 0,
             "ticks": ""
            },
            "colorscale": [
             [
              0,
              "#0d0887"
             ],
             [
              0.1111111111111111,
              "#46039f"
             ],
             [
              0.2222222222222222,
              "#7201a8"
             ],
             [
              0.3333333333333333,
              "#9c179e"
             ],
             [
              0.4444444444444444,
              "#bd3786"
             ],
             [
              0.5555555555555556,
              "#d8576b"
             ],
             [
              0.6666666666666666,
              "#ed7953"
             ],
             [
              0.7777777777777778,
              "#fb9f3a"
             ],
             [
              0.8888888888888888,
              "#fdca26"
             ],
             [
              1,
              "#f0f921"
             ]
            ],
            "type": "histogram2d"
           }
          ],
          "histogram2dcontour": [
           {
            "colorbar": {
             "outlinewidth": 0,
             "ticks": ""
            },
            "colorscale": [
             [
              0,
              "#0d0887"
             ],
             [
              0.1111111111111111,
              "#46039f"
             ],
             [
              0.2222222222222222,
              "#7201a8"
             ],
             [
              0.3333333333333333,
              "#9c179e"
             ],
             [
              0.4444444444444444,
              "#bd3786"
             ],
             [
              0.5555555555555556,
              "#d8576b"
             ],
             [
              0.6666666666666666,
              "#ed7953"
             ],
             [
              0.7777777777777778,
              "#fb9f3a"
             ],
             [
              0.8888888888888888,
              "#fdca26"
             ],
             [
              1,
              "#f0f921"
             ]
            ],
            "type": "histogram2dcontour"
           }
          ],
          "mesh3d": [
           {
            "colorbar": {
             "outlinewidth": 0,
             "ticks": ""
            },
            "type": "mesh3d"
           }
          ],
          "parcoords": [
           {
            "line": {
             "colorbar": {
              "outlinewidth": 0,
              "ticks": ""
             }
            },
            "type": "parcoords"
           }
          ],
          "pie": [
           {
            "automargin": true,
            "type": "pie"
           }
          ],
          "scatter": [
           {
            "fillpattern": {
             "fillmode": "overlay",
             "size": 10,
             "solidity": 0.2
            },
            "type": "scatter"
           }
          ],
          "scatter3d": [
           {
            "line": {
             "colorbar": {
              "outlinewidth": 0,
              "ticks": ""
             }
            },
            "marker": {
             "colorbar": {
              "outlinewidth": 0,
              "ticks": ""
             }
            },
            "type": "scatter3d"
           }
          ],
          "scattercarpet": [
           {
            "marker": {
             "colorbar": {
              "outlinewidth": 0,
              "ticks": ""
             }
            },
            "type": "scattercarpet"
           }
          ],
          "scattergeo": [
           {
            "marker": {
             "colorbar": {
              "outlinewidth": 0,
              "ticks": ""
             }
            },
            "type": "scattergeo"
           }
          ],
          "scattergl": [
           {
            "marker": {
             "colorbar": {
              "outlinewidth": 0,
              "ticks": ""
             }
            },
            "type": "scattergl"
           }
          ],
          "scattermapbox": [
           {
            "marker": {
             "colorbar": {
              "outlinewidth": 0,
              "ticks": ""
             }
            },
            "type": "scattermapbox"
           }
          ],
          "scatterpolar": [
           {
            "marker": {
             "colorbar": {
              "outlinewidth": 0,
              "ticks": ""
             }
            },
            "type": "scatterpolar"
           }
          ],
          "scatterpolargl": [
           {
            "marker": {
             "colorbar": {
              "outlinewidth": 0,
              "ticks": ""
             }
            },
            "type": "scatterpolargl"
           }
          ],
          "scatterternary": [
           {
            "marker": {
             "colorbar": {
              "outlinewidth": 0,
              "ticks": ""
             }
            },
            "type": "scatterternary"
           }
          ],
          "surface": [
           {
            "colorbar": {
             "outlinewidth": 0,
             "ticks": ""
            },
            "colorscale": [
             [
              0,
              "#0d0887"
             ],
             [
              0.1111111111111111,
              "#46039f"
             ],
             [
              0.2222222222222222,
              "#7201a8"
             ],
             [
              0.3333333333333333,
              "#9c179e"
             ],
             [
              0.4444444444444444,
              "#bd3786"
             ],
             [
              0.5555555555555556,
              "#d8576b"
             ],
             [
              0.6666666666666666,
              "#ed7953"
             ],
             [
              0.7777777777777778,
              "#fb9f3a"
             ],
             [
              0.8888888888888888,
              "#fdca26"
             ],
             [
              1,
              "#f0f921"
             ]
            ],
            "type": "surface"
           }
          ],
          "table": [
           {
            "cells": {
             "fill": {
              "color": "#EBF0F8"
             },
             "line": {
              "color": "white"
             }
            },
            "header": {
             "fill": {
              "color": "#C8D4E3"
             },
             "line": {
              "color": "white"
             }
            },
            "type": "table"
           }
          ]
         },
         "layout": {
          "annotationdefaults": {
           "arrowcolor": "#2a3f5f",
           "arrowhead": 0,
           "arrowwidth": 1
          },
          "autotypenumbers": "strict",
          "coloraxis": {
           "colorbar": {
            "outlinewidth": 0,
            "ticks": ""
           }
          },
          "colorscale": {
           "diverging": [
            [
             0,
             "#8e0152"
            ],
            [
             0.1,
             "#c51b7d"
            ],
            [
             0.2,
             "#de77ae"
            ],
            [
             0.3,
             "#f1b6da"
            ],
            [
             0.4,
             "#fde0ef"
            ],
            [
             0.5,
             "#f7f7f7"
            ],
            [
             0.6,
             "#e6f5d0"
            ],
            [
             0.7,
             "#b8e186"
            ],
            [
             0.8,
             "#7fbc41"
            ],
            [
             0.9,
             "#4d9221"
            ],
            [
             1,
             "#276419"
            ]
           ],
           "sequential": [
            [
             0,
             "#0d0887"
            ],
            [
             0.1111111111111111,
             "#46039f"
            ],
            [
             0.2222222222222222,
             "#7201a8"
            ],
            [
             0.3333333333333333,
             "#9c179e"
            ],
            [
             0.4444444444444444,
             "#bd3786"
            ],
            [
             0.5555555555555556,
             "#d8576b"
            ],
            [
             0.6666666666666666,
             "#ed7953"
            ],
            [
             0.7777777777777778,
             "#fb9f3a"
            ],
            [
             0.8888888888888888,
             "#fdca26"
            ],
            [
             1,
             "#f0f921"
            ]
           ],
           "sequentialminus": [
            [
             0,
             "#0d0887"
            ],
            [
             0.1111111111111111,
             "#46039f"
            ],
            [
             0.2222222222222222,
             "#7201a8"
            ],
            [
             0.3333333333333333,
             "#9c179e"
            ],
            [
             0.4444444444444444,
             "#bd3786"
            ],
            [
             0.5555555555555556,
             "#d8576b"
            ],
            [
             0.6666666666666666,
             "#ed7953"
            ],
            [
             0.7777777777777778,
             "#fb9f3a"
            ],
            [
             0.8888888888888888,
             "#fdca26"
            ],
            [
             1,
             "#f0f921"
            ]
           ]
          },
          "colorway": [
           "#636efa",
           "#EF553B",
           "#00cc96",
           "#ab63fa",
           "#FFA15A",
           "#19d3f3",
           "#FF6692",
           "#B6E880",
           "#FF97FF",
           "#FECB52"
          ],
          "font": {
           "color": "#2a3f5f"
          },
          "geo": {
           "bgcolor": "white",
           "lakecolor": "white",
           "landcolor": "#E5ECF6",
           "showlakes": true,
           "showland": true,
           "subunitcolor": "white"
          },
          "hoverlabel": {
           "align": "left"
          },
          "hovermode": "closest",
          "mapbox": {
           "style": "light"
          },
          "paper_bgcolor": "white",
          "plot_bgcolor": "#E5ECF6",
          "polar": {
           "angularaxis": {
            "gridcolor": "white",
            "linecolor": "white",
            "ticks": ""
           },
           "bgcolor": "#E5ECF6",
           "radialaxis": {
            "gridcolor": "white",
            "linecolor": "white",
            "ticks": ""
           }
          },
          "scene": {
           "xaxis": {
            "backgroundcolor": "#E5ECF6",
            "gridcolor": "white",
            "gridwidth": 2,
            "linecolor": "white",
            "showbackground": true,
            "ticks": "",
            "zerolinecolor": "white"
           },
           "yaxis": {
            "backgroundcolor": "#E5ECF6",
            "gridcolor": "white",
            "gridwidth": 2,
            "linecolor": "white",
            "showbackground": true,
            "ticks": "",
            "zerolinecolor": "white"
           },
           "zaxis": {
            "backgroundcolor": "#E5ECF6",
            "gridcolor": "white",
            "gridwidth": 2,
            "linecolor": "white",
            "showbackground": true,
            "ticks": "",
            "zerolinecolor": "white"
           }
          },
          "shapedefaults": {
           "line": {
            "color": "#2a3f5f"
           }
          },
          "ternary": {
           "aaxis": {
            "gridcolor": "white",
            "linecolor": "white",
            "ticks": ""
           },
           "baxis": {
            "gridcolor": "white",
            "linecolor": "white",
            "ticks": ""
           },
           "bgcolor": "#E5ECF6",
           "caxis": {
            "gridcolor": "white",
            "linecolor": "white",
            "ticks": ""
           }
          },
          "title": {
           "x": 0.05
          },
          "xaxis": {
           "automargin": true,
           "gridcolor": "white",
           "linecolor": "white",
           "ticks": "",
           "title": {
            "standoff": 15
           },
           "zerolinecolor": "white",
           "zerolinewidth": 2
          },
          "yaxis": {
           "automargin": true,
           "gridcolor": "white",
           "linecolor": "white",
           "ticks": "",
           "title": {
            "standoff": 15
           },
           "zerolinecolor": "white",
           "zerolinewidth": 2
          }
         }
        },
        "title": {
         "text": "Average ending score per director"
        },
        "xaxis": {
         "anchor": "y",
         "domain": [
          0,
          1
         ],
         "title": {
          "text": "Average ending score"
         }
        },
        "yaxis": {
         "anchor": "x",
         "domain": [
          0,
          1
         ],
         "title": {
          "text": "Number of directors"
         },
         "type": "log"
        }
       }
      }
     },
     "metadata": {},
     "output_type": "display_data"
    }
   ],
   "source": [
    "\n",
    "\n",
    "fig = px.histogram(\n",
    "    director_avg_score, \n",
    "    nbins=10,\n",
    "    title='Average ending score per director',\n",
    "    log_y=True\n",
    ")\n",
    "\n",
    "fig.update_layout(\n",
    "    xaxis_title='Average ending score',\n",
    "    yaxis_title='Number of directors',\n",
    "    bargap=0.1,\n",
    "    showlegend=False\n",
    ")\n",
    "\n",
    "fig.show()\n",
    "\n",
    "fig.write_html(\"../../assets/img/rq3/director_avg_score.html\")"
   ]
  },
  {
   "cell_type": "code",
   "execution_count": 7,
   "metadata": {},
   "outputs": [
    {
     "data": {
      "text/plain": [
       "director\n",
       "Mark Dindal             0.422340\n",
       "Michael Winterbottom    0.396467\n",
       "David Lean              0.388405\n",
       "Jon Amiel               0.340166\n",
       "David O. Russell        0.332615\n",
       "                          ...   \n",
       "Roger Spottiswoode      0.051187\n",
       "Giuseppe Tornatore      0.048734\n",
       "Breck Eisner            0.048668\n",
       "Joe Wright              0.044512\n",
       "Ken Loach               0.030679\n",
       "Name: Score, Length: 357, dtype: float64"
      ]
     },
     "execution_count": 7,
     "metadata": {},
     "output_type": "execute_result"
    }
   ],
   "source": [
    "# calculate the score variance per director, and sort the directors by variance\n",
    "director_score_variance = movies_filtered.groupby('director')['Score'].std()\n",
    "director_score_variance = director_score_variance.sort_values(ascending=False)\n",
    "director_score_variance"
   ]
  },
  {
   "cell_type": "code",
   "execution_count": 8,
   "metadata": {},
   "outputs": [
    {
     "data": {
      "application/vnd.plotly.v1+json": {
       "config": {
        "plotlyServerURL": "https://plot.ly"
       },
       "data": [
        {
         "alignmentgroup": "True",
         "bingroup": "x",
         "hovertemplate": "variable=Score<br>value=%{x}<br>count=%{y}<extra></extra>",
         "legendgroup": "Score",
         "marker": {
          "color": "#636efa",
          "pattern": {
           "shape": ""
          }
         },
         "name": "Score",
         "nbinsx": 10,
         "offsetgroup": "Score",
         "orientation": "v",
         "showlegend": true,
         "type": "histogram",
         "x": [
          0.42234032559487233,
          0.3964669106190691,
          0.3884054962442059,
          0.34016584130013344,
          0.3326146418905819,
          0.33019880375313293,
          0.32463852959425404,
          0.32102217908778774,
          0.32060153102903416,
          0.31970102273435064,
          0.2934277763392535,
          0.2922012024268971,
          0.2919991872225769,
          0.29060507266138197,
          0.2868504496156379,
          0.28186618599706237,
          0.2811496734639556,
          0.28103820196586926,
          0.2809611966729503,
          0.28055638063685057,
          0.2705149096196559,
          0.27043295640698956,
          0.27036816576921463,
          0.2695953807134282,
          0.26738090791056635,
          0.26563445987768414,
          0.2629082642646162,
          0.2550261987633861,
          0.2545753848470069,
          0.2540012104939516,
          0.25198949661906617,
          0.2511042883422916,
          0.2507326379031588,
          0.24902444728357603,
          0.24892635101831323,
          0.24745459333517586,
          0.24398269484407953,
          0.24364804372898824,
          0.24276709469884608,
          0.241864080067686,
          0.24089325711862253,
          0.24013866313239537,
          0.23912619838913743,
          0.23432157395547878,
          0.2341961551631295,
          0.2317097080181019,
          0.2298308289564683,
          0.22976454975672905,
          0.22744714740156913,
          0.22452219356643618,
          0.2242537598509022,
          0.22346261213778354,
          0.2225668593215009,
          0.22235343768077342,
          0.22190039449937926,
          0.221450533020181,
          0.22115669655377074,
          0.21923427749860444,
          0.21886715246904417,
          0.21873037830868788,
          0.21827722705734445,
          0.21732806085932635,
          0.21702042388858206,
          0.21691477841547385,
          0.21399614508365344,
          0.21388848123363358,
          0.21311558788860865,
          0.21233858214705423,
          0.2114832029623501,
          0.21083176860074473,
          0.20913183336781743,
          0.20811826677902823,
          0.20756796459293292,
          0.20734330360264472,
          0.20707277545043296,
          0.20607494219728348,
          0.20562033235821742,
          0.2054533737566128,
          0.2054474242200561,
          0.20514408345776047,
          0.20415430338799306,
          0.2035900407578751,
          0.20324306309869614,
          0.20295771170272697,
          0.2027437598042849,
          0.20269536483959466,
          0.2025203216125275,
          0.20246919410966582,
          0.20221430463743156,
          0.20176671003417282,
          0.20174225479720062,
          0.20115766023189982,
          0.19995757575068052,
          0.19824440842939303,
          0.1981944386255056,
          0.19780168878786353,
          0.197500883578432,
          0.19719908711695222,
          0.1970701055264209,
          0.1963294082294276,
          0.19549590991540153,
          0.1954312081687528,
          0.1952000069152009,
          0.19506718525835107,
          0.19320907369407458,
          0.19270130203423153,
          0.19263827805719066,
          0.1912338397512853,
          0.1904613089424769,
          0.1889751232893426,
          0.18879455547667565,
          0.1880816786973413,
          0.18807187658134364,
          0.1879639535810124,
          0.18748326239946905,
          0.18720500229955778,
          0.1859792581580553,
          0.1848217400886877,
          0.18462804732409324,
          0.18431803949067024,
          0.184306596037113,
          0.18300639397146998,
          0.1828187656742059,
          0.1823973183272242,
          0.18223500740963572,
          0.18186377046286784,
          0.181738123195995,
          0.18032952317176004,
          0.18026720009930122,
          0.17967532507839035,
          0.17858369603169316,
          0.17783162671206068,
          0.1777544634717756,
          0.17761457424285618,
          0.1772506884458182,
          0.17696506081040467,
          0.1769163439737598,
          0.1767223213581962,
          0.17601441876049032,
          0.1756265207937665,
          0.17509790857386937,
          0.17496822948841284,
          0.17481233420504969,
          0.17461794470155972,
          0.17454255984476988,
          0.17402513455978755,
          0.1738349717222918,
          0.17314967248855084,
          0.17223372232872225,
          0.1721403850461775,
          0.1719134820649296,
          0.1716492367339728,
          0.1710281378366413,
          0.1706068791920421,
          0.17045687541100754,
          0.16920713084286954,
          0.16887416005205275,
          0.16861255593527408,
          0.16852875715274404,
          0.16819967832349153,
          0.167903414834133,
          0.16768374557494406,
          0.16745426295428908,
          0.16742923677661978,
          0.1666628277588308,
          0.16597031940795384,
          0.1654519743320213,
          0.1652346095048749,
          0.16504667079897756,
          0.16440427667822521,
          0.16364401356830133,
          0.16337775409703365,
          0.16229725922212923,
          0.161911506743023,
          0.1618800527425329,
          0.16174065871163434,
          0.16062131693872764,
          0.16038496431240984,
          0.15952274728459018,
          0.15895260817084342,
          0.1584951151870133,
          0.1584677061387868,
          0.15826020053470868,
          0.1579926829630375,
          0.1574280056144647,
          0.15709611649261954,
          0.15681639246637735,
          0.15613441403775652,
          0.15612289569709129,
          0.15528801093171435,
          0.15456325015948666,
          0.15450137373955655,
          0.1535086674722302,
          0.1531493461371031,
          0.15242735742037875,
          0.151639390503543,
          0.15126267583097489,
          0.1512276963086372,
          0.1507434230911517,
          0.15059103625343181,
          0.15032107473506237,
          0.15018198351381465,
          0.14988806694720133,
          0.14978414773998092,
          0.14939972982503824,
          0.14921153983326957,
          0.14854070369416275,
          0.14840278086626246,
          0.14785808329464678,
          0.1475607878002435,
          0.14668413173936787,
          0.14668278754227626,
          0.14637467152985742,
          0.14614906178066756,
          0.14613516580560662,
          0.14599197733869843,
          0.14548915934841256,
          0.14495415823280378,
          0.1439503368739428,
          0.14313412587025012,
          0.1420705492577754,
          0.14200960267852775,
          0.1415058705285152,
          0.14141380239421622,
          0.1410806745360377,
          0.14001551823784936,
          0.13987594807793133,
          0.13978870931319423,
          0.1396863719950117,
          0.13934565376117064,
          0.13924577277452882,
          0.13782146507648094,
          0.13748543554775666,
          0.1373677815479576,
          0.13721678651702057,
          0.13708852260833332,
          0.13641978595197898,
          0.13625722276351548,
          0.13585967911614708,
          0.13543301315532968,
          0.13541006156730948,
          0.1350760280764349,
          0.13320889154692006,
          0.13248669403551339,
          0.1315043530980242,
          0.13141711972424353,
          0.13127029531504364,
          0.13058586548426823,
          0.13025032225475636,
          0.13018580304004862,
          0.13009323425242098,
          0.12964952663123058,
          0.1292657462846177,
          0.12867356779110503,
          0.1278682007282253,
          0.12743476340925958,
          0.12638125740085918,
          0.12615420637794075,
          0.12608319939486015,
          0.12607891086392975,
          0.12583210693540206,
          0.12568289129539859,
          0.12566424168271623,
          0.12506316318153365,
          0.12460750335900381,
          0.12417632151755036,
          0.12367315397287293,
          0.12296152665381573,
          0.12292914336908532,
          0.12277596875381909,
          0.12215918427268678,
          0.12189887836764988,
          0.12162445087880984,
          0.12035505600585637,
          0.1201151630393736,
          0.11724128125151784,
          0.11704376655627115,
          0.11680880783879266,
          0.11565095544308292,
          0.11537733185879011,
          0.1147313132528506,
          0.11470574269585375,
          0.11458363395823955,
          0.11456644826456276,
          0.11452819161967893,
          0.113417470241112,
          0.11269910821361664,
          0.11221538176571146,
          0.1121594241099773,
          0.11188705590649944,
          0.11138342855591948,
          0.10996268981978637,
          0.10969809294313147,
          0.1093978960486167,
          0.10866295223860073,
          0.1076557787359582,
          0.10736717942558541,
          0.10720417424146081,
          0.10716870638664606,
          0.1061882317313364,
          0.10577787261644468,
          0.10478428037529636,
          0.10275738154415562,
          0.10203822741278806,
          0.10146543913819213,
          0.10123426665602729,
          0.10095560628265995,
          0.10062271556658099,
          0.09995936674469276,
          0.09992955436832754,
          0.09977354186320381,
          0.09887961517943401,
          0.09767127752347615,
          0.09750525296152203,
          0.0968498441157579,
          0.09669714497568477,
          0.09638820673334442,
          0.09586456917761962,
          0.09508371905298933,
          0.09499856935725129,
          0.09480158453316671,
          0.09473451017331483,
          0.09434820287812311,
          0.09269066666487451,
          0.09266198566697066,
          0.09134146307562559,
          0.09087539779666197,
          0.08829271772946908,
          0.08705697074997136,
          0.0866611756136443,
          0.08393609059110993,
          0.08211188385253232,
          0.08192860487214637,
          0.08145901620418353,
          0.07986805332886429,
          0.07867312568812967,
          0.07786470880196526,
          0.07744110691675567,
          0.07732487389330528,
          0.07731389277826414,
          0.07700194318416198,
          0.07695259093910367,
          0.07564178204196448,
          0.0744857893926935,
          0.07289186085997273,
          0.06929535971383365,
          0.06726995814767572,
          0.06493335228199816,
          0.0641876063410096,
          0.0638271969672297,
          0.05299975363302791,
          0.051721521059813605,
          0.051187056803509344,
          0.04873445337604272,
          0.04866798871545605,
          0.04451220400132576,
          0.03067854453167854
         ],
         "xaxis": "x",
         "yaxis": "y"
        }
       ],
       "layout": {
        "bargap": 0.1,
        "barmode": "relative",
        "legend": {
         "title": {
          "text": "variable"
         },
         "tracegroupgap": 0
        },
        "showlegend": false,
        "template": {
         "data": {
          "bar": [
           {
            "error_x": {
             "color": "#2a3f5f"
            },
            "error_y": {
             "color": "#2a3f5f"
            },
            "marker": {
             "line": {
              "color": "#E5ECF6",
              "width": 0.5
             },
             "pattern": {
              "fillmode": "overlay",
              "size": 10,
              "solidity": 0.2
             }
            },
            "type": "bar"
           }
          ],
          "barpolar": [
           {
            "marker": {
             "line": {
              "color": "#E5ECF6",
              "width": 0.5
             },
             "pattern": {
              "fillmode": "overlay",
              "size": 10,
              "solidity": 0.2
             }
            },
            "type": "barpolar"
           }
          ],
          "carpet": [
           {
            "aaxis": {
             "endlinecolor": "#2a3f5f",
             "gridcolor": "white",
             "linecolor": "white",
             "minorgridcolor": "white",
             "startlinecolor": "#2a3f5f"
            },
            "baxis": {
             "endlinecolor": "#2a3f5f",
             "gridcolor": "white",
             "linecolor": "white",
             "minorgridcolor": "white",
             "startlinecolor": "#2a3f5f"
            },
            "type": "carpet"
           }
          ],
          "choropleth": [
           {
            "colorbar": {
             "outlinewidth": 0,
             "ticks": ""
            },
            "type": "choropleth"
           }
          ],
          "contour": [
           {
            "colorbar": {
             "outlinewidth": 0,
             "ticks": ""
            },
            "colorscale": [
             [
              0,
              "#0d0887"
             ],
             [
              0.1111111111111111,
              "#46039f"
             ],
             [
              0.2222222222222222,
              "#7201a8"
             ],
             [
              0.3333333333333333,
              "#9c179e"
             ],
             [
              0.4444444444444444,
              "#bd3786"
             ],
             [
              0.5555555555555556,
              "#d8576b"
             ],
             [
              0.6666666666666666,
              "#ed7953"
             ],
             [
              0.7777777777777778,
              "#fb9f3a"
             ],
             [
              0.8888888888888888,
              "#fdca26"
             ],
             [
              1,
              "#f0f921"
             ]
            ],
            "type": "contour"
           }
          ],
          "contourcarpet": [
           {
            "colorbar": {
             "outlinewidth": 0,
             "ticks": ""
            },
            "type": "contourcarpet"
           }
          ],
          "heatmap": [
           {
            "colorbar": {
             "outlinewidth": 0,
             "ticks": ""
            },
            "colorscale": [
             [
              0,
              "#0d0887"
             ],
             [
              0.1111111111111111,
              "#46039f"
             ],
             [
              0.2222222222222222,
              "#7201a8"
             ],
             [
              0.3333333333333333,
              "#9c179e"
             ],
             [
              0.4444444444444444,
              "#bd3786"
             ],
             [
              0.5555555555555556,
              "#d8576b"
             ],
             [
              0.6666666666666666,
              "#ed7953"
             ],
             [
              0.7777777777777778,
              "#fb9f3a"
             ],
             [
              0.8888888888888888,
              "#fdca26"
             ],
             [
              1,
              "#f0f921"
             ]
            ],
            "type": "heatmap"
           }
          ],
          "heatmapgl": [
           {
            "colorbar": {
             "outlinewidth": 0,
             "ticks": ""
            },
            "colorscale": [
             [
              0,
              "#0d0887"
             ],
             [
              0.1111111111111111,
              "#46039f"
             ],
             [
              0.2222222222222222,
              "#7201a8"
             ],
             [
              0.3333333333333333,
              "#9c179e"
             ],
             [
              0.4444444444444444,
              "#bd3786"
             ],
             [
              0.5555555555555556,
              "#d8576b"
             ],
             [
              0.6666666666666666,
              "#ed7953"
             ],
             [
              0.7777777777777778,
              "#fb9f3a"
             ],
             [
              0.8888888888888888,
              "#fdca26"
             ],
             [
              1,
              "#f0f921"
             ]
            ],
            "type": "heatmapgl"
           }
          ],
          "histogram": [
           {
            "marker": {
             "pattern": {
              "fillmode": "overlay",
              "size": 10,
              "solidity": 0.2
             }
            },
            "type": "histogram"
           }
          ],
          "histogram2d": [
           {
            "colorbar": {
             "outlinewidth": 0,
             "ticks": ""
            },
            "colorscale": [
             [
              0,
              "#0d0887"
             ],
             [
              0.1111111111111111,
              "#46039f"
             ],
             [
              0.2222222222222222,
              "#7201a8"
             ],
             [
              0.3333333333333333,
              "#9c179e"
             ],
             [
              0.4444444444444444,
              "#bd3786"
             ],
             [
              0.5555555555555556,
              "#d8576b"
             ],
             [
              0.6666666666666666,
              "#ed7953"
             ],
             [
              0.7777777777777778,
              "#fb9f3a"
             ],
             [
              0.8888888888888888,
              "#fdca26"
             ],
             [
              1,
              "#f0f921"
             ]
            ],
            "type": "histogram2d"
           }
          ],
          "histogram2dcontour": [
           {
            "colorbar": {
             "outlinewidth": 0,
             "ticks": ""
            },
            "colorscale": [
             [
              0,
              "#0d0887"
             ],
             [
              0.1111111111111111,
              "#46039f"
             ],
             [
              0.2222222222222222,
              "#7201a8"
             ],
             [
              0.3333333333333333,
              "#9c179e"
             ],
             [
              0.4444444444444444,
              "#bd3786"
             ],
             [
              0.5555555555555556,
              "#d8576b"
             ],
             [
              0.6666666666666666,
              "#ed7953"
             ],
             [
              0.7777777777777778,
              "#fb9f3a"
             ],
             [
              0.8888888888888888,
              "#fdca26"
             ],
             [
              1,
              "#f0f921"
             ]
            ],
            "type": "histogram2dcontour"
           }
          ],
          "mesh3d": [
           {
            "colorbar": {
             "outlinewidth": 0,
             "ticks": ""
            },
            "type": "mesh3d"
           }
          ],
          "parcoords": [
           {
            "line": {
             "colorbar": {
              "outlinewidth": 0,
              "ticks": ""
             }
            },
            "type": "parcoords"
           }
          ],
          "pie": [
           {
            "automargin": true,
            "type": "pie"
           }
          ],
          "scatter": [
           {
            "fillpattern": {
             "fillmode": "overlay",
             "size": 10,
             "solidity": 0.2
            },
            "type": "scatter"
           }
          ],
          "scatter3d": [
           {
            "line": {
             "colorbar": {
              "outlinewidth": 0,
              "ticks": ""
             }
            },
            "marker": {
             "colorbar": {
              "outlinewidth": 0,
              "ticks": ""
             }
            },
            "type": "scatter3d"
           }
          ],
          "scattercarpet": [
           {
            "marker": {
             "colorbar": {
              "outlinewidth": 0,
              "ticks": ""
             }
            },
            "type": "scattercarpet"
           }
          ],
          "scattergeo": [
           {
            "marker": {
             "colorbar": {
              "outlinewidth": 0,
              "ticks": ""
             }
            },
            "type": "scattergeo"
           }
          ],
          "scattergl": [
           {
            "marker": {
             "colorbar": {
              "outlinewidth": 0,
              "ticks": ""
             }
            },
            "type": "scattergl"
           }
          ],
          "scattermapbox": [
           {
            "marker": {
             "colorbar": {
              "outlinewidth": 0,
              "ticks": ""
             }
            },
            "type": "scattermapbox"
           }
          ],
          "scatterpolar": [
           {
            "marker": {
             "colorbar": {
              "outlinewidth": 0,
              "ticks": ""
             }
            },
            "type": "scatterpolar"
           }
          ],
          "scatterpolargl": [
           {
            "marker": {
             "colorbar": {
              "outlinewidth": 0,
              "ticks": ""
             }
            },
            "type": "scatterpolargl"
           }
          ],
          "scatterternary": [
           {
            "marker": {
             "colorbar": {
              "outlinewidth": 0,
              "ticks": ""
             }
            },
            "type": "scatterternary"
           }
          ],
          "surface": [
           {
            "colorbar": {
             "outlinewidth": 0,
             "ticks": ""
            },
            "colorscale": [
             [
              0,
              "#0d0887"
             ],
             [
              0.1111111111111111,
              "#46039f"
             ],
             [
              0.2222222222222222,
              "#7201a8"
             ],
             [
              0.3333333333333333,
              "#9c179e"
             ],
             [
              0.4444444444444444,
              "#bd3786"
             ],
             [
              0.5555555555555556,
              "#d8576b"
             ],
             [
              0.6666666666666666,
              "#ed7953"
             ],
             [
              0.7777777777777778,
              "#fb9f3a"
             ],
             [
              0.8888888888888888,
              "#fdca26"
             ],
             [
              1,
              "#f0f921"
             ]
            ],
            "type": "surface"
           }
          ],
          "table": [
           {
            "cells": {
             "fill": {
              "color": "#EBF0F8"
             },
             "line": {
              "color": "white"
             }
            },
            "header": {
             "fill": {
              "color": "#C8D4E3"
             },
             "line": {
              "color": "white"
             }
            },
            "type": "table"
           }
          ]
         },
         "layout": {
          "annotationdefaults": {
           "arrowcolor": "#2a3f5f",
           "arrowhead": 0,
           "arrowwidth": 1
          },
          "autotypenumbers": "strict",
          "coloraxis": {
           "colorbar": {
            "outlinewidth": 0,
            "ticks": ""
           }
          },
          "colorscale": {
           "diverging": [
            [
             0,
             "#8e0152"
            ],
            [
             0.1,
             "#c51b7d"
            ],
            [
             0.2,
             "#de77ae"
            ],
            [
             0.3,
             "#f1b6da"
            ],
            [
             0.4,
             "#fde0ef"
            ],
            [
             0.5,
             "#f7f7f7"
            ],
            [
             0.6,
             "#e6f5d0"
            ],
            [
             0.7,
             "#b8e186"
            ],
            [
             0.8,
             "#7fbc41"
            ],
            [
             0.9,
             "#4d9221"
            ],
            [
             1,
             "#276419"
            ]
           ],
           "sequential": [
            [
             0,
             "#0d0887"
            ],
            [
             0.1111111111111111,
             "#46039f"
            ],
            [
             0.2222222222222222,
             "#7201a8"
            ],
            [
             0.3333333333333333,
             "#9c179e"
            ],
            [
             0.4444444444444444,
             "#bd3786"
            ],
            [
             0.5555555555555556,
             "#d8576b"
            ],
            [
             0.6666666666666666,
             "#ed7953"
            ],
            [
             0.7777777777777778,
             "#fb9f3a"
            ],
            [
             0.8888888888888888,
             "#fdca26"
            ],
            [
             1,
             "#f0f921"
            ]
           ],
           "sequentialminus": [
            [
             0,
             "#0d0887"
            ],
            [
             0.1111111111111111,
             "#46039f"
            ],
            [
             0.2222222222222222,
             "#7201a8"
            ],
            [
             0.3333333333333333,
             "#9c179e"
            ],
            [
             0.4444444444444444,
             "#bd3786"
            ],
            [
             0.5555555555555556,
             "#d8576b"
            ],
            [
             0.6666666666666666,
             "#ed7953"
            ],
            [
             0.7777777777777778,
             "#fb9f3a"
            ],
            [
             0.8888888888888888,
             "#fdca26"
            ],
            [
             1,
             "#f0f921"
            ]
           ]
          },
          "colorway": [
           "#636efa",
           "#EF553B",
           "#00cc96",
           "#ab63fa",
           "#FFA15A",
           "#19d3f3",
           "#FF6692",
           "#B6E880",
           "#FF97FF",
           "#FECB52"
          ],
          "font": {
           "color": "#2a3f5f"
          },
          "geo": {
           "bgcolor": "white",
           "lakecolor": "white",
           "landcolor": "#E5ECF6",
           "showlakes": true,
           "showland": true,
           "subunitcolor": "white"
          },
          "hoverlabel": {
           "align": "left"
          },
          "hovermode": "closest",
          "mapbox": {
           "style": "light"
          },
          "paper_bgcolor": "white",
          "plot_bgcolor": "#E5ECF6",
          "polar": {
           "angularaxis": {
            "gridcolor": "white",
            "linecolor": "white",
            "ticks": ""
           },
           "bgcolor": "#E5ECF6",
           "radialaxis": {
            "gridcolor": "white",
            "linecolor": "white",
            "ticks": ""
           }
          },
          "scene": {
           "xaxis": {
            "backgroundcolor": "#E5ECF6",
            "gridcolor": "white",
            "gridwidth": 2,
            "linecolor": "white",
            "showbackground": true,
            "ticks": "",
            "zerolinecolor": "white"
           },
           "yaxis": {
            "backgroundcolor": "#E5ECF6",
            "gridcolor": "white",
            "gridwidth": 2,
            "linecolor": "white",
            "showbackground": true,
            "ticks": "",
            "zerolinecolor": "white"
           },
           "zaxis": {
            "backgroundcolor": "#E5ECF6",
            "gridcolor": "white",
            "gridwidth": 2,
            "linecolor": "white",
            "showbackground": true,
            "ticks": "",
            "zerolinecolor": "white"
           }
          },
          "shapedefaults": {
           "line": {
            "color": "#2a3f5f"
           }
          },
          "ternary": {
           "aaxis": {
            "gridcolor": "white",
            "linecolor": "white",
            "ticks": ""
           },
           "baxis": {
            "gridcolor": "white",
            "linecolor": "white",
            "ticks": ""
           },
           "bgcolor": "#E5ECF6",
           "caxis": {
            "gridcolor": "white",
            "linecolor": "white",
            "ticks": ""
           }
          },
          "title": {
           "x": 0.05
          },
          "xaxis": {
           "automargin": true,
           "gridcolor": "white",
           "linecolor": "white",
           "ticks": "",
           "title": {
            "standoff": 15
           },
           "zerolinecolor": "white",
           "zerolinewidth": 2
          },
          "yaxis": {
           "automargin": true,
           "gridcolor": "white",
           "linecolor": "white",
           "ticks": "",
           "title": {
            "standoff": 15
           },
           "zerolinecolor": "white",
           "zerolinewidth": 2
          }
         }
        },
        "title": {
         "text": "Ending score variance per director"
        },
        "xaxis": {
         "anchor": "y",
         "domain": [
          0,
          1
         ],
         "title": {
          "text": "Ending score variance"
         }
        },
        "yaxis": {
         "anchor": "x",
         "domain": [
          0,
          1
         ],
         "title": {
          "text": "Number of directors"
         },
         "type": "log"
        }
       }
      }
     },
     "metadata": {},
     "output_type": "display_data"
    }
   ],
   "source": [
    "\n",
    "\n",
    "fig = px.histogram(\n",
    "    director_score_variance, \n",
    "    nbins=10,\n",
    "    title='Ending score variance per director',\n",
    "    log_y=True\n",
    ")\n",
    "\n",
    "fig.update_layout(\n",
    "    xaxis_title='Ending score variance',\n",
    "    yaxis_title='Number of directors',\n",
    "    bargap=0.1,\n",
    "    showlegend=False\n",
    ")\n",
    "\n",
    "fig.show()\n",
    "\n",
    "fig.write_html(\"../../assets/img/rq3/director_score_variance.html\")"
   ]
  },
  {
   "cell_type": "code",
   "execution_count": 9,
   "metadata": {},
   "outputs": [
    {
     "data": {
      "text/plain": [
       "director\n",
       "James Cameron         1.323094e+09\n",
       "Peter Jackson         5.944917e+08\n",
       "Bill Condon           5.878624e+08\n",
       "Jon Favreau           5.865651e+08\n",
       "George Lucas          5.569251e+08\n",
       "                          ...     \n",
       "Mark Sandrich         2.635833e+06\n",
       "William A. Wellman    2.253400e+06\n",
       "Jun Fukuda            2.248213e+06\n",
       "Akira Kurosawa        1.362650e+06\n",
       "Luis Buñuel           1.600054e+05\n",
       "Name: revenue, Length: 357, dtype: float64"
      ]
     },
     "execution_count": 9,
     "metadata": {},
     "output_type": "execute_result"
    }
   ],
   "source": [
    "# calculate the average revenue per director, and sort the directors by revenue\n",
    "director_avg_revenue = movies_filtered.groupby('director')['revenue'].mean()\n",
    "director_avg_revenue = director_avg_revenue.sort_values(ascending=False)\n",
    "director_avg_revenue"
   ]
  },
  {
   "cell_type": "code",
   "execution_count": 10,
   "metadata": {},
   "outputs": [
    {
     "data": {
      "application/vnd.plotly.v1+json": {
       "config": {
        "plotlyServerURL": "https://plot.ly"
       },
       "data": [
        {
         "hovertemplate": "<b>%{hovertext}</b><br><br>Average Ending Score=%{x}<br>Ending Score Variance=%{y}<br>color=%{marker.color}<extra></extra>",
         "hovertext": [
          "Bobby Farrelly",
          "Adam Shankman",
          "Brian Robbins",
          "Mark Steven Johnson",
          "Frank Coraci",
          "Darren Aronofsky",
          "Brad Silberling",
          "Betty Thomas",
          "Frank Capra",
          "Dominic Sena",
          "Andy Fickman",
          "Andy Tennant",
          "Don Bluth",
          "Priyadarshan",
          "Rob Bowman",
          "Robert Redford",
          "Jon Turteltaub",
          "Sam Mendes",
          "Ron Underwood",
          "Boaz Yakin",
          "Nora Ephron",
          "Peter Farrelly",
          "Guy Ritchie",
          "Frank Oz",
          "Tom Shadyac",
          "Jon Avnet",
          "Louis Leterrier",
          "Danny DeVito",
          "Roland Emmerich",
          "Mike Leigh",
          "Gary Winick",
          "Charlie Chaplin",
          "Garry Marshall",
          "Cecil B. DeMille",
          "Michael Bay",
          "Tim Hill",
          "Michael Anderson",
          "Donald Petrie",
          "Stephen Herek",
          "Robert Luketic",
          "Vincente Minnelli",
          "George Miller",
          "Amy Heckerling",
          "Terry Gilliam",
          "Jon Amiel",
          "Jon Favreau",
          "Jonathan Lynn",
          "David Gordon Green",
          "Tsui Hark",
          "Gore Verbinski",
          "Tim Burton",
          "Taylor Hackford",
          "Richard Brooks",
          "Carl Reiner",
          "Ivan Reitman",
          "Dennis Dugan",
          "Delmer Daves",
          "Jonathan Demme",
          "Peter Jackson",
          "Roger Michell",
          "Lawrence Kasdan",
          "Luis Mandoki",
          "Michael Winterbottom",
          "Ron Clements",
          "Mike Newell",
          "Ron Howard",
          "John Madden",
          "Brian Levant",
          "Uwe Boll",
          "David Zucker",
          "Jake Kasdan",
          "George Cukor",
          "Tom Hooper",
          "Stanley Donen",
          "Arthur Hiller",
          "Nicholas Hytner",
          "Joe Dante",
          "Michael Hoffman",
          "John Ford",
          "Ben Affleck",
          "Marc Forster",
          "Adrian Lyne",
          "Kevin Reynolds",
          "Lee Tamahori",
          "Richard Benjamin",
          "Robert Stevenson",
          "Fred Zinnemann",
          "Kenneth Branagh",
          "Howard Deutch",
          "Michael Lehmann",
          "Hayao Miyazaki",
          "Michael Caton-Jones",
          "Carl Franklin",
          "Andrew Fleming",
          "John Frankenheimer",
          "William A. Wellman",
          "Chris Columbus",
          "Robert Aldrich",
          "John G. Avildsen",
          "Wes Anderson",
          "Rod Lurie",
          "Mikael Håfström",
          "Mike Mitchell",
          "John Moore",
          "Simon Wincer",
          "Edward Dmytryk",
          "Mark Waters",
          "Jim Abrahams",
          "George P. Cosmatos",
          "Kunihiko Yuyama",
          "Woody Allen",
          "W.S. Van Dyke",
          "Pedro Almodóvar",
          "Richard Fleischer",
          "Franco Zeffirelli",
          "Peter Hewitt",
          "Joe Wright",
          "Paul Thomas Anderson",
          "Zack Snyder",
          "David Lynch",
          "Hal Needham",
          "Edward Zwick",
          "Roger Kumble",
          "Kevin Smith",
          "Alan Parker",
          "Tyler Perry",
          "Herbert Ross",
          "Steve Carr",
          "Nimród Antal",
          "Luc Besson",
          "Robert Altman",
          "Takashi Miike",
          "Adam McKay",
          "Jan de Bont",
          "Alan J. Pakula",
          "Ben Stiller",
          "Cary Joji Fukunaga",
          "John Landis",
          "P.J. Hogan",
          "F. Gary Gray",
          "George Stevens",
          "Oliver Parker",
          "Todd Phillips",
          "Mike Figgis",
          "Steven Soderbergh",
          "Gary Fleder",
          "Penny Marshall",
          "Howard Zieff",
          "Joel Schumacher",
          "Steven Spielberg",
          "Sam Raimi",
          "David Twohy",
          "Stephen Daldry",
          "Ron Shelton",
          "Danny Boyle",
          "Catherine Hardwicke",
          "John Woo",
          "Rob Marshall",
          "Terry George",
          "Louis Malle",
          "Zhang Yimou",
          "Christopher Guest",
          "Will Gluck",
          "Tobe Hooper",
          "John Schlesinger",
          "William Wyler",
          "Wolfgang Petersen",
          "Breck Eisner",
          "David O. Russell",
          "Mervyn LeRoy",
          "Akira Kurosawa",
          "Russell Mulcahy",
          "Giuseppe Tornatore",
          "Ken Annakin",
          "Ang Lee",
          "Rob Reiner",
          "Robert Wise",
          "Tony Scott",
          "Roger Spottiswoode",
          "Ethan Coen",
          "Mark Robson",
          "Cameron Crowe",
          "Timur Bekmambetov",
          "Alexander Payne",
          "Corey Yuen",
          "Michael Apted",
          "John Glen",
          "Billy Wilder",
          "Shawn Levy",
          "Michael Ritchie",
          "Curtis Hanson",
          "Jonathan Liebesman",
          "Hugh Wilson",
          "Stan Dragoti",
          "Martin Scorsese",
          "Wes Craven",
          "Peter Bogdanovich",
          "Sylvester Stallone",
          "Steve Miner",
          "Miloš Forman",
          "Peter Segal",
          "James Ivory",
          "Stephen Sommers",
          "Mira Nair",
          "Lasse Hallström",
          "Richard Donner",
          "David S. Ward",
          "Les Mayfield",
          "Brett Ratner",
          "David Fincher",
          "M. Night Shyamalan",
          "Francis Ford Coppola",
          "McG",
          "Peter Yates",
          "Chris Weitz",
          "Anurag Kashyap",
          "Walter Hill",
          "George Roy Hill",
          "Joe Johnston",
          "Bill Condon",
          "Richard Linklater",
          "Bruce Beresford",
          "Bryan Singer",
          "Antoine Fuqua",
          "Tom Tykwer",
          "John Boorman",
          "Simon Wells",
          "David Mamet",
          "John Singleton",
          "Michael Mann",
          "David R. Ellis",
          "Roger Donaldson",
          "Norman Jewison",
          "James Wan",
          "Doug Liman",
          "Michel Gondry",
          "Ted Kotcheff",
          "Rob Cohen",
          "Dwight H. Little",
          "Ernest R. Dickerson",
          "Charles Shyer",
          "Philip Kaufman",
          "Fred Schepisi",
          "Mel Brooks",
          "Michael Curtiz",
          "Robert Zemeckis",
          "Stephen Frears",
          "James Cameron",
          "Guillermo del Toro",
          "Len Wiseman",
          "Paul Verhoeven",
          "Christopher Nolan",
          "D.J. Caruso",
          "Harold Becker",
          "Nancy Meyers",
          "John McTiernan",
          "Blake Edwards",
          "Frank Marshall",
          "Clint Eastwood",
          "Barbet Schroeder",
          "Gus Van Sant",
          "Alfred Hitchcock",
          "Raja Gosnell",
          "Sidney Lumet",
          "Martin Campbell",
          "Luis Buñuel",
          "Mike Nichols",
          "Shekhar Kapur",
          "John Sayles",
          "Andrew Davis",
          "Lars von Trier",
          "Sydney Pollack",
          "Roman Polanski",
          "Takashi Shimizu",
          "Mark Sandrich",
          "Peter Weir",
          "Don Siegel",
          "Spike Lee",
          "John Hughes",
          "Wim Wenders",
          "Robert Rodriguez",
          "Harold Ramis",
          "Howard Hawks",
          "Ridley Scott",
          "Barry Levinson",
          "Randal Kleiser",
          "Arthur Penn",
          "Neil Jordan",
          "Rob Lieberman",
          "George A. Romero",
          "Andrzej Bartkowiak",
          "Victor Fleming",
          "Oliver Stone",
          "J. Lee Thompson",
          "Marcus Nispel",
          "William Friedkin",
          "Tim Story",
          "Sofia Coppola",
          "Matthew Robbins",
          "James Mangold",
          "Ishirō Honda",
          "Renny Harlin",
          "John Hough",
          "John Huston",
          "John Badham",
          "George Lucas",
          "Barry Sonnenfeld",
          "Gregory Hoblit",
          "Bob Clark",
          "Ken Loach",
          "Jaume Collet-Serra",
          "John Guillermin",
          "Terence Fisher",
          "David Cronenberg",
          "James McTeigue",
          "Paul Schrader",
          "Sam Peckinpah",
          "Joel Coen",
          "Brian De Palma",
          "Phillip Noyce",
          "Stanley Kubrick",
          "Otto Preminger",
          "Terence Young",
          "Hal Ashby",
          "Quentin Tarantino",
          "Guy Hamilton",
          "Francis Veber",
          "Joseph L. Mankiewicz",
          "James Foley",
          "Sergio Leone",
          "Jim Jarmusch",
          "Steve McQueen",
          "Alfonso Cuarón",
          "Christopher Cain",
          "Aaron Norris",
          "David Lean",
          "Jay Roach",
          "Neil LaBute",
          "Walter Salles",
          "John Lasseter",
          "Peter Berg",
          "Sidney J. Furie",
          "Jean-Pierre Jeunet",
          "Paul McGuigan",
          "Peter Hyams",
          "Alexandre Aja",
          "John Carpenter",
          "Stephen Hopkins",
          "Bernardo Bertolucci",
          "Raoul Walsh",
          "Chuck Russell",
          "Paul W. S. Anderson",
          "Simon West",
          "Fernando Meirelles",
          "Mark Dindal",
          "Jun Fukuda",
          "Kathryn Bigelow"
         ],
         "legendgroup": "",
         "marker": {
          "color": [
           9.121590804735195,
           8.774145813646157,
           8.769275707005857,
           8.76831624748847,
           8.745796829584748,
           8.664322535096405,
           8.658897979198144,
           8.622167674016412,
           8.61937670926125,
           8.601194619772802,
           8.579217566589962,
           8.576347706371974,
           8.560711397329108,
           8.524057714390384,
           8.517986336016419,
           8.517553646365462,
           8.500949100480577,
           8.485661174384575,
           8.480245842902407,
           8.455316344303716,
           8.454214797031854,
           8.446944056673008,
           8.444410853395654,
           8.429126724623172,
           8.427827136256527,
           8.419175277379013,
           8.41320891492998,
           8.406585854911649,
           8.381360910282476,
           8.35825638142313,
           8.353852291939761,
           8.34693822864709,
           8.346464091203895,
           8.34305426235312,
           8.34241043128899,
           8.341954397920665,
           8.3404947034329,
           8.339019470796224,
           8.336867402208638,
           8.325889062412426,
           8.324955057294522,
           8.322117974835388,
           8.3207905812598,
           8.308889806966825,
           8.302806300022405,
           8.29592601265813,
           8.287740805409028,
           8.279959430262208,
           8.2795296457985,
           8.27821568281843,
           8.276804248325883,
           8.27405758133674,
           8.268202680899083,
           8.254512491745338,
           8.25356601549949,
           8.246784506499074,
           8.236230361223939,
           8.228500061411772,
           8.215743282637606,
           8.212598636529831,
           8.208043930916851,
           8.208005558095532,
           8.197894411810335,
           8.195564735027508,
           8.189987956222382,
           8.187065689735334,
           8.179111194864708,
           8.1715414742732,
           8.169335275757163,
           8.16562080448058,
           8.163134534987304,
           8.159177939710833,
           8.158306565324583,
           8.157868276047447,
           8.145764626796923,
           8.144006781917573,
           8.137008070653572,
           8.13519147918179,
           8.130726348802403,
           8.129004209302712,
           8.123885777130976,
           8.110430070445837,
           8.10875096585477,
           8.105955609966621,
           8.105452873418981,
           8.103832811849664,
           8.096058063482491,
           8.094988836483221,
           8.07718203714618,
           8.073430146554855,
           8.072422116095899,
           8.070091635866168,
           8.069306619860399,
           8.067961030181433,
           8.066201645927249,
           8.06505246602335,
           8.062200396099339,
           8.059957615189436,
           8.047198355874267,
           8.027713245653633,
           8.025449622134964,
           8.023704952526419,
           8.020231249173086,
           8.019336438150681,
           8.01573017904676,
           8.014379761690298,
           8.013983859488901,
           8.012134452821991,
           8.008387707017294,
           8.00811712885235,
           8.007731122615978,
           8.006560957097761,
           8.002340607905477,
           7.991425833273644,
           7.989085902672663,
           7.988942010420726,
           7.986612574923539,
           7.985570251279668,
           7.984739693963727,
           7.982369293101482,
           7.976221224701182,
           7.9754285124544015,
           7.973056700863903,
           7.971016621931899,
           7.957912535228437,
           7.957072565113045,
           7.950588408825276,
           7.949759775911011,
           7.948176299544074,
           7.945807914235066,
           7.945297545787764,
           7.942632447002287,
           7.926008251509783,
           7.925613027561216,
           7.9155016124839195,
           7.914334337131388,
           7.913311533464345,
           7.910523066325932,
           7.909758918977538,
           7.904688713379778,
           7.903060921354656,
           7.902087886109726,
           7.900350686026362,
           7.888496167807812,
           7.8834428661716025,
           7.883281488818303,
           7.87393274924778,
           7.869419150220458,
           7.86544478204867,
           7.865212985660858,
           7.864950378268462,
           7.864869223920121,
           7.859852079777704,
           7.857818048874572,
           7.856916590568295,
           7.85649765007372,
           7.851605085143448,
           7.8507696981503665,
           7.849363820545172,
           7.847805015464171,
           7.8415436611120874,
           7.839981518172449,
           7.837577658784151,
           7.832925755733034,
           7.824426009303532,
           7.814917508996598,
           7.81375746350589,
           7.811775124454772,
           7.79899582137176,
           7.792671073950463,
           7.791613691160053,
           7.790507764196203,
           7.785113263862622,
           7.784900747815732,
           7.782587115594771,
           7.775769953676944,
           7.774475906536256,
           7.77129344262906,
           7.770553141565478,
           7.770260660795267,
           7.769965167378529,
           7.758323738188731,
           7.75380985610534,
           7.7537264749415895,
           7.747142373178666,
           7.742197330616292,
           7.734914893813003,
           7.734476617180677,
           7.732274261848968,
           7.730912079103262,
           7.728713179237361,
           7.727211539798608,
           7.7271030524828435,
           7.726526617564151,
           7.724839281045064,
           7.719795682464151,
           7.718540217299615,
           7.717036790436089,
           7.7148097787916585,
           7.709392446695597,
           7.709043707007753,
           7.706061427709332,
           7.703351907302678,
           7.7028496843373295,
           7.692028900530688,
           7.68072582764084,
           7.679372220670306,
           7.675804436735387,
           7.674905441718353,
           7.672258890754638,
           7.670571629580702,
           7.669703933183811,
           7.662853948037131,
           7.660903994908053,
           7.659643419843509,
           7.656327660745888,
           7.653213314806649,
           7.641367544568614,
           7.640896674363409,
           7.640297881437459,
           7.637964218795258,
           7.637342616863171,
           7.63635362042937,
           7.63432033771722,
           7.633843009356609,
           7.632261594892507,
           7.630225736969889,
           7.626169474859386,
           7.62054382356099,
           7.620132672254403,
           7.617905647785744,
           7.616105843943006,
           7.6159260603923125,
           7.615530977933484,
           7.6141333221270395,
           7.60974050606851,
           7.609425067524281,
           7.6057050568965625,
           7.603670658953851,
           7.5756791595548085,
           7.556786674207279,
           7.553214664405187,
           7.551341984287744,
           7.540552327426844,
           7.540269924178828,
           7.539741164423203,
           7.534931672703549,
           7.5260664555672,
           7.524431505971464,
           7.519283012585566,
           7.509843167730765,
           7.509242319630401,
           7.501669886449358,
           7.499443100023388,
           7.487547831829212,
           7.482238146146657,
           7.479629041256543,
           7.4751220470301565,
           7.474494996730824,
           7.468630523412911,
           7.467006629981163,
           7.4656510168722745,
           7.461957579763769,
           7.4558848177543755,
           7.4423190268448955,
           7.412050375325071,
           7.400639648494398,
           7.399154122614221,
           7.391911722482288,
           7.388792501382105,
           7.386861844853384,
           7.386189965557772,
           7.38193721979142,
           7.37713169300603,
           7.373176398406582,
           7.370417117101812,
           7.353747540837669,
           7.351531828364805,
           7.347652858138363,
           7.33958681672731,
           7.338187641885911,
           7.334175519216337,
           7.306502432303297,
           7.300166491415704,
           7.296682339619801,
           7.291702917014457,
           7.28305111692716,
           7.2745415721448925,
           7.2719424541075615,
           7.258512458991838,
           7.247944891528735,
           7.243759849839062,
           7.242495501961644,
           7.24013899072315,
           7.235835454424641,
           7.229555489542468,
           7.188248214337398,
           7.187099377770388,
           7.171609456216666,
           7.17123811492705,
           7.165951682419063,
           7.164326788834338,
           7.161884131463007,
           7.15013012868188,
           7.148849170326513,
           7.123859183911004,
           7.119431506622904,
           7.115351908009836,
           7.1141982150523075,
           7.1124441219321035,
           7.107393789139926,
           7.105578542450762,
           7.093970519357998,
           7.081278067245789,
           7.080422890721395,
           7.076551573485926,
           7.074788912521495,
           7.071836183140362,
           7.050796774316888,
           7.047330184242153,
           7.046058291640918,
           7.024864786933843,
           7.007445109802371,
           6.9938239940061715,
           6.9776969728235105,
           6.959285387721383,
           6.928693201189276,
           6.902365558997611,
           6.901352126954845,
           6.888490355464333,
           6.864982615926796,
           6.843834547365205,
           6.8433366141969865,
           6.8416752829330765,
           6.824903013571132,
           6.822666173894727,
           6.804016694417492,
           6.788792118759851,
           6.707847780356753,
           6.664220091447037,
           6.660936163634634,
           6.659894120496642,
           6.658418765531474,
           6.627654197942106,
           6.609607701573159,
           6.592820502049765,
           6.578966485403231,
           6.560682839519826,
           6.535950863982432,
           6.495752416037327,
           6.492481010128877,
           6.450803173223646,
           6.420917945868098,
           6.352838289981073,
           6.35183751912726,
           6.134384193068266,
           5.20413463984735
          ],
          "coloraxis": "coloraxis",
          "symbol": "circle"
         },
         "mode": "markers",
         "name": "",
         "orientation": "v",
         "showlegend": false,
         "type": "scatter",
         "x": [
          -0.053749999999999985,
          0.08447222222222221,
          0.2652292152292152,
          0.12335648148148147,
          0.06597516835016837,
          0.0837012987012987,
          0.09103928571428571,
          0.05805735930735929,
          -0.07611111111111112,
          -0.05132485569985569,
          0.02054378106461439,
          0.14982928240740737,
          0.01546861471861471,
          0.11046498144712429,
          0.00027777777777778233,
          0.2170238095238095,
          0.21214560571703428,
          0.06413506760728982,
          0.04032908449575117,
          0.04384126984126985,
          0.12745370370370368,
          0.006790123456790119,
          0.02268518518518518,
          0.007001776882729247,
          -0.013326692247146804,
          0.12418831168831165,
          0.08277398989898992,
          -0.10261784511784511,
          0.22234126984126984,
          0.04329861111111111,
          0.05748878667628666,
          0.025458659894934395,
          0.19169696969696964,
          -0.016557067271352987,
          0.2752452857044694,
          0.22666666666666666,
          0.06738455988455985,
          0.04764149430816095,
          -0.030081437521913702,
          0.13141654641654638,
          0.2612436868686868,
          0.042150072150072125,
          0.04079805996472662,
          0.06090277777777776,
          0.11081818181818182,
          0.14155663780663777,
          0.08164261664261661,
          0.07442380150713485,
          0.16327330077330074,
          0.03240259740259737,
          0.16591269841269843,
          0.10773989898989896,
          0.043983134920634936,
          -0.053016098484848485,
          0.07117508417508414,
          0.02819823232323234,
          -0.1222685185185185,
          0.02488877382196346,
          0.05780423280423275,
          0.05685545935545935,
          0.028153559403559365,
          0.0746117257228368,
          0.1717316017316017,
          0.2342388167388167,
          -0.021734029859029853,
          0.04643939393939391,
          0.14485209235209232,
          -0.054935515873015865,
          0.09611258083480304,
          0.03966666666666666,
          0.06700000000000002,
          0.038888888888888896,
          0.048857142857142884,
          0.07563636363636361,
          0.13080722187865043,
          0.1378472222222222,
          0.13784921386483884,
          0.21983333333333327,
          0.21040062420744238,
          0.012152777777777783,
          0.15342630385487527,
          0.03744268077601411,
          0.036290627362055926,
          0.1020952380952381,
          0.09600168350168345,
          0.03355820105820108,
          0.06231818181818179,
          0.07966991341991339,
          -0.15832222222222223,
          0.04505271765271761,
          -0.03805555555555558,
          0.09716666666666667,
          0.22082323232323228,
          0.2544400686761798,
          0.02523809523809526,
          0.1787701418951419,
          0.031368934884559864,
          0.1197782738095238,
          0.16399695001967726,
          0.07744348244348244,
          0.16594195927529257,
          0.0015782828282828315,
          0.1299352904040404,
          -0.01292328042328042,
          0.14995207173778605,
          0.10013914656771798,
          0.04359848484848483,
          0.07925969653242379,
          0.06479166666666664,
          0.1435406008133281,
          -0.015392015392015406,
          0.029794973544973544,
          0.02091750841750842,
          -0.03708333333333336,
          0.18947835497835497,
          -0.034092970521541956,
          0.09607284580498864,
          0.027803287981859406,
          0.00958676046176044,
          0.11328020464384098,
          0.08831394002822572,
          0.11587301587301586,
          0.008149350649350672,
          0.07650493025493021,
          0.05647136042969372,
          -0.010128870648351183,
          0.13820247933884297,
          -0.005709150543334207,
          0.13046212121212117,
          0.02984217171717172,
          -0.04440476190476195,
          0.05330776014109347,
          -0.009941603535353538,
          -0.023402777777777783,
          0.03770707070707072,
          0.08432138848805514,
          -0.018314393939393943,
          -0.055761634199134186,
          -0.0736031746031746,
          0.10164141414141412,
          -0.04709595959595956,
          0.12704713804713802,
          0.04357142857142857,
          0.09688792688792684,
          -0.02800365832359879,
          0.07624118936618936,
          -0.011554433221099879,
          0.03986111111111109,
          -0.08103009259259258,
          0.12441378066378064,
          0.11028185292074179,
          0.10622363516113516,
          0.05755555555555556,
          -0.021088435374149672,
          -0.01090909090909092,
          0.011914609053497949,
          -0.010945834001389586,
          0.08094350094350095,
          -0.06175194404361072,
          0.13164141414141411,
          0.025485209235209187,
          0.1036843434343434,
          0.015921416546416548,
          0.06902777777777777,
          0.03919943482443481,
          0.07297619047619043,
          0.14692460317460318,
          0.1774230214230214,
          0.1467121135771929,
          0.20306122448979588,
          0.1363492063492063,
          0.05650793650793652,
          0.14584821428571423,
          -0.04186791383219952,
          -0.19854166666666664,
          -0.24128086419753084,
          0.06433982683982684,
          -0.01765151515151515,
          0.11864267676767674,
          0.12312499999999998,
          0.091143759018759,
          0.09977152477152475,
          0.015224867724867737,
          0.04908655002405002,
          0.13424882940189062,
          0.1231228956228956,
          0.028590909090909084,
          0.04815917107583773,
          0.17719696969696966,
          0.07195408163265304,
          0.08580844155844153,
          0.018557692307692313,
          0.13305387205387204,
          0.04564393939393939,
          0.12406462585034013,
          -0.007025813692480366,
          -0.15928571428571428,
          0.06144821844821842,
          0.012584175084175081,
          0.2574074074074074,
          0.10201990139490139,
          0.01876190476190475,
          0.05613709372637943,
          -0.009555555555555584,
          0.04443388429752066,
          0.03124201195629767,
          0.06599747474747476,
          0.1541125541125541,
          0.05769535178626086,
          0.16289520202020197,
          0.1118730158730158,
          0.03079166666666665,
          0.1268647186147186,
          0.11531430375180371,
          0.03918008207070705,
          0.05687143544286399,
          0.13260912698412694,
          0.037407407407407396,
          0.1052087912087912,
          0.07828571428571426,
          0.171515873015873,
          0.1037878787878788,
          0.13202020202020204,
          0.017484142015392005,
          0.05405555555555554,
          0.0493623737373737,
          0.02669681508967223,
          0.006473214285714287,
          -0.058917508417508424,
          0.1272015392015392,
          0.08629629629629626,
          0.1913742584575918,
          0.03858435545935544,
          0.07916666666666668,
          -0.003046336379669727,
          -0.032974687349687344,
          0.08092487373737374,
          -0.07524386724386725,
          -0.02488662131519274,
          0.09654195011337867,
          0.028404558404558383,
          -0.12893518518518518,
          0.0986706349206349,
          0.07699630230880226,
          -0.07165103415103415,
          0.05554980609668109,
          0.19045149625506766,
          0.09689674523007856,
          -0.07532294628448476,
          0.1362459630316773,
          0.05378981137909709,
          0.012552427799823615,
          0.04430127164502165,
          0.031903183621933597,
          -0.03142760942760944,
          0.20830303030303027,
          -0.034183673469387714,
          0.02026830808080803,
          0.006910398629148634,
          -0.11959343434343431,
          -0.010830142080142076,
          0.1204779942279942,
          0.14212962962962963,
          0.04893290043290041,
          0.09848003848003847,
          0.042518807118807095,
          0.007588342012255047,
          0.20355555555555557,
          0.03635311447811446,
          0.002774621212121198,
          0.07256393298059961,
          0.06405893349075165,
          0.10757407407407407,
          0.08571548821548819,
          0.15291666666666667,
          0.2034343434343434,
          0.009924242424242433,
          0.11980489417989416,
          0.06252886002886002,
          0.03013550243329654,
          0.10583062770562766,
          0.03887962962962962,
          0.0948989898989899,
          0.13562358276643988,
          0.06231818181818181,
          0.1715462962962963,
          0.013383491508491508,
          0.1324472502805836,
          0.1319529287584843,
          0.07465385143956571,
          0.19480158730158728,
          0.06578207671957671,
          0.1997064393939394,
          -0.027152568251053107,
          0.07600887345679012,
          -0.04464905753968253,
          0.05711747685185185,
          0.01641170634920636,
          -0.07244212962962958,
          0.019269898054620274,
          0.03967568542568545,
          -0.1291468253968254,
          0.10217676767676767,
          -0.009037037037037027,
          0.011930093715808013,
          0.056402597402597385,
          0.12793560606060603,
          -0.03268648789482123,
          0.07474927849927845,
          0.02996626984126981,
          0.15294269859084675,
          -0.08923400673400673,
          0.05273526077097507,
          0.08770707070707066,
          -0.04841666666666666,
          0.05528826112159444,
          0.07766865079365079,
          0.07608909608909609,
          0.01346320346320346,
          0.055289201539201534,
          0.08529671717171713,
          0.013277216610549916,
          0.14249768089053802,
          0.0370093795093795,
          -0.02115277777777777,
          -0.03333333333333334,
          0.07235714285714284,
          0.14719766464896333,
          0.14263676601176598,
          0.1616212121212121,
          -0.008194444444444459,
          0.0593735827664399,
          0.06957671957671958,
          0.07904405663780663,
          0.12876470751470748,
          0.17789562289562288,
          0.03995454545454545,
          0.0623438466295609,
          0.14425595238095232,
          0.08957564825746642,
          0.1309223184223184,
          -1.6653345369377347e-17,
          0.15227316017316017,
          0.09887012987012984,
          0.04362413971436526,
          -0.059940476190476155,
          0.10600082457225314,
          0.055885521885521885,
          0.07115909090909088,
          0.10880555555555553,
          -0.00751889644746787,
          0.06791065416065416,
          0.011389764996907841,
          0.06790270429159316,
          0.09969221197482066,
          0.09643308080808079,
          0.07143630179344464
         ],
         "xaxis": "x",
         "y": [
          0.20221430463743156,
          0.13127029531504364,
          0.20607494219728348,
          0.15032107473506237,
          0.10478428037529636,
          0.12215918427268678,
          0.22190039449937926,
          0.05299975363302791,
          0.1373677815479576,
          0.14200960267852775,
          0.24013866313239537,
          0.25198949661906617,
          0.2695953807134282,
          0.11537733185879011,
          0.12035505600585637,
          0.1879639535810124,
          0.11452819161967893,
          0.18431803949067024,
          0.1769163439737598,
          0.13924577277452882,
          0.2114832029623501,
          0.20562033235821742,
          0.13721678651702057,
          0.09266198566697066,
          0.20811826677902823,
          0.0638271969672297,
          0.1710281378366413,
          0.23432157395547878,
          0.17314967248855084,
          0.16742923677661978,
          0.09638820673334442,
          0.1420705492577754,
          0.12189887836764988,
          0.09269066666487451,
          0.2919991872225769,
          0.20269536483959466,
          0.04866798871545605,
          0.241864080067686,
          0.20514408345776047,
          0.15895260817084342,
          0.07986805332886429,
          0.15242735742037875,
          0.11680880783879266,
          0.167903414834133,
          0.197500883578432,
          0.20734330360264472,
          0.1666628277588308,
          0.17967532507839035,
          0.10736717942558541,
          0.24089325711862253,
          0.31970102273435064,
          0.16861255593527408,
          0.20176671003417282,
          0.22235343768077342,
          0.181738123195995,
          0.10203822741278806,
          0.14988806694720133,
          0.1954312081687528,
          0.18186377046286784,
          0.13625722276351548,
          0.1350760280764349,
          0.06493335228199816,
          0.22115669655377074,
          0.2035900407578751,
          0.1475607878002435,
          0.12568289129539859,
          0.1076557787359582,
          0.3884054962442059,
          0.15456325015948666,
          0.1584677061387868,
          0.3326146418905819,
          0.11470574269585375,
          0.15528801093171435,
          0.09087539779666197,
          0.16229725922212923,
          0.24276709469884608,
          0.09887961517943401,
          0.1889751232893426,
          0.09134146307562559,
          0.07289186085997273,
          0.1823973183272242,
          0.12277596875381909,
          0.21691477841547385,
          0.21388848123363358,
          0.2550261987633861,
          0.18223500740963572,
          0.07731389277826414,
          0.1721403850461775,
          0.32060153102903416,
          0.1981944386255056,
          0.21873037830868788,
          0.1531493461371031,
          0.14978414773998092,
          0.1579926829630375,
          0.13782146507648094,
          0.1912338397512853,
          0.1410806745360377,
          0.10720417424146081,
          0.17601441876049032,
          0.1292657462846177,
          0.21399614508365344,
          0.13009323425242098,
          0.113417470241112,
          0.20707277545043296,
          0.20174225479720062,
          0.19995757575068052,
          0.13641978595197898,
          0.1719134820649296,
          0.04873445337604272,
          0.15709611649261954,
          0.2341961551631295,
          0.1652346095048749,
          0.0866611756136443,
          0.19549590991540153,
          0.17454255984476988,
          0.16597031940795384,
          0.12367315397287293,
          0.21732806085932635,
          0.13248669403551339,
          0.20295771170272697,
          0.15826020053470868,
          0.11458363395823955,
          0.13058586548426823,
          0.1963294082294276,
          0.20246919410966582,
          0.17045687541100754,
          0.21702042388858206,
          0.13934565376117064,
          0.17761457424285618,
          0.1396863719950117,
          0.2705149096196559,
          0.11138342855591948,
          0.09750525296152203,
          0.1201151630393736,
          0.1772506884458182,
          0.19719908711695222,
          0.27036816576921463,
          0.06726995814767572,
          0.12566424168271623,
          0.1278682007282253,
          0.19506718525835107,
          0.11724128125151784,
          0.15059103625343181,
          0.04451220400132576,
          0.2225668593215009,
          0.22976454975672905,
          0.09992955436832754,
          0.051721521059813605,
          0.2054474242200561,
          0.28186618599706237,
          0.19270130203423153,
          0.2298308289564683,
          0.12296152665381573,
          0.10716870638664606,
          0.14495415823280378,
          0.1828187656742059,
          0.2317097080181019,
          0.16745426295428908,
          0.09586456917761962,
          0.13748543554775666,
          0.32102217908778774,
          0.13018580304004862,
          0.12162445087880984,
          0.12583210693540206,
          0.09499856935725129,
          0.24892635101831323,
          0.34016584130013344,
          0.14141380239421622,
          0.16062131693872764,
          0.27043295640698956,
          0.21923427749860444,
          0.13978870931319423,
          0.11565095544308292,
          0.1512276963086372,
          0.22744714740156913,
          0.18026720009930122,
          0.18300639397146998,
          0.03067854453167854,
          0.12506316318153365,
          0.08393609059110993,
          0.16364401356830133,
          0.161911506743023,
          0.09480158453316671,
          0.10577787261644468,
          0.09669714497568477,
          0.29060507266138197,
          0.06929535971383365,
          0.28103820196586926,
          0.14613516580560662,
          0.0641876063410096,
          0.1574280056144647,
          0.16174065871163434,
          0.1147313132528506,
          0.24398269484407953,
          0.18748326239946905,
          0.12607891086392975,
          0.42234032559487233,
          0.08145901620418353,
          0.14313412587025012,
          0.26563445987768414,
          0.17223372232872225,
          0.18720500229955778,
          0.1315043530980242,
          0.08192860487214637,
          0.0744857893926935,
          0.1654519743320213,
          0.22346261213778354,
          0.10969809294313147,
          0.1618800527425329,
          0.18462804732409324,
          0.2540012104939516,
          0.24364804372898824,
          0.19824440842939303,
          0.13543301315532968,
          0.08705697074997136,
          0.11188705590649944,
          0.3964669106190691,
          0.13541006156730948,
          0.18879455547667565,
          0.20415430338799306,
          0.17496822948841284,
          0.2922012024268971,
          0.14939972982503824,
          0.14785808329464678,
          0.15613441403775652,
          0.08829271772946908,
          0.13585967911614708,
          0.11269910821361664,
          0.15952274728459018,
          0.13141711972424353,
          0.17461794470155972,
          0.16819967832349153,
          0.13987594807793133,
          0.2811496734639556,
          0.16038496431240984,
          0.09473451017331483,
          0.2054533737566128,
          0.17481233420504969,
          0.0968498441157579,
          0.184306596037113,
          0.09508371905298933,
          0.1859792581580553,
          0.17783162671206068,
          0.1061882317313364,
          0.14548915934841256,
          0.20913183336781743,
          0.10996268981978637,
          0.17509790857386937,
          0.21083176860074473,
          0.19780168878786353,
          0.221450533020181,
          0.16768374557494406,
          0.21886715246904417,
          0.1880816786973413,
          0.17402513455978755,
          0.2027437598042849,
          0.07744110691675567,
          0.1507434230911517,
          0.07786470880196526,
          0.24745459333517586,
          0.12608319939486015,
          0.14921153983326957,
          0.32463852959425404,
          0.16337775409703365,
          0.23912619838913743,
          0.15681639246637735,
          0.11456644826456276,
          0.19263827805719066,
          0.14614906178066756,
          0.15126267583097489,
          0.10062271556658099,
          0.1756265207937665,
          0.1738349717222918,
          0.12417632151755036,
          0.33019880375313293,
          0.14840278086626246,
          0.10095560628265995,
          0.1439503368739428,
          0.17696506081040467,
          0.09434820287812311,
          0.13708852260833332,
          0.20324306309869614,
          0.18032952317176004,
          0.12867356779110503,
          0.051187056803509344,
          0.21233858214705423,
          0.1952000069152009,
          0.2629082642646162,
          0.2025203216125275,
          0.1767223213581962,
          0.07732487389330528,
          0.12964952663123058,
          0.2934277763392535,
          0.15018198351381465,
          0.14668278754227626,
          0.2868504496156379,
          0.12743476340925958,
          0.07564178204196448,
          0.2545753848470069,
          0.18807187658134364,
          0.12292914336908532,
          0.19320907369407458,
          0.14001551823784936,
          0.17858369603169316,
          0.12460750335900381,
          0.11221538176571146,
          0.08211188385253232,
          0.1716492367339728,
          0.07695259093910367,
          0.2809611966729503,
          0.2242537598509022,
          0.14599197733869843,
          0.2511042883422916,
          0.07867312568812967,
          0.09995936674469276,
          0.21311558788860865,
          0.13025032225475636,
          0.15612289569709129,
          0.07700194318416198,
          0.1121594241099773,
          0.11704376655627115,
          0.09767127752347615,
          0.16920713084286954,
          0.22452219356643618,
          0.1415058705285152,
          0.12638125740085918,
          0.12615420637794075,
          0.24902444728357603,
          0.16440427667822521,
          0.20115766023189982,
          0.10146543913819213,
          0.10275738154415562,
          0.14854070369416275,
          0.1777544634717756,
          0.16504667079897756,
          0.28055638063685057,
          0.1970701055264209,
          0.1706068791920421,
          0.1848217400886877,
          0.16887416005205275,
          0.26738090791056635,
          0.1904613089424769,
          0.21827722705734445,
          0.09977354186320381,
          0.15450137373955655,
          0.1093978960486167,
          0.14637467152985742,
          0.1535086674722302,
          0.14668413173936787,
          0.2507326379031588,
          0.10866295223860073,
          0.1584951151870133,
          0.151639390503543,
          0.13320889154692006,
          0.16852875715274404,
          0.10123426665602729,
          0.20756796459293292
         ],
         "yaxis": "y"
        }
       ],
       "layout": {
        "coloraxis": {
         "colorbar": {
          "ticktext": [
           "1M",
           "10M",
           "100M",
           "1B"
          ],
          "tickvals": [
           6,
           7,
           8,
           9
          ],
          "title": {
           "text": "Average Revenue"
          }
         },
         "colorscale": [
          [
           0,
           "#440154"
          ],
          [
           0.1111111111111111,
           "#482878"
          ],
          [
           0.2222222222222222,
           "#3e4989"
          ],
          [
           0.3333333333333333,
           "#31688e"
          ],
          [
           0.4444444444444444,
           "#26828e"
          ],
          [
           0.5555555555555556,
           "#1f9e89"
          ],
          [
           0.6666666666666666,
           "#35b779"
          ],
          [
           0.7777777777777778,
           "#6ece58"
          ],
          [
           0.8888888888888888,
           "#b5de2b"
          ],
          [
           1,
           "#fde725"
          ]
         ]
        },
        "legend": {
         "tracegroupgap": 0
        },
        "template": {
         "data": {
          "bar": [
           {
            "error_x": {
             "color": "#2a3f5f"
            },
            "error_y": {
             "color": "#2a3f5f"
            },
            "marker": {
             "line": {
              "color": "#E5ECF6",
              "width": 0.5
             },
             "pattern": {
              "fillmode": "overlay",
              "size": 10,
              "solidity": 0.2
             }
            },
            "type": "bar"
           }
          ],
          "barpolar": [
           {
            "marker": {
             "line": {
              "color": "#E5ECF6",
              "width": 0.5
             },
             "pattern": {
              "fillmode": "overlay",
              "size": 10,
              "solidity": 0.2
             }
            },
            "type": "barpolar"
           }
          ],
          "carpet": [
           {
            "aaxis": {
             "endlinecolor": "#2a3f5f",
             "gridcolor": "white",
             "linecolor": "white",
             "minorgridcolor": "white",
             "startlinecolor": "#2a3f5f"
            },
            "baxis": {
             "endlinecolor": "#2a3f5f",
             "gridcolor": "white",
             "linecolor": "white",
             "minorgridcolor": "white",
             "startlinecolor": "#2a3f5f"
            },
            "type": "carpet"
           }
          ],
          "choropleth": [
           {
            "colorbar": {
             "outlinewidth": 0,
             "ticks": ""
            },
            "type": "choropleth"
           }
          ],
          "contour": [
           {
            "colorbar": {
             "outlinewidth": 0,
             "ticks": ""
            },
            "colorscale": [
             [
              0,
              "#0d0887"
             ],
             [
              0.1111111111111111,
              "#46039f"
             ],
             [
              0.2222222222222222,
              "#7201a8"
             ],
             [
              0.3333333333333333,
              "#9c179e"
             ],
             [
              0.4444444444444444,
              "#bd3786"
             ],
             [
              0.5555555555555556,
              "#d8576b"
             ],
             [
              0.6666666666666666,
              "#ed7953"
             ],
             [
              0.7777777777777778,
              "#fb9f3a"
             ],
             [
              0.8888888888888888,
              "#fdca26"
             ],
             [
              1,
              "#f0f921"
             ]
            ],
            "type": "contour"
           }
          ],
          "contourcarpet": [
           {
            "colorbar": {
             "outlinewidth": 0,
             "ticks": ""
            },
            "type": "contourcarpet"
           }
          ],
          "heatmap": [
           {
            "colorbar": {
             "outlinewidth": 0,
             "ticks": ""
            },
            "colorscale": [
             [
              0,
              "#0d0887"
             ],
             [
              0.1111111111111111,
              "#46039f"
             ],
             [
              0.2222222222222222,
              "#7201a8"
             ],
             [
              0.3333333333333333,
              "#9c179e"
             ],
             [
              0.4444444444444444,
              "#bd3786"
             ],
             [
              0.5555555555555556,
              "#d8576b"
             ],
             [
              0.6666666666666666,
              "#ed7953"
             ],
             [
              0.7777777777777778,
              "#fb9f3a"
             ],
             [
              0.8888888888888888,
              "#fdca26"
             ],
             [
              1,
              "#f0f921"
             ]
            ],
            "type": "heatmap"
           }
          ],
          "heatmapgl": [
           {
            "colorbar": {
             "outlinewidth": 0,
             "ticks": ""
            },
            "colorscale": [
             [
              0,
              "#0d0887"
             ],
             [
              0.1111111111111111,
              "#46039f"
             ],
             [
              0.2222222222222222,
              "#7201a8"
             ],
             [
              0.3333333333333333,
              "#9c179e"
             ],
             [
              0.4444444444444444,
              "#bd3786"
             ],
             [
              0.5555555555555556,
              "#d8576b"
             ],
             [
              0.6666666666666666,
              "#ed7953"
             ],
             [
              0.7777777777777778,
              "#fb9f3a"
             ],
             [
              0.8888888888888888,
              "#fdca26"
             ],
             [
              1,
              "#f0f921"
             ]
            ],
            "type": "heatmapgl"
           }
          ],
          "histogram": [
           {
            "marker": {
             "pattern": {
              "fillmode": "overlay",
              "size": 10,
              "solidity": 0.2
             }
            },
            "type": "histogram"
           }
          ],
          "histogram2d": [
           {
            "colorbar": {
             "outlinewidth": 0,
             "ticks": ""
            },
            "colorscale": [
             [
              0,
              "#0d0887"
             ],
             [
              0.1111111111111111,
              "#46039f"
             ],
             [
              0.2222222222222222,
              "#7201a8"
             ],
             [
              0.3333333333333333,
              "#9c179e"
             ],
             [
              0.4444444444444444,
              "#bd3786"
             ],
             [
              0.5555555555555556,
              "#d8576b"
             ],
             [
              0.6666666666666666,
              "#ed7953"
             ],
             [
              0.7777777777777778,
              "#fb9f3a"
             ],
             [
              0.8888888888888888,
              "#fdca26"
             ],
             [
              1,
              "#f0f921"
             ]
            ],
            "type": "histogram2d"
           }
          ],
          "histogram2dcontour": [
           {
            "colorbar": {
             "outlinewidth": 0,
             "ticks": ""
            },
            "colorscale": [
             [
              0,
              "#0d0887"
             ],
             [
              0.1111111111111111,
              "#46039f"
             ],
             [
              0.2222222222222222,
              "#7201a8"
             ],
             [
              0.3333333333333333,
              "#9c179e"
             ],
             [
              0.4444444444444444,
              "#bd3786"
             ],
             [
              0.5555555555555556,
              "#d8576b"
             ],
             [
              0.6666666666666666,
              "#ed7953"
             ],
             [
              0.7777777777777778,
              "#fb9f3a"
             ],
             [
              0.8888888888888888,
              "#fdca26"
             ],
             [
              1,
              "#f0f921"
             ]
            ],
            "type": "histogram2dcontour"
           }
          ],
          "mesh3d": [
           {
            "colorbar": {
             "outlinewidth": 0,
             "ticks": ""
            },
            "type": "mesh3d"
           }
          ],
          "parcoords": [
           {
            "line": {
             "colorbar": {
              "outlinewidth": 0,
              "ticks": ""
             }
            },
            "type": "parcoords"
           }
          ],
          "pie": [
           {
            "automargin": true,
            "type": "pie"
           }
          ],
          "scatter": [
           {
            "fillpattern": {
             "fillmode": "overlay",
             "size": 10,
             "solidity": 0.2
            },
            "type": "scatter"
           }
          ],
          "scatter3d": [
           {
            "line": {
             "colorbar": {
              "outlinewidth": 0,
              "ticks": ""
             }
            },
            "marker": {
             "colorbar": {
              "outlinewidth": 0,
              "ticks": ""
             }
            },
            "type": "scatter3d"
           }
          ],
          "scattercarpet": [
           {
            "marker": {
             "colorbar": {
              "outlinewidth": 0,
              "ticks": ""
             }
            },
            "type": "scattercarpet"
           }
          ],
          "scattergeo": [
           {
            "marker": {
             "colorbar": {
              "outlinewidth": 0,
              "ticks": ""
             }
            },
            "type": "scattergeo"
           }
          ],
          "scattergl": [
           {
            "marker": {
             "colorbar": {
              "outlinewidth": 0,
              "ticks": ""
             }
            },
            "type": "scattergl"
           }
          ],
          "scattermapbox": [
           {
            "marker": {
             "colorbar": {
              "outlinewidth": 0,
              "ticks": ""
             }
            },
            "type": "scattermapbox"
           }
          ],
          "scatterpolar": [
           {
            "marker": {
             "colorbar": {
              "outlinewidth": 0,
              "ticks": ""
             }
            },
            "type": "scatterpolar"
           }
          ],
          "scatterpolargl": [
           {
            "marker": {
             "colorbar": {
              "outlinewidth": 0,
              "ticks": ""
             }
            },
            "type": "scatterpolargl"
           }
          ],
          "scatterternary": [
           {
            "marker": {
             "colorbar": {
              "outlinewidth": 0,
              "ticks": ""
             }
            },
            "type": "scatterternary"
           }
          ],
          "surface": [
           {
            "colorbar": {
             "outlinewidth": 0,
             "ticks": ""
            },
            "colorscale": [
             [
              0,
              "#0d0887"
             ],
             [
              0.1111111111111111,
              "#46039f"
             ],
             [
              0.2222222222222222,
              "#7201a8"
             ],
             [
              0.3333333333333333,
              "#9c179e"
             ],
             [
              0.4444444444444444,
              "#bd3786"
             ],
             [
              0.5555555555555556,
              "#d8576b"
             ],
             [
              0.6666666666666666,
              "#ed7953"
             ],
             [
              0.7777777777777778,
              "#fb9f3a"
             ],
             [
              0.8888888888888888,
              "#fdca26"
             ],
             [
              1,
              "#f0f921"
             ]
            ],
            "type": "surface"
           }
          ],
          "table": [
           {
            "cells": {
             "fill": {
              "color": "#EBF0F8"
             },
             "line": {
              "color": "white"
             }
            },
            "header": {
             "fill": {
              "color": "#C8D4E3"
             },
             "line": {
              "color": "white"
             }
            },
            "type": "table"
           }
          ]
         },
         "layout": {
          "annotationdefaults": {
           "arrowcolor": "#2a3f5f",
           "arrowhead": 0,
           "arrowwidth": 1
          },
          "autotypenumbers": "strict",
          "coloraxis": {
           "colorbar": {
            "outlinewidth": 0,
            "ticks": ""
           }
          },
          "colorscale": {
           "diverging": [
            [
             0,
             "#8e0152"
            ],
            [
             0.1,
             "#c51b7d"
            ],
            [
             0.2,
             "#de77ae"
            ],
            [
             0.3,
             "#f1b6da"
            ],
            [
             0.4,
             "#fde0ef"
            ],
            [
             0.5,
             "#f7f7f7"
            ],
            [
             0.6,
             "#e6f5d0"
            ],
            [
             0.7,
             "#b8e186"
            ],
            [
             0.8,
             "#7fbc41"
            ],
            [
             0.9,
             "#4d9221"
            ],
            [
             1,
             "#276419"
            ]
           ],
           "sequential": [
            [
             0,
             "#0d0887"
            ],
            [
             0.1111111111111111,
             "#46039f"
            ],
            [
             0.2222222222222222,
             "#7201a8"
            ],
            [
             0.3333333333333333,
             "#9c179e"
            ],
            [
             0.4444444444444444,
             "#bd3786"
            ],
            [
             0.5555555555555556,
             "#d8576b"
            ],
            [
             0.6666666666666666,
             "#ed7953"
            ],
            [
             0.7777777777777778,
             "#fb9f3a"
            ],
            [
             0.8888888888888888,
             "#fdca26"
            ],
            [
             1,
             "#f0f921"
            ]
           ],
           "sequentialminus": [
            [
             0,
             "#0d0887"
            ],
            [
             0.1111111111111111,
             "#46039f"
            ],
            [
             0.2222222222222222,
             "#7201a8"
            ],
            [
             0.3333333333333333,
             "#9c179e"
            ],
            [
             0.4444444444444444,
             "#bd3786"
            ],
            [
             0.5555555555555556,
             "#d8576b"
            ],
            [
             0.6666666666666666,
             "#ed7953"
            ],
            [
             0.7777777777777778,
             "#fb9f3a"
            ],
            [
             0.8888888888888888,
             "#fdca26"
            ],
            [
             1,
             "#f0f921"
            ]
           ]
          },
          "colorway": [
           "#636efa",
           "#EF553B",
           "#00cc96",
           "#ab63fa",
           "#FFA15A",
           "#19d3f3",
           "#FF6692",
           "#B6E880",
           "#FF97FF",
           "#FECB52"
          ],
          "font": {
           "color": "#2a3f5f"
          },
          "geo": {
           "bgcolor": "white",
           "lakecolor": "white",
           "landcolor": "#E5ECF6",
           "showlakes": true,
           "showland": true,
           "subunitcolor": "white"
          },
          "hoverlabel": {
           "align": "left"
          },
          "hovermode": "closest",
          "mapbox": {
           "style": "light"
          },
          "paper_bgcolor": "white",
          "plot_bgcolor": "#E5ECF6",
          "polar": {
           "angularaxis": {
            "gridcolor": "white",
            "linecolor": "white",
            "ticks": ""
           },
           "bgcolor": "#E5ECF6",
           "radialaxis": {
            "gridcolor": "white",
            "linecolor": "white",
            "ticks": ""
           }
          },
          "scene": {
           "xaxis": {
            "backgroundcolor": "#E5ECF6",
            "gridcolor": "white",
            "gridwidth": 2,
            "linecolor": "white",
            "showbackground": true,
            "ticks": "",
            "zerolinecolor": "white"
           },
           "yaxis": {
            "backgroundcolor": "#E5ECF6",
            "gridcolor": "white",
            "gridwidth": 2,
            "linecolor": "white",
            "showbackground": true,
            "ticks": "",
            "zerolinecolor": "white"
           },
           "zaxis": {
            "backgroundcolor": "#E5ECF6",
            "gridcolor": "white",
            "gridwidth": 2,
            "linecolor": "white",
            "showbackground": true,
            "ticks": "",
            "zerolinecolor": "white"
           }
          },
          "shapedefaults": {
           "line": {
            "color": "#2a3f5f"
           }
          },
          "ternary": {
           "aaxis": {
            "gridcolor": "white",
            "linecolor": "white",
            "ticks": ""
           },
           "baxis": {
            "gridcolor": "white",
            "linecolor": "white",
            "ticks": ""
           },
           "bgcolor": "#E5ECF6",
           "caxis": {
            "gridcolor": "white",
            "linecolor": "white",
            "ticks": ""
           }
          },
          "title": {
           "x": 0.05
          },
          "xaxis": {
           "automargin": true,
           "gridcolor": "white",
           "linecolor": "white",
           "ticks": "",
           "title": {
            "standoff": 15
           },
           "zerolinecolor": "white",
           "zerolinewidth": 2
          },
          "yaxis": {
           "automargin": true,
           "gridcolor": "white",
           "linecolor": "white",
           "ticks": "",
           "title": {
            "standoff": 15
           },
           "zerolinecolor": "white",
           "zerolinewidth": 2
          }
         }
        },
        "title": {
         "text": "Average ending score vs ending score variance per director<br>Color is average revenue"
        },
        "xaxis": {
         "anchor": "y",
         "domain": [
          0,
          1
         ],
         "title": {
          "text": "Average Ending Score"
         }
        },
        "yaxis": {
         "anchor": "x",
         "domain": [
          0,
          1
         ],
         "title": {
          "text": "Ending Score Variance"
         }
        }
       }
      }
     },
     "metadata": {},
     "output_type": "display_data"
    }
   ],
   "source": [
    "\n",
    "\n",
    "fig = px.scatter(\n",
    "    pd.DataFrame({\n",
    "    'Average Ending Score': director_avg_score,\n",
    "    'Ending Score Variance': director_score_variance,\n",
    "    'Average Revenue': director_avg_revenue\n",
    "}),\n",
    "    x='Average Ending Score',\n",
    "    y='Ending Score Variance',\n",
    "    color=np.log10(director_avg_revenue),\n",
    "    hover_name=director_avg_score.index,\n",
    "    color_continuous_scale='Viridis',\n",
    "    title='Average ending score vs ending score variance per director<br>Color is average revenue'\n",
    ")\n",
    "\n",
    "fig.update_layout(\n",
    "    xaxis_title='Average Ending Score',\n",
    "    yaxis_title='Ending Score Variance',\n",
    "    coloraxis_colorbar=dict(title='Average Revenue', tickvals=[6, 7, 8, 9], ticktext=['1M', '10M', '100M', '1B'])\n",
    ")\n",
    "\n",
    "fig.show()\n",
    "\n",
    "fig.write_html(\"../../assets/img/rq3/director_avg_score_vs_score_variance.html\")"
   ]
  },
  {
   "cell_type": "code",
   "execution_count": 11,
   "metadata": {},
   "outputs": [
    {
     "data": {
      "text/plain": [
       "director\n",
       "Sergio Leone          8.247000\n",
       "Akira Kurosawa        8.116200\n",
       "Stanley Kubrick       7.997889\n",
       "Hayao Miyazaki        7.925727\n",
       "Charlie Chaplin       7.871429\n",
       "                        ...   \n",
       "Brian Levant          5.667556\n",
       "Andrzej Bartkowiak    5.505200\n",
       "Brian Robbins         5.496125\n",
       "Aaron Norris          5.161600\n",
       "Uwe Boll              3.807000\n",
       "Name: vote_average, Length: 357, dtype: float64"
      ]
     },
     "execution_count": 11,
     "metadata": {},
     "output_type": "execute_result"
    }
   ],
   "source": [
    "# calculate the average vote average per director, and sort the directors by vote average\n",
    "director_avg_vote_average = movies_filtered.groupby('director')['vote_average'].mean()\n",
    "director_avg_vote_average = director_avg_vote_average.sort_values(ascending=False)\n",
    "director_avg_vote_average"
   ]
  },
  {
   "cell_type": "code",
   "execution_count": 12,
   "metadata": {},
   "outputs": [
    {
     "data": {
      "application/vnd.plotly.v1+json": {
       "config": {
        "plotlyServerURL": "https://plot.ly"
       },
       "data": [
        {
         "hovertemplate": "<b>%{hovertext}</b><br><br>Average Ending Score=%{x}<br>Ending Score Variance=%{y}<br>Average Vote Average=%{marker.color}<extra></extra>",
         "hovertext": [
          "Bobby Farrelly",
          "Adam Shankman",
          "Brian Robbins",
          "Mark Steven Johnson",
          "Frank Coraci",
          "Darren Aronofsky",
          "Brad Silberling",
          "Betty Thomas",
          "Frank Capra",
          "Dominic Sena",
          "Andy Fickman",
          "Andy Tennant",
          "Don Bluth",
          "Priyadarshan",
          "Rob Bowman",
          "Robert Redford",
          "Jon Turteltaub",
          "Sam Mendes",
          "Ron Underwood",
          "Boaz Yakin",
          "Nora Ephron",
          "Peter Farrelly",
          "Guy Ritchie",
          "Frank Oz",
          "Tom Shadyac",
          "Jon Avnet",
          "Louis Leterrier",
          "Danny DeVito",
          "Roland Emmerich",
          "Mike Leigh",
          "Gary Winick",
          "Charlie Chaplin",
          "Garry Marshall",
          "Cecil B. DeMille",
          "Michael Bay",
          "Tim Hill",
          "Michael Anderson",
          "Donald Petrie",
          "Stephen Herek",
          "Robert Luketic",
          "Vincente Minnelli",
          "George Miller",
          "Amy Heckerling",
          "Terry Gilliam",
          "Jon Amiel",
          "Jon Favreau",
          "Jonathan Lynn",
          "David Gordon Green",
          "Tsui Hark",
          "Gore Verbinski",
          "Tim Burton",
          "Taylor Hackford",
          "Richard Brooks",
          "Carl Reiner",
          "Ivan Reitman",
          "Dennis Dugan",
          "Delmer Daves",
          "Jonathan Demme",
          "Peter Jackson",
          "Roger Michell",
          "Lawrence Kasdan",
          "Luis Mandoki",
          "Michael Winterbottom",
          "Ron Clements",
          "Mike Newell",
          "Ron Howard",
          "John Madden",
          "Brian Levant",
          "Uwe Boll",
          "David Zucker",
          "Jake Kasdan",
          "George Cukor",
          "Tom Hooper",
          "Stanley Donen",
          "Arthur Hiller",
          "Nicholas Hytner",
          "Joe Dante",
          "Michael Hoffman",
          "John Ford",
          "Ben Affleck",
          "Marc Forster",
          "Adrian Lyne",
          "Kevin Reynolds",
          "Lee Tamahori",
          "Richard Benjamin",
          "Robert Stevenson",
          "Fred Zinnemann",
          "Kenneth Branagh",
          "Howard Deutch",
          "Michael Lehmann",
          "Hayao Miyazaki",
          "Michael Caton-Jones",
          "Carl Franklin",
          "Andrew Fleming",
          "John Frankenheimer",
          "William A. Wellman",
          "Chris Columbus",
          "Robert Aldrich",
          "John G. Avildsen",
          "Wes Anderson",
          "Rod Lurie",
          "Mikael Håfström",
          "Mike Mitchell",
          "John Moore",
          "Simon Wincer",
          "Edward Dmytryk",
          "Mark Waters",
          "Jim Abrahams",
          "George P. Cosmatos",
          "Kunihiko Yuyama",
          "Woody Allen",
          "W.S. Van Dyke",
          "Pedro Almodóvar",
          "Richard Fleischer",
          "Franco Zeffirelli",
          "Peter Hewitt",
          "Joe Wright",
          "Paul Thomas Anderson",
          "Zack Snyder",
          "David Lynch",
          "Hal Needham",
          "Edward Zwick",
          "Roger Kumble",
          "Kevin Smith",
          "Alan Parker",
          "Tyler Perry",
          "Herbert Ross",
          "Steve Carr",
          "Nimród Antal",
          "Luc Besson",
          "Robert Altman",
          "Takashi Miike",
          "Adam McKay",
          "Jan de Bont",
          "Alan J. Pakula",
          "Ben Stiller",
          "Cary Joji Fukunaga",
          "John Landis",
          "P.J. Hogan",
          "F. Gary Gray",
          "George Stevens",
          "Oliver Parker",
          "Todd Phillips",
          "Mike Figgis",
          "Steven Soderbergh",
          "Gary Fleder",
          "Penny Marshall",
          "Howard Zieff",
          "Joel Schumacher",
          "Steven Spielberg",
          "Sam Raimi",
          "David Twohy",
          "Stephen Daldry",
          "Ron Shelton",
          "Danny Boyle",
          "Catherine Hardwicke",
          "John Woo",
          "Rob Marshall",
          "Terry George",
          "Louis Malle",
          "Zhang Yimou",
          "Christopher Guest",
          "Will Gluck",
          "Tobe Hooper",
          "John Schlesinger",
          "William Wyler",
          "Wolfgang Petersen",
          "Breck Eisner",
          "David O. Russell",
          "Mervyn LeRoy",
          "Akira Kurosawa",
          "Russell Mulcahy",
          "Giuseppe Tornatore",
          "Ken Annakin",
          "Ang Lee",
          "Rob Reiner",
          "Robert Wise",
          "Tony Scott",
          "Roger Spottiswoode",
          "Ethan Coen",
          "Mark Robson",
          "Cameron Crowe",
          "Timur Bekmambetov",
          "Alexander Payne",
          "Corey Yuen",
          "Michael Apted",
          "John Glen",
          "Billy Wilder",
          "Shawn Levy",
          "Michael Ritchie",
          "Curtis Hanson",
          "Jonathan Liebesman",
          "Hugh Wilson",
          "Stan Dragoti",
          "Martin Scorsese",
          "Wes Craven",
          "Peter Bogdanovich",
          "Sylvester Stallone",
          "Steve Miner",
          "Miloš Forman",
          "Peter Segal",
          "James Ivory",
          "Stephen Sommers",
          "Mira Nair",
          "Lasse Hallström",
          "Richard Donner",
          "David S. Ward",
          "Les Mayfield",
          "Brett Ratner",
          "David Fincher",
          "M. Night Shyamalan",
          "Francis Ford Coppola",
          "McG",
          "Peter Yates",
          "Chris Weitz",
          "Anurag Kashyap",
          "Walter Hill",
          "George Roy Hill",
          "Joe Johnston",
          "Bill Condon",
          "Richard Linklater",
          "Bruce Beresford",
          "Bryan Singer",
          "Antoine Fuqua",
          "Tom Tykwer",
          "John Boorman",
          "Simon Wells",
          "David Mamet",
          "John Singleton",
          "Michael Mann",
          "David R. Ellis",
          "Roger Donaldson",
          "Norman Jewison",
          "James Wan",
          "Doug Liman",
          "Michel Gondry",
          "Ted Kotcheff",
          "Rob Cohen",
          "Dwight H. Little",
          "Ernest R. Dickerson",
          "Charles Shyer",
          "Philip Kaufman",
          "Fred Schepisi",
          "Mel Brooks",
          "Michael Curtiz",
          "Robert Zemeckis",
          "Stephen Frears",
          "James Cameron",
          "Guillermo del Toro",
          "Len Wiseman",
          "Paul Verhoeven",
          "Christopher Nolan",
          "D.J. Caruso",
          "Harold Becker",
          "Nancy Meyers",
          "John McTiernan",
          "Blake Edwards",
          "Frank Marshall",
          "Clint Eastwood",
          "Barbet Schroeder",
          "Gus Van Sant",
          "Alfred Hitchcock",
          "Raja Gosnell",
          "Sidney Lumet",
          "Martin Campbell",
          "Luis Buñuel",
          "Mike Nichols",
          "Shekhar Kapur",
          "John Sayles",
          "Andrew Davis",
          "Lars von Trier",
          "Sydney Pollack",
          "Roman Polanski",
          "Takashi Shimizu",
          "Mark Sandrich",
          "Peter Weir",
          "Don Siegel",
          "Spike Lee",
          "John Hughes",
          "Wim Wenders",
          "Robert Rodriguez",
          "Harold Ramis",
          "Howard Hawks",
          "Ridley Scott",
          "Barry Levinson",
          "Randal Kleiser",
          "Arthur Penn",
          "Neil Jordan",
          "Rob Lieberman",
          "George A. Romero",
          "Andrzej Bartkowiak",
          "Victor Fleming",
          "Oliver Stone",
          "J. Lee Thompson",
          "Marcus Nispel",
          "William Friedkin",
          "Tim Story",
          "Sofia Coppola",
          "Matthew Robbins",
          "James Mangold",
          "Ishirō Honda",
          "Renny Harlin",
          "John Hough",
          "John Huston",
          "John Badham",
          "George Lucas",
          "Barry Sonnenfeld",
          "Gregory Hoblit",
          "Bob Clark",
          "Ken Loach",
          "Jaume Collet-Serra",
          "John Guillermin",
          "Terence Fisher",
          "David Cronenberg",
          "James McTeigue",
          "Paul Schrader",
          "Sam Peckinpah",
          "Joel Coen",
          "Brian De Palma",
          "Phillip Noyce",
          "Stanley Kubrick",
          "Otto Preminger",
          "Terence Young",
          "Hal Ashby",
          "Quentin Tarantino",
          "Guy Hamilton",
          "Francis Veber",
          "Joseph L. Mankiewicz",
          "James Foley",
          "Sergio Leone",
          "Jim Jarmusch",
          "Steve McQueen",
          "Alfonso Cuarón",
          "Christopher Cain",
          "Aaron Norris",
          "David Lean",
          "Jay Roach",
          "Neil LaBute",
          "Walter Salles",
          "John Lasseter",
          "Peter Berg",
          "Sidney J. Furie",
          "Jean-Pierre Jeunet",
          "Paul McGuigan",
          "Peter Hyams",
          "Alexandre Aja",
          "John Carpenter",
          "Stephen Hopkins",
          "Bernardo Bertolucci",
          "Raoul Walsh",
          "Chuck Russell",
          "Paul W. S. Anderson",
          "Simon West",
          "Fernando Meirelles",
          "Mark Dindal",
          "Jun Fukuda",
          "Kathryn Bigelow"
         ],
         "legendgroup": "",
         "marker": {
          "color": [
           5.1616,
           6.675199999999999,
           6.47075,
           6.72575,
           8.116200000000001,
           6.3,
           6.858,
           6.836833333333334,
           6.253833333333333,
           7.3549999999999995,
           7.4135833333333325,
           6.378833333333333,
           6.4923,
           6.121166666666666,
           5.5052,
           6.427833333333333,
           6.3224285714285715,
           6.891888888888889,
           6.755166666666667,
           6.785200000000001,
           6.5135000000000005,
           6.944333333333333,
           6.286666666666666,
           6.536384615384615,
           6.360181818181818,
           7.263,
           6.533799999999999,
           7.0236,
           5.933714285714286,
           6.59275,
           7.5024,
           6.341705882352941,
           6.674200000000001,
           6.157428571428572,
           6.070571428571428,
           6.3266,
           6.0564,
           6.537888888888889,
           6.900666666666666,
           5.6675555555555555,
           5.496125,
           6.640285714285715,
           6.833500000000001,
           6.885166666666667,
           6.38,
           6.4998000000000005,
           7.259857142857143,
           6.546666666666667,
           6.885666666666666,
           6.0958,
           7.871428571428572,
           6.785333333333334,
           6.156333333333333,
           6.081799999999999,
           6.1528,
           7.722700000000001,
           6.509,
           6.855551724137931,
           6.256,
           6.660166666666666,
           6.413666666666667,
           6.994111111111112,
           6.458800000000001,
           7.427000000000001,
           6.999384615384615,
           7.50075,
           6.006777777777778,
           7.331500000000001,
           7.4864444444444445,
           6.459999999999999,
           6.6798,
           5.866666666666667,
           6.1212,
           6.3422,
           6.075,
           6.6499999999999995,
           5.969083333333334,
           5.9162,
           6.72409090909091,
           6.8415,
           5.972099999999999,
           6.729166666666667,
           5.942857142857143,
           6.5200000000000005,
           7.079,
           6.008,
           6.7032,
           6.9239999999999995,
           7.208799999999999,
           7.063066666666667,
           6.5318,
           6.774800000000001,
           7.7170000000000005,
           6.1765,
           6.533199999999999,
           6.6446,
           6.084833333333333,
           7.094,
           6.093545454545454,
           6.554666666666667,
           6.347833333333334,
           6.650222222222222,
           6.126375,
           7.038999999999999,
           6.635285714285715,
           6.400142857142858,
           6.9495000000000005,
           6.917818181818182,
           7.716200000000001,
           6.9964545454545455,
           6.9285,
           6.878,
           6.82511111111111,
           6.540875,
           6.9855,
           6.2625714285714285,
           5.972714285714285,
           6.166428571428571,
           6.0388,
           7.925727272727273,
           6.412923076923077,
           6.28,
           7.414636363636363,
           6.25,
           5.9623333333333335,
           6.645454545454545,
           6.063909090909092,
           5.965642857142858,
           6.2438,
           7.7338,
           6.383833333333333,
           6.343,
           7.003125,
           6.617999999999999,
           6.9886,
           6.202999999999999,
           6.392714285714286,
           6.265124999999999,
           7.050400000000001,
           6.4034,
           6.950333333333333,
           6.5172,
           6.763428571428571,
           7.0696666666666665,
           7.283833333333334,
           6.517,
           6.350333333333333,
           6.2215,
           6.8329375,
           7.196444444444444,
           6.368666666666667,
           6.4716,
           6.4024,
           6.085714285714286,
           6.1444,
           6.9094444444444445,
           7.374444444444445,
           6.366307692307692,
           6.966833333333334,
           6.316666666666666,
           7.029571428571429,
           5.7972,
           6.620166666666667,
           6.425199999999999,
           6.713625,
           6.6532857142857145,
           6.2564,
           6.392799999999999,
           6.649,
           6.456857142857143,
           6.785142857142858,
           5.8378,
           6.394125,
           7.242,
           6.3999999999999995,
           6.552499999999999,
           6.640000000000001,
           6.828500000000001,
           6.5633333333333335,
           6.579166666666667,
           6.5334,
           6.714222222222222,
           7.105,
           6.920833333333333,
           6.541714285714286,
           6.297875,
           6.4084,
           6.182333333333333,
           6.249,
           6.6196,
           6.8286999999999995,
           7.353999999999999,
           6.619999999999999,
           6.268571428571429,
           6.898428571428572,
           5.675999999999999,
           6.74,
           6.4799999999999995,
           7.058666666666666,
           5.75,
           6.360111111111111,
           6.556,
           7.472857142857143,
           5.8500000000000005,
           6.0824,
           6.831714285714286,
           6.954666666666666,
           6.3351999999999995,
           6.367000000000001,
           6.7069,
           6.183,
           6.836,
           6.264,
           5.902125,
           7.09475,
           6.038714285714286,
           6.149142857142857,
           6.613333333333333,
           6.339799999999999,
           6.2598,
           7.06,
           6.2785,
           6.812625,
           6.782166666666666,
           7.4361999999999995,
           6.297,
           6.895714285714286,
           6.779875,
           6.066599999999999,
           6.5444,
           6.4236,
           6.092,
           6.874357142857143,
           6.186,
           6.7614,
           7.0035,
           6.989999999999999,
           6.6164000000000005,
           6.406714285714286,
           7.379142857142857,
           6.715333333333334,
           6.187166666666666,
           7.2105999999999995,
           6.861999999999999,
           6.470571428571428,
           7.065875,
           6.3365,
           5.749833333333334,
           5.978461538461539,
           7.822142857142857,
           6.34975,
           7.09875,
           6.36875,
           6.651,
           6.4756,
           6.279999999999999,
           7.8381428571428575,
           5.807166666666667,
           6.148625,
           6.7572,
           5.990769230769231,
           6.393111111111112,
           6.759,
           6.826733333333333,
           6.394555555555556,
           6.790466666666666,
           6.925217391304348,
           5.9732,
           6.144,
           5.9506,
           6.734333333333334,
           7.228818181818181,
           6.6975999999999996,
           6.7701111111111105,
           6.329,
           6.745833333333334,
           6.00525,
           6.599166666666666,
           6.767428571428572,
           7.153117647058824,
           6.4405,
           6.3798,
           5.8031999999999995,
           6.3515999999999995,
           6.2924,
           6.595699999999999,
           7.054,
           7.279999999999999,
           6.8342222222222215,
           6.000166666666666,
           6.168200000000001,
           5.981333333333333,
           7.029333333333334,
           6.766454545454545,
           6.80875,
           8.247,
           6.1201,
           6.74,
           5.6832,
           6.9857499999999995,
           6.6004000000000005,
           6.087,
           5.940600000000001,
           6.642,
           6.501785714285715,
           5.8896,
           6.872199999999999,
           7.997888888888888,
           6.899285714285715,
           6.4191,
           6.288611111111112,
           6.203666666666667,
           6.504428571428571,
           5.8238,
           7.042400000000001,
           5.802222222222222,
           6.5694375,
           7.2079615384615385,
           6.8275999999999994,
           6.591666666666667,
           6.5875,
           6.271166666666667,
           7.075,
           6.453500000000001,
           7.109999999999999,
           6.3778,
           6.9928,
           6.984818181818182,
           6.96205,
           5.7994,
           6.1572000000000005,
           5.892714285714286,
           5.981,
           6.4639,
           6.853333333333333,
           6.362555555555556,
           6.884600000000001,
           6.9489230769230765,
           6.27,
           6.529999999999999,
           3.807,
           7.4482,
           6.6681,
           6.459999999999999,
           6.529736842105263,
           7.1646,
           7.335142857142857,
           6.161733333333333,
           6.3978,
           7.2,
           6.829714285714286,
           7.5565,
           7.1008,
           6.854555555555556,
           6.963913043478262,
           6.941,
           7.2788571428571425
          ],
          "coloraxis": "coloraxis",
          "symbol": "circle"
         },
         "mode": "markers",
         "name": "",
         "orientation": "v",
         "showlegend": false,
         "type": "scatter",
         "x": [
          -0.053749999999999985,
          0.08447222222222221,
          0.2652292152292152,
          0.12335648148148147,
          0.06597516835016837,
          0.0837012987012987,
          0.09103928571428571,
          0.05805735930735929,
          -0.07611111111111112,
          -0.05132485569985569,
          0.02054378106461439,
          0.14982928240740737,
          0.01546861471861471,
          0.11046498144712429,
          0.00027777777777778233,
          0.2170238095238095,
          0.21214560571703428,
          0.06413506760728982,
          0.04032908449575117,
          0.04384126984126985,
          0.12745370370370368,
          0.006790123456790119,
          0.02268518518518518,
          0.007001776882729247,
          -0.013326692247146804,
          0.12418831168831165,
          0.08277398989898992,
          -0.10261784511784511,
          0.22234126984126984,
          0.04329861111111111,
          0.05748878667628666,
          0.025458659894934395,
          0.19169696969696964,
          -0.016557067271352987,
          0.2752452857044694,
          0.22666666666666666,
          0.06738455988455985,
          0.04764149430816095,
          -0.030081437521913702,
          0.13141654641654638,
          0.2612436868686868,
          0.042150072150072125,
          0.04079805996472662,
          0.06090277777777776,
          0.11081818181818182,
          0.14155663780663777,
          0.08164261664261661,
          0.07442380150713485,
          0.16327330077330074,
          0.03240259740259737,
          0.16591269841269843,
          0.10773989898989896,
          0.043983134920634936,
          -0.053016098484848485,
          0.07117508417508414,
          0.02819823232323234,
          -0.1222685185185185,
          0.02488877382196346,
          0.05780423280423275,
          0.05685545935545935,
          0.028153559403559365,
          0.0746117257228368,
          0.1717316017316017,
          0.2342388167388167,
          -0.021734029859029853,
          0.04643939393939391,
          0.14485209235209232,
          -0.054935515873015865,
          0.09611258083480304,
          0.03966666666666666,
          0.06700000000000002,
          0.038888888888888896,
          0.048857142857142884,
          0.07563636363636361,
          0.13080722187865043,
          0.1378472222222222,
          0.13784921386483884,
          0.21983333333333327,
          0.21040062420744238,
          0.012152777777777783,
          0.15342630385487527,
          0.03744268077601411,
          0.036290627362055926,
          0.1020952380952381,
          0.09600168350168345,
          0.03355820105820108,
          0.06231818181818179,
          0.07966991341991339,
          -0.15832222222222223,
          0.04505271765271761,
          -0.03805555555555558,
          0.09716666666666667,
          0.22082323232323228,
          0.2544400686761798,
          0.02523809523809526,
          0.1787701418951419,
          0.031368934884559864,
          0.1197782738095238,
          0.16399695001967726,
          0.07744348244348244,
          0.16594195927529257,
          0.0015782828282828315,
          0.1299352904040404,
          -0.01292328042328042,
          0.14995207173778605,
          0.10013914656771798,
          0.04359848484848483,
          0.07925969653242379,
          0.06479166666666664,
          0.1435406008133281,
          -0.015392015392015406,
          0.029794973544973544,
          0.02091750841750842,
          -0.03708333333333336,
          0.18947835497835497,
          -0.034092970521541956,
          0.09607284580498864,
          0.027803287981859406,
          0.00958676046176044,
          0.11328020464384098,
          0.08831394002822572,
          0.11587301587301586,
          0.008149350649350672,
          0.07650493025493021,
          0.05647136042969372,
          -0.010128870648351183,
          0.13820247933884297,
          -0.005709150543334207,
          0.13046212121212117,
          0.02984217171717172,
          -0.04440476190476195,
          0.05330776014109347,
          -0.009941603535353538,
          -0.023402777777777783,
          0.03770707070707072,
          0.08432138848805514,
          -0.018314393939393943,
          -0.055761634199134186,
          -0.0736031746031746,
          0.10164141414141412,
          -0.04709595959595956,
          0.12704713804713802,
          0.04357142857142857,
          0.09688792688792684,
          -0.02800365832359879,
          0.07624118936618936,
          -0.011554433221099879,
          0.03986111111111109,
          -0.08103009259259258,
          0.12441378066378064,
          0.11028185292074179,
          0.10622363516113516,
          0.05755555555555556,
          -0.021088435374149672,
          -0.01090909090909092,
          0.011914609053497949,
          -0.010945834001389586,
          0.08094350094350095,
          -0.06175194404361072,
          0.13164141414141411,
          0.025485209235209187,
          0.1036843434343434,
          0.015921416546416548,
          0.06902777777777777,
          0.03919943482443481,
          0.07297619047619043,
          0.14692460317460318,
          0.1774230214230214,
          0.1467121135771929,
          0.20306122448979588,
          0.1363492063492063,
          0.05650793650793652,
          0.14584821428571423,
          -0.04186791383219952,
          -0.19854166666666664,
          -0.24128086419753084,
          0.06433982683982684,
          -0.01765151515151515,
          0.11864267676767674,
          0.12312499999999998,
          0.091143759018759,
          0.09977152477152475,
          0.015224867724867737,
          0.04908655002405002,
          0.13424882940189062,
          0.1231228956228956,
          0.028590909090909084,
          0.04815917107583773,
          0.17719696969696966,
          0.07195408163265304,
          0.08580844155844153,
          0.018557692307692313,
          0.13305387205387204,
          0.04564393939393939,
          0.12406462585034013,
          -0.007025813692480366,
          -0.15928571428571428,
          0.06144821844821842,
          0.012584175084175081,
          0.2574074074074074,
          0.10201990139490139,
          0.01876190476190475,
          0.05613709372637943,
          -0.009555555555555584,
          0.04443388429752066,
          0.03124201195629767,
          0.06599747474747476,
          0.1541125541125541,
          0.05769535178626086,
          0.16289520202020197,
          0.1118730158730158,
          0.03079166666666665,
          0.1268647186147186,
          0.11531430375180371,
          0.03918008207070705,
          0.05687143544286399,
          0.13260912698412694,
          0.037407407407407396,
          0.1052087912087912,
          0.07828571428571426,
          0.171515873015873,
          0.1037878787878788,
          0.13202020202020204,
          0.017484142015392005,
          0.05405555555555554,
          0.0493623737373737,
          0.02669681508967223,
          0.006473214285714287,
          -0.058917508417508424,
          0.1272015392015392,
          0.08629629629629626,
          0.1913742584575918,
          0.03858435545935544,
          0.07916666666666668,
          -0.003046336379669727,
          -0.032974687349687344,
          0.08092487373737374,
          -0.07524386724386725,
          -0.02488662131519274,
          0.09654195011337867,
          0.028404558404558383,
          -0.12893518518518518,
          0.0986706349206349,
          0.07699630230880226,
          -0.07165103415103415,
          0.05554980609668109,
          0.19045149625506766,
          0.09689674523007856,
          -0.07532294628448476,
          0.1362459630316773,
          0.05378981137909709,
          0.012552427799823615,
          0.04430127164502165,
          0.031903183621933597,
          -0.03142760942760944,
          0.20830303030303027,
          -0.034183673469387714,
          0.02026830808080803,
          0.006910398629148634,
          -0.11959343434343431,
          -0.010830142080142076,
          0.1204779942279942,
          0.14212962962962963,
          0.04893290043290041,
          0.09848003848003847,
          0.042518807118807095,
          0.007588342012255047,
          0.20355555555555557,
          0.03635311447811446,
          0.002774621212121198,
          0.07256393298059961,
          0.06405893349075165,
          0.10757407407407407,
          0.08571548821548819,
          0.15291666666666667,
          0.2034343434343434,
          0.009924242424242433,
          0.11980489417989416,
          0.06252886002886002,
          0.03013550243329654,
          0.10583062770562766,
          0.03887962962962962,
          0.0948989898989899,
          0.13562358276643988,
          0.06231818181818181,
          0.1715462962962963,
          0.013383491508491508,
          0.1324472502805836,
          0.1319529287584843,
          0.07465385143956571,
          0.19480158730158728,
          0.06578207671957671,
          0.1997064393939394,
          -0.027152568251053107,
          0.07600887345679012,
          -0.04464905753968253,
          0.05711747685185185,
          0.01641170634920636,
          -0.07244212962962958,
          0.019269898054620274,
          0.03967568542568545,
          -0.1291468253968254,
          0.10217676767676767,
          -0.009037037037037027,
          0.011930093715808013,
          0.056402597402597385,
          0.12793560606060603,
          -0.03268648789482123,
          0.07474927849927845,
          0.02996626984126981,
          0.15294269859084675,
          -0.08923400673400673,
          0.05273526077097507,
          0.08770707070707066,
          -0.04841666666666666,
          0.05528826112159444,
          0.07766865079365079,
          0.07608909608909609,
          0.01346320346320346,
          0.055289201539201534,
          0.08529671717171713,
          0.013277216610549916,
          0.14249768089053802,
          0.0370093795093795,
          -0.02115277777777777,
          -0.03333333333333334,
          0.07235714285714284,
          0.14719766464896333,
          0.14263676601176598,
          0.1616212121212121,
          -0.008194444444444459,
          0.0593735827664399,
          0.06957671957671958,
          0.07904405663780663,
          0.12876470751470748,
          0.17789562289562288,
          0.03995454545454545,
          0.0623438466295609,
          0.14425595238095232,
          0.08957564825746642,
          0.1309223184223184,
          -1.6653345369377347e-17,
          0.15227316017316017,
          0.09887012987012984,
          0.04362413971436526,
          -0.059940476190476155,
          0.10600082457225314,
          0.055885521885521885,
          0.07115909090909088,
          0.10880555555555553,
          -0.00751889644746787,
          0.06791065416065416,
          0.011389764996907841,
          0.06790270429159316,
          0.09969221197482066,
          0.09643308080808079,
          0.07143630179344464
         ],
         "xaxis": "x",
         "y": [
          0.20221430463743156,
          0.13127029531504364,
          0.20607494219728348,
          0.15032107473506237,
          0.10478428037529636,
          0.12215918427268678,
          0.22190039449937926,
          0.05299975363302791,
          0.1373677815479576,
          0.14200960267852775,
          0.24013866313239537,
          0.25198949661906617,
          0.2695953807134282,
          0.11537733185879011,
          0.12035505600585637,
          0.1879639535810124,
          0.11452819161967893,
          0.18431803949067024,
          0.1769163439737598,
          0.13924577277452882,
          0.2114832029623501,
          0.20562033235821742,
          0.13721678651702057,
          0.09266198566697066,
          0.20811826677902823,
          0.0638271969672297,
          0.1710281378366413,
          0.23432157395547878,
          0.17314967248855084,
          0.16742923677661978,
          0.09638820673334442,
          0.1420705492577754,
          0.12189887836764988,
          0.09269066666487451,
          0.2919991872225769,
          0.20269536483959466,
          0.04866798871545605,
          0.241864080067686,
          0.20514408345776047,
          0.15895260817084342,
          0.07986805332886429,
          0.15242735742037875,
          0.11680880783879266,
          0.167903414834133,
          0.197500883578432,
          0.20734330360264472,
          0.1666628277588308,
          0.17967532507839035,
          0.10736717942558541,
          0.24089325711862253,
          0.31970102273435064,
          0.16861255593527408,
          0.20176671003417282,
          0.22235343768077342,
          0.181738123195995,
          0.10203822741278806,
          0.14988806694720133,
          0.1954312081687528,
          0.18186377046286784,
          0.13625722276351548,
          0.1350760280764349,
          0.06493335228199816,
          0.22115669655377074,
          0.2035900407578751,
          0.1475607878002435,
          0.12568289129539859,
          0.1076557787359582,
          0.3884054962442059,
          0.15456325015948666,
          0.1584677061387868,
          0.3326146418905819,
          0.11470574269585375,
          0.15528801093171435,
          0.09087539779666197,
          0.16229725922212923,
          0.24276709469884608,
          0.09887961517943401,
          0.1889751232893426,
          0.09134146307562559,
          0.07289186085997273,
          0.1823973183272242,
          0.12277596875381909,
          0.21691477841547385,
          0.21388848123363358,
          0.2550261987633861,
          0.18223500740963572,
          0.07731389277826414,
          0.1721403850461775,
          0.32060153102903416,
          0.1981944386255056,
          0.21873037830868788,
          0.1531493461371031,
          0.14978414773998092,
          0.1579926829630375,
          0.13782146507648094,
          0.1912338397512853,
          0.1410806745360377,
          0.10720417424146081,
          0.17601441876049032,
          0.1292657462846177,
          0.21399614508365344,
          0.13009323425242098,
          0.113417470241112,
          0.20707277545043296,
          0.20174225479720062,
          0.19995757575068052,
          0.13641978595197898,
          0.1719134820649296,
          0.04873445337604272,
          0.15709611649261954,
          0.2341961551631295,
          0.1652346095048749,
          0.0866611756136443,
          0.19549590991540153,
          0.17454255984476988,
          0.16597031940795384,
          0.12367315397287293,
          0.21732806085932635,
          0.13248669403551339,
          0.20295771170272697,
          0.15826020053470868,
          0.11458363395823955,
          0.13058586548426823,
          0.1963294082294276,
          0.20246919410966582,
          0.17045687541100754,
          0.21702042388858206,
          0.13934565376117064,
          0.17761457424285618,
          0.1396863719950117,
          0.2705149096196559,
          0.11138342855591948,
          0.09750525296152203,
          0.1201151630393736,
          0.1772506884458182,
          0.19719908711695222,
          0.27036816576921463,
          0.06726995814767572,
          0.12566424168271623,
          0.1278682007282253,
          0.19506718525835107,
          0.11724128125151784,
          0.15059103625343181,
          0.04451220400132576,
          0.2225668593215009,
          0.22976454975672905,
          0.09992955436832754,
          0.051721521059813605,
          0.2054474242200561,
          0.28186618599706237,
          0.19270130203423153,
          0.2298308289564683,
          0.12296152665381573,
          0.10716870638664606,
          0.14495415823280378,
          0.1828187656742059,
          0.2317097080181019,
          0.16745426295428908,
          0.09586456917761962,
          0.13748543554775666,
          0.32102217908778774,
          0.13018580304004862,
          0.12162445087880984,
          0.12583210693540206,
          0.09499856935725129,
          0.24892635101831323,
          0.34016584130013344,
          0.14141380239421622,
          0.16062131693872764,
          0.27043295640698956,
          0.21923427749860444,
          0.13978870931319423,
          0.11565095544308292,
          0.1512276963086372,
          0.22744714740156913,
          0.18026720009930122,
          0.18300639397146998,
          0.03067854453167854,
          0.12506316318153365,
          0.08393609059110993,
          0.16364401356830133,
          0.161911506743023,
          0.09480158453316671,
          0.10577787261644468,
          0.09669714497568477,
          0.29060507266138197,
          0.06929535971383365,
          0.28103820196586926,
          0.14613516580560662,
          0.0641876063410096,
          0.1574280056144647,
          0.16174065871163434,
          0.1147313132528506,
          0.24398269484407953,
          0.18748326239946905,
          0.12607891086392975,
          0.42234032559487233,
          0.08145901620418353,
          0.14313412587025012,
          0.26563445987768414,
          0.17223372232872225,
          0.18720500229955778,
          0.1315043530980242,
          0.08192860487214637,
          0.0744857893926935,
          0.1654519743320213,
          0.22346261213778354,
          0.10969809294313147,
          0.1618800527425329,
          0.18462804732409324,
          0.2540012104939516,
          0.24364804372898824,
          0.19824440842939303,
          0.13543301315532968,
          0.08705697074997136,
          0.11188705590649944,
          0.3964669106190691,
          0.13541006156730948,
          0.18879455547667565,
          0.20415430338799306,
          0.17496822948841284,
          0.2922012024268971,
          0.14939972982503824,
          0.14785808329464678,
          0.15613441403775652,
          0.08829271772946908,
          0.13585967911614708,
          0.11269910821361664,
          0.15952274728459018,
          0.13141711972424353,
          0.17461794470155972,
          0.16819967832349153,
          0.13987594807793133,
          0.2811496734639556,
          0.16038496431240984,
          0.09473451017331483,
          0.2054533737566128,
          0.17481233420504969,
          0.0968498441157579,
          0.184306596037113,
          0.09508371905298933,
          0.1859792581580553,
          0.17783162671206068,
          0.1061882317313364,
          0.14548915934841256,
          0.20913183336781743,
          0.10996268981978637,
          0.17509790857386937,
          0.21083176860074473,
          0.19780168878786353,
          0.221450533020181,
          0.16768374557494406,
          0.21886715246904417,
          0.1880816786973413,
          0.17402513455978755,
          0.2027437598042849,
          0.07744110691675567,
          0.1507434230911517,
          0.07786470880196526,
          0.24745459333517586,
          0.12608319939486015,
          0.14921153983326957,
          0.32463852959425404,
          0.16337775409703365,
          0.23912619838913743,
          0.15681639246637735,
          0.11456644826456276,
          0.19263827805719066,
          0.14614906178066756,
          0.15126267583097489,
          0.10062271556658099,
          0.1756265207937665,
          0.1738349717222918,
          0.12417632151755036,
          0.33019880375313293,
          0.14840278086626246,
          0.10095560628265995,
          0.1439503368739428,
          0.17696506081040467,
          0.09434820287812311,
          0.13708852260833332,
          0.20324306309869614,
          0.18032952317176004,
          0.12867356779110503,
          0.051187056803509344,
          0.21233858214705423,
          0.1952000069152009,
          0.2629082642646162,
          0.2025203216125275,
          0.1767223213581962,
          0.07732487389330528,
          0.12964952663123058,
          0.2934277763392535,
          0.15018198351381465,
          0.14668278754227626,
          0.2868504496156379,
          0.12743476340925958,
          0.07564178204196448,
          0.2545753848470069,
          0.18807187658134364,
          0.12292914336908532,
          0.19320907369407458,
          0.14001551823784936,
          0.17858369603169316,
          0.12460750335900381,
          0.11221538176571146,
          0.08211188385253232,
          0.1716492367339728,
          0.07695259093910367,
          0.2809611966729503,
          0.2242537598509022,
          0.14599197733869843,
          0.2511042883422916,
          0.07867312568812967,
          0.09995936674469276,
          0.21311558788860865,
          0.13025032225475636,
          0.15612289569709129,
          0.07700194318416198,
          0.1121594241099773,
          0.11704376655627115,
          0.09767127752347615,
          0.16920713084286954,
          0.22452219356643618,
          0.1415058705285152,
          0.12638125740085918,
          0.12615420637794075,
          0.24902444728357603,
          0.16440427667822521,
          0.20115766023189982,
          0.10146543913819213,
          0.10275738154415562,
          0.14854070369416275,
          0.1777544634717756,
          0.16504667079897756,
          0.28055638063685057,
          0.1970701055264209,
          0.1706068791920421,
          0.1848217400886877,
          0.16887416005205275,
          0.26738090791056635,
          0.1904613089424769,
          0.21827722705734445,
          0.09977354186320381,
          0.15450137373955655,
          0.1093978960486167,
          0.14637467152985742,
          0.1535086674722302,
          0.14668413173936787,
          0.2507326379031588,
          0.10866295223860073,
          0.1584951151870133,
          0.151639390503543,
          0.13320889154692006,
          0.16852875715274404,
          0.10123426665602729,
          0.20756796459293292
         ],
         "yaxis": "y"
        }
       ],
       "layout": {
        "coloraxis": {
         "colorbar": {
          "title": {
           "text": "Average Vote Average"
          }
         },
         "colorscale": [
          [
           0,
           "#440154"
          ],
          [
           0.1111111111111111,
           "#482878"
          ],
          [
           0.2222222222222222,
           "#3e4989"
          ],
          [
           0.3333333333333333,
           "#31688e"
          ],
          [
           0.4444444444444444,
           "#26828e"
          ],
          [
           0.5555555555555556,
           "#1f9e89"
          ],
          [
           0.6666666666666666,
           "#35b779"
          ],
          [
           0.7777777777777778,
           "#6ece58"
          ],
          [
           0.8888888888888888,
           "#b5de2b"
          ],
          [
           1,
           "#fde725"
          ]
         ]
        },
        "legend": {
         "tracegroupgap": 0
        },
        "template": {
         "data": {
          "bar": [
           {
            "error_x": {
             "color": "#2a3f5f"
            },
            "error_y": {
             "color": "#2a3f5f"
            },
            "marker": {
             "line": {
              "color": "#E5ECF6",
              "width": 0.5
             },
             "pattern": {
              "fillmode": "overlay",
              "size": 10,
              "solidity": 0.2
             }
            },
            "type": "bar"
           }
          ],
          "barpolar": [
           {
            "marker": {
             "line": {
              "color": "#E5ECF6",
              "width": 0.5
             },
             "pattern": {
              "fillmode": "overlay",
              "size": 10,
              "solidity": 0.2
             }
            },
            "type": "barpolar"
           }
          ],
          "carpet": [
           {
            "aaxis": {
             "endlinecolor": "#2a3f5f",
             "gridcolor": "white",
             "linecolor": "white",
             "minorgridcolor": "white",
             "startlinecolor": "#2a3f5f"
            },
            "baxis": {
             "endlinecolor": "#2a3f5f",
             "gridcolor": "white",
             "linecolor": "white",
             "minorgridcolor": "white",
             "startlinecolor": "#2a3f5f"
            },
            "type": "carpet"
           }
          ],
          "choropleth": [
           {
            "colorbar": {
             "outlinewidth": 0,
             "ticks": ""
            },
            "type": "choropleth"
           }
          ],
          "contour": [
           {
            "colorbar": {
             "outlinewidth": 0,
             "ticks": ""
            },
            "colorscale": [
             [
              0,
              "#0d0887"
             ],
             [
              0.1111111111111111,
              "#46039f"
             ],
             [
              0.2222222222222222,
              "#7201a8"
             ],
             [
              0.3333333333333333,
              "#9c179e"
             ],
             [
              0.4444444444444444,
              "#bd3786"
             ],
             [
              0.5555555555555556,
              "#d8576b"
             ],
             [
              0.6666666666666666,
              "#ed7953"
             ],
             [
              0.7777777777777778,
              "#fb9f3a"
             ],
             [
              0.8888888888888888,
              "#fdca26"
             ],
             [
              1,
              "#f0f921"
             ]
            ],
            "type": "contour"
           }
          ],
          "contourcarpet": [
           {
            "colorbar": {
             "outlinewidth": 0,
             "ticks": ""
            },
            "type": "contourcarpet"
           }
          ],
          "heatmap": [
           {
            "colorbar": {
             "outlinewidth": 0,
             "ticks": ""
            },
            "colorscale": [
             [
              0,
              "#0d0887"
             ],
             [
              0.1111111111111111,
              "#46039f"
             ],
             [
              0.2222222222222222,
              "#7201a8"
             ],
             [
              0.3333333333333333,
              "#9c179e"
             ],
             [
              0.4444444444444444,
              "#bd3786"
             ],
             [
              0.5555555555555556,
              "#d8576b"
             ],
             [
              0.6666666666666666,
              "#ed7953"
             ],
             [
              0.7777777777777778,
              "#fb9f3a"
             ],
             [
              0.8888888888888888,
              "#fdca26"
             ],
             [
              1,
              "#f0f921"
             ]
            ],
            "type": "heatmap"
           }
          ],
          "heatmapgl": [
           {
            "colorbar": {
             "outlinewidth": 0,
             "ticks": ""
            },
            "colorscale": [
             [
              0,
              "#0d0887"
             ],
             [
              0.1111111111111111,
              "#46039f"
             ],
             [
              0.2222222222222222,
              "#7201a8"
             ],
             [
              0.3333333333333333,
              "#9c179e"
             ],
             [
              0.4444444444444444,
              "#bd3786"
             ],
             [
              0.5555555555555556,
              "#d8576b"
             ],
             [
              0.6666666666666666,
              "#ed7953"
             ],
             [
              0.7777777777777778,
              "#fb9f3a"
             ],
             [
              0.8888888888888888,
              "#fdca26"
             ],
             [
              1,
              "#f0f921"
             ]
            ],
            "type": "heatmapgl"
           }
          ],
          "histogram": [
           {
            "marker": {
             "pattern": {
              "fillmode": "overlay",
              "size": 10,
              "solidity": 0.2
             }
            },
            "type": "histogram"
           }
          ],
          "histogram2d": [
           {
            "colorbar": {
             "outlinewidth": 0,
             "ticks": ""
            },
            "colorscale": [
             [
              0,
              "#0d0887"
             ],
             [
              0.1111111111111111,
              "#46039f"
             ],
             [
              0.2222222222222222,
              "#7201a8"
             ],
             [
              0.3333333333333333,
              "#9c179e"
             ],
             [
              0.4444444444444444,
              "#bd3786"
             ],
             [
              0.5555555555555556,
              "#d8576b"
             ],
             [
              0.6666666666666666,
              "#ed7953"
             ],
             [
              0.7777777777777778,
              "#fb9f3a"
             ],
             [
              0.8888888888888888,
              "#fdca26"
             ],
             [
              1,
              "#f0f921"
             ]
            ],
            "type": "histogram2d"
           }
          ],
          "histogram2dcontour": [
           {
            "colorbar": {
             "outlinewidth": 0,
             "ticks": ""
            },
            "colorscale": [
             [
              0,
              "#0d0887"
             ],
             [
              0.1111111111111111,
              "#46039f"
             ],
             [
              0.2222222222222222,
              "#7201a8"
             ],
             [
              0.3333333333333333,
              "#9c179e"
             ],
             [
              0.4444444444444444,
              "#bd3786"
             ],
             [
              0.5555555555555556,
              "#d8576b"
             ],
             [
              0.6666666666666666,
              "#ed7953"
             ],
             [
              0.7777777777777778,
              "#fb9f3a"
             ],
             [
              0.8888888888888888,
              "#fdca26"
             ],
             [
              1,
              "#f0f921"
             ]
            ],
            "type": "histogram2dcontour"
           }
          ],
          "mesh3d": [
           {
            "colorbar": {
             "outlinewidth": 0,
             "ticks": ""
            },
            "type": "mesh3d"
           }
          ],
          "parcoords": [
           {
            "line": {
             "colorbar": {
              "outlinewidth": 0,
              "ticks": ""
             }
            },
            "type": "parcoords"
           }
          ],
          "pie": [
           {
            "automargin": true,
            "type": "pie"
           }
          ],
          "scatter": [
           {
            "fillpattern": {
             "fillmode": "overlay",
             "size": 10,
             "solidity": 0.2
            },
            "type": "scatter"
           }
          ],
          "scatter3d": [
           {
            "line": {
             "colorbar": {
              "outlinewidth": 0,
              "ticks": ""
             }
            },
            "marker": {
             "colorbar": {
              "outlinewidth": 0,
              "ticks": ""
             }
            },
            "type": "scatter3d"
           }
          ],
          "scattercarpet": [
           {
            "marker": {
             "colorbar": {
              "outlinewidth": 0,
              "ticks": ""
             }
            },
            "type": "scattercarpet"
           }
          ],
          "scattergeo": [
           {
            "marker": {
             "colorbar": {
              "outlinewidth": 0,
              "ticks": ""
             }
            },
            "type": "scattergeo"
           }
          ],
          "scattergl": [
           {
            "marker": {
             "colorbar": {
              "outlinewidth": 0,
              "ticks": ""
             }
            },
            "type": "scattergl"
           }
          ],
          "scattermapbox": [
           {
            "marker": {
             "colorbar": {
              "outlinewidth": 0,
              "ticks": ""
             }
            },
            "type": "scattermapbox"
           }
          ],
          "scatterpolar": [
           {
            "marker": {
             "colorbar": {
              "outlinewidth": 0,
              "ticks": ""
             }
            },
            "type": "scatterpolar"
           }
          ],
          "scatterpolargl": [
           {
            "marker": {
             "colorbar": {
              "outlinewidth": 0,
              "ticks": ""
             }
            },
            "type": "scatterpolargl"
           }
          ],
          "scatterternary": [
           {
            "marker": {
             "colorbar": {
              "outlinewidth": 0,
              "ticks": ""
             }
            },
            "type": "scatterternary"
           }
          ],
          "surface": [
           {
            "colorbar": {
             "outlinewidth": 0,
             "ticks": ""
            },
            "colorscale": [
             [
              0,
              "#0d0887"
             ],
             [
              0.1111111111111111,
              "#46039f"
             ],
             [
              0.2222222222222222,
              "#7201a8"
             ],
             [
              0.3333333333333333,
              "#9c179e"
             ],
             [
              0.4444444444444444,
              "#bd3786"
             ],
             [
              0.5555555555555556,
              "#d8576b"
             ],
             [
              0.6666666666666666,
              "#ed7953"
             ],
             [
              0.7777777777777778,
              "#fb9f3a"
             ],
             [
              0.8888888888888888,
              "#fdca26"
             ],
             [
              1,
              "#f0f921"
             ]
            ],
            "type": "surface"
           }
          ],
          "table": [
           {
            "cells": {
             "fill": {
              "color": "#EBF0F8"
             },
             "line": {
              "color": "white"
             }
            },
            "header": {
             "fill": {
              "color": "#C8D4E3"
             },
             "line": {
              "color": "white"
             }
            },
            "type": "table"
           }
          ]
         },
         "layout": {
          "annotationdefaults": {
           "arrowcolor": "#2a3f5f",
           "arrowhead": 0,
           "arrowwidth": 1
          },
          "autotypenumbers": "strict",
          "coloraxis": {
           "colorbar": {
            "outlinewidth": 0,
            "ticks": ""
           }
          },
          "colorscale": {
           "diverging": [
            [
             0,
             "#8e0152"
            ],
            [
             0.1,
             "#c51b7d"
            ],
            [
             0.2,
             "#de77ae"
            ],
            [
             0.3,
             "#f1b6da"
            ],
            [
             0.4,
             "#fde0ef"
            ],
            [
             0.5,
             "#f7f7f7"
            ],
            [
             0.6,
             "#e6f5d0"
            ],
            [
             0.7,
             "#b8e186"
            ],
            [
             0.8,
             "#7fbc41"
            ],
            [
             0.9,
             "#4d9221"
            ],
            [
             1,
             "#276419"
            ]
           ],
           "sequential": [
            [
             0,
             "#0d0887"
            ],
            [
             0.1111111111111111,
             "#46039f"
            ],
            [
             0.2222222222222222,
             "#7201a8"
            ],
            [
             0.3333333333333333,
             "#9c179e"
            ],
            [
             0.4444444444444444,
             "#bd3786"
            ],
            [
             0.5555555555555556,
             "#d8576b"
            ],
            [
             0.6666666666666666,
             "#ed7953"
            ],
            [
             0.7777777777777778,
             "#fb9f3a"
            ],
            [
             0.8888888888888888,
             "#fdca26"
            ],
            [
             1,
             "#f0f921"
            ]
           ],
           "sequentialminus": [
            [
             0,
             "#0d0887"
            ],
            [
             0.1111111111111111,
             "#46039f"
            ],
            [
             0.2222222222222222,
             "#7201a8"
            ],
            [
             0.3333333333333333,
             "#9c179e"
            ],
            [
             0.4444444444444444,
             "#bd3786"
            ],
            [
             0.5555555555555556,
             "#d8576b"
            ],
            [
             0.6666666666666666,
             "#ed7953"
            ],
            [
             0.7777777777777778,
             "#fb9f3a"
            ],
            [
             0.8888888888888888,
             "#fdca26"
            ],
            [
             1,
             "#f0f921"
            ]
           ]
          },
          "colorway": [
           "#636efa",
           "#EF553B",
           "#00cc96",
           "#ab63fa",
           "#FFA15A",
           "#19d3f3",
           "#FF6692",
           "#B6E880",
           "#FF97FF",
           "#FECB52"
          ],
          "font": {
           "color": "#2a3f5f"
          },
          "geo": {
           "bgcolor": "white",
           "lakecolor": "white",
           "landcolor": "#E5ECF6",
           "showlakes": true,
           "showland": true,
           "subunitcolor": "white"
          },
          "hoverlabel": {
           "align": "left"
          },
          "hovermode": "closest",
          "mapbox": {
           "style": "light"
          },
          "paper_bgcolor": "white",
          "plot_bgcolor": "#E5ECF6",
          "polar": {
           "angularaxis": {
            "gridcolor": "white",
            "linecolor": "white",
            "ticks": ""
           },
           "bgcolor": "#E5ECF6",
           "radialaxis": {
            "gridcolor": "white",
            "linecolor": "white",
            "ticks": ""
           }
          },
          "scene": {
           "xaxis": {
            "backgroundcolor": "#E5ECF6",
            "gridcolor": "white",
            "gridwidth": 2,
            "linecolor": "white",
            "showbackground": true,
            "ticks": "",
            "zerolinecolor": "white"
           },
           "yaxis": {
            "backgroundcolor": "#E5ECF6",
            "gridcolor": "white",
            "gridwidth": 2,
            "linecolor": "white",
            "showbackground": true,
            "ticks": "",
            "zerolinecolor": "white"
           },
           "zaxis": {
            "backgroundcolor": "#E5ECF6",
            "gridcolor": "white",
            "gridwidth": 2,
            "linecolor": "white",
            "showbackground": true,
            "ticks": "",
            "zerolinecolor": "white"
           }
          },
          "shapedefaults": {
           "line": {
            "color": "#2a3f5f"
           }
          },
          "ternary": {
           "aaxis": {
            "gridcolor": "white",
            "linecolor": "white",
            "ticks": ""
           },
           "baxis": {
            "gridcolor": "white",
            "linecolor": "white",
            "ticks": ""
           },
           "bgcolor": "#E5ECF6",
           "caxis": {
            "gridcolor": "white",
            "linecolor": "white",
            "ticks": ""
           }
          },
          "title": {
           "x": 0.05
          },
          "xaxis": {
           "automargin": true,
           "gridcolor": "white",
           "linecolor": "white",
           "ticks": "",
           "title": {
            "standoff": 15
           },
           "zerolinecolor": "white",
           "zerolinewidth": 2
          },
          "yaxis": {
           "automargin": true,
           "gridcolor": "white",
           "linecolor": "white",
           "ticks": "",
           "title": {
            "standoff": 15
           },
           "zerolinecolor": "white",
           "zerolinewidth": 2
          }
         }
        },
        "title": {
         "text": "Average ending score vs ending score variance per director<br>Color is average vote average"
        },
        "xaxis": {
         "anchor": "y",
         "domain": [
          0,
          1
         ],
         "title": {
          "text": "Average Ending Score"
         }
        },
        "yaxis": {
         "anchor": "x",
         "domain": [
          0,
          1
         ],
         "title": {
          "text": "Ending Score Variance"
         }
        }
       }
      }
     },
     "metadata": {},
     "output_type": "display_data"
    }
   ],
   "source": [
    "\n",
    "\n",
    "fig = px.scatter(\n",
    "    pd.DataFrame({\n",
    "    'Average Ending Score': director_avg_score,\n",
    "    'Ending Score Variance': director_score_variance,\n",
    "    'Average Vote Average': director_avg_vote_average\n",
    "}),\n",
    "    x='Average Ending Score',\n",
    "    y='Ending Score Variance',\n",
    "    color='Average Vote Average',\n",
    "    hover_name=director_avg_score.index,\n",
    "    color_continuous_scale='Viridis',\n",
    "    title='Average ending score vs ending score variance per director<br>Color is average vote average'\n",
    ")\n",
    "\n",
    "fig.update_layout(\n",
    "    xaxis_title='Average Ending Score',\n",
    "    yaxis_title='Ending Score Variance',\n",
    "    coloraxis_colorbar=dict(title='Average Vote Average')\n",
    ")\n",
    "\n",
    "fig.show()\n",
    "\n",
    "fig.write_html(\"../../assets/img/rq3/director_avg_score_vs_score_variance_vote_average.html\")"
   ]
  },
  {
   "cell_type": "code",
   "execution_count": 13,
   "metadata": {},
   "outputs": [
    {
     "name": "stdout",
     "output_type": "stream",
     "text": [
      "Number of high revenue directors: 113\n",
      "Number of low revenue directors: 244\n",
      "t stat: 2.7974272535329923\n",
      "p value: 0.005431923389924986\n",
      "The average score is significantly different between directors with high and low revenue\n"
     ]
    }
   ],
   "source": [
    "# use t test to check if the average score is significantly different between directors with high and low revenue\n",
    "from scipy.stats import ttest_ind\n",
    "\n",
    "high_revenue_directors = director_avg_revenue[director_avg_revenue > 0.1e9].index\n",
    "low_revenue_directors = director_avg_revenue[director_avg_revenue < 0.1e9].index\n",
    "\n",
    "print('Number of high revenue directors:', len(high_revenue_directors))\n",
    "print('Number of low revenue directors:', len(low_revenue_directors))\n",
    "\n",
    "high_revenue_director_avg_score = director_avg_score[high_revenue_directors].dropna()\n",
    "low_revenue_director_avg_score = director_avg_score[low_revenue_directors].dropna()\n",
    "\n",
    "t_stat, p_value = ttest_ind(high_revenue_director_avg_score, low_revenue_director_avg_score)\n",
    "print('t stat:', t_stat)\n",
    "print('p value:', p_value)\n",
    "\n",
    "if p_value < 0.05:\n",
    "    print('The average score is significantly different between directors with high and low revenue')\n",
    "else:\n",
    "    print('The average score is not significantly different between directors with high and low revenue')\n"
   ]
  },
  {
   "cell_type": "code",
   "execution_count": 14,
   "metadata": {},
   "outputs": [
    {
     "name": "stdout",
     "output_type": "stream",
     "text": [
      "Number of high vote average directors: 199\n",
      "Number of low vote average directors: 158\n",
      "t stat: -2.521378570186223\n",
      "p value: 0.01212676091338043\n",
      "The average score is significantly different between directors with high and low vote average\n"
     ]
    }
   ],
   "source": [
    "# use t test to check if the average score is significantly different between directors with high and low vote average\n",
    "\n",
    "high_vote_average_directors = director_avg_vote_average[director_avg_vote_average > 6.5].index\n",
    "low_vote_average_directors = director_avg_vote_average[director_avg_vote_average < 6.5].index\n",
    "\n",
    "print('Number of high vote average directors:', len(high_vote_average_directors))\n",
    "print('Number of low vote average directors:', len(low_vote_average_directors))\n",
    "\n",
    "high_vote_average_director_avg_score = director_avg_score[high_vote_average_directors].dropna()\n",
    "low_vote_average_director_avg_score = director_avg_score[low_vote_average_directors].dropna()\n",
    "\n",
    "t_stat, p_value = ttest_ind(high_vote_average_director_avg_score, low_vote_average_director_avg_score)\n",
    "print('t stat:', t_stat)\n",
    "print('p value:', p_value)\n",
    "\n",
    "if p_value < 0.05:\n",
    "    print('The average score is significantly different between directors with high and low vote average')\n",
    "else:\n",
    "    print('The average score is not significantly different between directors with high and low vote average')"
   ]
  },
  {
   "cell_type": "code",
   "execution_count": 15,
   "metadata": {},
   "outputs": [
    {
     "name": "stdout",
     "output_type": "stream",
     "text": [
      "Number of high revenue directors: 113\n",
      "Number of low revenue directors: 244\n",
      "t stat: 0.2546688080989438\n",
      "p value: 0.7991263695144881\n",
      "The score variance is not significantly different between directors with high and low revenue\n"
     ]
    }
   ],
   "source": [
    "# use t test to check if the score variance is significantly different between directors with high and low revenue\n",
    "\n",
    "high_revenue_director_score_variance = director_score_variance[high_revenue_directors].dropna()\n",
    "low_revenue_director_score_variance = director_score_variance[low_revenue_directors].dropna()\n",
    "\n",
    "print('Number of high revenue directors:', len(high_revenue_directors))\n",
    "print('Number of low revenue directors:', len(low_revenue_directors))\n",
    "\n",
    "t_stat, p_value = ttest_ind(high_revenue_director_score_variance, low_revenue_director_score_variance)\n",
    "print('t stat:', t_stat)\n",
    "print('p value:', p_value)\n",
    "\n",
    "if p_value < 0.05:\n",
    "    print('The score variance is significantly different between directors with high and low revenue')\n",
    "else:\n",
    "    print('The score variance is not significantly different between directors with high and low revenue')"
   ]
  },
  {
   "cell_type": "code",
   "execution_count": 16,
   "metadata": {},
   "outputs": [
    {
     "name": "stdout",
     "output_type": "stream",
     "text": [
      "Number of high vote average directors: 199\n",
      "Number of low vote average directors: 158\n",
      "t stat: -0.85848578613168\n",
      "p value: 0.3912035367557568\n",
      "The score variance is not significantly different between directors with high and low vote average\n"
     ]
    }
   ],
   "source": [
    "# use t test to check if the score variance is significantly different between directors with high and low vote average\n",
    "\n",
    "high_vote_average_director_score_variance = director_score_variance[high_vote_average_directors].dropna()\n",
    "low_vote_average_director_score_variance = director_score_variance[low_vote_average_directors].dropna()\n",
    "\n",
    "print('Number of high vote average directors:', len(high_vote_average_directors))\n",
    "print('Number of low vote average directors:', len(low_vote_average_directors))\n",
    "\n",
    "t_stat, p_value = ttest_ind(high_vote_average_director_score_variance, low_vote_average_director_score_variance)\n",
    "print('t stat:', t_stat)\n",
    "print('p value:', p_value)\n",
    "\n",
    "if p_value < 0.05:\n",
    "    print('The score variance is significantly different between directors with high and low vote average')\n",
    "else:\n",
    "    print('The score variance is not significantly different between directors with high and low vote average')"
   ]
  },
  {
   "cell_type": "code",
   "execution_count": null,
   "metadata": {},
   "outputs": [],
   "source": []
  }
 ],
 "metadata": {
  "kernelspec": {
   "display_name": "pt",
   "language": "python",
   "name": "python3"
  },
  "language_info": {
   "codemirror_mode": {
    "name": "ipython",
    "version": 3
   },
   "file_extension": ".py",
   "mimetype": "text/x-python",
   "name": "python",
   "nbconvert_exporter": "python",
   "pygments_lexer": "ipython3",
   "version": "3.10.15"
  }
 },
 "nbformat": 4,
 "nbformat_minor": 2
}
