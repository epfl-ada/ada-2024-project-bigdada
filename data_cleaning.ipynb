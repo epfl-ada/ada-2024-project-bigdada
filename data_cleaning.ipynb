{
 "cells": [
  {
   "cell_type": "code",
   "execution_count": 1,
   "id": "dc94e739-5f63-433b-b8bc-74755eec0385",
   "metadata": {
    "ExecuteTime": {
     "end_time": "2024-11-12T15:11:50.212932Z",
     "start_time": "2024-11-12T15:11:48.255316Z"
    }
   },
   "outputs": [],
   "source": [
    "import pandas as pd\n",
    "import matplotlib.pyplot as plt\n",
    "\n",
    "# path\n",
    "DATA_FOLDER = 'Data/MovieSummaries/'\n",
    "CHARACTER_DATASET = DATA_FOLDER + 'character.metadata.tsv'\n",
    "MOVIE_DATASET = DATA_FOLDER + 'movie.metadata.tsv'\n",
    "\n",
    "# Dataset loading\n",
    "characters = pd.read_csv(CHARACTER_DATASET, sep='\\t', header=None)\n",
    "movies = pd.read_csv(MOVIE_DATASET, sep='\\t', header=None)\n",
    "\n",
    "# define the name for each columns\n",
    "characters.columns = ['Wikipedia movie ID', 'Freebase movie ID', 'Movie release date', 'Character name',\n",
    "                      'Actor date of birth', 'Actor gender', 'Actor height (in meters)', 'Actor ethnicity (Freebase ID)',\n",
    "                      'Actor name', 'Actor age at movie release', 'Freebase character/actor map ID', 'Freebase character ID',\n",
    "                      'Freebase actor ID']\n",
    "movies.columns = ['Wikipedia movie ID', 'Freebase movie ID', 'Movie name', 'Movie release date', 'Movie box office revenue',\n",
    "                  'Movie runtime', 'Movie languages (Freebase ID:name tuples)', 'Movie countries (Freebase ID:name tuples)',\n",
    "                  'Movie genres (Freebase ID:name tuples)']\n"
   ]
  },
  {
   "cell_type": "markdown",
   "source": [
    " ## Prepare the movie dataset"
   ],
   "metadata": {
    "collapsed": false
   },
   "id": "56d1efef98e9824e"
  },
  {
   "cell_type": "markdown",
   "source": [
    "### Removing movies with missing values"
   ],
   "metadata": {
    "collapsed": false
   },
   "id": "56da546bbffc3157"
  },
  {
   "cell_type": "code",
   "execution_count": 4,
   "id": "735e7bbc-4060-49d8-9fd6-e37f5e05c55e",
   "metadata": {
    "ExecuteTime": {
     "end_time": "2024-11-12T15:20:11.546030Z",
     "start_time": "2024-11-12T15:20:10.737742Z"
    }
   },
   "outputs": [
    {
     "name": "stdout",
     "output_type": "stream",
     "text": [
      "Wikipedia movie ID                           0\n",
      "Freebase movie ID                            0\n",
      "Movie name                                   0\n",
      "Movie release date                           0\n",
      "Movie box office revenue                     0\n",
      "Movie runtime                                0\n",
      "Movie languages (Freebase ID:name tuples)    0\n",
      "Movie countries (Freebase ID:name tuples)    0\n",
      "Movie genres (Freebase ID:name tuples)       0\n",
      "dtype: int64\n",
      "No missing values\n"
     ]
    }
   ],
   "source": [
    "# Verify the missing values \n",
    "print(movies.isna().sum())\n",
    "\n",
    "# Drop the films without release dat, box office revenue or runtime \n",
    "movies = movies.dropna(subset=['Movie release date', 'Movie box office revenue', 'Movie runtime'])\n",
    "\n",
    "if movies.isna().sum().sum() == 0:\n",
    "    print(\"No missing values\")\n",
    "else:\n",
    "    print(movies.isna().sum())\n"
   ]
  },
  {
   "cell_type": "markdown",
   "source": [
    "### Create a column 'Release year' which contains the release year of the movie"
   ],
   "metadata": {
    "collapsed": false
   },
   "id": "83870d1a4b192bc8"
  },
  {
   "cell_type": "code",
   "execution_count": 10,
   "id": "7ee6c414-74d3-4374-8df6-d61ffe2fec57",
   "metadata": {
    "ExecuteTime": {
     "end_time": "2024-11-12T15:22:10.948789Z",
     "start_time": "2024-11-12T15:22:10.889174Z"
    }
   },
   "outputs": [
    {
     "name": "stdout",
     "output_type": "stream",
     "text": [
      "                  Movie name Movie release date  Release year\n",
      "0             Ghosts of Mars         2001-08-24          2001\n",
      "7   Alexander's Ragtime Band         1938-08-16          1938\n",
      "13                   Henry V         1989-11-08          1989\n",
      "17              Mary Poppins         1964-08-27          1964\n",
      "21            New Rose Hotel         1999-10-01          1999\n"
     ]
    }
   ],
   "source": [
    "# Convert the release date column in datetime\n",
    "movies['Movie release date'] = pd.to_datetime(movies['Movie release date'], errors='coerce')\n",
    "\n",
    "# Extract the year and convert it in int\n",
    "movies['Release year'] = movies['Movie release date'].dt.year\n",
    "movies['Release year'] = movies['Release year'].astype(int)\n",
    "\n",
    "print(movies[['Movie name', 'Movie release date', 'Release year']].head())"
   ]
  },
  {
   "cell_type": "markdown",
   "source": [
    " ### Extract and store the movie genres in a column named 'Movie genres'"
   ],
   "metadata": {
    "collapsed": false
   },
   "id": "980c9aaa10c9dd90"
  },
  {
   "cell_type": "code",
   "execution_count": 34,
   "id": "c41f92b8-7958-475a-8147-50dd6f74441b",
   "metadata": {
    "ExecuteTime": {
     "end_time": "2024-11-12T15:50:09.706786Z",
     "start_time": "2024-11-12T15:50:09.572502Z"
    }
   },
   "outputs": [
    {
     "name": "stdout",
     "output_type": "stream",
     "text": [
      "                  Movie name  \\\n",
      "0             Ghosts of Mars   \n",
      "7   Alexander's Ragtime Band   \n",
      "13                   Henry V   \n",
      "17              Mary Poppins   \n",
      "21            New Rose Hotel   \n",
      "\n",
      "                                         Movie genres  \\\n",
      "0   Thriller, Science Fiction, Horror, Adventure, ...   \n",
      "7                    Musical, Comedy, Black-and-white   \n",
      "13  Costume drama, War film, Epic, Period piece, D...   \n",
      "17  Children/Family, Musical, Fantasy, Comedy, Dra...   \n",
      "21  Thriller, Science Fiction, Future noir, Indie,...   \n",
      "\n",
      "               Movie genres (Freebase ID:name tuples)  \n",
      "0   {\"/m/01jfsb\": \"Thriller\", \"/m/06n90\": \"Science...  \n",
      "7   {\"/m/04t36\": \"Musical\", \"/m/01z4y\": \"Comedy\", ...  \n",
      "13  {\"/m/04xvh5\": \"Costume drama\", \"/m/082gq\": \"Wa...  \n",
      "17  {\"/m/0hj3myq\": \"Children's/Family\", \"/m/04t36\"...  \n",
      "21  {\"/m/01jfsb\": \"Thriller\", \"/m/06n90\": \"Science...  \n",
      "Drama                                                                                      139\n",
      "Romantic comedy, Romance Film, Comedy                                                       97\n",
      "Comedy                                                                                      91\n",
      "Romance Film, Drama                                                                         33\n",
      "Drama, Comedy                                                                               32\n",
      "                                                                                          ... \n",
      "Japanese Movies, Superhero movie, Superhero, Animation, Action/Adventure, Anime, Action      1\n",
      "Drama, Romance Film, Coming of age, Indie, Film adaptation                                   1\n",
      "Romantic drama, Period piece, Drama, Romance Film, Chinese Movies                            1\n",
      "Thriller, Cult, Science Fiction, Action/Adventure, Action, Dystopia                          1\n",
      "Crime Fiction, Thriller, World cinema, Drama, Romantic drama, Romance Film                   1\n",
      "Name: Movie genres, Length: 6285, dtype: int64\n"
     ]
    }
   ],
   "source": [
    "import json\n",
    "\n",
    "# Function to extract genres from a JSON-formatted string\n",
    "def extract_genres(genre_data):\n",
    "    if isinstance(genre_data, str):\n",
    "        try:\n",
    "            # Replace specific occurrences of 'Children's' with 'Children'\n",
    "            genre_data = genre_data.replace(\"Children's\", \"Children\")\n",
    "\n",
    "            # Convert the genre data into a dictionary\n",
    "            genres_dict = json.loads(genre_data)\n",
    "            return \", \".join(genres_dict.values())  # Return the genres as a comma-separated string\n",
    "        except json.JSONDecodeError:\n",
    "            print(f\"Error decoding JSON: {genre_data}\")\n",
    "            return \"Unknown_1\"  # Return \"Unknown\" in case of a parsing error\n",
    "    else:\n",
    "        return \"Unknown_2\"  # If the data is not a string, return \"Unknown\"\n",
    "\n",
    "# Apply this function to the movie genres column\n",
    "movies['Movie genres'] = movies['Movie genres (Freebase ID:name tuples)'].apply(extract_genres)\n",
    "\n",
    "# Check the results\n",
    "print(movies[['Movie name', 'Movie genres', 'Movie genres (Freebase ID:name tuples)']].head(5))\n",
    "\n",
    "# Display the count of different genres\n",
    "print(movies['Movie genres'].value_counts())\n"
   ]
  },
  {
   "cell_type": "markdown",
   "source": [
    "### Store the language in a column named 'Movie languages'"
   ],
   "metadata": {
    "collapsed": false
   },
   "id": "93dd97021b1fdba"
  },
  {
   "cell_type": "code",
   "execution_count": 38,
   "id": "594f1554-0f90-4fe4-84d1-f65ea07dd498",
   "metadata": {
    "ExecuteTime": {
     "end_time": "2024-11-12T15:55:46.783454Z",
     "start_time": "2024-11-12T15:55:46.529701Z"
    }
   },
   "outputs": [
    {
     "name": "stdout",
     "output_type": "stream",
     "text": [
      "                  Movie name   Movie languages  \\\n",
      "0             Ghosts of Mars  English Language   \n",
      "7   Alexander's Ragtime Band  English Language   \n",
      "13                   Henry V  English Language   \n",
      "17              Mary Poppins  English Language   \n",
      "21            New Rose Hotel  English Language   \n",
      "\n",
      "   Movie languages (Freebase ID:name tuples)  \n",
      "0         {\"/m/02h40lc\": \"English Language\"}  \n",
      "7         {\"/m/02h40lc\": \"English Language\"}  \n",
      "13        {\"/m/02h40lc\": \"English Language\"}  \n",
      "17        {\"/m/02h40lc\": \"English Language\"}  \n",
      "21        {\"/m/02h40lc\": \"English Language\"}  \n",
      "English Language                                                                     5837\n",
      "                                                                                      243\n",
      "English Language, Spanish Language                                                    215\n",
      "Korean Language                                                                       207\n",
      "French Language, English Language                                                     170\n",
      "                                                                                     ... \n",
      "American Sign Language, English Language, Spanish Language                              1\n",
      "Welsh Language, English Language                                                        1\n",
      "Swedish Language, Spanish Language                                                      1\n",
      "Japanese Language, Finnish Language, English Language, German Language, Cantonese       1\n",
      "Xhosa Language, Afrikaans Language, Zulu Language, English Language                     1\n",
      "Name: Movie languages, Length: 583, dtype: int64\n"
     ]
    }
   ],
   "source": [
    "import json\n",
    "\n",
    "# Function to extract the language from a JSON-formatted string\n",
    "def extract_language(language_data):\n",
    "    if isinstance(language_data, str):\n",
    "        try:\n",
    "            # Convert the language data into a dictionary (assuming it's structured like genres)\n",
    "            languages_dict = json.loads(language_data)\n",
    "            # Assuming language is one of the values, you can modify this part depending on the actual structure\n",
    "            return \", \".join(languages_dict.values())  # Return the language(s) as a comma-separated string\n",
    "        except json.JSONDecodeError:\n",
    "            print(f\"Error decoding JSON: {language_data}\")\n",
    "            return \"Unknown_1\"  # Return \"Unknown\" in case of a parsing error\n",
    "    else:\n",
    "        return \"Unknown_2\"  # If the data is not a string, return \"Unknown\"\n",
    "\n",
    "# Apply this function to extract the language\n",
    "movies['Movie languages'] = movies['Movie languages (Freebase ID:name tuples)'].apply(extract_language)\n",
    "\n",
    "# Check the results\n",
    "print(movies[['Movie name', 'Movie languages', 'Movie languages (Freebase ID:name tuples)']].head(5))\n",
    "\n",
    "# Display the count of different languages\n",
    "print(movies['Movie languages'].value_counts())\n"
   ]
  },
  {
   "cell_type": "markdown",
   "source": [
    "### Store the movies countries in a column named 'Movie countries'"
   ],
   "metadata": {
    "collapsed": false
   },
   "id": "24e9c8fcb8e989bb"
  },
  {
   "cell_type": "code",
   "execution_count": 42,
   "id": "bb102400-cd43-4dc9-83bc-b7cb18d4a193",
   "metadata": {
    "ExecuteTime": {
     "end_time": "2024-11-12T15:58:06.653480Z",
     "start_time": "2024-11-12T15:58:06.474222Z"
    }
   },
   "outputs": [
    {
     "data": {
      "text/plain": "                  Movie name           Movie countries  \\\n0             Ghosts of Mars  United States of America   \n7   Alexander's Ragtime Band  United States of America   \n13                   Henry V            United Kingdom   \n17              Mary Poppins  United States of America   \n21            New Rose Hotel  United States of America   \n\n    Movie countries (Freebase ID:name tuples)  \n0   {\"/m/09c7w0\": \"United States of America\"}  \n7   {\"/m/09c7w0\": \"United States of America\"}  \n13             {\"/m/07ssc\": \"United Kingdom\"}  \n17  {\"/m/09c7w0\": \"United States of America\"}  \n21  {\"/m/09c7w0\": \"United States of America\"}  ",
      "text/html": "<div>\n<style scoped>\n    .dataframe tbody tr th:only-of-type {\n        vertical-align: middle;\n    }\n\n    .dataframe tbody tr th {\n        vertical-align: top;\n    }\n\n    .dataframe thead th {\n        text-align: right;\n    }\n</style>\n<table border=\"1\" class=\"dataframe\">\n  <thead>\n    <tr style=\"text-align: right;\">\n      <th></th>\n      <th>Movie name</th>\n      <th>Movie countries</th>\n      <th>Movie countries (Freebase ID:name tuples)</th>\n    </tr>\n  </thead>\n  <tbody>\n    <tr>\n      <th>0</th>\n      <td>Ghosts of Mars</td>\n      <td>United States of America</td>\n      <td>{\"/m/09c7w0\": \"United States of America\"}</td>\n    </tr>\n    <tr>\n      <th>7</th>\n      <td>Alexander's Ragtime Band</td>\n      <td>United States of America</td>\n      <td>{\"/m/09c7w0\": \"United States of America\"}</td>\n    </tr>\n    <tr>\n      <th>13</th>\n      <td>Henry V</td>\n      <td>United Kingdom</td>\n      <td>{\"/m/07ssc\": \"United Kingdom\"}</td>\n    </tr>\n    <tr>\n      <th>17</th>\n      <td>Mary Poppins</td>\n      <td>United States of America</td>\n      <td>{\"/m/09c7w0\": \"United States of America\"}</td>\n    </tr>\n    <tr>\n      <th>21</th>\n      <td>New Rose Hotel</td>\n      <td>United States of America</td>\n      <td>{\"/m/09c7w0\": \"United States of America\"}</td>\n    </tr>\n  </tbody>\n</table>\n</div>"
     },
     "execution_count": 42,
     "metadata": {},
     "output_type": "execute_result"
    }
   ],
   "source": [
    "import json\n",
    "\n",
    "# Function to extract the countries from a JSON-formatted string\n",
    "def extract_countries(country_data):\n",
    "    if isinstance(country_data, str):\n",
    "        try:\n",
    "            # Convert the country data into a dictionary (assuming it's structured like genres)\n",
    "            countries_dict = json.loads(country_data)\n",
    "            # Assuming countries are one of the values, you can modify this part depending on the actual structure\n",
    "            return \", \".join(countries_dict.values())  # Return the countries as a comma-separated string\n",
    "        except json.JSONDecodeError:\n",
    "            print(f\"Error decoding JSON: {country_data}\")\n",
    "            return \"Unknown_1\"  # Return \"Unknown\" in case of a parsing error\n",
    "    else:\n",
    "        return \"Unknown_2\"  # If the data is not a string, return \"Unknown\"\n",
    "\n",
    "# Apply this function to extract the countries\n",
    "movies['Movie countries'] = movies['Movie countries (Freebase ID:name tuples)'].apply(extract_countries)\n",
    "\n",
    "# Check the results\n",
    "movies[['Movie name', 'Movie countries', 'Movie countries (Freebase ID:name tuples)']].head(5)"
   ]
  },
  {
   "cell_type": "markdown",
   "source": [
    "## Prepare the character dataset "
   ],
   "metadata": {
    "collapsed": false
   },
   "id": "4714e644401d5297"
  },
  {
   "cell_type": "markdown",
   "source": [
    "### Remove character with missing values"
   ],
   "metadata": {
    "collapsed": false
   },
   "id": "43f117a740cabb7f"
  },
  {
   "cell_type": "code",
   "execution_count": 52,
   "outputs": [
    {
     "data": {
      "text/plain": "      Wikipedia movie ID Freebase movie ID Movie release date  \\\n0                 975900         /m/03vyhn         2001-08-24   \n1                 975900         /m/03vyhn         2001-08-24   \n2                 975900         /m/03vyhn         2001-08-24   \n3                 975900         /m/03vyhn         2001-08-24   \n4                 975900         /m/03vyhn         2001-08-24   \n...                  ...               ...                ...   \n1511            20393685        /m/04zz4c7         1924-03-24   \n1512            20393685        /m/04zz4c7         1924-03-24   \n1513            20393685        /m/04zz4c7         1924-03-24   \n1514            20393685        /m/04zz4c7         1924-03-24   \n1515            20393685        /m/04zz4c7         1924-03-24   \n\n                  Character name Actor date of birth Actor gender  \\\n0                       Akooshay          1958-08-26            F   \n1     Lieutenant Melanie Ballard          1974-08-15            F   \n2            Desolation Williams          1969-06-15            M   \n3             Sgt Jericho Butler          1967-09-12            M   \n4                Bashira Kincaid          1977-09-25            F   \n...                          ...                 ...          ...   \n1511                Mrs. Marlowe          1860-05-24            F   \n1512          Elizabeth Channing          1877-11-02            F   \n1513             William Marlowe             1864-10            M   \n1514                         Bob          1885-10-04            M   \n1515                Dr. McGovern          1865-06-05            M   \n\n      Actor height (in meters) Actor ethnicity (Freebase ID)  \\\n0                        1.620                           NaN   \n1                        1.780                    /m/044038p   \n2                        1.727                       /m/0x67   \n3                        1.750                           NaN   \n4                        1.650                           NaN   \n...                        ...                           ...   \n1511                       NaN                           NaN   \n1512                     1.630                           NaN   \n1513                       NaN                           NaN   \n1514                       NaN                           NaN   \n1515                       NaN                           NaN   \n\n                Actor name  Actor age at movie release  \\\n0           Wanda De Jesus                        42.0   \n1       Natasha Henstridge                        27.0   \n2                 Ice Cube                        32.0   \n3            Jason Statham                        33.0   \n4              Clea DuVall                        23.0   \n...                    ...                         ...   \n1511         Emily Fitzroy                         NaN   \n1512       Claire McDowell                         NaN   \n1513        George Nichols                         NaN   \n1514          Harvey Clark                         NaN   \n1515  Charles Stanton Ogle                         NaN   \n\n     Freebase character/actor map ID Freebase character ID Freebase actor ID  \n0                         /m/0bgchxw            /m/0bgcj3x        /m/03wcfv7  \n1                          /m/0jys3m            /m/0bgchn4         /m/0346l4  \n2                          /m/0jys3g            /m/0bgchn_        /m/01vw26l  \n3                         /m/02vchl6            /m/0bgchnq         /m/034hyc  \n4                         /m/02vbb3r            /m/0bgchp9         /m/01y9xg  \n...                              ...                   ...               ...  \n1511                      /m/0mv1qlp            /m/0mv3k25         /m/0gsl6f  \n1512                      /m/0mv1ql_            /m/0mv3k19        /m/03c1x11  \n1513                      /m/0mv1qkx            /m/0mv3k1z        /m/03c8tq3  \n1514                      /m/0mv1qlj            /m/0mv3j_0        /m/03cbl00  \n1515                      /m/0mv1qlv            /m/0mv3k2f         /m/07yhvx  \n\n[500 rows x 13 columns]",
      "text/html": "<div>\n<style scoped>\n    .dataframe tbody tr th:only-of-type {\n        vertical-align: middle;\n    }\n\n    .dataframe tbody tr th {\n        vertical-align: top;\n    }\n\n    .dataframe thead th {\n        text-align: right;\n    }\n</style>\n<table border=\"1\" class=\"dataframe\">\n  <thead>\n    <tr style=\"text-align: right;\">\n      <th></th>\n      <th>Wikipedia movie ID</th>\n      <th>Freebase movie ID</th>\n      <th>Movie release date</th>\n      <th>Character name</th>\n      <th>Actor date of birth</th>\n      <th>Actor gender</th>\n      <th>Actor height (in meters)</th>\n      <th>Actor ethnicity (Freebase ID)</th>\n      <th>Actor name</th>\n      <th>Actor age at movie release</th>\n      <th>Freebase character/actor map ID</th>\n      <th>Freebase character ID</th>\n      <th>Freebase actor ID</th>\n    </tr>\n  </thead>\n  <tbody>\n    <tr>\n      <th>0</th>\n      <td>975900</td>\n      <td>/m/03vyhn</td>\n      <td>2001-08-24</td>\n      <td>Akooshay</td>\n      <td>1958-08-26</td>\n      <td>F</td>\n      <td>1.620</td>\n      <td>NaN</td>\n      <td>Wanda De Jesus</td>\n      <td>42.0</td>\n      <td>/m/0bgchxw</td>\n      <td>/m/0bgcj3x</td>\n      <td>/m/03wcfv7</td>\n    </tr>\n    <tr>\n      <th>1</th>\n      <td>975900</td>\n      <td>/m/03vyhn</td>\n      <td>2001-08-24</td>\n      <td>Lieutenant Melanie Ballard</td>\n      <td>1974-08-15</td>\n      <td>F</td>\n      <td>1.780</td>\n      <td>/m/044038p</td>\n      <td>Natasha Henstridge</td>\n      <td>27.0</td>\n      <td>/m/0jys3m</td>\n      <td>/m/0bgchn4</td>\n      <td>/m/0346l4</td>\n    </tr>\n    <tr>\n      <th>2</th>\n      <td>975900</td>\n      <td>/m/03vyhn</td>\n      <td>2001-08-24</td>\n      <td>Desolation Williams</td>\n      <td>1969-06-15</td>\n      <td>M</td>\n      <td>1.727</td>\n      <td>/m/0x67</td>\n      <td>Ice Cube</td>\n      <td>32.0</td>\n      <td>/m/0jys3g</td>\n      <td>/m/0bgchn_</td>\n      <td>/m/01vw26l</td>\n    </tr>\n    <tr>\n      <th>3</th>\n      <td>975900</td>\n      <td>/m/03vyhn</td>\n      <td>2001-08-24</td>\n      <td>Sgt Jericho Butler</td>\n      <td>1967-09-12</td>\n      <td>M</td>\n      <td>1.750</td>\n      <td>NaN</td>\n      <td>Jason Statham</td>\n      <td>33.0</td>\n      <td>/m/02vchl6</td>\n      <td>/m/0bgchnq</td>\n      <td>/m/034hyc</td>\n    </tr>\n    <tr>\n      <th>4</th>\n      <td>975900</td>\n      <td>/m/03vyhn</td>\n      <td>2001-08-24</td>\n      <td>Bashira Kincaid</td>\n      <td>1977-09-25</td>\n      <td>F</td>\n      <td>1.650</td>\n      <td>NaN</td>\n      <td>Clea DuVall</td>\n      <td>23.0</td>\n      <td>/m/02vbb3r</td>\n      <td>/m/0bgchp9</td>\n      <td>/m/01y9xg</td>\n    </tr>\n    <tr>\n      <th>...</th>\n      <td>...</td>\n      <td>...</td>\n      <td>...</td>\n      <td>...</td>\n      <td>...</td>\n      <td>...</td>\n      <td>...</td>\n      <td>...</td>\n      <td>...</td>\n      <td>...</td>\n      <td>...</td>\n      <td>...</td>\n      <td>...</td>\n    </tr>\n    <tr>\n      <th>1511</th>\n      <td>20393685</td>\n      <td>/m/04zz4c7</td>\n      <td>1924-03-24</td>\n      <td>Mrs. Marlowe</td>\n      <td>1860-05-24</td>\n      <td>F</td>\n      <td>NaN</td>\n      <td>NaN</td>\n      <td>Emily Fitzroy</td>\n      <td>NaN</td>\n      <td>/m/0mv1qlp</td>\n      <td>/m/0mv3k25</td>\n      <td>/m/0gsl6f</td>\n    </tr>\n    <tr>\n      <th>1512</th>\n      <td>20393685</td>\n      <td>/m/04zz4c7</td>\n      <td>1924-03-24</td>\n      <td>Elizabeth Channing</td>\n      <td>1877-11-02</td>\n      <td>F</td>\n      <td>1.630</td>\n      <td>NaN</td>\n      <td>Claire McDowell</td>\n      <td>NaN</td>\n      <td>/m/0mv1ql_</td>\n      <td>/m/0mv3k19</td>\n      <td>/m/03c1x11</td>\n    </tr>\n    <tr>\n      <th>1513</th>\n      <td>20393685</td>\n      <td>/m/04zz4c7</td>\n      <td>1924-03-24</td>\n      <td>William Marlowe</td>\n      <td>1864-10</td>\n      <td>M</td>\n      <td>NaN</td>\n      <td>NaN</td>\n      <td>George Nichols</td>\n      <td>NaN</td>\n      <td>/m/0mv1qkx</td>\n      <td>/m/0mv3k1z</td>\n      <td>/m/03c8tq3</td>\n    </tr>\n    <tr>\n      <th>1514</th>\n      <td>20393685</td>\n      <td>/m/04zz4c7</td>\n      <td>1924-03-24</td>\n      <td>Bob</td>\n      <td>1885-10-04</td>\n      <td>M</td>\n      <td>NaN</td>\n      <td>NaN</td>\n      <td>Harvey Clark</td>\n      <td>NaN</td>\n      <td>/m/0mv1qlj</td>\n      <td>/m/0mv3j_0</td>\n      <td>/m/03cbl00</td>\n    </tr>\n    <tr>\n      <th>1515</th>\n      <td>20393685</td>\n      <td>/m/04zz4c7</td>\n      <td>1924-03-24</td>\n      <td>Dr. McGovern</td>\n      <td>1865-06-05</td>\n      <td>M</td>\n      <td>NaN</td>\n      <td>NaN</td>\n      <td>Charles Stanton Ogle</td>\n      <td>NaN</td>\n      <td>/m/0mv1qlv</td>\n      <td>/m/0mv3k2f</td>\n      <td>/m/07yhvx</td>\n    </tr>\n  </tbody>\n</table>\n<p>500 rows × 13 columns</p>\n</div>"
     },
     "execution_count": 52,
     "metadata": {},
     "output_type": "execute_result"
    }
   ],
   "source": [
    "characters.head(500)\n"
   ],
   "metadata": {
    "collapsed": false,
    "ExecuteTime": {
     "end_time": "2024-11-12T16:10:20.865897Z",
     "start_time": "2024-11-12T16:10:20.818183Z"
    }
   },
   "id": "b7504f8dbd9e20d9"
  },
  {
   "cell_type": "code",
   "execution_count": 51,
   "outputs": [
    {
     "name": "stdout",
     "output_type": "stream",
     "text": [
      "Wikipedia movie ID                     0\n",
      "Freebase movie ID                      0\n",
      "Movie release date                  1582\n",
      "Character name                         0\n",
      "Actor date of birth                    0\n",
      "Actor gender                         360\n",
      "Actor height (in meters)           64754\n",
      "Actor ethnicity (Freebase ID)      89668\n",
      "Actor name                             1\n",
      "Actor age at movie release         16309\n",
      "Freebase character/actor map ID        0\n",
      "Freebase character ID                  0\n",
      "Freebase actor ID                      0\n",
      "dtype: int64\n",
      "2008          979\n",
      "2009          974\n",
      "2006          965\n",
      "2007          823\n",
      "2005          805\n",
      "             ... \n",
      "1965-08-03      1\n",
      "1985-09-12      1\n",
      "1913-07-31      1\n",
      "1956-01-11      1\n",
      "1944-11-20      1\n",
      "Name: Movie release date, Length: 11718, dtype: int64\n"
     ]
    }
   ],
   "source": [
    "# Verify the missing values \n",
    "print(characters.isna().sum())\n",
    "\n",
    "# Drop the character without name, actor or date of birth \n",
    "#characters = characters.dropna(subset=['Character name', 'Actor date of birth', 'Actor name'])\n",
    "\n",
    "print(characters['Movie release date'].value_counts())"
   ],
   "metadata": {
    "collapsed": false,
    "ExecuteTime": {
     "end_time": "2024-11-12T16:09:55.162077Z",
     "start_time": "2024-11-12T16:09:54.957017Z"
    }
   },
   "id": "ba3d36c1e9e23584"
  },
  {
   "cell_type": "code",
   "execution_count": null,
   "outputs": [],
   "source": [
    "# Convert the release date column in datetime\n",
    "characters['Movie release date'] = pd.to_datetime(movies['Movie release date'], errors='coerce')\n",
    "\n",
    "# Extract the year and convert it in int\n",
    "characters['Release year'] = characters['Movie release date'].dt.year\n",
    "characters['Release year'] = characters['Release year'].astype(int)\n",
    "\n",
    "print(characters[[ 'Movie release date', 'Release year']].head())"
   ],
   "metadata": {
    "collapsed": false
   },
   "id": "afa6a14cdad56b1"
  },
  {
   "cell_type": "code",
   "execution_count": 24,
   "outputs": [
    {
     "data": {
      "text/plain": "<Figure size 1000x600 with 1 Axes>",
      "image/png": "[encoded data removed]"
     },
     "metadata": {},
     "output_type": "display_data"
    }
   ],
   "source": [
    "import matplotlib.pyplot as plt\n",
    "\n",
    "\n",
    "plt.figure(figsize=(10, 6))\n",
    "plt.hist(movies['Release year'], bins=50, color='skyblue', edgecolor='black')\n",
    "plt.title('Distribution of Movie Release Years')\n",
    "plt.xlabel('Year')\n",
    "plt.ylabel('Number of Movies')\n",
    "plt.show()"
   ],
   "metadata": {
    "collapsed": false,
    "ExecuteTime": {
     "end_time": "2024-11-07T10:32:44.852460Z",
     "start_time": "2024-11-07T10:32:44.585537Z"
    }
   },
   "id": "4a27dcc50bf18beb"
  },
  {
   "cell_type": "code",
   "execution_count": null,
   "outputs": [],
   "source": [],
   "metadata": {
    "collapsed": false
   },
   "id": "cce2232b4cdb8363"
  },
  {
   "cell_type": "markdown",
   "source": [
    "Remove the Nan"
   ],
   "metadata": {
    "collapsed": false
   },
   "id": "4b9f7a89a5cbccd8"
  },
  {
   "cell_type": "code",
   "execution_count": 3,
   "outputs": [],
   "source": [],
   "metadata": {
    "collapsed": false,
    "ExecuteTime": {
     "end_time": "2024-11-12T15:15:39.132476Z",
     "start_time": "2024-11-12T15:15:39.100560Z"
    }
   },
   "id": "6e3180d57b2250bd"
  },
  {
   "cell_type": "code",
   "execution_count": null,
   "outputs": [],
   "source": [],
   "metadata": {
    "collapsed": false
   },
   "id": "9397c92c0239449f"
  }
 ],
 "metadata": {
  "kernelspec": {
   "display_name": "Python 3 (ipykernel)",
   "language": "python",
   "name": "python3"
  },
  "language_info": {
   "codemirror_mode": {
    "name": "ipython",
    "version": 3
   },
   "file_extension": ".py",
   "mimetype": "text/x-python",
   "name": "python",
   "nbconvert_exporter": "python",
   "pygments_lexer": "ipython3",
   "version": "3.11.9"
  }
 },
 "nbformat": 4,
 "nbformat_minor": 5
}
