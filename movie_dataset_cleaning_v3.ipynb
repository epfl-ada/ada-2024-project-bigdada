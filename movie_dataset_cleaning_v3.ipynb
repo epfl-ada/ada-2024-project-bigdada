{
 "cells": [
  {
   "cell_type": "code",
   "execution_count": 1,
   "metadata": {
    "ExecuteTime": {
     "end_time": "2024-11-15T12:32:40.117916Z",
     "start_time": "2024-11-15T12:32:39.724701Z"
    }
   },
   "outputs": [
    {
     "name": "stdout",
     "output_type": "stream",
     "text": [
      "TSV File created with sucess : filtered_plot_summaries.tsv\n"
     ]
    }
   ],
   "source": [
    "import pandas as pd\n",
    "\n",
    "file_path = 'Data/MovieSummaries/plot_summaries.txt'\n",
    "output_file_path = 'filtered_plot_summaries.tsv'\n",
    "data = []\n",
    "\n",
    "with open(file_path, 'r', encoding='utf-8') as file:\n",
    "    for line in file:\n",
    "        try:\n",
    "            movie_id, summary = line.split('\\t', 1)  \n",
    "            summary = summary.strip()  \n",
    "            \n",
    "            if len(summary) >= 1000:\n",
    "                last_400_characters = summary[-400:].strip()\n",
    "                data.append({'Movie_ID': movie_id, 'Summary': last_400_characters})\n",
    "                \n",
    "        except ValueError:\n",
    "            print(f\"Ligne ignorée (mauvais format) : {line}\")\n",
    "\n",
    "df = pd.DataFrame(data)\n",
    "df.to_csv(output_file_path, sep='\\t', index=False)\n",
    "\n",
    "print(f\"TSV File created with sucess : {output_file_path}\")"
   ]
  },
  {
   "cell_type": "code",
   "execution_count": 2,
   "metadata": {
    "ExecuteTime": {
     "end_time": "2024-11-15T12:32:50.580593Z",
     "start_time": "2024-11-15T12:32:41.528220Z"
    }
   },
   "outputs": [],
   "source": [
    "import pandas as pd\n",
    "from textblob import TextBlob\n",
    "\n",
    "metadata_path = 'Data/MovieSummaries/movie.metadata.tsv'\n",
    "movie_data = pd.read_csv(metadata_path, sep='\\t', header=None, dtype={0: str})  # Charger l'ID comme chaîne\n",
    "movie_data.columns = ['Movie_ID', 'Other_Column', 'Title', 'Release_Date', 'Revenue', 'Runtime', 'Languages', 'Country', 'Genres']\n",
    "summaries_path = 'filtered_plot_summaries.tsv'\n",
    "summaries_data = pd.read_csv(summaries_path, sep='\\t', dtype={'Movie_ID': str})\n",
    "\n",
    "def analyze_sentiment(summary):\n",
    "    analysis = TextBlob(summary)\n",
    "    polarity = analysis.sentiment.polarity\n",
    "    return polarity\n",
    "\n",
    "merged_data = pd.merge(movie_data, summaries_data, on='Movie_ID', how='inner')\n",
    "\n",
    "\n",
    "merged_data['Score'] = merged_data['Summary'].apply(analyze_sentiment)\n",
    "\n",
    "output_file_path = 'movies_dataset_final.tsv'\n",
    "merged_data.to_csv(output_file_path, sep='\\t', index=False)\n"
   ]
  },
  {
   "cell_type": "code",
   "execution_count": 4,
   "metadata": {
    "ExecuteTime": {
     "end_time": "2024-11-15T12:56:50.742567Z",
     "start_time": "2024-11-15T12:44:52.202246Z"
    }
   },
   "outputs": [
    {
     "name": "stderr",
     "output_type": "stream",
     "text": [
      "Fetching TMDB IDs: 100%|██████████| 22129/22129 [11:57<00:00, 30.85it/s] \n"
     ]
    }
   ],
   "source": [
    "import requests\n",
    "from tqdm import tqdm\n",
    "import os\n",
    "import pickle\n",
    "from concurrent.futures import ThreadPoolExecutor, as_completed\n",
    "import pandas as pd\n",
    "\n",
    "# API Key and Base URL setup\n",
    "API_KEY = '9923aaa2a3b2777bfdeba7f76c97d212'\n",
    "BASE_SEARCH_URL = 'https://api.themoviedb.org/3/search/movie'\n",
    "BASE_MOVIE_URL = 'https://api.themoviedb.org/3/movie'\n",
    "\n",
    "# Load the existing movie dataset\n",
    "file_path = 'movies_dataset_final.tsv'\n",
    "movies_df = pd.read_csv(file_path, sep='\\t')\n",
    "\n",
    "# Define function to fetch movie data from TMDB API\n",
    "def get_movie_data_from_tmdb(wikipedia_id, title):\n",
    "    params = {\n",
    "        'api_key': API_KEY,\n",
    "        'query': title,\n",
    "        'language': 'en-US'\n",
    "    }\n",
    "    response = requests.get(BASE_SEARCH_URL, params=params)\n",
    "    if response.status_code == 200:\n",
    "        data = response.json()\n",
    "        if data['results']:\n",
    "            movie_data = data['results'][0]\n",
    "            overview = movie_data.get('overview', '')\n",
    "            tmdb_id = movie_data.get('id', None)\n",
    "            return wikipedia_id, {\"overview\": overview, \"tmdb_id\": tmdb_id}\n",
    "    return wikipedia_id, {}\n",
    "\n",
    "# Define functions to get specific movie details and credits\n",
    "def get_movie_details(wikipedia_id, tmdb_id):\n",
    "    response = requests.get(f\"{BASE_MOVIE_URL}/{tmdb_id}\", params={'api_key': API_KEY, 'language': 'en-US'})\n",
    "    return (wikipedia_id, \"details\", response.json()) if response.status_code == 200 else (wikipedia_id, \"details\", {})\n",
    "\n",
    "def get_movie_credits(wikipedia_id, tmdb_id):\n",
    "    response = requests.get(f\"{BASE_MOVIE_URL}/{tmdb_id}/credits\", params={'api_key': API_KEY})\n",
    "    return (wikipedia_id, \"credits\", response.json()) if response.status_code == 200 else (wikipedia_id, \"credits\", {})\n",
    "\n",
    "# Load existing TMDB data if available\n",
    "DATA_FOLDER = '.'\n",
    "if os.path.exists(f'{DATA_FOLDER}/movie_data_from_tmdb.pkl'):\n",
    "    with open(f'{DATA_FOLDER}/movie_data_from_tmdb.pkl', 'rb') as file:\n",
    "        movie_data_from_tmdb = pickle.load(file)\n",
    "else:\n",
    "    movie_data_from_tmdb = {}\n",
    "\n",
    "# Fetch missing TMDB data\n",
    "movies_to_process = [\n",
    "    (wiki_id, title) for wiki_id, title in zip(movies_df['Other_Column'], movies_df['Title'])\n",
    "    if wiki_id not in movie_data_from_tmdb\n",
    "]\n",
    "with ThreadPoolExecutor(max_workers=10) as executor:\n",
    "    futures = {executor.submit(get_movie_data_from_tmdb, movie_id, title): movie_id for movie_id, title in movies_to_process}\n",
    "    for future in tqdm(as_completed(futures), total=len(futures), desc=\"Fetching TMDB IDs\"):\n",
    "        wikipedia_id, movie_info = future.result()\n",
    "        if movie_info:\n",
    "            movie_data_from_tmdb[wikipedia_id] = movie_info\n"
   ]
  },
  {
   "cell_type": "code",
   "execution_count": 9,
   "metadata": {
    "ExecuteTime": {
     "end_time": "2024-11-15T13:42:05.402710Z",
     "start_time": "2024-11-15T13:20:31.825522Z"
    }
   },
   "outputs": [
    {
     "name": "stderr",
     "output_type": "stream",
     "text": [
      "Fetching Details and Credits: 100%|██████████| 22950/22950 [21:19<00:00, 17.94it/s] \n"
     ]
    },
    {
     "name": "stdout",
     "output_type": "stream",
     "text": [
      "Updated dataset saved back to 'movies_dataset_final.tsv' with new columns: director, vote_average, and revenue\n"
     ]
    }
   ],
   "source": [
    "# Save basic data to avoid re-fetching\n",
    "with open(f'{DATA_FOLDER}/movie_data_from_tmdb_only_id.pkl', 'wb') as file:\n",
    "    pickle.dump(movie_data_from_tmdb, file)\n",
    "\n",
    "# Fetch additional details and credits\n",
    "movies_to_process = [(wiki_id, info['tmdb_id']) for wiki_id, info in movie_data_from_tmdb.items() if info.get('tmdb_id') and 'details' not in info]\n",
    "with ThreadPoolExecutor(max_workers=10) as executor:\n",
    "    futures = []\n",
    "    for wiki_id, tmdb_id in movies_to_process:\n",
    "        futures.append(executor.submit(get_movie_details, wiki_id, tmdb_id))\n",
    "        futures.append(executor.submit(get_movie_credits, wiki_id, tmdb_id))\n",
    "    \n",
    "    for future in tqdm(as_completed(futures), total=len(futures), desc=\"Fetching Details and Credits\"):\n",
    "        wikipedia_id, data_type, data = future.result()\n",
    "        if wikipedia_id in movie_data_from_tmdb:\n",
    "            movie_data_from_tmdb[wikipedia_id][data_type] = data\n",
    "\n",
    "# Save the enriched TMDB data\n",
    "with open(f'{DATA_FOLDER}/movie_data_from_tmdb.pkl', 'wb') as file:\n",
    "    pickle.dump(movie_data_from_tmdb, file)\n",
    "\n",
    "# Define helper functions for new data fields\n",
    "def find_director(movie_data):\n",
    "    crew = movie_data.get('credits', {}).get('crew', [])\n",
    "    for person in crew:\n",
    "        if person.get('job') == 'Director':\n",
    "            return person.get('name', pd.NA)\n",
    "    return pd.NA\n",
    "\n",
    "\n",
    "def find_vote_average(movie_data):\n",
    "    return movie_data.get('details', {}).get('vote_average', pd.NA)\n",
    "\n",
    "def find_revenue(movie_data):\n",
    "    return movie_data.get('details', {}).get('revenue', pd.NA)\n",
    "\n",
    "def find_collection(movie_data):\n",
    "    try:\n",
    "        return movie_data.get('details', {}).get('belongs_to_collection', {}).get('id', pd.NA)\n",
    "    except Exception:\n",
    "        return pd.NA\n",
    "    \n",
    "def find_budget(movie_data):\n",
    "    return movie_data.get('details', {}).get('budget', pd.NA)\n",
    "\n",
    "def find_productions(movie_data):\n",
    "    return movie_data.get('details', {}).get('production_companies', pd.NA)\n",
    "\n",
    "# Map new data to the movies_df dataset\n",
    "movies_df['director'] = movies_df['Other_Column'].map(lambda x: find_director(movie_data_from_tmdb.get(x, {})))\n",
    "movies_df['vote_average'] = movies_df['Other_Column'].map(lambda x: find_vote_average(movie_data_from_tmdb.get(x, {})))\n",
    "movies_df['revenue'] = movies_df['Other_Column'].map(lambda x: find_revenue(movie_data_from_tmdb.get(x, {})))\n",
    "movies_df = movies_df.drop(columns=['Revenue', 'Movie_ID_y'], errors='ignore')\n",
    "movies_df['collection'] = movies_df['Other_Column'].map(lambda x: find_collection(movie_data_from_tmdb.get(x, {})))\n",
    "movies_df['budget'] = movies_df['Other_Column'].map(lambda x: find_budget(movie_data_from_tmdb.get(x, {})))\n",
    "movies_df['productions'] = movies_df['Other_Column'].map(lambda x: find_productions(movie_data_from_tmdb.get(x, {})))\n",
    "\n",
    "# Save the updated dataset back to the original file\n",
    "movies_df.to_csv(file_path, sep='\\t', index=False)\n",
    "print(f\"Updated dataset saved back to '{file_path}' with new columns: director, vote_average, and revenue\")\n",
    "\n"
   ]
  },
  {
   "cell_type": "code",
   "execution_count": 10,
   "outputs": [
    {
     "data": {
      "text/plain": "   Movie_ID Other_Column                    Title Release_Date  Runtime  \\\n0    975900    /m/03vyhn           Ghosts of Mars   2001-08-24     98.0   \n1   9363483   /m/0285_cd         White Of The Eye         1987    110.0   \n2    261236    /m/01mrr1        A Woman in Flames         1983    106.0   \n3   6631279    /m/0gffwj              Little city   1997-04-04     93.0   \n4  11250635   /m/02r52hc  The Mechanical Monsters          NaN      NaN   \n\n                            Languages  \\\n0  {\"/m/02h40lc\": \"English Language\"}   \n1  {\"/m/02h40lc\": \"English Language\"}   \n2   {\"/m/04306rv\": \"German Language\"}   \n3  {\"/m/02h40lc\": \"English Language\"}   \n4  {\"/m/02h40lc\": \"English Language\"}   \n\n                                     Country  \\\n0  {\"/m/09c7w0\": \"United States of America\"}   \n1             {\"/m/07ssc\": \"United Kingdom\"}   \n2                    {\"/m/0345h\": \"Germany\"}   \n3  {\"/m/09c7w0\": \"United States of America\"}   \n4  {\"/m/09c7w0\": \"United States of America\"}   \n\n                                              Genres  \\\n0  {\"/m/01jfsb\": \"Thriller\", \"/m/06n90\": \"Science...   \n1  {\"/m/01jfsb\": \"Thriller\", \"/m/0glj9q\": \"Erotic...   \n2                            {\"/m/07s9rl0\": \"Drama\"}   \n3  {\"/m/06cvj\": \"Romantic comedy\", \"/m/0hj3n0w\": ...   \n4  {\"/m/06n90\": \"Science Fiction\", \"/m/03k9fj\": \"...   \n\n                                             Summary     Score  \\\n0  cre on him, he handcuffs Ballard to her cot an...  0.000000   \n1  sive vest. Mike opens fire on him with a machi... -0.120000   \n2  k out on him, and he gets angry, throws her ag...  0.060000   \n3  a soon tires of Anne and breaks off their affa...  0.144444   \n4  e scientist and flies from the lair to take hi...  0.340000   \n\n             director vote_average   revenue collection    budget  \\\n0      John Carpenter          5.1  14010832       <NA>  28000000   \n1      Donald Cammell          5.8         0       <NA>         0   \n2  Robert van Ackeren          5.4         0       <NA>         0   \n3         Hervé Palud        5.972         0       <NA>         0   \n4      Dave Fleischer          7.0         0       <NA>         0   \n\n                                         productions  \n0  [{'id': 51312, 'logo_path': None, 'name': 'Ani...  \n1  [{'id': 26932, 'logo_path': None, 'name': 'Mrs...  \n2  [{'id': 1766, 'logo_path': None, 'name': 'Diet...  \n3  [{'id': 311, 'logo_path': '/TNGvZ8zOklntjPP3Ec...  \n4  [{'id': 8302, 'logo_path': None, 'name': 'Flei...  ",
      "text/html": "<div>\n<style scoped>\n    .dataframe tbody tr th:only-of-type {\n        vertical-align: middle;\n    }\n\n    .dataframe tbody tr th {\n        vertical-align: top;\n    }\n\n    .dataframe thead th {\n        text-align: right;\n    }\n</style>\n<table border=\"1\" class=\"dataframe\">\n  <thead>\n    <tr style=\"text-align: right;\">\n      <th></th>\n      <th>Movie_ID</th>\n      <th>Other_Column</th>\n      <th>Title</th>\n      <th>Release_Date</th>\n      <th>Runtime</th>\n      <th>Languages</th>\n      <th>Country</th>\n      <th>Genres</th>\n      <th>Summary</th>\n      <th>Score</th>\n      <th>director</th>\n      <th>vote_average</th>\n      <th>revenue</th>\n      <th>collection</th>\n      <th>budget</th>\n      <th>productions</th>\n    </tr>\n  </thead>\n  <tbody>\n    <tr>\n      <th>0</th>\n      <td>975900</td>\n      <td>/m/03vyhn</td>\n      <td>Ghosts of Mars</td>\n      <td>2001-08-24</td>\n      <td>98.0</td>\n      <td>{\"/m/02h40lc\": \"English Language\"}</td>\n      <td>{\"/m/09c7w0\": \"United States of America\"}</td>\n      <td>{\"/m/01jfsb\": \"Thriller\", \"/m/06n90\": \"Science...</td>\n      <td>cre on him, he handcuffs Ballard to her cot an...</td>\n      <td>0.000000</td>\n      <td>John Carpenter</td>\n      <td>5.1</td>\n      <td>14010832</td>\n      <td>&lt;NA&gt;</td>\n      <td>28000000</td>\n      <td>[{'id': 51312, 'logo_path': None, 'name': 'Ani...</td>\n    </tr>\n    <tr>\n      <th>1</th>\n      <td>9363483</td>\n      <td>/m/0285_cd</td>\n      <td>White Of The Eye</td>\n      <td>1987</td>\n      <td>110.0</td>\n      <td>{\"/m/02h40lc\": \"English Language\"}</td>\n      <td>{\"/m/07ssc\": \"United Kingdom\"}</td>\n      <td>{\"/m/01jfsb\": \"Thriller\", \"/m/0glj9q\": \"Erotic...</td>\n      <td>sive vest. Mike opens fire on him with a machi...</td>\n      <td>-0.120000</td>\n      <td>Donald Cammell</td>\n      <td>5.8</td>\n      <td>0</td>\n      <td>&lt;NA&gt;</td>\n      <td>0</td>\n      <td>[{'id': 26932, 'logo_path': None, 'name': 'Mrs...</td>\n    </tr>\n    <tr>\n      <th>2</th>\n      <td>261236</td>\n      <td>/m/01mrr1</td>\n      <td>A Woman in Flames</td>\n      <td>1983</td>\n      <td>106.0</td>\n      <td>{\"/m/04306rv\": \"German Language\"}</td>\n      <td>{\"/m/0345h\": \"Germany\"}</td>\n      <td>{\"/m/07s9rl0\": \"Drama\"}</td>\n      <td>k out on him, and he gets angry, throws her ag...</td>\n      <td>0.060000</td>\n      <td>Robert van Ackeren</td>\n      <td>5.4</td>\n      <td>0</td>\n      <td>&lt;NA&gt;</td>\n      <td>0</td>\n      <td>[{'id': 1766, 'logo_path': None, 'name': 'Diet...</td>\n    </tr>\n    <tr>\n      <th>3</th>\n      <td>6631279</td>\n      <td>/m/0gffwj</td>\n      <td>Little city</td>\n      <td>1997-04-04</td>\n      <td>93.0</td>\n      <td>{\"/m/02h40lc\": \"English Language\"}</td>\n      <td>{\"/m/09c7w0\": \"United States of America\"}</td>\n      <td>{\"/m/06cvj\": \"Romantic comedy\", \"/m/0hj3n0w\": ...</td>\n      <td>a soon tires of Anne and breaks off their affa...</td>\n      <td>0.144444</td>\n      <td>Hervé Palud</td>\n      <td>5.972</td>\n      <td>0</td>\n      <td>&lt;NA&gt;</td>\n      <td>0</td>\n      <td>[{'id': 311, 'logo_path': '/TNGvZ8zOklntjPP3Ec...</td>\n    </tr>\n    <tr>\n      <th>4</th>\n      <td>11250635</td>\n      <td>/m/02r52hc</td>\n      <td>The Mechanical Monsters</td>\n      <td>NaN</td>\n      <td>NaN</td>\n      <td>{\"/m/02h40lc\": \"English Language\"}</td>\n      <td>{\"/m/09c7w0\": \"United States of America\"}</td>\n      <td>{\"/m/06n90\": \"Science Fiction\", \"/m/03k9fj\": \"...</td>\n      <td>e scientist and flies from the lair to take hi...</td>\n      <td>0.340000</td>\n      <td>Dave Fleischer</td>\n      <td>7.0</td>\n      <td>0</td>\n      <td>&lt;NA&gt;</td>\n      <td>0</td>\n      <td>[{'id': 8302, 'logo_path': None, 'name': 'Flei...</td>\n    </tr>\n  </tbody>\n</table>\n</div>"
     },
     "execution_count": 10,
     "metadata": {},
     "output_type": "execute_result"
    }
   ],
   "source": [
    "movies_df.head()\n"
   ],
   "metadata": {
    "collapsed": false,
    "ExecuteTime": {
     "end_time": "2024-11-15T13:42:23.982123Z",
     "start_time": "2024-11-15T13:42:23.811503Z"
    }
   }
  },
  {
   "cell_type": "code",
   "execution_count": 13,
   "outputs": [],
   "source": [
    "def get_run_time(wikipedia_id):\n",
    "    if wikipedia_id not in movie_data_from_tmdb:\n",
    "        return pd.NA\n",
    "    data = movie_data_from_tmdb[wikipedia_id]\n",
    "    if 'details' not in data:\n",
    "        return pd.NA\n",
    "    data = data['details']\n",
    "    if 'runtime' not in data:\n",
    "        return pd.NA\n",
    "    return data['runtime']\n",
    "\n",
    "# Apply the function to fill the missing values \n",
    "movies_df['Runtime'] = movies_df.apply(\n",
    "    lambda row: row['Runtime'] if pd.notnull(row['Runtime']) else get_run_time(row['Movie_ID']),\n",
    "    axis=1\n",
    ")"
   ],
   "metadata": {
    "collapsed": false,
    "ExecuteTime": {
     "end_time": "2024-11-15T13:45:31.614376Z",
     "start_time": "2024-11-15T13:45:30.781737Z"
    }
   }
  },
  {
   "cell_type": "code",
   "execution_count": 14,
   "metadata": {
    "ExecuteTime": {
     "end_time": "2024-11-15T13:46:22.250626Z",
     "start_time": "2024-11-15T13:46:20.805840Z"
    }
   },
   "outputs": [
    {
     "name": "stdout",
     "output_type": "stream",
     "text": [
      "Dataset updated with cleaned 'Country' column and saved as 'movies_dataset_final.tsv'\n"
     ]
    }
   ],
   "source": [
    "import pandas as pd\n",
    "\n",
    "# Load the dataset\n",
    "movies_df = pd.read_csv('movies_dataset_final.tsv', sep='\\t')\n",
    "\n",
    "# Helper function to clean up and extract country names\n",
    "def extract_countries(country_data):\n",
    "    if pd.isna(country_data) or '{' not in country_data:\n",
    "        return None\n",
    "    countries = []\n",
    "    items = country_data.split(\", \")\n",
    "    for item in items:\n",
    "        if ':' in item:\n",
    "            # Clean up each country name\n",
    "            country_name = item.split(\":\")[-1].strip().replace(\"\\\"\", \"\").replace(\"}\", \"\").replace(\"{\", \"\")\n",
    "            countries.append(country_name)\n",
    "    # Join all countries with a comma and space\n",
    "    return \", \".join(countries) if countries else None\n",
    "\n",
    "# Apply the function to clean and reformat the 'Country' column\n",
    "movies_df['Country'] = movies_df['Country'].apply(extract_countries)\n",
    "\n",
    "# Drop rows with missing or invalid country data in 'Country'\n",
    "movies_df = movies_df.dropna(subset=['Country']).copy()\n",
    "\n",
    "# Save the updated dataset with the cleaned 'Country' column back to the original file\n",
    "movies_df.to_csv('movies_dataset_final.tsv', sep='\\t', index=False)\n",
    "print(\"Dataset updated with cleaned 'Country' column and saved as 'movies_dataset_final.tsv'\")\n"
   ]
  },
  {
   "cell_type": "code",
   "execution_count": 15,
   "metadata": {
    "ExecuteTime": {
     "end_time": "2024-11-15T13:46:25.878313Z",
     "start_time": "2024-11-15T13:46:24.816394Z"
    }
   },
   "outputs": [
    {
     "name": "stdout",
     "output_type": "stream",
     "text": [
      "Dataset updated with cleaned 'Languages' column and saved as 'movies_dataset_finals.tsv'\n"
     ]
    }
   ],
   "source": [
    "import pandas as pd\n",
    "\n",
    "# Load the dataset\n",
    "movies_df = pd.read_csv('movies_dataset_final.tsv', sep='\\t')\n",
    "\n",
    "# Helper function to clean up and extract language names\n",
    "def extract_languages(language_data):\n",
    "    if pd.isna(language_data) or '{' not in language_data:\n",
    "        return None\n",
    "    languages = []\n",
    "    items = language_data.split(\", \")\n",
    "    for item in items:\n",
    "        if ':' in item:\n",
    "            # Clean each language name and remove \"Language\"/\"language\"\n",
    "            language_name = item.split(\":\")[-1].strip().replace(\"\\\"\", \"\").replace(\"}\", \"\").replace(\"Language\", \"\").replace(\"language\", \"\").strip()\n",
    "            if len(language_name) <= 40:  # Filter out languages longer than 40 characters\n",
    "                languages.append(language_name)\n",
    "    # Join all languages with a comma and space\n",
    "    return \", \".join(languages) if languages else None\n",
    "\n",
    "# Apply the function to clean and reformat the 'Languages' column\n",
    "movies_df['Languages'] = movies_df['Languages'].apply(extract_languages)\n",
    "\n",
    "# Drop rows with missing or invalid language data in 'Languages'\n",
    "movies_df = movies_df.dropna(subset=['Languages']).copy()\n",
    "\n",
    "# Save the updated dataset with the cleaned 'Languages' column back to the original file\n",
    "movies_df.to_csv('movies_dataset_final.tsv', sep='\\t', index=False)\n",
    "print(\"Dataset updated with cleaned 'Languages' column and saved as 'movies_dataset_finals.tsv'\")\n"
   ]
  },
  {
   "cell_type": "code",
   "execution_count": 43,
   "metadata": {},
   "outputs": [
    {
     "name": "stdout",
     "output_type": "stream",
     "text": [
      "Dataset updated with cleaned 'Genres' column and saved as 'movies_dataset_final.tsv'\n"
     ]
    }
   ],
   "source": [
    "import pandas as pd\n",
    "\n",
    "\n",
    "# Load the dataset\n",
    "movies_df = pd.read_csv('movies_dataset_final.tsv', sep='\\t')\n",
    "\n",
    "# Helper function to clean up and extract genre names\n",
    "def extract_genres(genre_data):\n",
    "    if pd.isna(genre_data) or '{' not in genre_data:\n",
    "        return None\n",
    "    genres = []\n",
    "    items = genre_data.split(\", \")\n",
    "    for item in items:\n",
    "        if ':' in item:\n",
    "            # Clean the genre name and remove unwanted words\n",
    "            genre_name = item.split(\":\")[-1].strip().replace('\"', '').replace('}', '')\n",
    "            # Remove words like \"Movie\", \"Movies\", \"Film\", etc.\n",
    "            genre_name = re.sub(r'\\b(Movie|Movies|Film|Films|movie|movies|film|films)\\b', '', genre_name).strip()\n",
    "            genres.append(genre_name)\n",
    "    # Join all genres with a comma and space\n",
    "    return \", \".join(genres) if genres else None\n",
    "\n",
    "# Apply the function to clean and reformat the 'Genres' column\n",
    "movies_df['Genres'] = movies_df['Genres'].apply(extract_genres)\n",
    "\n",
    "# Drop rows with missing or invalid genre data in 'Genres'\n",
    "movies_df = movies_df.dropna(subset=['Genres']).copy()\n",
    "\n",
    "# Save the updated dataset with the cleaned 'Genres' column back to the original file\n",
    "movies_df.to_csv('movies_dataset_final.tsv', sep='\\t', index=False)\n",
    "print(\"Dataset updated with cleaned 'Genres' column and saved as 'movies_dataset_final.tsv'\")\n"
   ]
  },
  {
   "cell_type": "code",
   "execution_count": 16,
   "metadata": {
    "ExecuteTime": {
     "end_time": "2024-11-15T13:46:40.358096Z",
     "start_time": "2024-11-15T13:46:39.361978Z"
    }
   },
   "outputs": [
    {
     "name": "stdout",
     "output_type": "stream",
     "text": [
      "Dataset updated with cleaned 'Release_Date' years in 'movies_dataset_final.tsv'\n"
     ]
    }
   ],
   "source": [
    "import pandas as pd\n",
    "import re\n",
    "\n",
    "# Load the dataset\n",
    "movies_df = pd.read_csv('movies_dataset_final.tsv', sep='\\t')\n",
    "\n",
    "# Define a function to extract the 4-digit year from various date formats\n",
    "def extract_year(date_str):\n",
    "    # Ensure the date is a string\n",
    "    date_str = str(date_str)\n",
    "    \n",
    "    # Use regex to find a 4-digit year pattern\n",
    "    match = re.search(r'\\b(\\d{4})\\b', date_str)\n",
    "    \n",
    "    if match:\n",
    "        return match.group(1)  # Return the matched 4-digit year as a string\n",
    "    else:\n",
    "        return None  # Return None if no 4-digit year is found\n",
    "\n",
    "# Apply the function to the 'Release_Date' column to extract only the year\n",
    "movies_df['Release_Date'] = movies_df['Release_Date'].apply(extract_year)\n",
    "\n",
    "# Drop rows with no valid year\n",
    "movies_df = movies_df.dropna(subset=['Release_Date'])\n",
    "\n",
    "# Convert 'Release_Date' to an integer type for further analysis\n",
    "movies_df['Release_Date'] = movies_df['Release_Date'].astype(int)\n",
    "\n",
    "# Save the cleaned dataset back to the original file\n",
    "movies_df.to_csv('movies_dataset_final_2.tsv', sep='\\t', index=False)\n",
    "print(\"Dataset updated with cleaned 'Release_Date' years in 'movies_dataset_final.tsv'\")\n"
   ]
  },
  {
   "cell_type": "code",
   "execution_count": null,
   "metadata": {},
   "outputs": [],
   "source": []
  },
  {
   "cell_type": "code",
   "execution_count": null,
   "metadata": {},
   "outputs": [],
   "source": []
  },
  {
   "cell_type": "code",
   "execution_count": null,
   "metadata": {},
   "outputs": [],
   "source": []
  }
 ],
 "metadata": {
  "kernelspec": {
   "display_name": "new_env",
   "language": "python",
   "name": "python3"
  },
  "language_info": {
   "codemirror_mode": {
    "name": "ipython",
    "version": 3
   },
   "file_extension": ".py",
   "mimetype": "text/x-python",
   "name": "python",
   "nbconvert_exporter": "python",
   "pygments_lexer": "ipython3",
   "version": "3.11.10"
  }
 },
 "nbformat": 4,
 "nbformat_minor": 2
}
