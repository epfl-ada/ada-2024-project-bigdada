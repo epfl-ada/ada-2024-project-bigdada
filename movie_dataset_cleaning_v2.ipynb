{
 "cells": [
  {
   "cell_type": "code",
   "execution_count": 45,
   "metadata": {},
   "outputs": [
    {
     "name": "stdout",
     "output_type": "stream",
     "text": [
      "Fichier TSV créé avec succès : filtered_plot_summaries.tsv\n"
     ]
    }
   ],
   "source": [
    "import pandas as pd\n",
    "\n",
    "file_path = 'plot_summaries.txt'\n",
    "output_file_path = 'filtered_plot_summaries.tsv'\n",
    "data = []\n",
    "\n",
    "with open(file_path, 'r', encoding='utf-8') as file:\n",
    "    for line in file:\n",
    "        try:\n",
    "            movie_id, summary = line.split('\\t', 1)  \n",
    "            summary = summary.strip()  \n",
    "            \n",
    "            if len(summary) >= 1000:\n",
    "                last_400_characters = summary[-400:].strip()\n",
    "                data.append({'Movie_ID': movie_id, 'Summary': last_400_characters})\n",
    "                \n",
    "        except ValueError:\n",
    "            print(f\"Ligne ignorée (mauvais format) : {line}\")\n",
    "\n",
    "df = pd.DataFrame(data)\n",
    "df.to_csv(output_file_path, sep='\\t', index=False)\n",
    "\n",
    "print(f\"Fichier TSV créé avec succès : {output_file_path}\")"
   ]
  },
  {
   "cell_type": "code",
   "execution_count": 46,
   "metadata": {},
   "outputs": [],
   "source": [
    "import pandas as pd\n",
    "from textblob import TextBlob\n",
    "\n",
    "metadata_path = 'movie.metadata.tsv'\n",
    "movie_data = pd.read_csv(metadata_path, sep='\\t', header=None, dtype={0: str})  # Charger l'ID comme chaîne\n",
    "movie_data.columns = ['Movie_ID', 'Other_Column', 'Title', 'Release_Date', 'Revenue', 'Runtime', 'Languages', 'Country', 'Genres']\n",
    "summaries_path = 'filtered_plot_summaries.tsv'\n",
    "summaries_data = pd.read_csv(summaries_path, sep='\\t', dtype={'Movie_ID': str})\n",
    "\n",
    "def analyze_sentiment(summary):\n",
    "    analysis = TextBlob(summary)\n",
    "    polarity = analysis.sentiment.polarity\n",
    "    if polarity > 0.5:\n",
    "        return 5  # Very happy ending\n",
    "    elif 0.13 < polarity <= 0.5:\n",
    "        return 4  # Happy ending\n",
    "    elif -0.13 <= polarity <= 0.13:\n",
    "        return 3  # Neutral ending\n",
    "    elif -0.5 < polarity < -0.13:\n",
    "        return 2  # Sad ending\n",
    "    else:\n",
    "        return 1  # Very sad ending\n",
    "\n",
    "merged_data = pd.merge(movie_data, summaries_data, on='Movie_ID', how='inner')\n",
    "\n",
    "\n",
    "merged_data['Score'] = merged_data['Summary'].apply(analyze_sentiment)\n",
    "\n",
    "output_file_path = 'movies_dataset_final.tsv'\n",
    "merged_data.to_csv(output_file_path, sep='\\t', index=False)\n"
   ]
  },
  {
   "cell_type": "code",
   "execution_count": 38,
   "metadata": {},
   "outputs": [
    {
     "name": "stderr",
     "output_type": "stream",
     "text": [
      "Fetching TMDB IDs: 100%|██████████| 638/638 [00:05<00:00, 109.47it/s]\n"
     ]
    }
   ],
   "source": [
    "import requests\n",
    "from tqdm import tqdm\n",
    "import os\n",
    "import pickle\n",
    "from concurrent.futures import ThreadPoolExecutor, as_completed\n",
    "import pandas as pd\n",
    "\n",
    "# API Key and Base URL setup\n",
    "API_KEY = '9923aaa2a3b2777bfdeba7f76c97d212'\n",
    "BASE_SEARCH_URL = 'https://api.themoviedb.org/3/search/movie'\n",
    "BASE_MOVIE_URL = 'https://api.themoviedb.org/3/movie'\n",
    "\n",
    "# Load the existing movie dataset\n",
    "file_path = 'movies_dataset_final.tsv'\n",
    "movies_df = pd.read_csv(file_path, sep='\\t')\n",
    "\n",
    "# Define function to fetch movie data from TMDB API\n",
    "def get_movie_data_from_tmdb(wikipedia_id, title):\n",
    "    params = {\n",
    "        'api_key': API_KEY,\n",
    "        'query': title,\n",
    "        'language': 'en-US'\n",
    "    }\n",
    "    response = requests.get(BASE_SEARCH_URL, params=params)\n",
    "    if response.status_code == 200:\n",
    "        data = response.json()\n",
    "        if data['results']:\n",
    "            movie_data = data['results'][0]\n",
    "            overview = movie_data.get('overview', '')\n",
    "            tmdb_id = movie_data.get('id', None)\n",
    "            return wikipedia_id, {\"overview\": overview, \"tmdb_id\": tmdb_id}\n",
    "    return wikipedia_id, {}\n",
    "\n",
    "# Define functions to get specific movie details and credits\n",
    "def get_movie_details(wikipedia_id, tmdb_id):\n",
    "    response = requests.get(f\"{BASE_MOVIE_URL}/{tmdb_id}\", params={'api_key': API_KEY, 'language': 'en-US'})\n",
    "    return (wikipedia_id, \"details\", response.json()) if response.status_code == 200 else (wikipedia_id, \"details\", {})\n",
    "\n",
    "def get_movie_credits(wikipedia_id, tmdb_id):\n",
    "    response = requests.get(f\"{BASE_MOVIE_URL}/{tmdb_id}/credits\", params={'api_key': API_KEY})\n",
    "    return (wikipedia_id, \"credits\", response.json()) if response.status_code == 200 else (wikipedia_id, \"credits\", {})\n",
    "\n",
    "# Load existing TMDB data if available\n",
    "DATA_FOLDER = '.'\n",
    "if os.path.exists(f'{DATA_FOLDER}/movie_data_from_tmdb.pkl'):\n",
    "    with open(f'{DATA_FOLDER}/movie_data_from_tmdb.pkl', 'rb') as file:\n",
    "        movie_data_from_tmdb = pickle.load(file)\n",
    "else:\n",
    "    movie_data_from_tmdb = {}\n",
    "\n",
    "# Fetch missing TMDB data\n",
    "movies_to_process = [\n",
    "    (wiki_id, title) for wiki_id, title in zip(movies_df['Other_Column'], movies_df['Title'])\n",
    "    if wiki_id not in movie_data_from_tmdb\n",
    "]\n",
    "with ThreadPoolExecutor(max_workers=10) as executor:\n",
    "    futures = {executor.submit(get_movie_data_from_tmdb, movie_id, title): movie_id for movie_id, title in movies_to_process}\n",
    "    for future in tqdm(as_completed(futures), total=len(futures), desc=\"Fetching TMDB IDs\"):\n",
    "        wikipedia_id, movie_info = future.result()\n",
    "        if movie_info:\n",
    "            movie_data_from_tmdb[wikipedia_id] = movie_info\n"
   ]
  },
  {
   "cell_type": "code",
   "execution_count": 39,
   "metadata": {},
   "outputs": [
    {
     "name": "stderr",
     "output_type": "stream",
     "text": [
      "Fetching Details and Credits: 0it [00:00, ?it/s]\n"
     ]
    },
    {
     "name": "stdout",
     "output_type": "stream",
     "text": [
      "Updated dataset saved back to 'movies_dataset_final.tsv' with new columns: director, vote_average, and revenue\n"
     ]
    }
   ],
   "source": [
    "# Save basic data to avoid re-fetching\n",
    "with open(f'{DATA_FOLDER}/movie_data_from_tmdb_only_id.pkl', 'wb') as file:\n",
    "    pickle.dump(movie_data_from_tmdb, file)\n",
    "\n",
    "# Fetch additional details and credits\n",
    "movies_to_process = [(wiki_id, info['tmdb_id']) for wiki_id, info in movie_data_from_tmdb.items() if info.get('tmdb_id') and 'details' not in info]\n",
    "with ThreadPoolExecutor(max_workers=10) as executor:\n",
    "    futures = []\n",
    "    for wiki_id, tmdb_id in movies_to_process:\n",
    "        futures.append(executor.submit(get_movie_details, wiki_id, tmdb_id))\n",
    "        futures.append(executor.submit(get_movie_credits, wiki_id, tmdb_id))\n",
    "    \n",
    "    for future in tqdm(as_completed(futures), total=len(futures), desc=\"Fetching Details and Credits\"):\n",
    "        wikipedia_id, data_type, data = future.result()\n",
    "        if wikipedia_id in movie_data_from_tmdb:\n",
    "            movie_data_from_tmdb[wikipedia_id][data_type] = data\n",
    "\n",
    "# Save the enriched TMDB data\n",
    "with open(f'{DATA_FOLDER}/movie_data_from_tmdb.pkl', 'wb') as file:\n",
    "    pickle.dump(movie_data_from_tmdb, file)\n",
    "\n",
    "# Define helper functions for new data fields\n",
    "def find_director(movie_data):\n",
    "    crew = movie_data.get('credits', {}).get('crew', [])\n",
    "    for person in crew:\n",
    "        if person.get('job') == 'Director':\n",
    "            return person.get('name', pd.NA)\n",
    "    return pd.NA\n",
    "\n",
    "\n",
    "def find_vote_average(movie_data):\n",
    "    return movie_data.get('details', {}).get('vote_average', pd.NA)\n",
    "\n",
    "def find_revenue(movie_data):\n",
    "    return movie_data.get('details', {}).get('revenue', pd.NA)\n",
    "\n",
    "# Map new data to the movies_df dataset\n",
    "movies_df['director'] = movies_df['Other_Column'].map(lambda x: find_director(movie_data_from_tmdb.get(x, {})))\n",
    "movies_df['vote_average'] = movies_df['Other_Column'].map(lambda x: find_vote_average(movie_data_from_tmdb.get(x, {})))\n",
    "movies_df['revenue'] = movies_df['Other_Column'].map(lambda x: find_revenue(movie_data_from_tmdb.get(x, {})))\n",
    "movies_df = movies_df.drop(columns=['Revenue', 'Movie_ID_y'], errors='ignore')\n",
    "\n",
    "# Save the updated dataset back to the original file\n",
    "movies_df.to_csv(file_path, sep='\\t', index=False)\n",
    "print(f\"Updated dataset saved back to '{file_path}' with new columns: director, vote_average, and revenue\")\n",
    "\n"
   ]
  },
  {
   "cell_type": "code",
   "execution_count": 40,
   "metadata": {},
   "outputs": [
    {
     "name": "stdout",
     "output_type": "stream",
     "text": [
      "Dataset updated with cleaned 'Country' column and saved as 'movies_dataset_final.tsv'\n"
     ]
    }
   ],
   "source": [
    "import pandas as pd\n",
    "\n",
    "# Load the dataset\n",
    "movies_df = pd.read_csv('movies_dataset_final.tsv', sep='\\t')\n",
    "\n",
    "# Helper function to clean up and extract country names\n",
    "def extract_countries(country_data):\n",
    "    if pd.isna(country_data) or '{' not in country_data:\n",
    "        return None\n",
    "    countries = []\n",
    "    items = country_data.split(\", \")\n",
    "    for item in items:\n",
    "        if ':' in item:\n",
    "            # Clean up each country name\n",
    "            country_name = item.split(\":\")[-1].strip().replace(\"\\\"\", \"\").replace(\"}\", \"\").replace(\"{\", \"\")\n",
    "            countries.append(country_name)\n",
    "    # Join all countries with a comma and space\n",
    "    return \", \".join(countries) if countries else None\n",
    "\n",
    "# Apply the function to clean and reformat the 'Country' column\n",
    "movies_df['Country'] = movies_df['Country'].apply(extract_countries)\n",
    "\n",
    "# Drop rows with missing or invalid country data in 'Country'\n",
    "movies_df = movies_df.dropna(subset=['Country']).copy()\n",
    "\n",
    "# Save the updated dataset with the cleaned 'Country' column back to the original file\n",
    "movies_df.to_csv('movies_dataset_final.tsv', sep='\\t', index=False)\n",
    "print(\"Dataset updated with cleaned 'Country' column and saved as 'movies_dataset_final.tsv'\")\n"
   ]
  },
  {
   "cell_type": "code",
   "execution_count": 41,
   "metadata": {},
   "outputs": [
    {
     "name": "stdout",
     "output_type": "stream",
     "text": [
      "Dataset updated with cleaned 'Languages' column and saved as 'movies_dataset_finals.tsv'\n"
     ]
    }
   ],
   "source": [
    "import pandas as pd\n",
    "\n",
    "# Load the dataset\n",
    "movies_df = pd.read_csv('movies_dataset_final.tsv', sep='\\t')\n",
    "\n",
    "# Helper function to clean up and extract language names\n",
    "def extract_languages(language_data):\n",
    "    if pd.isna(language_data) or '{' not in language_data:\n",
    "        return None\n",
    "    languages = []\n",
    "    items = language_data.split(\", \")\n",
    "    for item in items:\n",
    "        if ':' in item:\n",
    "            # Clean each language name and remove \"Language\"/\"language\"\n",
    "            language_name = item.split(\":\")[-1].strip().replace(\"\\\"\", \"\").replace(\"}\", \"\").replace(\"Language\", \"\").replace(\"language\", \"\").strip()\n",
    "            if len(language_name) <= 40:  # Filter out languages longer than 40 characters\n",
    "                languages.append(language_name)\n",
    "    # Join all languages with a comma and space\n",
    "    return \", \".join(languages) if languages else None\n",
    "\n",
    "# Apply the function to clean and reformat the 'Languages' column\n",
    "movies_df['Languages'] = movies_df['Languages'].apply(extract_languages)\n",
    "\n",
    "# Drop rows with missing or invalid language data in 'Languages'\n",
    "movies_df = movies_df.dropna(subset=['Languages']).copy()\n",
    "\n",
    "# Save the updated dataset with the cleaned 'Languages' column back to the original file\n",
    "movies_df.to_csv('movies_dataset_final.tsv', sep='\\t', index=False)\n",
    "print(\"Dataset updated with cleaned 'Languages' column and saved as 'movies_dataset_finals.tsv'\")\n"
   ]
  },
  {
   "cell_type": "code",
   "execution_count": 43,
   "metadata": {},
   "outputs": [
    {
     "name": "stdout",
     "output_type": "stream",
     "text": [
      "Dataset updated with cleaned 'Genres' column and saved as 'movies_dataset_final.tsv'\n"
     ]
    }
   ],
   "source": [
    "import pandas as pd\n",
    "import re\n",
    "\n",
    "# Load the dataset\n",
    "movies_df = pd.read_csv('movies_dataset_final.tsv', sep='\\t')\n",
    "\n",
    "# Helper function to clean up and extract genre names\n",
    "def extract_genres(genre_data):\n",
    "    if pd.isna(genre_data) or '{' not in genre_data:\n",
    "        return None\n",
    "    genres = []\n",
    "    items = genre_data.split(\", \")\n",
    "    for item in items:\n",
    "        if ':' in item:\n",
    "            # Clean the genre name and remove unwanted words\n",
    "            genre_name = item.split(\":\")[-1].strip().replace('\"', '').replace('}', '')\n",
    "            # Remove words like \"Movie\", \"Movies\", \"Film\", etc.\n",
    "            genre_name = re.sub(r'\\b(Movie|Movies|Film|Films|movie|movies|film|films)\\b', '', genre_name).strip()\n",
    "            genres.append(genre_name)\n",
    "    # Join all genres with a comma and space\n",
    "    return \", \".join(genres) if genres else None\n",
    "\n",
    "# Apply the function to clean and reformat the 'Genres' column\n",
    "movies_df['Genres'] = movies_df['Genres'].apply(extract_genres)\n",
    "\n",
    "# Drop rows with missing or invalid genre data in 'Genres'\n",
    "movies_df = movies_df.dropna(subset=['Genres']).copy()\n",
    "\n",
    "# Save the updated dataset with the cleaned 'Genres' column back to the original file\n",
    "movies_df.to_csv('movies_dataset_final.tsv', sep='\\t', index=False)\n",
    "print(\"Dataset updated with cleaned 'Genres' column and saved as 'movies_dataset_final.tsv'\")\n"
   ]
  },
  {
   "cell_type": "code",
   "execution_count": 44,
   "metadata": {},
   "outputs": [
    {
     "name": "stdout",
     "output_type": "stream",
     "text": [
      "Dataset updated with cleaned 'Release_Date' years in 'movies_dataset_final.tsv'\n"
     ]
    }
   ],
   "source": [
    "import pandas as pd\n",
    "import re\n",
    "\n",
    "# Load the dataset\n",
    "movies_df = pd.read_csv('movies_dataset_final.tsv', sep='\\t')\n",
    "\n",
    "# Define a function to extract the 4-digit year from various date formats\n",
    "def extract_year(date_str):\n",
    "    # Ensure the date is a string\n",
    "    date_str = str(date_str)\n",
    "    \n",
    "    # Use regex to find a 4-digit year pattern\n",
    "    match = re.search(r'\\b(\\d{4})\\b', date_str)\n",
    "    \n",
    "    if match:\n",
    "        return match.group(1)  # Return the matched 4-digit year as a string\n",
    "    else:\n",
    "        return None  # Return None if no 4-digit year is found\n",
    "\n",
    "# Apply the function to the 'Release_Date' column to extract only the year\n",
    "movies_df['Release_Date'] = movies_df['Release_Date'].apply(extract_year)\n",
    "\n",
    "# Drop rows with no valid year\n",
    "movies_df = movies_df.dropna(subset=['Release_Date'])\n",
    "\n",
    "# Convert 'Release_Date' to an integer type for further analysis\n",
    "movies_df['Release_Date'] = movies_df['Release_Date'].astype(int)\n",
    "\n",
    "# Save the cleaned dataset back to the original file\n",
    "movies_df.to_csv('movies_dataset_final.tsv', sep='\\t', index=False)\n",
    "print(\"Dataset updated with cleaned 'Release_Date' years in 'movies_dataset_final.tsv'\")\n"
   ]
  },
  {
   "cell_type": "code",
   "execution_count": null,
   "metadata": {},
   "outputs": [],
   "source": []
  },
  {
   "cell_type": "code",
   "execution_count": null,
   "metadata": {},
   "outputs": [],
   "source": []
  },
  {
   "cell_type": "code",
   "execution_count": null,
   "metadata": {},
   "outputs": [],
   "source": []
  }
 ],
 "metadata": {
  "kernelspec": {
   "display_name": "new_env",
   "language": "python",
   "name": "python3"
  },
  "language_info": {
   "codemirror_mode": {
    "name": "ipython",
    "version": 3
   },
   "file_extension": ".py",
   "mimetype": "text/x-python",
   "name": "python",
   "nbconvert_exporter": "python",
   "pygments_lexer": "ipython3",
   "version": "3.11.10"
  }
 },
 "nbformat": 4,
 "nbformat_minor": 2
}
