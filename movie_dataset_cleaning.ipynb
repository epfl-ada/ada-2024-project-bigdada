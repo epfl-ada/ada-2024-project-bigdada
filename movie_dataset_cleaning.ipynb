{
 "cells": [
  {
   "cell_type": "code",
   "execution_count": 3,
   "id": "dc94e739-5f63-433b-b8bc-74755eec0385",
   "metadata": {
    "ExecuteTime": {
     "end_time": "2024-11-13T08:32:08.727930Z",
     "start_time": "2024-11-13T08:32:08.256836Z"
    }
   },
   "outputs": [],
   "source": [
    "import pandas as pd\n",
    "import matplotlib.pyplot as plt\n",
    "\n",
    "# path\n",
    "DATA_FOLDER = 'Data/MovieSummaries/'\n",
    "MOVIE_DATASET = DATA_FOLDER + 'movie.metadata.tsv'\n",
    "\n",
    "# Dataset loading\n",
    "movies = pd.read_csv(MOVIE_DATASET, sep='\\t', header=None)\n",
    "\n",
    "# define the name for each columns\n",
    "movies.columns = ['Wikipedia movie ID', 'Freebase movie ID', 'Movie name', 'Movie release date', 'Movie box office revenue',\n",
    "                  'Movie runtime', 'Movie languages (Freebase ID:name tuples)', 'Movie countries (Freebase ID:name tuples)',\n",
    "                  'Movie genres (Freebase ID:name tuples)']\n"
   ]
  },
  {
   "cell_type": "markdown",
   "id": "56d1efef98e9824e",
   "metadata": {
    "collapsed": false
   },
   "source": [
    " ## Prepare the movie dataset"
   ]
  },
  {
   "cell_type": "markdown",
   "id": "56da546bbffc3157",
   "metadata": {
    "collapsed": false
   },
   "source": [
    "\n",
    "### Removing movies with missing values"
   ]
  },
  {
   "cell_type": "code",
   "execution_count": 4,
   "id": "735e7bbc-4060-49d8-9fd6-e37f5e05c55e",
   "metadata": {
    "ExecuteTime": {
     "end_time": "2024-11-13T08:32:13.401970Z",
     "start_time": "2024-11-13T08:32:13.238146Z"
    }
   },
   "outputs": [
    {
     "name": "stdout",
     "output_type": "stream",
     "text": [
      "Wikipedia movie ID                               0\n",
      "Freebase movie ID                                0\n",
      "Movie name                                       0\n",
      "Movie release date                            6902\n",
      "Movie box office revenue                     73340\n",
      "Movie runtime                                20450\n",
      "Movie languages (Freebase ID:name tuples)        0\n",
      "Movie countries (Freebase ID:name tuples)        0\n",
      "Movie genres (Freebase ID:name tuples)           0\n",
      "dtype: int64\n",
      "Wikipedia movie ID                               0\n",
      "Freebase movie ID                                0\n",
      "Movie name                                       0\n",
      "Movie release date                               0\n",
      "Movie runtime                                16208\n",
      "Movie languages (Freebase ID:name tuples)        0\n",
      "Movie countries (Freebase ID:name tuples)        0\n",
      "Movie genres (Freebase ID:name tuples)           0\n",
      "dtype: int64\n"
     ]
    }
   ],
   "source": [
    "# Verify the missing values \n",
    "print(movies.isna().sum())\n",
    "\n",
    "# Drop the movies without release dat, box office revenue or runtime \n",
    "movies = movies.dropna(subset=['Movie release date'])\n",
    "\n",
    "# Drop the box office revenue columns \n",
    "movies = movies.drop(columns=['Movie box office revenue'])\n",
    "\n",
    "if movies.isna().sum().sum() == 0:\n",
    "    print(\"No missing values\")\n",
    "else:\n",
    "    print(movies.isna().sum())\n"
   ]
  },
  {
   "cell_type": "markdown",
   "id": "83870d1a4b192bc8",
   "metadata": {
    "collapsed": false
   },
   "source": [
    "### Create a column 'Release year' which contains the release year of the movie"
   ]
  },
  {
   "cell_type": "code",
   "execution_count": 5,
   "id": "7ee6c414-74d3-4374-8df6-d61ffe2fec57",
   "metadata": {
    "ExecuteTime": {
     "end_time": "2024-11-13T08:36:00.821899Z",
     "start_time": "2024-11-13T08:36:00.652586Z"
    }
   },
   "outputs": [
    {
     "name": "stdout",
     "output_type": "stream",
     "text": [
      "                                           Movie name Movie release date  \\\n",
      "0                                      Ghosts of Mars         2001-08-24   \n",
      "1   Getting Away with Murder: The JonBenét Ramsey ...         2000-02-16   \n",
      "5                                       The Gangsters         1913-05-29   \n",
      "7                            Alexander's Ragtime Band         1938-08-16   \n",
      "12                                        Little city         1997-04-04   \n",
      "\n",
      "    Release year  \n",
      "0           2001  \n",
      "1           2000  \n",
      "5           1913  \n",
      "7           1938  \n",
      "12          1997  \n"
     ]
    }
   ],
   "source": [
    "# Convert the release date column in datetime\n",
    "#error = coerce convert invalid dates to NaT,\n",
    "movies['Movie release date'] = pd.to_datetime(movies['Movie release date'], errors='coerce')\n",
    "\n",
    "# Extract the year and convert it in int\n",
    "movies['Release year'] = movies['Movie release date'].dt.year\n",
    "movies = movies.dropna(subset=['Release year'])\n",
    "movies['Release year'] = movies['Release year'].astype(int)\n",
    "\n",
    "\n",
    "print(movies[['Movie name', 'Movie release date', 'Release year']].head())"
   ]
  },
  {
   "cell_type": "markdown",
   "id": "980c9aaa10c9dd90",
   "metadata": {
    "collapsed": false
   },
   "source": [
    " ### Extract and store the movie genres in a column named 'Movie genres'"
   ]
  },
  {
   "cell_type": "code",
   "execution_count": 6,
   "id": "c41f92b8-7958-475a-8147-50dd6f74441b",
   "metadata": {
    "ExecuteTime": {
     "end_time": "2024-11-13T08:36:09.363775Z",
     "start_time": "2024-11-13T08:36:08.911618Z"
    }
   },
   "outputs": [
    {
     "name": "stdout",
     "output_type": "stream",
     "text": [
      "                                           Movie name  \\\n",
      "0                                      Ghosts of Mars   \n",
      "1   Getting Away with Murder: The JonBenét Ramsey ...   \n",
      "5                                       The Gangsters   \n",
      "7                            Alexander's Ragtime Band   \n",
      "12                                        Little city   \n",
      "\n",
      "                                         Movie genres  \\\n",
      "0   Thriller, Science Fiction, Horror, Adventure, ...   \n",
      "1      Mystery, Biographical film, Drama, Crime Drama   \n",
      "5   Short Film, Silent film, Indie, Black-and-whit...   \n",
      "7                    Musical, Comedy, Black-and-white   \n",
      "12  Romantic comedy, Ensemble Film, Comedy-drama, ...   \n",
      "\n",
      "               Movie genres (Freebase ID:name tuples)  \n",
      "0   {\"/m/01jfsb\": \"Thriller\", \"/m/06n90\": \"Science...  \n",
      "1   {\"/m/02n4kr\": \"Mystery\", \"/m/03bxz7\": \"Biograp...  \n",
      "5   {\"/m/02hmvc\": \"Short Film\", \"/m/06ppq\": \"Silen...  \n",
      "7   {\"/m/04t36\": \"Musical\", \"/m/01z4y\": \"Comedy\", ...  \n",
      "12  {\"/m/06cvj\": \"Romantic comedy\", \"/m/0hj3n0w\": ...  \n",
      "Movie genres\n",
      "Drama                                                                                           2895\n",
      "Comedy                                                                                           844\n",
      "Documentary                                                                                      609\n",
      "Comedy film                                                                                      601\n",
      "                                                                                                 541\n",
      "                                                                                                ... \n",
      "Short Film, Experimental film, Surrealism, Avant-garde                                             1\n",
      "World cinema, Television movie, Family Drama, Musical, Drama, Music                                1\n",
      "Goat gland, Drama, Silent film, Pre-Code, Black-and-white                                          1\n",
      "Science Fiction, Adventure, Action/Adventure, Fantasy, Drama, Family Film, Action, Steampunk       1\n",
      "Science Fiction, Japanese Movies, Adventure, Animation, Short Film, Anime, Drama                   1\n",
      "Name: count, Length: 14909, dtype: int64\n"
     ]
    }
   ],
   "source": [
    "import json\n",
    "\n",
    "# Function to extract genres from a JSON-formatted string\n",
    "def extract_genres(genre_data):\n",
    "    if isinstance(genre_data, str):\n",
    "        try:\n",
    "            # Replace specific occurrences of 'Children's' with 'Children'\n",
    "            genre_data = genre_data.replace(\"Children's\", \"Children\")\n",
    "\n",
    "            # Convert the genre data into a dictionary\n",
    "            genres_dict = json.loads(genre_data)\n",
    "            return \", \".join(genres_dict.values())  # Return the genres as a comma-separated string\n",
    "        except json.JSONDecodeError:\n",
    "            print(f\"Error decoding JSON: {genre_data}\")\n",
    "            return \"Unknown_1\"  # Return \"Unknown\" in case of a parsing error\n",
    "    else:\n",
    "        return \"Unknown_2\"  # If the data is not a string, return \"Unknown\"\n",
    "\n",
    "# Apply this function to the movie genres column\n",
    "movies['Movie genres'] = movies['Movie genres (Freebase ID:name tuples)'].apply(extract_genres)\n",
    "\n",
    "# Check the results\n",
    "print(movies[['Movie name', 'Movie genres', 'Movie genres (Freebase ID:name tuples)']].head(5))\n",
    "\n",
    "# Display the count of different genres\n",
    "print(movies['Movie genres'].value_counts())\n"
   ]
  },
  {
   "cell_type": "markdown",
   "id": "93dd97021b1fdba",
   "metadata": {
    "collapsed": false
   },
   "source": [
    "### Store the language in a column named 'Movie languages'"
   ]
  },
  {
   "cell_type": "code",
   "execution_count": 7,
   "id": "594f1554-0f90-4fe4-84d1-f65ea07dd498",
   "metadata": {
    "ExecuteTime": {
     "end_time": "2024-11-13T08:36:17.059462Z",
     "start_time": "2024-11-13T08:36:16.798430Z"
    }
   },
   "outputs": [
    {
     "name": "stdout",
     "output_type": "stream",
     "text": [
      "                                           Movie name  \\\n",
      "0                                      Ghosts of Mars   \n",
      "1   Getting Away with Murder: The JonBenét Ramsey ...   \n",
      "5                                       The Gangsters   \n",
      "7                            Alexander's Ragtime Band   \n",
      "12                                        Little city   \n",
      "\n",
      "                  Movie languages  \\\n",
      "0                English Language   \n",
      "1                English Language   \n",
      "5   Silent film, English Language   \n",
      "7                English Language   \n",
      "12               English Language   \n",
      "\n",
      "            Movie languages (Freebase ID:name tuples)  \n",
      "0                  {\"/m/02h40lc\": \"English Language\"}  \n",
      "1                  {\"/m/02h40lc\": \"English Language\"}  \n",
      "5   {\"/m/06ppq\": \"Silent film\", \"/m/02h40lc\": \"Eng...  \n",
      "7                  {\"/m/02h40lc\": \"English Language\"}  \n",
      "12                 {\"/m/02h40lc\": \"English Language\"}  \n",
      "Movie languages\n",
      "English Language                                                                            18788\n",
      "                                                                                             4249\n",
      "Silent film, English Language                                                                1848\n",
      "Hindi Language                                                                               1217\n",
      "Japanese Language                                                                             992\n",
      "                                                                                            ...  \n",
      "Swedish Language, Serbo-Croatian, Danish Language                                               1\n",
      "French Language, Japanese Language, Russian Language, English Language, Spanish Language        1\n",
      "Persian Language, English Language, German Language                                             1\n",
      "Finnish Language, Italian Language, Russian Language                                            1\n",
      "Spanish Language, German Language, English Language, Hungarian language                         1\n",
      "Name: count, Length: 1276, dtype: int64\n"
     ]
    }
   ],
   "source": [
    "import json\n",
    "\n",
    "# Function to extract the language from a JSON-formatted string\n",
    "def extract_language(language_data):\n",
    "    if isinstance(language_data, str):\n",
    "        try:\n",
    "            # Convert the language data into a dictionary (assuming it's structured like genres)\n",
    "            languages_dict = json.loads(language_data)\n",
    "            # Assuming language is one of the values, you can modify this part depending on the actual structure\n",
    "            return \", \".join(languages_dict.values())  # Return the language(s) as a comma-separated string\n",
    "        except json.JSONDecodeError:\n",
    "            print(f\"Error decoding JSON: {language_data}\")\n",
    "            return \"Unknown_1\"  # Return \"Unknown\" in case of a parsing error\n",
    "    else:\n",
    "        return \"Unknown_2\"  # If the data is not a string, return \"Unknown\"\n",
    "\n",
    "# Apply this function to extract the language\n",
    "movies['Movie languages'] = movies['Movie languages (Freebase ID:name tuples)'].apply(extract_language)\n",
    "\n",
    "# Check the results\n",
    "print(movies[['Movie name', 'Movie languages', 'Movie languages (Freebase ID:name tuples)']].head(5))\n",
    "\n",
    "# Display the count of different languages\n",
    "print(movies['Movie languages'].value_counts())\n"
   ]
  },
  {
   "cell_type": "markdown",
   "id": "24e9c8fcb8e989bb",
   "metadata": {
    "collapsed": false
   },
   "source": [
    "### Store the movies countries in a column named 'Movie countries'"
   ]
  },
  {
   "cell_type": "code",
   "execution_count": 8,
   "id": "bb102400-cd43-4dc9-83bc-b7cb18d4a193",
   "metadata": {
    "ExecuteTime": {
     "end_time": "2024-11-13T08:36:20.195242Z",
     "start_time": "2024-11-13T08:36:19.945610Z"
    }
   },
   "outputs": [
    {
     "data": {
      "text/html": [
       "<div>\n",
       "<style scoped>\n",
       "    .dataframe tbody tr th:only-of-type {\n",
       "        vertical-align: middle;\n",
       "    }\n",
       "\n",
       "    .dataframe tbody tr th {\n",
       "        vertical-align: top;\n",
       "    }\n",
       "\n",
       "    .dataframe thead th {\n",
       "        text-align: right;\n",
       "    }\n",
       "</style>\n",
       "<table border=\"1\" class=\"dataframe\">\n",
       "  <thead>\n",
       "    <tr style=\"text-align: right;\">\n",
       "      <th></th>\n",
       "      <th>Movie name</th>\n",
       "      <th>Movie countries</th>\n",
       "      <th>Movie countries (Freebase ID:name tuples)</th>\n",
       "    </tr>\n",
       "  </thead>\n",
       "  <tbody>\n",
       "    <tr>\n",
       "      <th>0</th>\n",
       "      <td>Ghosts of Mars</td>\n",
       "      <td>United States of America</td>\n",
       "      <td>{\"/m/09c7w0\": \"United States of America\"}</td>\n",
       "    </tr>\n",
       "    <tr>\n",
       "      <th>1</th>\n",
       "      <td>Getting Away with Murder: The JonBenét Ramsey ...</td>\n",
       "      <td>United States of America</td>\n",
       "      <td>{\"/m/09c7w0\": \"United States of America\"}</td>\n",
       "    </tr>\n",
       "    <tr>\n",
       "      <th>5</th>\n",
       "      <td>The Gangsters</td>\n",
       "      <td>United States of America</td>\n",
       "      <td>{\"/m/09c7w0\": \"United States of America\"}</td>\n",
       "    </tr>\n",
       "    <tr>\n",
       "      <th>7</th>\n",
       "      <td>Alexander's Ragtime Band</td>\n",
       "      <td>United States of America</td>\n",
       "      <td>{\"/m/09c7w0\": \"United States of America\"}</td>\n",
       "    </tr>\n",
       "    <tr>\n",
       "      <th>12</th>\n",
       "      <td>Little city</td>\n",
       "      <td>United States of America</td>\n",
       "      <td>{\"/m/09c7w0\": \"United States of America\"}</td>\n",
       "    </tr>\n",
       "  </tbody>\n",
       "</table>\n",
       "</div>"
      ],
      "text/plain": [
       "                                           Movie name  \\\n",
       "0                                      Ghosts of Mars   \n",
       "1   Getting Away with Murder: The JonBenét Ramsey ...   \n",
       "5                                       The Gangsters   \n",
       "7                            Alexander's Ragtime Band   \n",
       "12                                        Little city   \n",
       "\n",
       "             Movie countries  Movie countries (Freebase ID:name tuples)  \n",
       "0   United States of America  {\"/m/09c7w0\": \"United States of America\"}  \n",
       "1   United States of America  {\"/m/09c7w0\": \"United States of America\"}  \n",
       "5   United States of America  {\"/m/09c7w0\": \"United States of America\"}  \n",
       "7   United States of America  {\"/m/09c7w0\": \"United States of America\"}  \n",
       "12  United States of America  {\"/m/09c7w0\": \"United States of America\"}  "
      ]
     },
     "execution_count": 8,
     "metadata": {},
     "output_type": "execute_result"
    }
   ],
   "source": [
    "import json\n",
    "\n",
    "# Function to extract the countries from a JSON-formatted string\n",
    "def extract_countries(country_data):\n",
    "    if isinstance(country_data, str):\n",
    "        try:\n",
    "            # Convert the country data into a dictionary (assuming it's structured like genres)\n",
    "            countries_dict = json.loads(country_data)\n",
    "            # Assuming countries are one of the values, you can modify this part depending on the actual structure\n",
    "            return \", \".join(countries_dict.values())  # Return the countries as a comma-separated string\n",
    "        except json.JSONDecodeError:\n",
    "            print(f\"Error decoding JSON: {country_data}\")\n",
    "            return \"Unknown_1\"  # Return \"Unknown\" in case of a parsing error\n",
    "    else:\n",
    "        return \"Unknown_2\"  # If the data is not a string, return \"Unknown\"\n",
    "\n",
    "# Apply this function to extract the countries\n",
    "movies['Movie countries'] = movies['Movie countries (Freebase ID:name tuples)'].apply(extract_countries)\n",
    "\n",
    "# Check the results\n",
    "movies[['Movie name', 'Movie countries', 'Movie countries (Freebase ID:name tuples)']].head(5)"
   ]
  },
  {
   "cell_type": "code",
   "execution_count": null,
   "id": "c70261b7",
   "metadata": {},
   "outputs": [
    {
     "name": "stderr",
     "output_type": "stream",
     "text": [
      "100%|██████████| 12364/12364 [01:03<00:00, 195.06it/s]\n"
     ]
    }
   ],
   "source": [
    "import requests\n",
    "from tqdm import tqdm\n",
    "import os\n",
    "import pickle\n",
    "from concurrent.futures import ThreadPoolExecutor, as_completed\n",
    "\n",
    "API_KEY = '9923aaa2a3b2777bfdeba7f76c97d212'\n",
    "\n",
    "def get_movie_data_from_tmdb(wikipedia_id, title):\n",
    "    params = {\n",
    "        'api_key': API_KEY,\n",
    "        'query': title,\n",
    "        'language': 'en-US'\n",
    "    }\n",
    "    BASE_URL = 'https://api.themoviedb.org/3/search/movie'\n",
    "    response = requests.get(BASE_URL, params=params)\n",
    "    if response.status_code == 200:\n",
    "        data = response.json()\n",
    "        if len(data['results']) == 0:\n",
    "            return None  # No results found\n",
    "        overview = data['results'][0]['overview']\n",
    "        tmdb_id = data['results'][0]['id']\n",
    "        return wikipedia_id, {\"overview\": overview, \"tmdb_id\": tmdb_id}\n",
    "    else:\n",
    "        print(f\"Error fetching TMDB data: {response.status_code} for ID {wikipedia_id}\")\n",
    "        return wikipedia_id, {}\n",
    "\n",
    "# Load existing data\n",
    "if os.path.exists('Data/MovieSummaries/movie_data_from_tmdb_only_id.pkl'):\n",
    "    with open('Data/MovieSummaries/movie_data_from_tmdb_only_id.pkl', 'rb') as file:\n",
    "        movie_data_from_tmdb = pickle.load(file)\n",
    "else:\n",
    "    movie_data_from_tmdb = {}\n",
    "\n",
    "# Define the list of movies to process\n",
    "movies_to_process = [\n",
    "    (movie_wikipedia_id, movie_title)\n",
    "    for movie_wikipedia_id, movie_title in zip(movies['Wikipedia movie ID'], movies['Movie name'])\n",
    "    if movie_wikipedia_id not in movie_data_from_tmdb\n",
    "]\n",
    "\n",
    "# Set up multithreading\n",
    "with ThreadPoolExecutor(max_workers=10) as executor:\n",
    "    futures = {executor.submit(get_movie_data_from_tmdb, movie_id, title): movie_id for movie_id, title in movies_to_process}\n",
    "    for future in tqdm(as_completed(futures), total=len(futures)):\n",
    "        result = future.result()\n",
    "        if result:\n",
    "            wikipedia_id, movie_info = result\n",
    "            movie_data_from_tmdb[wikipedia_id] = movie_info\n",
    "\n",
    "# Save the data\n",
    "with open('Data/MovieSummaries/movie_data_from_tmdb_only_id.pkl', 'wb') as file:\n",
    "    pickle.dump(movie_data_from_tmdb, file)\n"
   ]
  },
  {
   "cell_type": "code",
   "execution_count": 119,
   "id": "e3ac2225",
   "metadata": {},
   "outputs": [
    {
     "name": "stdout",
     "output_type": "stream",
     "text": [
      "File downloaded to: Data/MovieSummaries/movie_data_from_tmdb.pkl\n"
     ]
    }
   ],
   "source": [
    "def download_from_url(url, save_path):\n",
    "    # get the name of the file\n",
    "    file_name = url.split(\"/\")[-1].split(\"?\")[0]\n",
    "    file_path = os.path.join(save_path, file_name)\n",
    "    url = url.replace(\"www.dropbox.com\", \"dl.dropboxusercontent.com\")\n",
    "    response = requests.get(url)\n",
    "    os.makedirs(save_path, exist_ok=True)\n",
    "    with open(file_path, \"wb\") as f:\n",
    "        f.write(response.content)\n",
    "    return file_path\n",
    "\n",
    "# this is the url to the file that we preporcessed\n",
    "url = \"https://www.dropbox.com/scl/fi/tghsy0x20bn6n6fg6osen/movie_data_from_tmdb.pkl?rlkey=yhs1qfagp61t91go4ejwgxkh4&st=qrbqz43b&dl=0\"\n",
    "save_path = \"Data/MovieSummaries/\"\n",
    "file_path = download_from_url(url, save_path)\n",
    "print(f\"File downloaded to: {file_path}\")"
   ]
  },
  {
   "cell_type": "code",
   "execution_count": 116,
   "id": "87901f06",
   "metadata": {},
   "outputs": [
    {
     "name": "stderr",
     "output_type": "stream",
     "text": [
      " 67%|██████▋   | 49842/74148 [22:01<11:49, 34.28it/s]"
     ]
    },
    {
     "name": "stdout",
     "output_type": "stream",
     "text": [
      "Error fetching TMDB data: 404 for ID 27859176\n",
      "Error fetching TMDB data: 404 for ID 27859176\n"
     ]
    },
    {
     "name": "stderr",
     "output_type": "stream",
     "text": [
      " 78%|███████▊  | 57985/74148 [25:25<08:16, 32.56it/s]"
     ]
    },
    {
     "name": "stdout",
     "output_type": "stream",
     "text": [
      "Error fetching TMDB data: 404 for ID 6965467\n"
     ]
    },
    {
     "name": "stderr",
     "output_type": "stream",
     "text": [
      " 78%|███████▊  | 58001/74148 [25:25<07:04, 38.01it/s]"
     ]
    },
    {
     "name": "stdout",
     "output_type": "stream",
     "text": [
      "Error fetching TMDB data: 404 for ID 6965467\n"
     ]
    },
    {
     "name": "stderr",
     "output_type": "stream",
     "text": [
      "100%|██████████| 74148/74148 [32:02<00:00, 38.56it/s]\n"
     ]
    }
   ],
   "source": [
    "def get_movie_details_from_tmdb(wikipedia_id, tmdb_id):\n",
    "    BASE_URL = f'https://api.themoviedb.org/3/movie/{tmdb_id}'\n",
    "    params = {\n",
    "        'api_key': API_KEY,\n",
    "        'language': 'en-US'\n",
    "    }\n",
    "    response = requests.get(BASE_URL, params=params)\n",
    "    if response.status_code == 200:\n",
    "        return wikipedia_id, \"details\", response.json()\n",
    "    else:\n",
    "        print(f\"Error fetching TMDB data: {response.status_code} for ID {wikipedia_id}\")\n",
    "        return wikipedia_id, \"details\", {}\n",
    "\n",
    "def get_movie_credits_from_tmdb(wikipedia_id, tmdb_id):\n",
    "    BASE_URL = f'https://api.themoviedb.org/3/movie/{tmdb_id}/credits'\n",
    "    params = {\n",
    "        'api_key': API_KEY\n",
    "    }\n",
    "    response = requests.get(BASE_URL, params=params)\n",
    "    if response.status_code == 200:\n",
    "        return wikipedia_id, \"credits\", response.json()\n",
    "    else:\n",
    "        print(f\"Error fetching TMDB data: {response.status_code} for ID {wikipedia_id}\")\n",
    "        return wikipedia_id, \"credits\", {}\n",
    "\n",
    "# Load existing data\n",
    "if os.path.exists('Data/MovieSummaries/movie_data_from_tmdb.pkl'):\n",
    "    with open('Data/MovieSummaries/movie_data_from_tmdb.pkl', 'rb') as file:\n",
    "        movie_data_from_tmdb = pickle.load(file)\n",
    "elif os.path.exists('Data/MovieSummaries/movie_data_from_tmdb_only_id.pkl'):\n",
    "    with open('Data/MovieSummaries/movie_data_from_tmdb_only_id.pkl', 'rb') as file:\n",
    "        movie_data_from_tmdb = pickle.load(file)\n",
    "else:\n",
    "    raise FileNotFoundError(\"Run the previous cells to fetch the TMDB data first\")\n",
    "\n",
    "# Define the list of movies to process\n",
    "movies_to_process = [\n",
    "    (movie_wikipedia_id, movie_data_from_tmdb[movie_wikipedia_id].get('tmdb_id'))\n",
    "    for movie_wikipedia_id in movie_data_from_tmdb.keys()\n",
    "    if movie_data_from_tmdb[movie_wikipedia_id].get('tmdb_id')\n",
    "]\n",
    "\n",
    "# Set up multithreading\n",
    "with ThreadPoolExecutor(max_workers=10) as executor:\n",
    "    futures = []\n",
    "    for movie_wikipedia_id, tmdb_id in movies_to_process:\n",
    "        # Schedule both detail and credits requests for each movie\n",
    "        futures.append(executor.submit(get_movie_details_from_tmdb, movie_wikipedia_id, tmdb_id))\n",
    "        futures.append(executor.submit(get_movie_credits_from_tmdb, movie_wikipedia_id, tmdb_id))\n",
    "    \n",
    "    # Collect and process the results\n",
    "    for future in tqdm(as_completed(futures), total=len(futures)):\n",
    "        wikipedia_id, data_type, data = future.result()\n",
    "        if wikipedia_id in movie_data_from_tmdb:\n",
    "            movie_data_from_tmdb[wikipedia_id][data_type] = data\n",
    "\n",
    "# Save the data\n",
    "with open('Data/MovieSummaries/movie_data_from_tmdb.pkl', 'wb') as file:\n",
    "    pickle.dump(movie_data_from_tmdb, file)\n"
   ]
  },
  {
   "cell_type": "markdown",
   "id": "d2e092314fb63f6c",
   "metadata": {
    "collapsed": false
   },
   "source": [
    "### Fill the missing values of the column 'Movie runtime'"
   ]
  },
  {
   "cell_type": "code",
   "execution_count": 117,
   "id": "240f8074",
   "metadata": {},
   "outputs": [],
   "source": [
    "\n",
    "def get_run_time(wikipedia_id):\n",
    "    if wikipedia_id not in movie_data_from_tmdb:\n",
    "        return pd.NA\n",
    "    data = movie_data_from_tmdb[wikipedia_id]\n",
    "    if 'details' not in data:\n",
    "        return pd.NA\n",
    "    data = data['details']\n",
    "    if 'runtime' not in data:\n",
    "        return pd.NA\n",
    "    return data['runtime']\n",
    "\n",
    "# Apply the function to fill the missing values \n",
    "movies['Movie runtime'] = movies.apply(\n",
    "    lambda row: row['Movie runtime'] if pd.notnull(row['Movie runtime']) else get_run_time(row['Wikipedia movie ID']),\n",
    "    axis=1\n",
    ")"
   ]
  },
  {
   "cell_type": "markdown",
   "id": "513ebdfbf70d4878",
   "metadata": {
    "collapsed": false
   },
   "source": [
    "### Add score to the movie dataset"
   ]
  },
  {
   "cell_type": "code",
   "execution_count": null,
   "id": "9397c92c0239449f",
   "metadata": {
    "ExecuteTime": {
     "end_time": "2024-11-12T16:32:00.099781Z",
     "start_time": "2024-11-12T16:32:00.013864Z"
    },
    "collapsed": false
   },
   "outputs": [],
   "source": [
    "!pip install requests textblob"
   ]
  },
  {
   "cell_type": "code",
   "execution_count": null,
   "id": "fd580af9bc9a0acb",
   "metadata": {
    "collapsed": false
   },
   "outputs": [],
   "source": [
    "pd.set_option('display.max_rows', None)"
   ]
  },
  {
   "cell_type": "code",
   "execution_count": 118,
   "id": "93f43d435b940b53",
   "metadata": {
    "collapsed": false
   },
   "outputs": [
    {
     "name": "stderr",
     "output_type": "stream",
     "text": [
      "100%|██████████| 37074/37074 [00:05<00:00, 6484.26it/s]\n"
     ]
    },
    {
     "name": "stdout",
     "output_type": "stream",
     "text": [
      "Cleaned dataset saved to Data/MovieSummaries/movies_dataset_cleaned.tsv\n"
     ]
    }
   ],
   "source": [
    "# Import necessary libraries\n",
    "import pandas as pd\n",
    "import requests\n",
    "from textblob import TextBlob\n",
    "\n",
    "\n",
    "def analyze_sentiment(summary):\n",
    "    if summary:\n",
    "        analysis = TextBlob(summary)\n",
    "        if analysis.sentiment.polarity > 0.5:\n",
    "            return 5  # Very happy ending\n",
    "        elif 0.1 < analysis.sentiment.polarity <= 0.5:\n",
    "            return 4  # Happy ending\n",
    "        elif -0.1 <= analysis.sentiment.polarity <= 0.1:\n",
    "            return 3  # Neutral ending\n",
    "        elif -0.5 < analysis.sentiment.polarity < -0.1:\n",
    "            return 2  # Sad ending\n",
    "        else:\n",
    "            return 1  # Very sad ending\n",
    "    else:\n",
    "        return None\n",
    "\n",
    "results = []\n",
    "for movie_wikipedia_id in tqdm(movie_data_from_tmdb.keys()):\n",
    "    data = movie_data_from_tmdb[movie_wikipedia_id]\n",
    "    if 'overview' in data:\n",
    "        summary = data['overview']\n",
    "        score = analyze_sentiment(summary)\n",
    "        results.append({'Score': score})\n",
    "\n",
    "results_df = pd.DataFrame(results)\n",
    "\n",
    "movie_data_cleaned = movies.copy()\n",
    "movie_data_cleaned['Score'] = pd.Series(results_df['Score'])\n",
    "\n",
    "output_file_path = 'Data/MovieSummaries/movies_dataset_cleaned.tsv'\n",
    "movie_data_cleaned.to_csv(output_file_path, sep='\\t', index=False)\n",
    "\n",
    "print(f\"Cleaned dataset saved to {output_file_path}\")"
   ]
  },
  {
   "cell_type": "code",
   "execution_count": null,
   "id": "18563e91",
   "metadata": {},
   "outputs": [],
   "source": []
  }
 ],
 "metadata": {
  "kernelspec": {
   "display_name": "pt",
   "language": "python",
   "name": "python3"
  },
  "language_info": {
   "codemirror_mode": {
    "name": "ipython",
    "version": 3
   },
   "file_extension": ".py",
   "mimetype": "text/x-python",
   "name": "python",
   "nbconvert_exporter": "python",
   "pygments_lexer": "ipython3",
   "version": "3.10.13"
  }
 },
 "nbformat": 4,
 "nbformat_minor": 5
}
