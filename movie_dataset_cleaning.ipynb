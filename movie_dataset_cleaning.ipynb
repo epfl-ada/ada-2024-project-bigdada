{
 "cells": [
  {
   "cell_type": "code",
   "execution_count": 124,
   "id": "dc94e739-5f63-433b-b8bc-74755eec0385",
   "metadata": {
    "ExecuteTime": {
     "end_time": "2024-11-13T08:32:08.727930Z",
     "start_time": "2024-11-13T08:32:08.256836Z"
    }
   },
   "outputs": [],
   "source": [
    "import pandas as pd\n",
    "import matplotlib.pyplot as plt\n",
    "\n",
    "# path\n",
    "DATA_FOLDER = 'Data/MovieSummaries/'\n",
    "MOVIE_DATASET = DATA_FOLDER + 'movie.metadata.tsv'\n",
    "\n",
    "# Dataset loading\n",
    "movies = pd.read_csv(MOVIE_DATASET, sep='\\t', header=None)\n",
    "\n",
    "# define the name for each columns\n",
    "movies.columns = ['Wikipedia movie ID', 'Freebase movie ID', 'Movie name', 'Movie release date', 'Movie box office revenue',\n",
    "                  'Movie runtime', 'Movie languages (Freebase ID:name tuples)', 'Movie countries (Freebase ID:name tuples)',\n",
    "                  'Movie genres (Freebase ID:name tuples)']\n"
   ]
  },
  {
   "cell_type": "markdown",
   "source": [
    " ## Prepare the movie dataset"
   ],
   "metadata": {
    "collapsed": false
   },
   "id": "56d1efef98e9824e"
  },
  {
   "cell_type": "markdown",
   "source": [
    "\n",
    "### Removing movies with missing values"
   ],
   "metadata": {
    "collapsed": false
   },
   "id": "56da546bbffc3157"
  },
  {
   "cell_type": "code",
   "execution_count": 126,
   "id": "735e7bbc-4060-49d8-9fd6-e37f5e05c55e",
   "metadata": {
    "ExecuteTime": {
     "end_time": "2024-11-13T08:32:13.401970Z",
     "start_time": "2024-11-13T08:32:13.238146Z"
    }
   },
   "outputs": [
    {
     "name": "stdout",
     "output_type": "stream",
     "text": [
      "Wikipedia movie ID                               0\n",
      "Freebase movie ID                                0\n",
      "Movie name                                       0\n",
      "Movie release date                            6902\n",
      "Movie box office revenue                     73340\n",
      "Movie runtime                                20450\n",
      "Movie languages (Freebase ID:name tuples)        0\n",
      "Movie countries (Freebase ID:name tuples)        0\n",
      "Movie genres (Freebase ID:name tuples)           0\n",
      "dtype: int64\n",
      "Wikipedia movie ID                               0\n",
      "Freebase movie ID                                0\n",
      "Movie name                                       0\n",
      "Movie release date                               0\n",
      "Movie runtime                                16208\n",
      "Movie languages (Freebase ID:name tuples)        0\n",
      "Movie countries (Freebase ID:name tuples)        0\n",
      "Movie genres (Freebase ID:name tuples)           0\n",
      "dtype: int64\n"
     ]
    }
   ],
   "source": [
    "# Verify the missing values \n",
    "print(movies.isna().sum())\n",
    "\n",
    "# Drop the movies without release dat, box office revenue or runtime \n",
    "movies = movies.dropna(subset=['Movie release date'])\n",
    "\n",
    "# Drop the box office revenue columns \n",
    "movies = movies.drop(columns=['Movie box office revenue'])\n",
    "\n",
    "if movies.isna().sum().sum() == 0:\n",
    "    print(\"No missing values\")\n",
    "else:\n",
    "    print(movies.isna().sum())\n"
   ]
  },
  {
   "cell_type": "markdown",
   "source": [
    "### Create a column 'Release year' which contains the release year of the movie"
   ],
   "metadata": {
    "collapsed": false
   },
   "id": "83870d1a4b192bc8"
  },
  {
   "cell_type": "code",
   "execution_count": 130,
   "id": "7ee6c414-74d3-4374-8df6-d61ffe2fec57",
   "metadata": {
    "ExecuteTime": {
     "end_time": "2024-11-13T08:36:00.821899Z",
     "start_time": "2024-11-13T08:36:00.652586Z"
    }
   },
   "outputs": [
    {
     "name": "stdout",
     "output_type": "stream",
     "text": [
      "                                          Movie name Movie release date  \\\n",
      "0                                     Ghosts of Mars         2001-08-24   \n",
      "1  Getting Away with Murder: The JonBenét Ramsey ...         2000-02-16   \n",
      "2                                        Brun bitter         1988-01-01   \n",
      "3                                   White Of The Eye         1987-01-01   \n",
      "4                                  A Woman in Flames         1983-01-01   \n",
      "\n",
      "   Release year  \n",
      "0          2001  \n",
      "1          2000  \n",
      "2          1988  \n",
      "3          1987  \n",
      "4          1983  \n"
     ]
    }
   ],
   "source": [
    "# Convert the release date column in datetime\n",
    "#error = coerce convert invalid dates to NaT,\n",
    "movies['Movie release date'] = pd.to_datetime(movies['Movie release date'], errors='coerce')\n",
    "\n",
    "# Extract the year and convert it in int\n",
    "movies['Release year'] = movies['Movie release date'].dt.year\n",
    "movies = movies.dropna(subset=['Release year'])\n",
    "movies['Release year'] = movies['Release year'].astype(int)\n",
    "\n",
    "\n",
    "print(movies[['Movie name', 'Movie release date', 'Release year']].head())"
   ]
  },
  {
   "cell_type": "markdown",
   "source": [
    " ### Extract and store the movie genres in a column named 'Movie genres'"
   ],
   "metadata": {
    "collapsed": false
   },
   "id": "980c9aaa10c9dd90"
  },
  {
   "cell_type": "code",
   "execution_count": 131,
   "id": "c41f92b8-7958-475a-8147-50dd6f74441b",
   "metadata": {
    "ExecuteTime": {
     "end_time": "2024-11-13T08:36:09.363775Z",
     "start_time": "2024-11-13T08:36:08.911618Z"
    }
   },
   "outputs": [
    {
     "name": "stdout",
     "output_type": "stream",
     "text": [
      "                                          Movie name  \\\n",
      "0                                     Ghosts of Mars   \n",
      "1  Getting Away with Murder: The JonBenét Ramsey ...   \n",
      "2                                        Brun bitter   \n",
      "3                                   White Of The Eye   \n",
      "4                                  A Woman in Flames   \n",
      "\n",
      "                                        Movie genres  \\\n",
      "0  Thriller, Science Fiction, Horror, Adventure, ...   \n",
      "1     Mystery, Biographical film, Drama, Crime Drama   \n",
      "2                               Crime Fiction, Drama   \n",
      "3  Thriller, Erotic thriller, Psychological thriller   \n",
      "4                                              Drama   \n",
      "\n",
      "              Movie genres (Freebase ID:name tuples)  \n",
      "0  {\"/m/01jfsb\": \"Thriller\", \"/m/06n90\": \"Science...  \n",
      "1  {\"/m/02n4kr\": \"Mystery\", \"/m/03bxz7\": \"Biograp...  \n",
      "2  {\"/m/0lsxr\": \"Crime Fiction\", \"/m/07s9rl0\": \"D...  \n",
      "3  {\"/m/01jfsb\": \"Thriller\", \"/m/0glj9q\": \"Erotic...  \n",
      "4                            {\"/m/07s9rl0\": \"Drama\"}  \n",
      "Drama                                                                                                                   5979\n",
      "Comedy                                                                                                                  1815\n",
      "                                                                                                                        1762\n",
      "Documentary                                                                                                             1592\n",
      "Comedy film                                                                                                             1151\n",
      "                                                                                                                        ... \n",
      "LGBT, Biography, Erotica, Erotic Drama, Drama, Marriage Drama, Biopic [feature], Romantic drama, Romance Film, Indie       1\n",
      "Crime Fiction, Thriller, Drama, Crime Thriller, Romance Film, Film noir                                                    1\n",
      "Mystery, Detective fiction, Adventure, Detective, Comedy                                                                   1\n",
      "Romantic drama, Romance Film, Drama, Comedy, Television movie                                                              1\n",
      "Thriller, Science Fiction, Suspense, Supernatural                                                                          1\n",
      "Name: Movie genres, Length: 23377, dtype: int64\n"
     ]
    }
   ],
   "source": [
    "import json\n",
    "\n",
    "# Function to extract genres from a JSON-formatted string\n",
    "def extract_genres(genre_data):\n",
    "    if isinstance(genre_data, str):\n",
    "        try:\n",
    "            # Replace specific occurrences of 'Children's' with 'Children'\n",
    "            genre_data = genre_data.replace(\"Children's\", \"Children\")\n",
    "\n",
    "            # Convert the genre data into a dictionary\n",
    "            genres_dict = json.loads(genre_data)\n",
    "            return \", \".join(genres_dict.values())  # Return the genres as a comma-separated string\n",
    "        except json.JSONDecodeError:\n",
    "            print(f\"Error decoding JSON: {genre_data}\")\n",
    "            return \"Unknown_1\"  # Return \"Unknown\" in case of a parsing error\n",
    "    else:\n",
    "        return \"Unknown_2\"  # If the data is not a string, return \"Unknown\"\n",
    "\n",
    "# Apply this function to the movie genres column\n",
    "movies['Movie genres'] = movies['Movie genres (Freebase ID:name tuples)'].apply(extract_genres)\n",
    "\n",
    "# Check the results\n",
    "print(movies[['Movie name', 'Movie genres', 'Movie genres (Freebase ID:name tuples)']].head(5))\n",
    "\n",
    "# Display the count of different genres\n",
    "print(movies['Movie genres'].value_counts())\n"
   ]
  },
  {
   "cell_type": "markdown",
   "source": [
    "### Store the language in a column named 'Movie languages'"
   ],
   "metadata": {
    "collapsed": false
   },
   "id": "93dd97021b1fdba"
  },
  {
   "cell_type": "code",
   "execution_count": 132,
   "id": "594f1554-0f90-4fe4-84d1-f65ea07dd498",
   "metadata": {
    "ExecuteTime": {
     "end_time": "2024-11-13T08:36:17.059462Z",
     "start_time": "2024-11-13T08:36:16.798430Z"
    }
   },
   "outputs": [
    {
     "name": "stdout",
     "output_type": "stream",
     "text": [
      "                                          Movie name     Movie languages  \\\n",
      "0                                     Ghosts of Mars    English Language   \n",
      "1  Getting Away with Murder: The JonBenét Ramsey ...    English Language   \n",
      "2                                        Brun bitter  Norwegian Language   \n",
      "3                                   White Of The Eye    English Language   \n",
      "4                                  A Woman in Flames     German Language   \n",
      "\n",
      "  Movie languages (Freebase ID:name tuples)  \n",
      "0        {\"/m/02h40lc\": \"English Language\"}  \n",
      "1        {\"/m/02h40lc\": \"English Language\"}  \n",
      "2        {\"/m/05f_3\": \"Norwegian Language\"}  \n",
      "3        {\"/m/02h40lc\": \"English Language\"}  \n",
      "4         {\"/m/04306rv\": \"German Language\"}  \n",
      "English Language                                                       32677\n",
      "                                                                       10009\n",
      "Hindi Language                                                          2799\n",
      "Spanish Language                                                        2513\n",
      "Silent film, English Language                                           2261\n",
      "                                                                       ...  \n",
      "Greek Language, English Language, Russian Language, German Language        1\n",
      "French Language, English Language, Bulgarian Language                      1\n",
      "Standard Cantonese, Hokkien, Standard Mandarin, Cantonese                  1\n",
      "Spanish Language, Danish Language                                          1\n",
      "Italian Language, Hebrew Language                                          1\n",
      "Name: Movie languages, Length: 1760, dtype: int64\n"
     ]
    }
   ],
   "source": [
    "import json\n",
    "\n",
    "# Function to extract the language from a JSON-formatted string\n",
    "def extract_language(language_data):\n",
    "    if isinstance(language_data, str):\n",
    "        try:\n",
    "            # Convert the language data into a dictionary (assuming it's structured like genres)\n",
    "            languages_dict = json.loads(language_data)\n",
    "            # Assuming language is one of the values, you can modify this part depending on the actual structure\n",
    "            return \", \".join(languages_dict.values())  # Return the language(s) as a comma-separated string\n",
    "        except json.JSONDecodeError:\n",
    "            print(f\"Error decoding JSON: {language_data}\")\n",
    "            return \"Unknown_1\"  # Return \"Unknown\" in case of a parsing error\n",
    "    else:\n",
    "        return \"Unknown_2\"  # If the data is not a string, return \"Unknown\"\n",
    "\n",
    "# Apply this function to extract the language\n",
    "movies['Movie languages'] = movies['Movie languages (Freebase ID:name tuples)'].apply(extract_language)\n",
    "\n",
    "# Check the results\n",
    "print(movies[['Movie name', 'Movie languages', 'Movie languages (Freebase ID:name tuples)']].head(5))\n",
    "\n",
    "# Display the count of different languages\n",
    "print(movies['Movie languages'].value_counts())\n"
   ]
  },
  {
   "cell_type": "markdown",
   "source": [
    "### Store the movies countries in a column named 'Movie countries'"
   ],
   "metadata": {
    "collapsed": false
   },
   "id": "24e9c8fcb8e989bb"
  },
  {
   "cell_type": "code",
   "execution_count": 133,
   "id": "bb102400-cd43-4dc9-83bc-b7cb18d4a193",
   "metadata": {
    "ExecuteTime": {
     "end_time": "2024-11-13T08:36:20.195242Z",
     "start_time": "2024-11-13T08:36:19.945610Z"
    }
   },
   "outputs": [
    {
     "data": {
      "text/plain": "                                          Movie name  \\\n0                                     Ghosts of Mars   \n1  Getting Away with Murder: The JonBenét Ramsey ...   \n2                                        Brun bitter   \n3                                   White Of The Eye   \n4                                  A Woman in Flames   \n\n            Movie countries  Movie countries (Freebase ID:name tuples)  \n0  United States of America  {\"/m/09c7w0\": \"United States of America\"}  \n1  United States of America  {\"/m/09c7w0\": \"United States of America\"}  \n2                    Norway                     {\"/m/05b4w\": \"Norway\"}  \n3            United Kingdom             {\"/m/07ssc\": \"United Kingdom\"}  \n4                   Germany                    {\"/m/0345h\": \"Germany\"}  ",
      "text/html": "<div>\n<style scoped>\n    .dataframe tbody tr th:only-of-type {\n        vertical-align: middle;\n    }\n\n    .dataframe tbody tr th {\n        vertical-align: top;\n    }\n\n    .dataframe thead th {\n        text-align: right;\n    }\n</style>\n<table border=\"1\" class=\"dataframe\">\n  <thead>\n    <tr style=\"text-align: right;\">\n      <th></th>\n      <th>Movie name</th>\n      <th>Movie countries</th>\n      <th>Movie countries (Freebase ID:name tuples)</th>\n    </tr>\n  </thead>\n  <tbody>\n    <tr>\n      <th>0</th>\n      <td>Ghosts of Mars</td>\n      <td>United States of America</td>\n      <td>{\"/m/09c7w0\": \"United States of America\"}</td>\n    </tr>\n    <tr>\n      <th>1</th>\n      <td>Getting Away with Murder: The JonBenét Ramsey ...</td>\n      <td>United States of America</td>\n      <td>{\"/m/09c7w0\": \"United States of America\"}</td>\n    </tr>\n    <tr>\n      <th>2</th>\n      <td>Brun bitter</td>\n      <td>Norway</td>\n      <td>{\"/m/05b4w\": \"Norway\"}</td>\n    </tr>\n    <tr>\n      <th>3</th>\n      <td>White Of The Eye</td>\n      <td>United Kingdom</td>\n      <td>{\"/m/07ssc\": \"United Kingdom\"}</td>\n    </tr>\n    <tr>\n      <th>4</th>\n      <td>A Woman in Flames</td>\n      <td>Germany</td>\n      <td>{\"/m/0345h\": \"Germany\"}</td>\n    </tr>\n  </tbody>\n</table>\n</div>"
     },
     "execution_count": 133,
     "metadata": {},
     "output_type": "execute_result"
    }
   ],
   "source": [
    "import json\n",
    "\n",
    "# Function to extract the countries from a JSON-formatted string\n",
    "def extract_countries(country_data):\n",
    "    if isinstance(country_data, str):\n",
    "        try:\n",
    "            # Convert the country data into a dictionary (assuming it's structured like genres)\n",
    "            countries_dict = json.loads(country_data)\n",
    "            # Assuming countries are one of the values, you can modify this part depending on the actual structure\n",
    "            return \", \".join(countries_dict.values())  # Return the countries as a comma-separated string\n",
    "        except json.JSONDecodeError:\n",
    "            print(f\"Error decoding JSON: {country_data}\")\n",
    "            return \"Unknown_1\"  # Return \"Unknown\" in case of a parsing error\n",
    "    else:\n",
    "        return \"Unknown_2\"  # If the data is not a string, return \"Unknown\"\n",
    "\n",
    "# Apply this function to extract the countries\n",
    "movies['Movie countries'] = movies['Movie countries (Freebase ID:name tuples)'].apply(extract_countries)\n",
    "\n",
    "# Check the results\n",
    "movies[['Movie name', 'Movie countries', 'Movie countries (Freebase ID:name tuples)']].head(5)"
   ]
  },
  {
   "cell_type": "markdown",
   "source": [
    "### Fill the missing values of the column 'Movie runtime'"
   ],
   "metadata": {
    "collapsed": false
   },
   "id": "d2e092314fb63f6c"
  },
  {
   "cell_type": "code",
   "execution_count": null,
   "outputs": [],
   "source": [
    "import requests\n",
    "\n",
    "def get_run_time_from_wikipedia(wikipedia_id):\n",
    "    url = f\"https://en.wikipedia.org/w/api.php\"\n",
    "    params = {\n",
    "        \"action\": \"query\",\n",
    "        \"pageids\": wikipedia_id,\n",
    "        \"prop\": \"extracts\",\n",
    "        \"explaintext\": True,\n",
    "        \"format\": \"json\"\n",
    "    }\n",
    "    response = requests.get(url, params=params)\n",
    "    if response.status_code == 200:\n",
    "        data = response.json()\n",
    "        page_content = data[\"query\"][\"pages\"].get(str(wikipedia_id), {}).get(\"extract\", \"\")\n",
    "        # Extract the movie runtime from the article\n",
    "        run_time = extract_run_time(page_content)\n",
    "        return run_time\n",
    "    else:\n",
    "        return None\n",
    "\n",
    "def extract_run_time(page_content):\n",
    "    # Extract function\n",
    "    import re\n",
    "    match = re.search(r\"(\\d+)\\s*minutes\", page_content)\n",
    "    if match:\n",
    "        return int(match.group(1))\n",
    "    return None\n",
    "\n",
    "# Apply the function to fill the missing values \n",
    "movies['Movie runtime'] = movies.apply(\n",
    "    lambda row: row['Movie runtime'] if pd.notnull(row['Movie runtime']) else get_run_time_from_wikipedia(row['Wikipedia movie ID']),\n",
    "    axis=1\n",
    ")\n"
   ],
   "metadata": {
    "collapsed": false,
    "is_executing": true,
    "ExecuteTime": {
     "start_time": "2024-11-13T08:36:26.089422Z"
    }
   },
   "id": "7bf49c6b8112d18b"
  },
  {
   "cell_type": "markdown",
   "source": [
    "### Add score to the movie dataset"
   ],
   "metadata": {
    "collapsed": false
   },
   "id": "513ebdfbf70d4878"
  },
  {
   "cell_type": "code",
   "execution_count": 53,
   "outputs": [],
   "source": [
    "pip install requests textblob"
   ],
   "metadata": {
    "collapsed": false,
    "ExecuteTime": {
     "end_time": "2024-11-12T16:32:00.099781Z",
     "start_time": "2024-11-12T16:32:00.013864Z"
    }
   },
   "id": "9397c92c0239449f"
  },
  {
   "cell_type": "code",
   "execution_count": null,
   "outputs": [],
   "source": [
    "pd.set_option('display.max_rows', None)"
   ],
   "metadata": {
    "collapsed": false
   },
   "id": "fd580af9bc9a0acb"
  },
  {
   "cell_type": "code",
   "execution_count": null,
   "outputs": [],
   "source": [
    "# Import necessary libraries\n",
    "import pandas as pd\n",
    "import requests\n",
    "from textblob import TextBlob\n",
    "\n",
    "API_KEY = '9923aaa2a3b2777bfdeba7f76c97d212'\n",
    "\n",
    "BASE_URL = 'https://api.themoviedb.org/3/search/movie'\n",
    "\n",
    "movie_titles = movies[2].tolist()\n",
    "\n",
    "def get_movie_summary(title):\n",
    "    params = {\n",
    "        'api_key': API_KEY,\n",
    "        'query': title,\n",
    "        'language': 'en-US'\n",
    "    }\n",
    "    response = requests.get(BASE_URL, params=params)\n",
    "    if response.status_code == 200:\n",
    "        data = response.json()\n",
    "        if data['results']:\n",
    "            return data['results'][0]['overview']\n",
    "        else:\n",
    "            return None\n",
    "    else:\n",
    "        print(f\"Error fetching data for {title}: {response.status_code}\")\n",
    "        return None\n",
    "\n",
    "def analyze_sentiment(summary):\n",
    "    if summary:\n",
    "        analysis = TextBlob(summary)\n",
    "        if analysis.sentiment.polarity > 0.5:\n",
    "            return 5  # Very happy ending\n",
    "        elif 0.1 < analysis.sentiment.polarity <= 0.5:\n",
    "            return 4  # Happy ending\n",
    "        elif -0.1 <= analysis.sentiment.polarity <= 0.1:\n",
    "            return 3  # Neutral ending\n",
    "        elif -0.5 < analysis.sentiment.polarity < -0.1:\n",
    "            return 2  # Sad ending\n",
    "        else:\n",
    "            return 1  # Very sad ending\n",
    "    else:\n",
    "        return None\n",
    "\n",
    "num_movies_to_process = 10000\n",
    "movie_titles_sample = movie_titles[:num_movies_to_process]\n",
    "\n",
    "results = []\n",
    "for title in movie_titles_sample:\n",
    "    summary = get_movie_summary(title)\n",
    "    score = analyze_sentiment(summary)\n",
    "    if summary:\n",
    "        results.append({'Title': title, 'Summary': summary, 'Score': score})\n",
    "\n",
    "results_df = pd.DataFrame(results)\n",
    "\n",
    "movie_data_cleaned = movies.copy()\n",
    "movie_data_cleaned['Score'] = pd.Series(results_df['Score'])\n",
    "\n",
    "output_file_path = 'movies_dataset_cleaned.tsv'\n",
    "movie_data_cleaned.to_csv(output_file_path, sep='\\t', index=False)\n",
    "\n",
    "print(f\"Cleaned dataset saved to {output_file_path}\")"
   ],
   "metadata": {
    "collapsed": false
   },
   "id": "93f43d435b940b53"
  }
 ],
 "metadata": {
  "kernelspec": {
   "display_name": "Python 3 (ipykernel)",
   "language": "python",
   "name": "python3"
  },
  "language_info": {
   "codemirror_mode": {
    "name": "ipython",
    "version": 3
   },
   "file_extension": ".py",
   "mimetype": "text/x-python",
   "name": "python",
   "nbconvert_exporter": "python",
   "pygments_lexer": "ipython3",
   "version": "3.11.9"
  }
 },
 "nbformat": 4,
 "nbformat_minor": 5
}
